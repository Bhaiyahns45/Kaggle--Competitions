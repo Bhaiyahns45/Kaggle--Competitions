{
 "cells": [
  {
   "cell_type": "code",
   "execution_count": 1,
   "id": "974a364f",
   "metadata": {},
   "outputs": [],
   "source": [
    "import matplotlib.pyplot as plt\n",
    "import seaborn as sns\n",
    "import numpy as np\n",
    "import pandas as pd\n",
    "import numpy as np\n",
    "import pandas as pd\n",
    "import matplotlib.pyplot as plt\n",
    "import seaborn as sns \n",
    "import warnings\n",
    "from datetime import datetime\n",
    "pd.set_option('display.max_columns', None)\n",
    "from sklearn.model_selection import KFold\n",
    "from collections import Counter\n",
    "from sklearn.metrics import mean_squared_log_error, mean_squared_error\n",
    "from sklearn.model_selection import GridSearchCV, RandomizedSearchCV\n",
    "warnings.filterwarnings(\"ignore\")"
   ]
  },
  {
   "cell_type": "code",
   "execution_count": null,
   "id": "e0bf2580",
   "metadata": {},
   "outputs": [],
   "source": []
  },
  {
   "cell_type": "code",
   "execution_count": null,
   "id": "b60d2846",
   "metadata": {},
   "outputs": [],
   "source": []
  },
  {
   "cell_type": "markdown",
   "id": "689ccba1",
   "metadata": {},
   "source": [
    "## Loading the training data"
   ]
  },
  {
   "cell_type": "code",
   "execution_count": 2,
   "id": "b49057c3",
   "metadata": {},
   "outputs": [
    {
     "data": {
      "text/html": [
       "<div>\n",
       "<style scoped>\n",
       "    .dataframe tbody tr th:only-of-type {\n",
       "        vertical-align: middle;\n",
       "    }\n",
       "\n",
       "    .dataframe tbody tr th {\n",
       "        vertical-align: top;\n",
       "    }\n",
       "\n",
       "    .dataframe thead th {\n",
       "        text-align: right;\n",
       "    }\n",
       "</style>\n",
       "<table border=\"1\" class=\"dataframe\">\n",
       "  <thead>\n",
       "    <tr style=\"text-align: right;\">\n",
       "      <th></th>\n",
       "      <th>id</th>\n",
       "      <th>belongs_to_collection</th>\n",
       "      <th>budget</th>\n",
       "      <th>genres</th>\n",
       "      <th>homepage</th>\n",
       "      <th>imdb_id</th>\n",
       "      <th>original_language</th>\n",
       "      <th>original_title</th>\n",
       "      <th>overview</th>\n",
       "      <th>popularity</th>\n",
       "      <th>poster_path</th>\n",
       "      <th>production_companies</th>\n",
       "      <th>production_countries</th>\n",
       "      <th>release_date</th>\n",
       "      <th>runtime</th>\n",
       "      <th>spoken_languages</th>\n",
       "      <th>status</th>\n",
       "      <th>tagline</th>\n",
       "      <th>title</th>\n",
       "      <th>Keywords</th>\n",
       "      <th>cast</th>\n",
       "      <th>crew</th>\n",
       "      <th>revenue</th>\n",
       "    </tr>\n",
       "  </thead>\n",
       "  <tbody>\n",
       "    <tr>\n",
       "      <th>0</th>\n",
       "      <td>1</td>\n",
       "      <td>[{'id': 313576, 'name': 'Hot Tub Time Machine ...</td>\n",
       "      <td>14000000</td>\n",
       "      <td>[{'id': 35, 'name': 'Comedy'}]</td>\n",
       "      <td>NaN</td>\n",
       "      <td>tt2637294</td>\n",
       "      <td>en</td>\n",
       "      <td>Hot Tub Time Machine 2</td>\n",
       "      <td>When Lou, who has become the \"father of the In...</td>\n",
       "      <td>6.575393</td>\n",
       "      <td>/tQtWuwvMf0hCc2QR2tkolwl7c3c.jpg</td>\n",
       "      <td>[{'name': 'Paramount Pictures', 'id': 4}, {'na...</td>\n",
       "      <td>[{'iso_3166_1': 'US', 'name': 'United States o...</td>\n",
       "      <td>2/20/15</td>\n",
       "      <td>93.0</td>\n",
       "      <td>[{'iso_639_1': 'en', 'name': 'English'}]</td>\n",
       "      <td>Released</td>\n",
       "      <td>The Laws of Space and Time are About to be Vio...</td>\n",
       "      <td>Hot Tub Time Machine 2</td>\n",
       "      <td>[{'id': 4379, 'name': 'time travel'}, {'id': 9...</td>\n",
       "      <td>[{'cast_id': 4, 'character': 'Lou', 'credit_id...</td>\n",
       "      <td>[{'credit_id': '59ac067c92514107af02c8c8', 'de...</td>\n",
       "      <td>12314651</td>\n",
       "    </tr>\n",
       "    <tr>\n",
       "      <th>1</th>\n",
       "      <td>2</td>\n",
       "      <td>[{'id': 107674, 'name': 'The Princess Diaries ...</td>\n",
       "      <td>40000000</td>\n",
       "      <td>[{'id': 35, 'name': 'Comedy'}, {'id': 18, 'nam...</td>\n",
       "      <td>NaN</td>\n",
       "      <td>tt0368933</td>\n",
       "      <td>en</td>\n",
       "      <td>The Princess Diaries 2: Royal Engagement</td>\n",
       "      <td>Mia Thermopolis is now a college graduate and ...</td>\n",
       "      <td>8.248895</td>\n",
       "      <td>/w9Z7A0GHEhIp7etpj0vyKOeU1Wx.jpg</td>\n",
       "      <td>[{'name': 'Walt Disney Pictures', 'id': 2}]</td>\n",
       "      <td>[{'iso_3166_1': 'US', 'name': 'United States o...</td>\n",
       "      <td>8/6/04</td>\n",
       "      <td>113.0</td>\n",
       "      <td>[{'iso_639_1': 'en', 'name': 'English'}]</td>\n",
       "      <td>Released</td>\n",
       "      <td>It can take a lifetime to find true love; she'...</td>\n",
       "      <td>The Princess Diaries 2: Royal Engagement</td>\n",
       "      <td>[{'id': 2505, 'name': 'coronation'}, {'id': 42...</td>\n",
       "      <td>[{'cast_id': 1, 'character': 'Mia Thermopolis'...</td>\n",
       "      <td>[{'credit_id': '52fe43fe9251416c7502563d', 'de...</td>\n",
       "      <td>95149435</td>\n",
       "    </tr>\n",
       "  </tbody>\n",
       "</table>\n",
       "</div>"
      ],
      "text/plain": [
       "   id                              belongs_to_collection    budget  \\\n",
       "0   1  [{'id': 313576, 'name': 'Hot Tub Time Machine ...  14000000   \n",
       "1   2  [{'id': 107674, 'name': 'The Princess Diaries ...  40000000   \n",
       "\n",
       "                                              genres homepage    imdb_id  \\\n",
       "0                     [{'id': 35, 'name': 'Comedy'}]      NaN  tt2637294   \n",
       "1  [{'id': 35, 'name': 'Comedy'}, {'id': 18, 'nam...      NaN  tt0368933   \n",
       "\n",
       "  original_language                            original_title  \\\n",
       "0                en                    Hot Tub Time Machine 2   \n",
       "1                en  The Princess Diaries 2: Royal Engagement   \n",
       "\n",
       "                                            overview  popularity  \\\n",
       "0  When Lou, who has become the \"father of the In...    6.575393   \n",
       "1  Mia Thermopolis is now a college graduate and ...    8.248895   \n",
       "\n",
       "                        poster_path  \\\n",
       "0  /tQtWuwvMf0hCc2QR2tkolwl7c3c.jpg   \n",
       "1  /w9Z7A0GHEhIp7etpj0vyKOeU1Wx.jpg   \n",
       "\n",
       "                                production_companies  \\\n",
       "0  [{'name': 'Paramount Pictures', 'id': 4}, {'na...   \n",
       "1        [{'name': 'Walt Disney Pictures', 'id': 2}]   \n",
       "\n",
       "                                production_countries release_date  runtime  \\\n",
       "0  [{'iso_3166_1': 'US', 'name': 'United States o...      2/20/15     93.0   \n",
       "1  [{'iso_3166_1': 'US', 'name': 'United States o...       8/6/04    113.0   \n",
       "\n",
       "                           spoken_languages    status  \\\n",
       "0  [{'iso_639_1': 'en', 'name': 'English'}]  Released   \n",
       "1  [{'iso_639_1': 'en', 'name': 'English'}]  Released   \n",
       "\n",
       "                                             tagline  \\\n",
       "0  The Laws of Space and Time are About to be Vio...   \n",
       "1  It can take a lifetime to find true love; she'...   \n",
       "\n",
       "                                      title  \\\n",
       "0                    Hot Tub Time Machine 2   \n",
       "1  The Princess Diaries 2: Royal Engagement   \n",
       "\n",
       "                                            Keywords  \\\n",
       "0  [{'id': 4379, 'name': 'time travel'}, {'id': 9...   \n",
       "1  [{'id': 2505, 'name': 'coronation'}, {'id': 42...   \n",
       "\n",
       "                                                cast  \\\n",
       "0  [{'cast_id': 4, 'character': 'Lou', 'credit_id...   \n",
       "1  [{'cast_id': 1, 'character': 'Mia Thermopolis'...   \n",
       "\n",
       "                                                crew   revenue  \n",
       "0  [{'credit_id': '59ac067c92514107af02c8c8', 'de...  12314651  \n",
       "1  [{'credit_id': '52fe43fe9251416c7502563d', 'de...  95149435  "
      ]
     },
     "execution_count": 2,
     "metadata": {},
     "output_type": "execute_result"
    }
   ],
   "source": [
    "train=pd.read_csv('D:\\\\Data_sets\\\\movie\\\\train.csv')\n",
    "train.head(2)"
   ]
  },
  {
   "cell_type": "code",
   "execution_count": 3,
   "id": "9591d029",
   "metadata": {},
   "outputs": [
    {
     "data": {
      "text/plain": [
       "(3000, 23)"
      ]
     },
     "execution_count": 3,
     "metadata": {},
     "output_type": "execute_result"
    }
   ],
   "source": [
    "train.shape"
   ]
  },
  {
   "cell_type": "markdown",
   "id": "b8be1aa9",
   "metadata": {},
   "source": [
    "### Additional features:- adding the some additional features which will improve our model accuracy\n",
    "\n",
    "popularity2, rating, totalVotes\n",
    "\n",
    "link for additional features:-  \n",
    "\n",
    "https://www.kaggle.com/kerneler/starter-tmdb-competition-additional-0a390987-e/data?select=TrainAdditionalFeatures.csv\n",
    "https://www.kaggle.com/kerneler/starter-tmdb-competition-additional-0a390987-e/data?select=TestAdditionalFeatures.csv"
   ]
  },
  {
   "cell_type": "code",
   "execution_count": 4,
   "id": "3dbe3f2b",
   "metadata": {},
   "outputs": [],
   "source": [
    "train_additionalfeature=pd.read_csv('D:\\\\Data_sets\\\\movie\\\\TrainAdditionalFeatures.csv')"
   ]
  },
  {
   "cell_type": "code",
   "execution_count": 5,
   "id": "4d3e243a",
   "metadata": {},
   "outputs": [],
   "source": [
    "### Merging the additional features to the train data on the basis of imdb_id"
   ]
  },
  {
   "cell_type": "code",
   "execution_count": 6,
   "id": "c6821897",
   "metadata": {},
   "outputs": [],
   "source": [
    "train=pd.merge(train,train_additionalfeature, how='left', on=['imdb_id'])"
   ]
  },
  {
   "cell_type": "code",
   "execution_count": 7,
   "id": "a8236cc3",
   "metadata": {},
   "outputs": [
    {
     "data": {
      "text/plain": [
       "(3000, 26)"
      ]
     },
     "execution_count": 7,
     "metadata": {},
     "output_type": "execute_result"
    }
   ],
   "source": [
    "train.shape"
   ]
  },
  {
   "cell_type": "markdown",
   "id": "29b96116",
   "metadata": {},
   "source": [
    "## Loading the test data"
   ]
  },
  {
   "cell_type": "code",
   "execution_count": 8,
   "id": "39ae4174",
   "metadata": {},
   "outputs": [
    {
     "data": {
      "text/html": [
       "<div>\n",
       "<style scoped>\n",
       "    .dataframe tbody tr th:only-of-type {\n",
       "        vertical-align: middle;\n",
       "    }\n",
       "\n",
       "    .dataframe tbody tr th {\n",
       "        vertical-align: top;\n",
       "    }\n",
       "\n",
       "    .dataframe thead th {\n",
       "        text-align: right;\n",
       "    }\n",
       "</style>\n",
       "<table border=\"1\" class=\"dataframe\">\n",
       "  <thead>\n",
       "    <tr style=\"text-align: right;\">\n",
       "      <th></th>\n",
       "      <th>id</th>\n",
       "      <th>belongs_to_collection</th>\n",
       "      <th>budget</th>\n",
       "      <th>genres</th>\n",
       "      <th>homepage</th>\n",
       "      <th>imdb_id</th>\n",
       "      <th>original_language</th>\n",
       "      <th>original_title</th>\n",
       "      <th>overview</th>\n",
       "      <th>popularity</th>\n",
       "      <th>poster_path</th>\n",
       "      <th>production_companies</th>\n",
       "      <th>production_countries</th>\n",
       "      <th>release_date</th>\n",
       "      <th>runtime</th>\n",
       "      <th>spoken_languages</th>\n",
       "      <th>status</th>\n",
       "      <th>tagline</th>\n",
       "      <th>title</th>\n",
       "      <th>Keywords</th>\n",
       "      <th>cast</th>\n",
       "      <th>crew</th>\n",
       "    </tr>\n",
       "  </thead>\n",
       "  <tbody>\n",
       "    <tr>\n",
       "      <th>0</th>\n",
       "      <td>3001</td>\n",
       "      <td>[{'id': 34055, 'name': 'Pokémon Collection', '...</td>\n",
       "      <td>0</td>\n",
       "      <td>[{'id': 12, 'name': 'Adventure'}, {'id': 16, '...</td>\n",
       "      <td>http://www.pokemon.com/us/movies/movie-pokemon...</td>\n",
       "      <td>tt1226251</td>\n",
       "      <td>ja</td>\n",
       "      <td>ディアルガVSパルキアVSダークライ</td>\n",
       "      <td>Ash and friends (this time accompanied by newc...</td>\n",
       "      <td>3.851534</td>\n",
       "      <td>/tnftmLMemPLduW6MRyZE0ZUD19z.jpg</td>\n",
       "      <td>NaN</td>\n",
       "      <td>[{'iso_3166_1': 'JP', 'name': 'Japan'}, {'iso_...</td>\n",
       "      <td>7/14/07</td>\n",
       "      <td>90.0</td>\n",
       "      <td>[{'iso_639_1': 'en', 'name': 'English'}, {'iso...</td>\n",
       "      <td>Released</td>\n",
       "      <td>Somewhere Between Time &amp; Space... A Legend Is ...</td>\n",
       "      <td>Pokémon: The Rise of Darkrai</td>\n",
       "      <td>[{'id': 11451, 'name': 'pok√©mon'}, {'id': 115...</td>\n",
       "      <td>[{'cast_id': 3, 'character': 'Tonio', 'credit_...</td>\n",
       "      <td>[{'credit_id': '52fe44e7c3a368484e03d683', 'de...</td>\n",
       "    </tr>\n",
       "    <tr>\n",
       "      <th>1</th>\n",
       "      <td>3002</td>\n",
       "      <td>NaN</td>\n",
       "      <td>88000</td>\n",
       "      <td>[{'id': 27, 'name': 'Horror'}, {'id': 878, 'na...</td>\n",
       "      <td>NaN</td>\n",
       "      <td>tt0051380</td>\n",
       "      <td>en</td>\n",
       "      <td>Attack of the 50 Foot Woman</td>\n",
       "      <td>When an abused wife grows to giant size becaus...</td>\n",
       "      <td>3.559789</td>\n",
       "      <td>/9MgBNBqlH1sG4yG2u4XkwI5CoJa.jpg</td>\n",
       "      <td>[{'name': 'Woolner Brothers Pictures Inc.', 'i...</td>\n",
       "      <td>[{'iso_3166_1': 'US', 'name': 'United States o...</td>\n",
       "      <td>5/19/58</td>\n",
       "      <td>65.0</td>\n",
       "      <td>[{'iso_639_1': 'en', 'name': 'English'}]</td>\n",
       "      <td>Released</td>\n",
       "      <td>A titanic beauty spreads a macabre wave of hor...</td>\n",
       "      <td>Attack of the 50 Foot Woman</td>\n",
       "      <td>[{'id': 9748, 'name': 'revenge'}, {'id': 9951,...</td>\n",
       "      <td>[{'cast_id': 2, 'character': 'Nancy Fowler Arc...</td>\n",
       "      <td>[{'credit_id': '55807805c3a3685b1300060b', 'de...</td>\n",
       "    </tr>\n",
       "  </tbody>\n",
       "</table>\n",
       "</div>"
      ],
      "text/plain": [
       "     id                              belongs_to_collection  budget  \\\n",
       "0  3001  [{'id': 34055, 'name': 'Pokémon Collection', '...       0   \n",
       "1  3002                                                NaN   88000   \n",
       "\n",
       "                                              genres  \\\n",
       "0  [{'id': 12, 'name': 'Adventure'}, {'id': 16, '...   \n",
       "1  [{'id': 27, 'name': 'Horror'}, {'id': 878, 'na...   \n",
       "\n",
       "                                            homepage    imdb_id  \\\n",
       "0  http://www.pokemon.com/us/movies/movie-pokemon...  tt1226251   \n",
       "1                                                NaN  tt0051380   \n",
       "\n",
       "  original_language               original_title  \\\n",
       "0                ja           ディアルガVSパルキアVSダークライ   \n",
       "1                en  Attack of the 50 Foot Woman   \n",
       "\n",
       "                                            overview  popularity  \\\n",
       "0  Ash and friends (this time accompanied by newc...    3.851534   \n",
       "1  When an abused wife grows to giant size becaus...    3.559789   \n",
       "\n",
       "                        poster_path  \\\n",
       "0  /tnftmLMemPLduW6MRyZE0ZUD19z.jpg   \n",
       "1  /9MgBNBqlH1sG4yG2u4XkwI5CoJa.jpg   \n",
       "\n",
       "                                production_companies  \\\n",
       "0                                                NaN   \n",
       "1  [{'name': 'Woolner Brothers Pictures Inc.', 'i...   \n",
       "\n",
       "                                production_countries release_date  runtime  \\\n",
       "0  [{'iso_3166_1': 'JP', 'name': 'Japan'}, {'iso_...      7/14/07     90.0   \n",
       "1  [{'iso_3166_1': 'US', 'name': 'United States o...      5/19/58     65.0   \n",
       "\n",
       "                                    spoken_languages    status  \\\n",
       "0  [{'iso_639_1': 'en', 'name': 'English'}, {'iso...  Released   \n",
       "1           [{'iso_639_1': 'en', 'name': 'English'}]  Released   \n",
       "\n",
       "                                             tagline  \\\n",
       "0  Somewhere Between Time & Space... A Legend Is ...   \n",
       "1  A titanic beauty spreads a macabre wave of hor...   \n",
       "\n",
       "                          title  \\\n",
       "0  Pokémon: The Rise of Darkrai   \n",
       "1   Attack of the 50 Foot Woman   \n",
       "\n",
       "                                            Keywords  \\\n",
       "0  [{'id': 11451, 'name': 'pok√©mon'}, {'id': 115...   \n",
       "1  [{'id': 9748, 'name': 'revenge'}, {'id': 9951,...   \n",
       "\n",
       "                                                cast  \\\n",
       "0  [{'cast_id': 3, 'character': 'Tonio', 'credit_...   \n",
       "1  [{'cast_id': 2, 'character': 'Nancy Fowler Arc...   \n",
       "\n",
       "                                                crew  \n",
       "0  [{'credit_id': '52fe44e7c3a368484e03d683', 'de...  \n",
       "1  [{'credit_id': '55807805c3a3685b1300060b', 'de...  "
      ]
     },
     "execution_count": 8,
     "metadata": {},
     "output_type": "execute_result"
    }
   ],
   "source": [
    "test=pd.read_csv('D:\\\\Data_sets\\\\movie\\\\test.csv')\n",
    "test.head(2)"
   ]
  },
  {
   "cell_type": "code",
   "execution_count": 9,
   "id": "05efc278",
   "metadata": {},
   "outputs": [
    {
     "data": {
      "text/plain": [
       "(4398, 22)"
      ]
     },
     "execution_count": 9,
     "metadata": {},
     "output_type": "execute_result"
    }
   ],
   "source": [
    "test.shape"
   ]
  },
  {
   "cell_type": "code",
   "execution_count": 10,
   "id": "7e156b79",
   "metadata": {},
   "outputs": [],
   "source": [
    "test_additionalfeature=pd.read_csv('D:\\\\Data_sets\\\\movie\\\\TestAdditionalFeatures.csv')"
   ]
  },
  {
   "cell_type": "code",
   "execution_count": 11,
   "id": "4ad21fe4",
   "metadata": {},
   "outputs": [],
   "source": [
    "### Merging the additional features to the test data on the basis of imdb_id"
   ]
  },
  {
   "cell_type": "code",
   "execution_count": 12,
   "id": "7f29d09e",
   "metadata": {},
   "outputs": [],
   "source": [
    "test=pd.merge(test,test_additionalfeature, how='left', on=['imdb_id'])"
   ]
  },
  {
   "cell_type": "code",
   "execution_count": 13,
   "id": "cb8410c0",
   "metadata": {},
   "outputs": [
    {
     "data": {
      "text/plain": [
       "(4398, 25)"
      ]
     },
     "execution_count": 13,
     "metadata": {},
     "output_type": "execute_result"
    }
   ],
   "source": [
    "test.shape"
   ]
  },
  {
   "cell_type": "code",
   "execution_count": null,
   "id": "32c50937",
   "metadata": {},
   "outputs": [],
   "source": []
  },
  {
   "cell_type": "markdown",
   "id": "bbd355f7",
   "metadata": {},
   "source": [
    "## Correcting/revising some wrong data in train and test data sets \n",
    "\n",
    "link for this :-\n",
    "\n",
    "https://www.kaggle.com/kamalchhirang/eda-feature-engineering-lgb-xgb-cat#Feature-Engineering-&-Prediction"
   ]
  },
  {
   "cell_type": "code",
   "execution_count": 14,
   "id": "36f1b771",
   "metadata": {},
   "outputs": [],
   "source": [
    "train.loc[train['id'] == 16,'revenue'] = 192864          # Skinning\n",
    "train.loc[train['id'] == 90,'budget'] = 30000000         # Sommersby          \n",
    "train.loc[train['id'] == 118,'budget'] = 60000000        # Wild Hogs\n",
    "train.loc[train['id'] == 149,'budget'] = 18000000        # Beethoven\n",
    "train.loc[train['id'] == 313,'revenue'] = 12000000       # The Cookout \n",
    "train.loc[train['id'] == 451,'revenue'] = 12000000       # Chasing Liberty\n",
    "train.loc[train['id'] == 464,'budget'] = 20000000        # Parenthood\n",
    "train.loc[train['id'] == 470,'budget'] = 13000000        # The Karate Kid, Part II\n",
    "train.loc[train['id'] == 513,'budget'] = 930000          # From Prada to Nada\n",
    "train.loc[train['id'] == 797,'budget'] = 8000000         # Welcome to Dongmakgol\n",
    "train.loc[train['id'] == 819,'budget'] = 90000000        # Alvin and the Chipmunks: The Road Chip\n",
    "train.loc[train['id'] == 850,'budget'] = 90000000        # Modern Times\n",
    "train.loc[train['id'] == 1007,'budget'] = 2              # Zyzzyx Road \n",
    "train.loc[train['id'] == 1112,'budget'] = 7500000        # An Officer and a Gentleman\n",
    "train.loc[train['id'] == 1131,'budget'] = 4300000        # Smokey and the Bandit   \n",
    "train.loc[train['id'] == 1359,'budget'] = 10000000       # Stir Crazy \n",
    "train.loc[train['id'] == 1542,'budget'] = 1              # All at Once\n",
    "train.loc[train['id'] == 1570,'budget'] = 15800000       # Crocodile Dundee II\n",
    "train.loc[train['id'] == 1571,'budget'] = 4000000        # Lady and the Tramp\n",
    "train.loc[train['id'] == 1714,'budget'] = 46000000       # The Recruit\n",
    "train.loc[train['id'] == 1721,'budget'] = 17500000       # Cocoon\n",
    "train.loc[train['id'] == 1865,'revenue'] = 25000000      # Scooby-Doo 2: Monsters Unleashed\n",
    "train.loc[train['id'] == 1885,'budget'] = 12             # In the Cut\n",
    "train.loc[train['id'] == 2091,'budget'] = 10             # Deadfall\n",
    "train.loc[train['id'] == 2268,'budget'] = 17500000       # Madea Goes to Jail budget\n",
    "train.loc[train['id'] == 2491,'budget'] = 6              # Never Talk to Strangers\n",
    "train.loc[train['id'] == 2602,'budget'] = 31000000       # Mr. Holland's Opus\n",
    "train.loc[train['id'] == 2612,'budget'] = 15000000       # Field of Dreams\n",
    "train.loc[train['id'] == 2696,'budget'] = 10000000       # Nurse 3-D\n",
    "train.loc[train['id'] == 2801,'budget'] = 10000000       # Fracture\n",
    "train.loc[train['id'] == 335,'budget'] = 2 \n",
    "train.loc[train['id'] == 348,'budget'] = 12\n",
    "train.loc[train['id'] == 470,'budget'] = 13000000 \n",
    "train.loc[train['id'] == 513,'budget'] = 1100000\n",
    "train.loc[train['id'] == 640,'budget'] = 6 \n",
    "train.loc[train['id'] == 696,'budget'] = 1\n",
    "train.loc[train['id'] == 797,'budget'] = 8000000 \n",
    "train.loc[train['id'] == 850,'budget'] = 1500000\n",
    "train.loc[train['id'] == 1199,'budget'] = 5 \n",
    "train.loc[train['id'] == 1282,'budget'] = 9               # Death at a Funeral\n",
    "train.loc[train['id'] == 1347,'budget'] = 1\n",
    "train.loc[train['id'] == 1755,'budget'] = 2\n",
    "train.loc[train['id'] == 1801,'budget'] = 5\n",
    "train.loc[train['id'] == 1918,'budget'] = 592 \n",
    "train.loc[train['id'] == 2033,'budget'] = 4\n",
    "train.loc[train['id'] == 2118,'budget'] = 344 \n",
    "train.loc[train['id'] == 2252,'budget'] = 130\n",
    "train.loc[train['id'] == 2256,'budget'] = 1 \n",
    "train.loc[train['id'] == 2696,'budget'] = 10000000\n",
    "\n",
    "test.loc[test['id'] == 6733,'budget'] = 5000000\n",
    "test.loc[test['id'] == 3889,'budget'] = 15000000\n",
    "test.loc[test['id'] == 6683,'budget'] = 50000000\n",
    "test.loc[test['id'] == 5704,'budget'] = 4300000\n",
    "test.loc[test['id'] == 6109,'budget'] = 281756\n",
    "test.loc[test['id'] == 7242,'budget'] = 10000000\n",
    "test.loc[test['id'] == 7021,'budget'] = 17540562       #  Two Is a Family\n",
    "test.loc[test['id'] == 5591,'budget'] = 4000000        # The Orphanage\n",
    "test.loc[test['id'] == 4282,'budget'] = 20000000       # Big Top Pee-wee\n",
    "test.loc[test['id'] == 3033,'budget'] = 250 \n",
    "test.loc[test['id'] == 3051,'budget'] = 50\n",
    "test.loc[test['id'] == 3084,'budget'] = 337\n",
    "test.loc[test['id'] == 3224,'budget'] = 4  \n",
    "test.loc[test['id'] == 3594,'budget'] = 25  \n",
    "test.loc[test['id'] == 3619,'budget'] = 500  \n",
    "test.loc[test['id'] == 3831,'budget'] = 3  \n",
    "test.loc[test['id'] == 3935,'budget'] = 500  \n",
    "test.loc[test['id'] == 4049,'budget'] = 995946 \n",
    "test.loc[test['id'] == 4424,'budget'] = 3  \n",
    "test.loc[test['id'] == 4460,'budget'] = 8  \n",
    "test.loc[test['id'] == 4555,'budget'] = 1200000 \n",
    "test.loc[test['id'] == 4624,'budget'] = 30 \n",
    "test.loc[test['id'] == 4645,'budget'] = 500 \n",
    "test.loc[test['id'] == 4709,'budget'] = 450 \n",
    "test.loc[test['id'] == 4839,'budget'] = 7\n",
    "test.loc[test['id'] == 3125,'budget'] = 25 \n",
    "test.loc[test['id'] == 3142,'budget'] = 1\n",
    "test.loc[test['id'] == 3201,'budget'] = 450\n",
    "test.loc[test['id'] == 3222,'budget'] = 6\n",
    "test.loc[test['id'] == 3545,'budget'] = 38\n",
    "test.loc[test['id'] == 3670,'budget'] = 18\n",
    "test.loc[test['id'] == 3792,'budget'] = 19\n",
    "test.loc[test['id'] == 3881,'budget'] = 7\n",
    "test.loc[test['id'] == 3969,'budget'] = 400\n",
    "test.loc[test['id'] == 4196,'budget'] = 6\n",
    "test.loc[test['id'] == 4221,'budget'] = 11\n",
    "test.loc[test['id'] == 4222,'budget'] = 500\n",
    "test.loc[test['id'] == 4285,'budget'] = 11\n",
    "test.loc[test['id'] == 4319,'budget'] = 1\n",
    "test.loc[test['id'] == 4639,'budget'] = 10\n",
    "test.loc[test['id'] == 4719,'budget'] = 45\n",
    "test.loc[test['id'] == 4822,'budget'] = 22\n",
    "test.loc[test['id'] == 4829,'budget'] = 20\n",
    "test.loc[test['id'] == 4969,'budget'] = 20\n",
    "test.loc[test['id'] == 5021,'budget'] = 40 \n",
    "test.loc[test['id'] == 5035,'budget'] = 1 \n",
    "test.loc[test['id'] == 5063,'budget'] = 14 \n",
    "test.loc[test['id'] == 5119,'budget'] = 2 \n",
    "test.loc[test['id'] == 5214,'budget'] = 30 \n",
    "test.loc[test['id'] == 5221,'budget'] = 50 \n",
    "test.loc[test['id'] == 4903,'budget'] = 15\n",
    "test.loc[test['id'] == 4983,'budget'] = 3\n",
    "test.loc[test['id'] == 5102,'budget'] = 28\n",
    "test.loc[test['id'] == 5217,'budget'] = 75\n",
    "test.loc[test['id'] == 5224,'budget'] = 3 \n",
    "test.loc[test['id'] == 5469,'budget'] = 20 \n",
    "test.loc[test['id'] == 5840,'budget'] = 1 \n",
    "test.loc[test['id'] == 5960,'budget'] = 30\n",
    "test.loc[test['id'] == 6506,'budget'] = 11 \n",
    "test.loc[test['id'] == 6553,'budget'] = 280\n",
    "test.loc[test['id'] == 6561,'budget'] = 7\n",
    "test.loc[test['id'] == 6582,'budget'] = 218\n",
    "test.loc[test['id'] == 6638,'budget'] = 5\n",
    "test.loc[test['id'] == 6749,'budget'] = 8 \n",
    "test.loc[test['id'] == 6759,'budget'] = 50 \n",
    "test.loc[test['id'] == 6856,'budget'] = 10\n",
    "test.loc[test['id'] == 6858,'budget'] =  100\n",
    "test.loc[test['id'] == 6876,'budget'] =  250\n",
    "test.loc[test['id'] == 6972,'budget'] = 1\n",
    "test.loc[test['id'] == 7079,'budget'] = 8000000\n",
    "test.loc[test['id'] == 7150,'budget'] = 118\n",
    "test.loc[test['id'] == 6506,'budget'] = 118\n",
    "test.loc[test['id'] == 7225,'budget'] = 6\n",
    "test.loc[test['id'] == 7231,'budget'] = 85\n",
    "test.loc[test['id'] == 5222,'budget'] = 5\n",
    "test.loc[test['id'] == 5322,'budget'] = 90\n",
    "test.loc[test['id'] == 5350,'budget'] = 70\n",
    "test.loc[test['id'] == 5378,'budget'] = 10\n",
    "test.loc[test['id'] == 5545,'budget'] = 80\n",
    "test.loc[test['id'] == 5810,'budget'] = 8\n",
    "test.loc[test['id'] == 5926,'budget'] = 300\n",
    "test.loc[test['id'] == 5927,'budget'] = 4\n",
    "test.loc[test['id'] == 5986,'budget'] = 1\n",
    "test.loc[test['id'] == 6053,'budget'] = 20\n",
    "test.loc[test['id'] == 6104,'budget'] = 1\n",
    "test.loc[test['id'] == 6130,'budget'] = 30\n",
    "test.loc[test['id'] == 6301,'budget'] = 150\n",
    "test.loc[test['id'] == 6276,'budget'] = 100\n",
    "test.loc[test['id'] == 6473,'budget'] = 100\n",
    "test.loc[test['id'] == 6842,'budget'] = 30\n",
    "\n",
    "test.loc[test['release_date'].isnull() == True, 'release_date'] = '01/01/98'"
   ]
  },
  {
   "cell_type": "code",
   "execution_count": 15,
   "id": "ce1e669a",
   "metadata": {},
   "outputs": [],
   "source": [
    "## Null- values (train)"
   ]
  },
  {
   "cell_type": "code",
   "execution_count": 16,
   "id": "6d590b82",
   "metadata": {},
   "outputs": [
    {
     "data": {
      "text/plain": [
       "id                          0\n",
       "belongs_to_collection    2396\n",
       "budget                      0\n",
       "genres                      7\n",
       "homepage                 2054\n",
       "imdb_id                     0\n",
       "original_language           0\n",
       "original_title              0\n",
       "overview                    8\n",
       "popularity                  0\n",
       "poster_path                 1\n",
       "production_companies      156\n",
       "production_countries       55\n",
       "release_date                0\n",
       "runtime                     2\n",
       "spoken_languages           20\n",
       "status                      0\n",
       "tagline                   597\n",
       "title                       0\n",
       "Keywords                  276\n",
       "cast                       13\n",
       "crew                       16\n",
       "revenue                     0\n",
       "popularity2               118\n",
       "rating                    118\n",
       "totalVotes                118\n",
       "dtype: int64"
      ]
     },
     "execution_count": 16,
     "metadata": {},
     "output_type": "execute_result"
    }
   ],
   "source": [
    "train.isnull().sum()"
   ]
  },
  {
   "cell_type": "code",
   "execution_count": 17,
   "id": "73059362",
   "metadata": {},
   "outputs": [],
   "source": [
    "## Null- values (test)"
   ]
  },
  {
   "cell_type": "code",
   "execution_count": 18,
   "id": "45326827",
   "metadata": {},
   "outputs": [
    {
     "data": {
      "text/plain": [
       "id                          0\n",
       "belongs_to_collection    3521\n",
       "budget                      0\n",
       "genres                     16\n",
       "homepage                 2978\n",
       "imdb_id                     0\n",
       "original_language           0\n",
       "original_title              0\n",
       "overview                   14\n",
       "popularity                  0\n",
       "poster_path                 1\n",
       "production_companies      258\n",
       "production_countries      102\n",
       "release_date                0\n",
       "runtime                     4\n",
       "spoken_languages           42\n",
       "status                      2\n",
       "tagline                   863\n",
       "title                       3\n",
       "Keywords                  393\n",
       "cast                       13\n",
       "crew                       22\n",
       "popularity2               179\n",
       "rating                    179\n",
       "totalVotes                179\n",
       "dtype: int64"
      ]
     },
     "execution_count": 18,
     "metadata": {},
     "output_type": "execute_result"
    }
   ],
   "source": [
    "test.isnull().sum()"
   ]
  },
  {
   "cell_type": "code",
   "execution_count": null,
   "id": "d8990b40",
   "metadata": {},
   "outputs": [],
   "source": []
  },
  {
   "cell_type": "code",
   "execution_count": 19,
   "id": "4a258974",
   "metadata": {},
   "outputs": [],
   "source": [
    "## EDA and Feature Engineering"
   ]
  },
  {
   "cell_type": "code",
   "execution_count": 20,
   "id": "93f1262f",
   "metadata": {},
   "outputs": [],
   "source": [
    "### 1. id"
   ]
  },
  {
   "cell_type": "code",
   "execution_count": 21,
   "id": "5c9fb14b",
   "metadata": {},
   "outputs": [],
   "source": [
    "# dropping the id column as it has no correlation with target column"
   ]
  },
  {
   "cell_type": "code",
   "execution_count": 22,
   "id": "8a41ecb4",
   "metadata": {},
   "outputs": [],
   "source": [
    "train.drop('id', axis=1, inplace=True)\n",
    "test.drop('id', axis=1, inplace=True)"
   ]
  },
  {
   "cell_type": "code",
   "execution_count": null,
   "id": "73747aa6",
   "metadata": {},
   "outputs": [],
   "source": []
  },
  {
   "cell_type": "code",
   "execution_count": null,
   "id": "591dba6d",
   "metadata": {},
   "outputs": [],
   "source": []
  },
  {
   "cell_type": "code",
   "execution_count": 23,
   "id": "c9e62178",
   "metadata": {},
   "outputs": [],
   "source": [
    "### 2. belongs_to_collection"
   ]
  },
  {
   "cell_type": "code",
   "execution_count": 24,
   "id": "735d5950",
   "metadata": {},
   "outputs": [],
   "source": [
    "## checking for the effect on the revenue which has collectin data and which hasn't collection data"
   ]
  },
  {
   "cell_type": "code",
   "execution_count": 25,
   "id": "5358586d",
   "metadata": {},
   "outputs": [],
   "source": [
    "def get_dict(s):\n",
    "    try:\n",
    "        d = eval(s)\n",
    "    except:\n",
    "        d = {}\n",
    "    return d"
   ]
  },
  {
   "cell_type": "code",
   "execution_count": 26,
   "id": "374cd616",
   "metadata": {},
   "outputs": [],
   "source": [
    "def has_collection(df):\n",
    "    \n",
    "    has_collection=[]\n",
    "\n",
    "    for i in df.belongs_to_collection:\n",
    "        d=get_dict(i)\n",
    "        if d != {}:\n",
    "            has_collection.append(1)\n",
    "        else:\n",
    "            has_collection.append(0)\n",
    "    \n",
    "    df['has_collection']=has_collection"
   ]
  },
  {
   "cell_type": "code",
   "execution_count": 27,
   "id": "ba7f4416",
   "metadata": {},
   "outputs": [],
   "source": [
    "has_collection(train)"
   ]
  },
  {
   "cell_type": "code",
   "execution_count": 28,
   "id": "38c01ac9",
   "metadata": {},
   "outputs": [],
   "source": [
    "has_collection(test)"
   ]
  },
  {
   "cell_type": "code",
   "execution_count": 29,
   "id": "d16c9989",
   "metadata": {},
   "outputs": [
    {
     "data": {
      "text/plain": [
       "<AxesSubplot:xlabel='has_collection', ylabel='revenue'>"
      ]
     },
     "execution_count": 29,
     "metadata": {},
     "output_type": "execute_result"
    },
    {
     "data": {
      "image/png": "[encoded data removed]",
      "text/plain": [
       "<Figure size 432x288 with 1 Axes>"
      ]
     },
     "metadata": {
      "needs_background": "light"
     },
     "output_type": "display_data"
    }
   ],
   "source": [
    "sns.stripplot(x=train.has_collection,y=train.revenue)"
   ]
  },
  {
   "cell_type": "code",
   "execution_count": 30,
   "id": "6e74b26b",
   "metadata": {},
   "outputs": [],
   "source": [
    "## from the above figure we can say that there is some effect on the revenue w.r.t has collection and hasn't collection"
   ]
  },
  {
   "cell_type": "code",
   "execution_count": null,
   "id": "cb5e3270",
   "metadata": {},
   "outputs": [],
   "source": []
  },
  {
   "cell_type": "code",
   "execution_count": 31,
   "id": "fd4f7e18",
   "metadata": {},
   "outputs": [],
   "source": [
    "train.drop(['belongs_to_collection'], axis=1, inplace=True)\n",
    "test.drop(['belongs_to_collection'], axis=1, inplace=True)"
   ]
  },
  {
   "cell_type": "code",
   "execution_count": null,
   "id": "c116a13b",
   "metadata": {},
   "outputs": [],
   "source": []
  },
  {
   "cell_type": "markdown",
   "id": "53d02813",
   "metadata": {},
   "source": [
    "## 3. budget"
   ]
  },
  {
   "cell_type": "code",
   "execution_count": 32,
   "id": "e658f5dc",
   "metadata": {},
   "outputs": [],
   "source": [
    "# checking for the null values "
   ]
  },
  {
   "cell_type": "code",
   "execution_count": 33,
   "id": "b6777c47",
   "metadata": {
    "scrolled": true
   },
   "outputs": [
    {
     "data": {
      "text/plain": [
       "0"
      ]
     },
     "execution_count": 33,
     "metadata": {},
     "output_type": "execute_result"
    }
   ],
   "source": [
    "train.budget.isnull().sum()"
   ]
  },
  {
   "cell_type": "code",
   "execution_count": 34,
   "id": "44e98c8d",
   "metadata": {},
   "outputs": [
    {
     "data": {
      "text/plain": [
       "0"
      ]
     },
     "execution_count": 34,
     "metadata": {},
     "output_type": "execute_result"
    }
   ],
   "source": [
    "test.budget.isnull().sum()"
   ]
  },
  {
   "cell_type": "code",
   "execution_count": 35,
   "id": "a0668bc1",
   "metadata": {},
   "outputs": [],
   "source": [
    "## checking the distribution of budget"
   ]
  },
  {
   "cell_type": "code",
   "execution_count": 36,
   "id": "24785084",
   "metadata": {},
   "outputs": [
    {
     "data": {
      "text/plain": [
       "<AxesSubplot:xlabel='budget', ylabel='Count'>"
      ]
     },
     "execution_count": 36,
     "metadata": {},
     "output_type": "execute_result"
    },
    {
     "data": {
      "image/png": "[encoded data removed]",
      "text/plain": [
       "<Figure size 432x288 with 1 Axes>"
      ]
     },
     "metadata": {
      "needs_background": "light"
     },
     "output_type": "display_data"
    }
   ],
   "source": [
    "sns.histplot(train.budget, kde=True)"
   ]
  },
  {
   "cell_type": "code",
   "execution_count": 37,
   "id": "d06e32e9",
   "metadata": {},
   "outputs": [],
   "source": [
    "## we can see that the data is +ve skew, so we have to use log transformation to make it normally dist."
   ]
  },
  {
   "cell_type": "code",
   "execution_count": 38,
   "id": "68c62528",
   "metadata": {},
   "outputs": [
    {
     "data": {
      "text/plain": [
       "<AxesSubplot:xlabel='budget', ylabel='Count'>"
      ]
     },
     "execution_count": 38,
     "metadata": {},
     "output_type": "execute_result"
    },
    {
     "data": {
      "image/png": "[encoded data removed]",
      "text/plain": [
       "<Figure size 432x288 with 1 Axes>"
      ]
     },
     "metadata": {
      "needs_background": "light"
     },
     "output_type": "display_data"
    }
   ],
   "source": [
    "sns.histplot(np.log1p(train.budget), kde=True)"
   ]
  },
  {
   "cell_type": "code",
   "execution_count": null,
   "id": "2c3df046",
   "metadata": {},
   "outputs": [],
   "source": []
  },
  {
   "cell_type": "code",
   "execution_count": 39,
   "id": "693e59b4",
   "metadata": {},
   "outputs": [
    {
     "data": {
      "text/plain": [
       "<AxesSubplot:xlabel='budget', ylabel='revenue'>"
      ]
     },
     "execution_count": 39,
     "metadata": {},
     "output_type": "execute_result"
    },
    {
     "data": {
      "image/png": "[encoded data removed]",
      "text/plain": [
       "<Figure size 432x288 with 1 Axes>"
      ]
     },
     "metadata": {
      "needs_background": "light"
     },
     "output_type": "display_data"
    }
   ],
   "source": [
    "sns.scatterplot(x=train.budget,y=train.revenue)"
   ]
  },
  {
   "cell_type": "code",
   "execution_count": 40,
   "id": "0293be3e",
   "metadata": {},
   "outputs": [],
   "source": [
    "## from above fig. we can see that with incease in budget, revenue also increases i.e. linear relationship"
   ]
  },
  {
   "cell_type": "code",
   "execution_count": null,
   "id": "3d2a5a55",
   "metadata": {},
   "outputs": [],
   "source": []
  },
  {
   "cell_type": "markdown",
   "id": "02281195",
   "metadata": {},
   "source": [
    "## 4. genres"
   ]
  },
  {
   "cell_type": "code",
   "execution_count": 41,
   "id": "53f755d8",
   "metadata": {},
   "outputs": [],
   "source": [
    "## number of genres"
   ]
  },
  {
   "cell_type": "code",
   "execution_count": 42,
   "id": "2a6e2565",
   "metadata": {},
   "outputs": [],
   "source": [
    "def number_of_genre(df):\n",
    "    \n",
    "    no_of_genre=[]\n",
    "\n",
    "    for i in df.genres:\n",
    "        d=get_dict(i)\n",
    "        no_of_genre.append(len(d))\n",
    "        \n",
    "    df['no_of_genre']=no_of_genre"
   ]
  },
  {
   "cell_type": "code",
   "execution_count": 43,
   "id": "98c549d9",
   "metadata": {},
   "outputs": [],
   "source": [
    "number_of_genre(train)"
   ]
  },
  {
   "cell_type": "code",
   "execution_count": 44,
   "id": "d3627885",
   "metadata": {},
   "outputs": [],
   "source": [
    "number_of_genre(test)"
   ]
  },
  {
   "cell_type": "code",
   "execution_count": 45,
   "id": "c14d3fae",
   "metadata": {},
   "outputs": [
    {
     "data": {
      "text/plain": [
       "<AxesSubplot:xlabel='no_of_genre', ylabel='count'>"
      ]
     },
     "execution_count": 45,
     "metadata": {},
     "output_type": "execute_result"
    },
    {
     "data": {
      "image/png": "[encoded data removed]",
      "text/plain": [
       "<Figure size 432x288 with 1 Axes>"
      ]
     },
     "metadata": {
      "needs_background": "light"
     },
     "output_type": "display_data"
    }
   ],
   "source": [
    "sns.countplot(x=train.no_of_genre)"
   ]
  },
  {
   "cell_type": "code",
   "execution_count": 46,
   "id": "2ee764f2",
   "metadata": {},
   "outputs": [
    {
     "data": {
      "text/plain": [
       "<AxesSubplot:xlabel='no_of_genre', ylabel='revenue'>"
      ]
     },
     "execution_count": 46,
     "metadata": {},
     "output_type": "execute_result"
    },
    {
     "data": {
      "image/png": "[encoded data removed]",
      "text/plain": [
       "<Figure size 432x288 with 1 Axes>"
      ]
     },
     "metadata": {
      "needs_background": "light"
     },
     "output_type": "display_data"
    }
   ],
   "source": [
    "sns.stripplot(x=train.no_of_genre,y=train.revenue)"
   ]
  },
  {
   "cell_type": "code",
   "execution_count": 47,
   "id": "3f6f6d69",
   "metadata": {},
   "outputs": [],
   "source": [
    "# from above fig. we can see that there is an effect on number of gerne on the revenue, so we can use this feature for model\n",
    "# building"
   ]
  },
  {
   "cell_type": "code",
   "execution_count": null,
   "id": "fb704b36",
   "metadata": {},
   "outputs": [],
   "source": []
  },
  {
   "cell_type": "code",
   "execution_count": 48,
   "id": "c3a3efae",
   "metadata": {},
   "outputs": [],
   "source": [
    "# top genre"
   ]
  },
  {
   "cell_type": "code",
   "execution_count": 49,
   "id": "3a9d9368",
   "metadata": {},
   "outputs": [],
   "source": [
    "total_count_genre=[]\n",
    "\n",
    "for i in train.genres:\n",
    "    d=get_dict(i)\n",
    "    for j in d:\n",
    "        total_count_genre.append(j['name'])"
   ]
  },
  {
   "cell_type": "code",
   "execution_count": 50,
   "id": "50bdedbd",
   "metadata": {},
   "outputs": [
    {
     "data": {
      "text/plain": [
       "[('Drama', 1531),\n",
       " ('Comedy', 1028),\n",
       " ('Thriller', 789),\n",
       " ('Action', 741),\n",
       " ('Romance', 571),\n",
       " ('Crime', 469),\n",
       " ('Adventure', 439),\n",
       " ('Horror', 301),\n",
       " ('Science Fiction', 290),\n",
       " ('Family', 260),\n",
       " ('Fantasy', 232),\n",
       " ('Mystery', 225),\n",
       " ('Animation', 141),\n",
       " ('History', 132),\n",
       " ('Music', 100),\n",
       " ('War', 100),\n",
       " ('Documentary', 87),\n",
       " ('Western', 43),\n",
       " ('Foreign', 31),\n",
       " ('TV Movie', 1)]"
      ]
     },
     "execution_count": 50,
     "metadata": {},
     "output_type": "execute_result"
    }
   ],
   "source": [
    "Counter(total_count_genre).most_common()"
   ]
  },
  {
   "cell_type": "code",
   "execution_count": null,
   "id": "d6fc3af1",
   "metadata": {},
   "outputs": [],
   "source": []
  },
  {
   "cell_type": "code",
   "execution_count": null,
   "id": "1d42fb32",
   "metadata": {},
   "outputs": [],
   "source": []
  },
  {
   "cell_type": "code",
   "execution_count": null,
   "id": "256802ca",
   "metadata": {},
   "outputs": [],
   "source": []
  },
  {
   "cell_type": "code",
   "execution_count": 51,
   "id": "3e1ab4e8",
   "metadata": {},
   "outputs": [],
   "source": [
    "top_genre=[]\n",
    "\n",
    "def top_genres(df):\n",
    "    \n",
    "    total_count_genre=[]\n",
    "\n",
    "    for i in df.genres:\n",
    "        d=get_dict(i)\n",
    "        for j in d:\n",
    "            total_count_genre.append(j['name'])\n",
    "            \n",
    "    for i in Counter(total_count_genre).most_common():\n",
    "        if i[1]>10:                            ## taking the genre which has frequency count > 10\n",
    "            top_genre.append(i[0])\n",
    "            \n",
    "    "
   ]
  },
  {
   "cell_type": "code",
   "execution_count": 52,
   "id": "9b3ea01a",
   "metadata": {},
   "outputs": [],
   "source": [
    "top_genres(train)"
   ]
  },
  {
   "cell_type": "code",
   "execution_count": 53,
   "id": "80e4454a",
   "metadata": {},
   "outputs": [],
   "source": [
    "def top_genre_one_hot_encoding(df):\n",
    "    \n",
    "    df['all_genres'] = df['genres'].apply(lambda x: ' '.join(sorted([i['name'] for i in get_dict(x) ])) \n",
    "                                           if x!= {} else '')\n",
    "    \n",
    "    for g in top_genre:\n",
    "        df['genre_' + g] = df['all_genres'].apply(lambda x: 1 if g in x else 0) "
   ]
  },
  {
   "cell_type": "code",
   "execution_count": null,
   "id": "50456a7f",
   "metadata": {},
   "outputs": [],
   "source": []
  },
  {
   "cell_type": "code",
   "execution_count": 54,
   "id": "11c092d8",
   "metadata": {},
   "outputs": [],
   "source": [
    "top_genre_one_hot_encoding(train)"
   ]
  },
  {
   "cell_type": "code",
   "execution_count": 55,
   "id": "912bfd07",
   "metadata": {},
   "outputs": [],
   "source": [
    "top_genre_one_hot_encoding(test)"
   ]
  },
  {
   "cell_type": "code",
   "execution_count": 56,
   "id": "97656f41",
   "metadata": {},
   "outputs": [
    {
     "data": {
      "text/html": [
       "<div>\n",
       "<style scoped>\n",
       "    .dataframe tbody tr th:only-of-type {\n",
       "        vertical-align: middle;\n",
       "    }\n",
       "\n",
       "    .dataframe tbody tr th {\n",
       "        vertical-align: top;\n",
       "    }\n",
       "\n",
       "    .dataframe thead th {\n",
       "        text-align: right;\n",
       "    }\n",
       "</style>\n",
       "<table border=\"1\" class=\"dataframe\">\n",
       "  <thead>\n",
       "    <tr style=\"text-align: right;\">\n",
       "      <th></th>\n",
       "      <th>budget</th>\n",
       "      <th>genres</th>\n",
       "      <th>homepage</th>\n",
       "      <th>imdb_id</th>\n",
       "      <th>original_language</th>\n",
       "      <th>original_title</th>\n",
       "      <th>overview</th>\n",
       "      <th>popularity</th>\n",
       "      <th>poster_path</th>\n",
       "      <th>production_companies</th>\n",
       "      <th>production_countries</th>\n",
       "      <th>release_date</th>\n",
       "      <th>runtime</th>\n",
       "      <th>spoken_languages</th>\n",
       "      <th>status</th>\n",
       "      <th>tagline</th>\n",
       "      <th>title</th>\n",
       "      <th>Keywords</th>\n",
       "      <th>cast</th>\n",
       "      <th>crew</th>\n",
       "      <th>revenue</th>\n",
       "      <th>popularity2</th>\n",
       "      <th>rating</th>\n",
       "      <th>totalVotes</th>\n",
       "      <th>has_collection</th>\n",
       "      <th>no_of_genre</th>\n",
       "      <th>all_genres</th>\n",
       "      <th>genre_Drama</th>\n",
       "      <th>genre_Comedy</th>\n",
       "      <th>genre_Thriller</th>\n",
       "      <th>genre_Action</th>\n",
       "      <th>genre_Romance</th>\n",
       "      <th>genre_Crime</th>\n",
       "      <th>genre_Adventure</th>\n",
       "      <th>genre_Horror</th>\n",
       "      <th>genre_Science Fiction</th>\n",
       "      <th>genre_Family</th>\n",
       "      <th>genre_Fantasy</th>\n",
       "      <th>genre_Mystery</th>\n",
       "      <th>genre_Animation</th>\n",
       "      <th>genre_History</th>\n",
       "      <th>genre_Music</th>\n",
       "      <th>genre_War</th>\n",
       "      <th>genre_Documentary</th>\n",
       "      <th>genre_Western</th>\n",
       "      <th>genre_Foreign</th>\n",
       "    </tr>\n",
       "  </thead>\n",
       "  <tbody>\n",
       "    <tr>\n",
       "      <th>0</th>\n",
       "      <td>14000000</td>\n",
       "      <td>[{'id': 35, 'name': 'Comedy'}]</td>\n",
       "      <td>NaN</td>\n",
       "      <td>tt2637294</td>\n",
       "      <td>en</td>\n",
       "      <td>Hot Tub Time Machine 2</td>\n",
       "      <td>When Lou, who has become the \"father of the In...</td>\n",
       "      <td>6.575393</td>\n",
       "      <td>/tQtWuwvMf0hCc2QR2tkolwl7c3c.jpg</td>\n",
       "      <td>[{'name': 'Paramount Pictures', 'id': 4}, {'na...</td>\n",
       "      <td>[{'iso_3166_1': 'US', 'name': 'United States o...</td>\n",
       "      <td>2/20/15</td>\n",
       "      <td>93.0</td>\n",
       "      <td>[{'iso_639_1': 'en', 'name': 'English'}]</td>\n",
       "      <td>Released</td>\n",
       "      <td>The Laws of Space and Time are About to be Vio...</td>\n",
       "      <td>Hot Tub Time Machine 2</td>\n",
       "      <td>[{'id': 4379, 'name': 'time travel'}, {'id': 9...</td>\n",
       "      <td>[{'cast_id': 4, 'character': 'Lou', 'credit_id...</td>\n",
       "      <td>[{'credit_id': '59ac067c92514107af02c8c8', 'de...</td>\n",
       "      <td>12314651</td>\n",
       "      <td>10.4</td>\n",
       "      <td>5.0</td>\n",
       "      <td>482.0</td>\n",
       "      <td>1</td>\n",
       "      <td>1</td>\n",
       "      <td>Comedy</td>\n",
       "      <td>0</td>\n",
       "      <td>1</td>\n",
       "      <td>0</td>\n",
       "      <td>0</td>\n",
       "      <td>0</td>\n",
       "      <td>0</td>\n",
       "      <td>0</td>\n",
       "      <td>0</td>\n",
       "      <td>0</td>\n",
       "      <td>0</td>\n",
       "      <td>0</td>\n",
       "      <td>0</td>\n",
       "      <td>0</td>\n",
       "      <td>0</td>\n",
       "      <td>0</td>\n",
       "      <td>0</td>\n",
       "      <td>0</td>\n",
       "      <td>0</td>\n",
       "      <td>0</td>\n",
       "    </tr>\n",
       "  </tbody>\n",
       "</table>\n",
       "</div>"
      ],
      "text/plain": [
       "     budget                          genres homepage    imdb_id  \\\n",
       "0  14000000  [{'id': 35, 'name': 'Comedy'}]      NaN  tt2637294   \n",
       "\n",
       "  original_language          original_title  \\\n",
       "0                en  Hot Tub Time Machine 2   \n",
       "\n",
       "                                            overview  popularity  \\\n",
       "0  When Lou, who has become the \"father of the In...    6.575393   \n",
       "\n",
       "                        poster_path  \\\n",
       "0  /tQtWuwvMf0hCc2QR2tkolwl7c3c.jpg   \n",
       "\n",
       "                                production_companies  \\\n",
       "0  [{'name': 'Paramount Pictures', 'id': 4}, {'na...   \n",
       "\n",
       "                                production_countries release_date  runtime  \\\n",
       "0  [{'iso_3166_1': 'US', 'name': 'United States o...      2/20/15     93.0   \n",
       "\n",
       "                           spoken_languages    status  \\\n",
       "0  [{'iso_639_1': 'en', 'name': 'English'}]  Released   \n",
       "\n",
       "                                             tagline                   title  \\\n",
       "0  The Laws of Space and Time are About to be Vio...  Hot Tub Time Machine 2   \n",
       "\n",
       "                                            Keywords  \\\n",
       "0  [{'id': 4379, 'name': 'time travel'}, {'id': 9...   \n",
       "\n",
       "                                                cast  \\\n",
       "0  [{'cast_id': 4, 'character': 'Lou', 'credit_id...   \n",
       "\n",
       "                                                crew   revenue  popularity2  \\\n",
       "0  [{'credit_id': '59ac067c92514107af02c8c8', 'de...  12314651         10.4   \n",
       "\n",
       "   rating  totalVotes  has_collection  no_of_genre all_genres  genre_Drama  \\\n",
       "0     5.0       482.0               1            1     Comedy            0   \n",
       "\n",
       "   genre_Comedy  genre_Thriller  genre_Action  genre_Romance  genre_Crime  \\\n",
       "0             1               0             0              0            0   \n",
       "\n",
       "   genre_Adventure  genre_Horror  genre_Science Fiction  genre_Family  \\\n",
       "0                0             0                      0             0   \n",
       "\n",
       "   genre_Fantasy  genre_Mystery  genre_Animation  genre_History  genre_Music  \\\n",
       "0              0              0                0              0            0   \n",
       "\n",
       "   genre_War  genre_Documentary  genre_Western  genre_Foreign  \n",
       "0          0                  0              0              0  "
      ]
     },
     "execution_count": 56,
     "metadata": {},
     "output_type": "execute_result"
    }
   ],
   "source": [
    "train.head(1)"
   ]
  },
  {
   "cell_type": "code",
   "execution_count": 57,
   "id": "f34620dc",
   "metadata": {},
   "outputs": [],
   "source": [
    "train.drop(['genres','all_genres'], axis=1, inplace=True)\n",
    "test.drop(['genres','all_genres'], axis=1, inplace=True)"
   ]
  },
  {
   "cell_type": "code",
   "execution_count": null,
   "id": "1be23bb9",
   "metadata": {},
   "outputs": [],
   "source": []
  },
  {
   "cell_type": "code",
   "execution_count": null,
   "id": "635efc2a",
   "metadata": {},
   "outputs": [],
   "source": []
  },
  {
   "cell_type": "code",
   "execution_count": 58,
   "id": "0fe0ab07",
   "metadata": {},
   "outputs": [
    {
     "data": {
      "text/plain": [
       "(3000, 44)"
      ]
     },
     "execution_count": 58,
     "metadata": {},
     "output_type": "execute_result"
    }
   ],
   "source": [
    "train.shape"
   ]
  },
  {
   "cell_type": "code",
   "execution_count": 59,
   "id": "ddb25d56",
   "metadata": {},
   "outputs": [
    {
     "data": {
      "text/plain": [
       "(4398, 43)"
      ]
     },
     "execution_count": 59,
     "metadata": {},
     "output_type": "execute_result"
    }
   ],
   "source": [
    "test.shape"
   ]
  },
  {
   "cell_type": "code",
   "execution_count": null,
   "id": "cbea100c",
   "metadata": {},
   "outputs": [],
   "source": []
  },
  {
   "cell_type": "markdown",
   "id": "55e8ff88",
   "metadata": {},
   "source": [
    "## 5. homepage"
   ]
  },
  {
   "cell_type": "code",
   "execution_count": 60,
   "id": "d669f78a",
   "metadata": {},
   "outputs": [],
   "source": [
    "## check for homepage eixsts or not and its effect on revenue"
   ]
  },
  {
   "cell_type": "code",
   "execution_count": 61,
   "id": "23c5783f",
   "metadata": {},
   "outputs": [],
   "source": [
    "def has_homepage(df):\n",
    "    \n",
    "    homepage_exit=[]\n",
    "    \n",
    "    for i in df.homepage:\n",
    "        if str(i)=='nan':\n",
    "            homepage_exit.append(0)\n",
    "        else:\n",
    "            homepage_exit.append(1)\n",
    "            \n",
    "    df['homepage_exit']=homepage_exit"
   ]
  },
  {
   "cell_type": "code",
   "execution_count": 62,
   "id": "0783963a",
   "metadata": {},
   "outputs": [],
   "source": [
    "has_homepage(train)"
   ]
  },
  {
   "cell_type": "code",
   "execution_count": 63,
   "id": "e4b89b20",
   "metadata": {},
   "outputs": [],
   "source": [
    "has_homepage(test)"
   ]
  },
  {
   "cell_type": "code",
   "execution_count": 64,
   "id": "c291e850",
   "metadata": {},
   "outputs": [
    {
     "data": {
      "text/plain": [
       "<AxesSubplot:xlabel='homepage_exit', ylabel='revenue'>"
      ]
     },
     "execution_count": 64,
     "metadata": {},
     "output_type": "execute_result"
    },
    {
     "data": {
      "image/png": "[encoded data removed]",
      "text/plain": [
       "<Figure size 432x288 with 1 Axes>"
      ]
     },
     "metadata": {
      "needs_background": "light"
     },
     "output_type": "display_data"
    }
   ],
   "source": [
    "sns.stripplot(train.homepage_exit, train.revenue)"
   ]
  },
  {
   "cell_type": "code",
   "execution_count": 65,
   "id": "6a41a2cf",
   "metadata": {},
   "outputs": [],
   "source": [
    "# from the above fig. we can see that the homepage exists has effect on the revenue"
   ]
  },
  {
   "cell_type": "code",
   "execution_count": null,
   "id": "eae29402",
   "metadata": {},
   "outputs": [],
   "source": []
  },
  {
   "cell_type": "code",
   "execution_count": 66,
   "id": "d00fc025",
   "metadata": {},
   "outputs": [],
   "source": [
    "train.drop('homepage', axis=1, inplace=True)\n",
    "test.drop('homepage', axis=1, inplace=True)"
   ]
  },
  {
   "cell_type": "code",
   "execution_count": null,
   "id": "358ef25a",
   "metadata": {},
   "outputs": [],
   "source": []
  },
  {
   "cell_type": "markdown",
   "id": "cc8a86c4",
   "metadata": {},
   "source": [
    "## 6. imdb_id"
   ]
  },
  {
   "cell_type": "code",
   "execution_count": 67,
   "id": "4f642fd6",
   "metadata": {},
   "outputs": [
    {
     "data": {
      "text/plain": [
       "0       tt2637294\n",
       "1       tt0368933\n",
       "2       tt2582802\n",
       "3       tt1821480\n",
       "4       tt1380152\n",
       "          ...    \n",
       "2995    tt0109403\n",
       "2996    tt2364975\n",
       "2997    tt0116908\n",
       "2998    tt0343135\n",
       "2999    tt1600195\n",
       "Name: imdb_id, Length: 3000, dtype: object"
      ]
     },
     "execution_count": 67,
     "metadata": {},
     "output_type": "execute_result"
    }
   ],
   "source": [
    "train.imdb_id"
   ]
  },
  {
   "cell_type": "code",
   "execution_count": 68,
   "id": "dc183de6",
   "metadata": {},
   "outputs": [],
   "source": [
    "## dropping this feature as it has no effect on revenue"
   ]
  },
  {
   "cell_type": "code",
   "execution_count": 69,
   "id": "8196c8e7",
   "metadata": {},
   "outputs": [],
   "source": [
    "train.drop('imdb_id', axis=1, inplace=True)\n",
    "test.drop('imdb_id', axis=1, inplace=True)"
   ]
  },
  {
   "cell_type": "code",
   "execution_count": null,
   "id": "be496e2b",
   "metadata": {},
   "outputs": [],
   "source": []
  },
  {
   "cell_type": "code",
   "execution_count": null,
   "id": "a14d0718",
   "metadata": {},
   "outputs": [],
   "source": []
  },
  {
   "cell_type": "markdown",
   "id": "c6b0b0b9",
   "metadata": {},
   "source": [
    "## 7. original_language"
   ]
  },
  {
   "cell_type": "code",
   "execution_count": 70,
   "id": "7eaab316",
   "metadata": {},
   "outputs": [],
   "source": [
    "## checking the original language is english or not"
   ]
  },
  {
   "cell_type": "code",
   "execution_count": 71,
   "id": "3cc1257f",
   "metadata": {},
   "outputs": [],
   "source": [
    "def original_lang_english(df):\n",
    "    \n",
    "    orignal_lang_english=[]\n",
    "\n",
    "    for i in df.original_language:\n",
    "        if str(i)=='en':\n",
    "            orignal_lang_english.append(1)\n",
    "        else:\n",
    "            orignal_lang_english.append(0)\n",
    "            \n",
    "    df['orignal_lang_english']=orignal_lang_english"
   ]
  },
  {
   "cell_type": "code",
   "execution_count": 72,
   "id": "2614a48e",
   "metadata": {},
   "outputs": [],
   "source": [
    "original_lang_english(train)"
   ]
  },
  {
   "cell_type": "code",
   "execution_count": 73,
   "id": "61c01e64",
   "metadata": {},
   "outputs": [],
   "source": [
    "original_lang_english(test)"
   ]
  },
  {
   "cell_type": "code",
   "execution_count": 74,
   "id": "2d72196b",
   "metadata": {},
   "outputs": [
    {
     "data": {
      "text/plain": [
       "<AxesSubplot:xlabel='orignal_lang_english', ylabel='revenue'>"
      ]
     },
     "execution_count": 74,
     "metadata": {},
     "output_type": "execute_result"
    },
    {
     "data": {
      "image/png": "[encoded data removed]",
      "text/plain": [
       "<Figure size 432x288 with 1 Axes>"
      ]
     },
     "metadata": {
      "needs_background": "light"
     },
     "output_type": "display_data"
    }
   ],
   "source": [
    "sns.stripplot(x=train.orignal_lang_english,y=train.revenue)"
   ]
  },
  {
   "cell_type": "code",
   "execution_count": 75,
   "id": "17b9181c",
   "metadata": {},
   "outputs": [],
   "source": [
    "## from the above we can see that the there are more count of english language, and also has effect on the revenue as well \n",
    "## i.e. high revenue"
   ]
  },
  {
   "cell_type": "code",
   "execution_count": null,
   "id": "61de4b6c",
   "metadata": {},
   "outputs": [],
   "source": []
  },
  {
   "cell_type": "code",
   "execution_count": 76,
   "id": "57ff0ff6",
   "metadata": {},
   "outputs": [],
   "source": [
    "train.drop('original_language', axis=1, inplace=True)\n",
    "test.drop('original_language', axis=1, inplace=True)"
   ]
  },
  {
   "cell_type": "code",
   "execution_count": null,
   "id": "4921a7a9",
   "metadata": {},
   "outputs": [],
   "source": []
  },
  {
   "cell_type": "code",
   "execution_count": null,
   "id": "70fc704c",
   "metadata": {},
   "outputs": [],
   "source": []
  },
  {
   "cell_type": "markdown",
   "id": "8bbcfdc6",
   "metadata": {},
   "source": [
    "## 8. original_title"
   ]
  },
  {
   "cell_type": "code",
   "execution_count": 77,
   "id": "a08a5517",
   "metadata": {},
   "outputs": [
    {
     "data": {
      "text/plain": [
       "0                         Hot Tub Time Machine 2\n",
       "1       The Princess Diaries 2: Royal Engagement\n",
       "2                                       Whiplash\n",
       "3                                        Kahaani\n",
       "4                                           마린보이\n",
       "                          ...                   \n",
       "2995                                     Chasers\n",
       "2996                                 Vi är bäst!\n",
       "2997                     The Long Kiss Goodnight\n",
       "2998                            Along Came Polly\n",
       "2999                                   Abduction\n",
       "Name: original_title, Length: 3000, dtype: object"
      ]
     },
     "execution_count": 77,
     "metadata": {},
     "output_type": "execute_result"
    }
   ],
   "source": [
    "train.original_title"
   ]
  },
  {
   "cell_type": "code",
   "execution_count": 78,
   "id": "6a0ab80c",
   "metadata": {},
   "outputs": [],
   "source": [
    "## since original_title is a combination of string, so in this case we can see the effect of length of original_title on the \n",
    "## revenue i.e. by counting the letter or words in the original_title of the movie."
   ]
  },
  {
   "cell_type": "code",
   "execution_count": 79,
   "id": "a335e345",
   "metadata": {},
   "outputs": [],
   "source": [
    "## letter count"
   ]
  },
  {
   "cell_type": "code",
   "execution_count": 80,
   "id": "fd5733f9",
   "metadata": {},
   "outputs": [],
   "source": [
    "train['original_title_letter_count'] = train.original_title.str.len()\n",
    "test['original_title_letter_count'] = test.original_title.str.len()"
   ]
  },
  {
   "cell_type": "code",
   "execution_count": 81,
   "id": "6fea81a1",
   "metadata": {},
   "outputs": [
    {
     "data": {
      "text/plain": [
       "<AxesSubplot:xlabel='original_title_letter_count', ylabel='revenue'>"
      ]
     },
     "execution_count": 81,
     "metadata": {},
     "output_type": "execute_result"
    },
    {
     "data": {
      "image/png": "[encoded data removed]",
      "text/plain": [
       "<Figure size 432x288 with 1 Axes>"
      ]
     },
     "metadata": {
      "needs_background": "light"
     },
     "output_type": "display_data"
    }
   ],
   "source": [
    "sns.lineplot(x=train.original_title_letter_count,y=train.revenue)"
   ]
  },
  {
   "cell_type": "code",
   "execution_count": 82,
   "id": "db9172c0",
   "metadata": {},
   "outputs": [],
   "source": [
    "## from the above fig. we can see that there is an effect of letter count on the revenue"
   ]
  },
  {
   "cell_type": "code",
   "execution_count": 83,
   "id": "8c01eef0",
   "metadata": {},
   "outputs": [],
   "source": [
    "## word count"
   ]
  },
  {
   "cell_type": "code",
   "execution_count": 84,
   "id": "b1c1e4e8",
   "metadata": {},
   "outputs": [],
   "source": [
    "train['original_title_word_count'] = train.original_title.str.split().str.len()\n",
    "test['original_title_word_count'] = test.original_title.str.split().str.len()"
   ]
  },
  {
   "cell_type": "code",
   "execution_count": 85,
   "id": "130ad60a",
   "metadata": {},
   "outputs": [
    {
     "data": {
      "text/plain": [
       "<AxesSubplot:xlabel='original_title_word_count', ylabel='revenue'>"
      ]
     },
     "execution_count": 85,
     "metadata": {},
     "output_type": "execute_result"
    },
    {
     "data": {
      "image/png": "[encoded data removed]",
      "text/plain": [
       "<Figure size 432x288 with 1 Axes>"
      ]
     },
     "metadata": {
      "needs_background": "light"
     },
     "output_type": "display_data"
    }
   ],
   "source": [
    "sns.lineplot(x=train.original_title_word_count,y=train.revenue)"
   ]
  },
  {
   "cell_type": "code",
   "execution_count": 86,
   "id": "a7671912",
   "metadata": {},
   "outputs": [],
   "source": [
    "## ## from the above fig. we can see that there is an effect of word count on the revenue"
   ]
  },
  {
   "cell_type": "code",
   "execution_count": null,
   "id": "b28e7b80",
   "metadata": {},
   "outputs": [],
   "source": []
  },
  {
   "cell_type": "code",
   "execution_count": 87,
   "id": "6168a97a",
   "metadata": {},
   "outputs": [],
   "source": [
    "train.drop('original_title', axis=1, inplace=True)\n",
    "test.drop('original_title', axis=1, inplace=True)"
   ]
  },
  {
   "cell_type": "code",
   "execution_count": null,
   "id": "d25fdbaf",
   "metadata": {},
   "outputs": [],
   "source": []
  },
  {
   "cell_type": "markdown",
   "id": "2e680bfc",
   "metadata": {},
   "source": [
    "## 9. overview"
   ]
  },
  {
   "cell_type": "code",
   "execution_count": 88,
   "id": "733be5d1",
   "metadata": {},
   "outputs": [
    {
     "data": {
      "text/plain": [
       "0       When Lou, who has become the \"father of the In...\n",
       "1       Mia Thermopolis is now a college graduate and ...\n",
       "2       Under the direction of a ruthless instructor, ...\n",
       "3       Vidya Bagchi (Vidya Balan) arrives in Kolkata ...\n",
       "4       Marine Boy is the story of a former national s...\n",
       "                              ...                        \n",
       "2995    Military men Rock Reilly and Eddie Devane are ...\n",
       "2996    Three girls in 1980s Stockholm decide to form ...\n",
       "2997    Samantha Caine, suburban homemaker, is the ide...\n",
       "2998    Reuben Feffer is a guy who's spent his entire ...\n",
       "2999    A young man sets out to uncover the truth abou...\n",
       "Name: overview, Length: 3000, dtype: object"
      ]
     },
     "execution_count": 88,
     "metadata": {},
     "output_type": "execute_result"
    }
   ],
   "source": [
    "train.overview"
   ]
  },
  {
   "cell_type": "code",
   "execution_count": null,
   "id": "ba58b63a",
   "metadata": {},
   "outputs": [],
   "source": []
  },
  {
   "cell_type": "code",
   "execution_count": 89,
   "id": "3834a5ce",
   "metadata": {},
   "outputs": [],
   "source": [
    "## checking the effect of word count in overview"
   ]
  },
  {
   "cell_type": "code",
   "execution_count": 90,
   "id": "3b11bb24",
   "metadata": {},
   "outputs": [],
   "source": [
    "train['overview_word_count'] = train.overview.str.split().str.len()\n",
    "test['overview_word_count'] = test.overview.str.split().str.len()"
   ]
  },
  {
   "cell_type": "code",
   "execution_count": 91,
   "id": "e19af124",
   "metadata": {},
   "outputs": [
    {
     "data": {
      "text/plain": [
       "<AxesSubplot:xlabel='overview_word_count', ylabel='revenue'>"
      ]
     },
     "execution_count": 91,
     "metadata": {},
     "output_type": "execute_result"
    },
    {
     "data": {
      "image/png": "[encoded data removed]",
      "text/plain": [
       "<Figure size 432x288 with 1 Axes>"
      ]
     },
     "metadata": {
      "needs_background": "light"
     },
     "output_type": "display_data"
    }
   ],
   "source": [
    "sns.lineplot(x=train.overview_word_count,y=train.revenue)"
   ]
  },
  {
   "cell_type": "code",
   "execution_count": 92,
   "id": "da420227",
   "metadata": {},
   "outputs": [],
   "source": [
    "## from the above fig. we can see that the word count b/w 100-140 has high revenue"
   ]
  },
  {
   "cell_type": "code",
   "execution_count": 93,
   "id": "6ed095bb",
   "metadata": {},
   "outputs": [],
   "source": [
    "train.drop('overview', axis=1, inplace=True)\n",
    "test.drop('overview', axis=1, inplace=True)"
   ]
  },
  {
   "cell_type": "code",
   "execution_count": null,
   "id": "fb2d2366",
   "metadata": {},
   "outputs": [],
   "source": []
  },
  {
   "cell_type": "code",
   "execution_count": 94,
   "id": "07ddbd12",
   "metadata": {},
   "outputs": [],
   "source": [
    "## 10. popularity"
   ]
  },
  {
   "cell_type": "code",
   "execution_count": 95,
   "id": "7bec1573",
   "metadata": {},
   "outputs": [
    {
     "data": {
      "text/plain": [
       "0        6.575393\n",
       "1        8.248895\n",
       "2       64.299990\n",
       "3        3.174936\n",
       "4        1.148070\n",
       "          ...    \n",
       "2995     9.853270\n",
       "2996     3.727996\n",
       "2997    14.482345\n",
       "2998    15.725542\n",
       "2999    10.512109\n",
       "Name: popularity, Length: 3000, dtype: float64"
      ]
     },
     "execution_count": 95,
     "metadata": {},
     "output_type": "execute_result"
    }
   ],
   "source": [
    "train.popularity"
   ]
  },
  {
   "cell_type": "code",
   "execution_count": 96,
   "id": "4690e722",
   "metadata": {},
   "outputs": [],
   "source": [
    "## cheking the distribution of data"
   ]
  },
  {
   "cell_type": "code",
   "execution_count": 97,
   "id": "fe322606",
   "metadata": {},
   "outputs": [
    {
     "data": {
      "text/plain": [
       "<AxesSubplot:xlabel='popularity', ylabel='Count'>"
      ]
     },
     "execution_count": 97,
     "metadata": {},
     "output_type": "execute_result"
    },
    {
     "data": {
      "image/png": "[encoded data removed]",
      "text/plain": [
       "<Figure size 432x288 with 1 Axes>"
      ]
     },
     "metadata": {
      "needs_background": "light"
     },
     "output_type": "display_data"
    }
   ],
   "source": [
    "sns.histplot(train.popularity, kde=True)"
   ]
  },
  {
   "cell_type": "code",
   "execution_count": 98,
   "id": "4e2c2b9e",
   "metadata": {},
   "outputs": [],
   "source": [
    "## we can see that the data is +ve skew, so we have to use log transformation to make it normally dist."
   ]
  },
  {
   "cell_type": "code",
   "execution_count": 99,
   "id": "c3b793c0",
   "metadata": {},
   "outputs": [
    {
     "data": {
      "text/plain": [
       "<AxesSubplot:xlabel='popularity', ylabel='Count'>"
      ]
     },
     "execution_count": 99,
     "metadata": {},
     "output_type": "execute_result"
    },
    {
     "data": {
      "image/png": "[encoded data removed]",
      "text/plain": [
       "<Figure size 432x288 with 1 Axes>"
      ]
     },
     "metadata": {
      "needs_background": "light"
     },
     "output_type": "display_data"
    }
   ],
   "source": [
    "sns.histplot(np.log1p(train.popularity), kde=True)"
   ]
  },
  {
   "cell_type": "code",
   "execution_count": null,
   "id": "fb66dc42",
   "metadata": {},
   "outputs": [],
   "source": []
  },
  {
   "cell_type": "markdown",
   "id": "8b265030",
   "metadata": {},
   "source": [
    "## 11. poster_path"
   ]
  },
  {
   "cell_type": "code",
   "execution_count": 100,
   "id": "a9495b7a",
   "metadata": {},
   "outputs": [
    {
     "data": {
      "text/plain": [
       "0       /tQtWuwvMf0hCc2QR2tkolwl7c3c.jpg\n",
       "1       /w9Z7A0GHEhIp7etpj0vyKOeU1Wx.jpg\n",
       "2       /lIv1QinFqz4dlp5U4lQ6HaiskOZ.jpg\n",
       "3       /aTXRaPrWSinhcmCrcfJK17urp3F.jpg\n",
       "4       /m22s7zvkVFDU9ir56PiiqIEWFdT.jpg\n",
       "                      ...               \n",
       "2995    /j8Q7pQ27hvH54wpxJzIuQgQCdro.jpg\n",
       "2996    /sS01LSy6KDrCZAhtkO18UdnWFT1.jpg\n",
       "2997    /4MENR8x6mYqnZvp2hGjSaPJz64J.jpg\n",
       "2998    /nIY4kvJTTnxoBR0wycrXng5MOYs.jpg\n",
       "2999    /cUT6NQP5LAJpmUoStGtXmvNt4zA.jpg\n",
       "Name: poster_path, Length: 3000, dtype: object"
      ]
     },
     "execution_count": 100,
     "metadata": {},
     "output_type": "execute_result"
    }
   ],
   "source": [
    "train.poster_path"
   ]
  },
  {
   "cell_type": "code",
   "execution_count": null,
   "id": "4b37bf00",
   "metadata": {},
   "outputs": [],
   "source": []
  },
  {
   "cell_type": "code",
   "execution_count": 101,
   "id": "adb00aec",
   "metadata": {},
   "outputs": [],
   "source": [
    "## dropping the poster_path"
   ]
  },
  {
   "cell_type": "code",
   "execution_count": 102,
   "id": "6b6c6c97",
   "metadata": {},
   "outputs": [],
   "source": [
    "train.drop('poster_path', axis=1, inplace=True)\n",
    "test.drop('poster_path', axis=1, inplace=True)"
   ]
  },
  {
   "cell_type": "code",
   "execution_count": null,
   "id": "96171a91",
   "metadata": {},
   "outputs": [],
   "source": []
  },
  {
   "cell_type": "markdown",
   "id": "ea753698",
   "metadata": {},
   "source": [
    "## 12. production_companies"
   ]
  },
  {
   "cell_type": "code",
   "execution_count": 103,
   "id": "b61530d4",
   "metadata": {},
   "outputs": [],
   "source": [
    "## number of production_companies & its effect on revenue"
   ]
  },
  {
   "cell_type": "code",
   "execution_count": 104,
   "id": "e538da65",
   "metadata": {},
   "outputs": [],
   "source": [
    "def number_of_production_comp(df):\n",
    "    \n",
    "    no_of_prod_comp=[]\n",
    "\n",
    "    for i in df.production_companies:\n",
    "        d=get_dict(i)\n",
    "\n",
    "        no_of_prod_comp.append(len(d))\n",
    "        \n",
    "    df['no_of_prod_comp']=no_of_prod_comp"
   ]
  },
  {
   "cell_type": "code",
   "execution_count": 105,
   "id": "93a9f78a",
   "metadata": {},
   "outputs": [],
   "source": [
    "number_of_production_comp(train)"
   ]
  },
  {
   "cell_type": "code",
   "execution_count": 106,
   "id": "0f27d855",
   "metadata": {},
   "outputs": [],
   "source": [
    "number_of_production_comp(test)"
   ]
  },
  {
   "cell_type": "code",
   "execution_count": 107,
   "id": "4a32f999",
   "metadata": {},
   "outputs": [
    {
     "data": {
      "text/plain": [
       "<AxesSubplot:xlabel='no_of_prod_comp', ylabel='count'>"
      ]
     },
     "execution_count": 107,
     "metadata": {},
     "output_type": "execute_result"
    },
    {
     "data": {
      "image/png": "[encoded data removed]",
      "text/plain": [
       "<Figure size 432x288 with 1 Axes>"
      ]
     },
     "metadata": {
      "needs_background": "light"
     },
     "output_type": "display_data"
    }
   ],
   "source": [
    "sns.countplot(train.no_of_prod_comp)"
   ]
  },
  {
   "cell_type": "code",
   "execution_count": null,
   "id": "55d24f19",
   "metadata": {},
   "outputs": [],
   "source": []
  },
  {
   "cell_type": "code",
   "execution_count": 108,
   "id": "5c6f49c1",
   "metadata": {},
   "outputs": [],
   "source": [
    "## top production companies"
   ]
  },
  {
   "cell_type": "code",
   "execution_count": 109,
   "id": "2b56dc55",
   "metadata": {},
   "outputs": [],
   "source": [
    "total_count_prod_comp=[]\n",
    "\n",
    "for i in train.production_companies:\n",
    "    d=get_dict(i)\n",
    "    for j in d:\n",
    "        total_count_prod_comp.append(j['name'])"
   ]
  },
  {
   "cell_type": "code",
   "execution_count": 110,
   "id": "4d9a89bb",
   "metadata": {},
   "outputs": [
    {
     "data": {
      "text/plain": [
       "[('Warner Bros.', 202),\n",
       " ('Universal Pictures', 188),\n",
       " ('Paramount Pictures', 161),\n",
       " ('Twentieth Century Fox Film Corporation', 138),\n",
       " ('Columbia Pictures', 91),\n",
       " ('Metro-Goldwyn-Mayer (MGM)', 84),\n",
       " ('New Line Cinema', 75),\n",
       " ('Touchstone Pictures', 63),\n",
       " ('Walt Disney Pictures', 62),\n",
       " ('Columbia Pictures Corporation', 61),\n",
       " ('TriStar Pictures', 53),\n",
       " ('Relativity Media', 48),\n",
       " ('Canal+', 46),\n",
       " ('United Artists', 44),\n",
       " ('Miramax Films', 40),\n",
       " ('Village Roadshow Pictures', 36),\n",
       " ('Regency Enterprises', 31),\n",
       " ('BBC Films', 30),\n",
       " ('Dune Entertainment', 30),\n",
       " ('Working Title Films', 30),\n",
       " ('Fox Searchlight Pictures', 29),\n",
       " ('StudioCanal', 28),\n",
       " ('Lionsgate', 28),\n",
       " ('DreamWorks SKG', 27),\n",
       " ('Fox 2000 Pictures', 25),\n",
       " ('Summit Entertainment', 24),\n",
       " ('Hollywood Pictures', 24),\n",
       " ('Orion Pictures', 24),\n",
       " ('Amblin Entertainment', 23),\n",
       " ('Dimension Films', 23),\n",
       " ('Castle Rock Entertainment', 21),\n",
       " ('Epsilon Motion Pictures', 21),\n",
       " ('Morgan Creek Productions', 21),\n",
       " ('Original Film', 21),\n",
       " ('Focus Features', 21),\n",
       " ('Legendary Pictures', 19),\n",
       " ('Participant Media', 19),\n",
       " ('Blumhouse Productions', 18),\n",
       " ('New Regency Pictures', 18),\n",
       " ('Film4', 18),\n",
       " ('Spyglass Entertainment', 17),\n",
       " ('Imagine Entertainment', 16),\n",
       " ('Screen Gems', 16),\n",
       " ('Millennium Films', 16),\n",
       " ('TSG Entertainment', 16),\n",
       " ('Lakeshore Entertainment', 15),\n",
       " ('France 2 Cinéma', 15),\n",
       " ('Silver Pictures', 15),\n",
       " ('The Weinstein Company', 14),\n",
       " ('PolyGram Filmed Entertainment', 14),\n",
       " ('Eon Productions', 14),\n",
       " ('Scott Rudin Productions', 14),\n",
       " ('Dune Entertainment III', 13),\n",
       " ('Happy Madison Productions', 13),\n",
       " ('Studio Babelsberg', 13),\n",
       " ('Lions Gate Films', 13),\n",
       " ('EuropaCorp', 12),\n",
       " ('Gaumont', 12),\n",
       " ('Carolco Pictures', 12),\n",
       " ('American Zoetrope', 12),\n",
       " ('UK Film Council', 11),\n",
       " ('TF1 Films Production', 11),\n",
       " ('Ciné+', 11),\n",
       " ('Revolution Studios', 11),\n",
       " ('Davis Entertainment', 11),\n",
       " ('Canal+ España', 11),\n",
       " ('Ingenious Film Partners', 11),\n",
       " ('Scott Free Productions', 11),\n",
       " ('Wild Bunch', 11),\n",
       " ('Wildwood Enterprises', 10),\n",
       " ('Icon Entertainment International', 10),\n",
       " ('Killer Films', 10),\n",
       " ('Phoenix Pictures', 10),\n",
       " ('Cannon Group', 10),\n",
       " ('NPV Entertainment', 10),\n",
       " ('Emmett/Furla Films', 10),\n",
       " ('Malpaso Productions', 10),\n",
       " ('Twentieth Century Fox Animation', 9),\n",
       " ('2929 Productions', 9),\n",
       " ('Walden Media', 9),\n",
       " ('WingNut Films', 9),\n",
       " ('Alcon Entertainment', 9),\n",
       " ('Saturn Films', 9),\n",
       " ('Nu Image Films', 9),\n",
       " ('Dentsu', 9),\n",
       " ('Channel Four Films', 9),\n",
       " ('Appian Way', 9),\n",
       " ('Di Bonaventura Pictures', 9),\n",
       " ('The Criterion Collection', 9),\n",
       " ('Tribeca Productions', 9),\n",
       " ('Sidney Kimmel Entertainment', 9),\n",
       " ('Miramax', 9),\n",
       " ('Double Feature Films', 8),\n",
       " ('Arte France Cinéma', 8),\n",
       " ('Blue Sky Studios', 8),\n",
       " (\"Donners' Company\", 8),\n",
       " ('Franchise Pictures', 8),\n",
       " ('Pixar Animation Studios', 8),\n",
       " ('Chernin Entertainment', 8),\n",
       " ('Plan B Entertainment', 8),\n",
       " ('Anonymous Content', 8),\n",
       " (\"Mel's Cite du Cinema\", 8),\n",
       " ('Platinum Dunes', 8),\n",
       " ('Lucasfilm', 8),\n",
       " ('LStar Capital', 8),\n",
       " ('Sony Pictures Releasing', 8),\n",
       " ('Cinergi Pictures Entertainment', 8),\n",
       " ('Dino De Laurentiis Company', 8),\n",
       " ('Marvel Studios', 8),\n",
       " ('Revolution Sun Studios', 8),\n",
       " ('Universal Studios', 8),\n",
       " ('Interscope Communications', 7),\n",
       " ('Studio Canal', 7),\n",
       " ('Westdeutscher Rundfunk (WDR)', 7),\n",
       " ('Stillking Films', 7),\n",
       " ('Warner Independent Pictures (WIP)', 7),\n",
       " ('Intermedia Films', 7),\n",
       " ('Isle of Man Film', 7),\n",
       " ('CBS Films', 7),\n",
       " ('Marvel Enterprises', 7),\n",
       " ('Dark Castle Entertainment', 7),\n",
       " ('Apatow Productions', 7),\n",
       " ('3 Arts Entertainment', 7),\n",
       " ('Silver Screen Partners IV', 7),\n",
       " ('Golan-Globus Productions', 7),\n",
       " ('Playtone', 7),\n",
       " ('Impact Pictures', 7),\n",
       " ('UTV Motion Pictures', 7),\n",
       " ('Annapurna Pictures', 7),\n",
       " ('A24', 7),\n",
       " ('Artisan Entertainment', 7),\n",
       " ('DC Entertainment', 7),\n",
       " ('Imagenation Abu Dhabi FZ', 7),\n",
       " ('Mirage Enterprises', 7),\n",
       " ('DC Comics', 7),\n",
       " ('Vertigo Entertainment', 7),\n",
       " ('Fine Line Features', 7),\n",
       " ('Big Screen Productions', 7),\n",
       " ('Jerry Bruckheimer Films', 7),\n",
       " ('Jersey Films', 6),\n",
       " ('BenderSpink', 6),\n",
       " ('Dark Horse Entertainment', 6),\n",
       " ('CinéCinéma', 6),\n",
       " ('IM Global', 6),\n",
       " ('Gold Circle Films', 6),\n",
       " ('Atlas Entertainment', 6),\n",
       " ('Kennedy/Marshall Company, The', 6),\n",
       " ('Golden Harvest Company', 6),\n",
       " ('Canal Plus', 6),\n",
       " ('British Film Institute (BFI)', 6),\n",
       " ('Bad Hat Harry Productions', 6),\n",
       " ('Rai Cinema', 6),\n",
       " ('Constantin Film Produktion', 6),\n",
       " ('Allied Filmmakers', 6),\n",
       " ('Why Not Productions', 6),\n",
       " ('Forward Pass', 6),\n",
       " ('1492 Pictures', 6),\n",
       " ('Syncopy', 6),\n",
       " ('Capitol Films', 6),\n",
       " ('WWE Studios', 6),\n",
       " ('Centropolis Entertainment', 6),\n",
       " ('Reliance Entertainment', 6),\n",
       " ('GK Films', 6),\n",
       " ('RKO Radio Pictures', 6),\n",
       " ('Sony Pictures Classics', 6),\n",
       " ('Dino de Laurentiis Cinematografica', 6),\n",
       " ('DreamWorks Animation', 6),\n",
       " ('FilmNation Entertainment', 6),\n",
       " ('Warner Bros. Pictures', 6),\n",
       " ('Sunswept Entertainment', 6),\n",
       " ('Robert Simonds Productions', 6),\n",
       " ('FilmDistrict', 6),\n",
       " ('Focus Films', 6),\n",
       " ('Pathé', 6),\n",
       " ('Marc Platt Productions', 6),\n",
       " ('MTV Films', 6),\n",
       " ('Rogue Pictures', 6),\n",
       " ('Ghost House Pictures', 5),\n",
       " ('Cruise/Wagner Productions', 5),\n",
       " ('BIM Distribuzione', 5),\n",
       " ('France 3 Cinéma', 5),\n",
       " ('Lawrence Bender Productions', 5),\n",
       " ('Walt Disney Productions', 5),\n",
       " ('Alphaville Films', 5),\n",
       " ('Scion Films', 5),\n",
       " ('Centre National de la Cinématographie (CNC)', 5),\n",
       " ('The Ladd Company', 5),\n",
       " ('The Mirisch Corporation', 5),\n",
       " ('Cheyenne Enterprises', 5),\n",
       " ('Hyde Park Entertainment', 5),\n",
       " ('Spring Creek Productions', 5),\n",
       " ('Roth Films', 5),\n",
       " ('The Saul Zaentz Company', 5),\n",
       " ('Emperor Motion Pictures', 5),\n",
       " ('40 Acres & A Mule Filmworks', 5),\n",
       " ('CJ Entertainment', 5),\n",
       " ('Yari Film Group', 5),\n",
       " ('Toho Company', 5),\n",
       " ('Bel Air Entertainment', 5),\n",
       " ('The Australian Film Commission', 5),\n",
       " ('Cross Creek Pictures', 5),\n",
       " ('Fuji Television Network', 5),\n",
       " ('Exclusive Media Group', 5),\n",
       " ('Goldcrest Films International', 5),\n",
       " ('Blinding Edge Pictures', 5),\n",
       " ('Initial Entertainment Group (IEG)', 5),\n",
       " ('Media Rights Capital', 5),\n",
       " ('QED International', 5),\n",
       " ('Rysher Entertainment', 5),\n",
       " ('Mace Neufeld Productions', 5),\n",
       " ('Skydance Productions', 5),\n",
       " ('Nickelodeon Movies', 5),\n",
       " ('Pathé Renn Productions', 5),\n",
       " ('Propaganda Films', 5),\n",
       " ('Brandywine Productions', 5),\n",
       " ('Newmarket Capital Group', 5),\n",
       " ('Magnolia Pictures', 5),\n",
       " ('Protozoa Pictures', 5),\n",
       " ('Troublemaker Studios', 5),\n",
       " ('Moving Picture Company (MPC)', 5),\n",
       " ('RatPac-Dune Entertainment', 5),\n",
       " ('Flower Films (II)', 5),\n",
       " ('Nelson Entertainment', 5),\n",
       " ('Endgame Entertainment', 5),\n",
       " ('Constantin Film', 5),\n",
       " ('Warner Bros. Animation', 5),\n",
       " ('Zide-Perry Productions', 5),\n",
       " ('Davis-Films', 5),\n",
       " ('Temple Hill Entertainment', 5),\n",
       " ('Marvel Entertainment', 5),\n",
       " ('Baltimore Pictures', 5),\n",
       " ('Thunder Road Pictures', 5),\n",
       " ('DreamWorks', 5),\n",
       " ('Ingenious Media', 5),\n",
       " ('The Montecito Picture Company', 5),\n",
       " ('TF1 Films Productions', 5),\n",
       " ('Edward R. Pressman Film', 5),\n",
       " ('Bold Films', 4),\n",
       " ('Right of Way Films', 4),\n",
       " ('De Laurentiis Entertainment Group (DEG)', 4),\n",
       " ('Bavaria Film', 4),\n",
       " ('Automatik Entertainment', 4),\n",
       " ('Bórd Scannán na hÉireann', 4),\n",
       " ('Kopelson Entertainment', 4),\n",
       " ('Revelations Entertainment', 4),\n",
       " ('FilmColony', 4),\n",
       " ('Affirm Films', 4),\n",
       " ('LD Entertainment', 4),\n",
       " ('Babelsberg Film', 4),\n",
       " ('Sean S. Cunningham Films', 4),\n",
       " ('Paramount Vantage', 4),\n",
       " ('Bona Fide Productions', 4),\n",
       " ('Section Eight', 4),\n",
       " ('Mandalay Pictures', 4),\n",
       " ('New World Pictures', 4),\n",
       " ('PalmStar Media', 4),\n",
       " ('Hyde Park Films', 4),\n",
       " ('Alcor Films', 4),\n",
       " ('Gran Via Productions', 4),\n",
       " ('Metrol Technology', 4),\n",
       " ('Baltimore Spring Creek Productions', 4),\n",
       " ('Green Hat Films', 4),\n",
       " ('Parts and Labor', 4),\n",
       " ('Northern Lights Entertainment', 4),\n",
       " ('Lipsync Productions', 4),\n",
       " ('DisneyToon Studios', 4),\n",
       " ('Kennedy Miller Productions', 4),\n",
       " ('Screen Australia', 4),\n",
       " ('Avery Pix', 4),\n",
       " ('Gracie Films', 4),\n",
       " ('Michael De Luca Productions', 4),\n",
       " ('Goldcrest Pictures', 4),\n",
       " ('EMI Films Ltd.', 4),\n",
       " ('River Road Entertainment', 4),\n",
       " ('Savoy Pictures', 4),\n",
       " ('Gunn Films', 4),\n",
       " ('MK2 Productions', 4),\n",
       " ('Sony Pictures Animation', 4),\n",
       " ('Sony Pictures Entertainment (SPE)', 4),\n",
       " ('Genre Films', 4),\n",
       " ('Rat Entertainment', 4),\n",
       " ('Likely Story', 4),\n",
       " ('Overbrook Entertainment', 4),\n",
       " ('Closest to the Hole Productions', 4),\n",
       " ('Kanzaman', 4),\n",
       " ('Walt Disney Feature Animation', 4),\n",
       " ('Jerry Weintraub Productions', 4),\n",
       " ('Paradox Entertainment', 4),\n",
       " ('Bazelevs Production', 4),\n",
       " ('Team Todd', 4),\n",
       " ('SLM Production Group', 4),\n",
       " ('FilmEngine', 4),\n",
       " ('Egoli Tossell Film AG', 4),\n",
       " ('ApolloMedia Distribution', 4),\n",
       " ('Mutual Film Company', 4),\n",
       " ('Industry Entertainment', 4),\n",
       " ('Tim Burton Productions', 4),\n",
       " ('Marv Films', 4),\n",
       " ('DNA Films', 4),\n",
       " ('Icon Productions', 4),\n",
       " ('John Wells Productions', 4),\n",
       " ('Big Beach Films', 4),\n",
       " ('Escape Artists', 4),\n",
       " ('Mad Chance', 4),\n",
       " ('Téléfilm Canada', 4),\n",
       " ('Home Box Office (HBO)', 4),\n",
       " ('Instituto de la Cinematografía y de las Artes Audiovisuales (ICAA)', 4),\n",
       " ('Mandeville Films', 4),\n",
       " ('The Mark Gordon Company', 4),\n",
       " ('Seven Arts Productions', 4),\n",
       " ('ARTE', 4),\n",
       " ('Bluegrass Films', 4),\n",
       " ('Palace Pictures', 4),\n",
       " ('Maverick Films', 4),\n",
       " ('British Screen Productions', 4),\n",
       " ('Polygram Filmed Entertainment', 4),\n",
       " ('Worldview Entertainment', 4),\n",
       " ('Parkes+MacDonald Image Nation', 4),\n",
       " ('Open Road Films', 4),\n",
       " ('Lorimar Film Entertainment', 4),\n",
       " ('Intrepid Pictures', 4),\n",
       " ('Televisión Española (TVE)', 4),\n",
       " ('Heyday Films', 4),\n",
       " ('The Safran Company', 4),\n",
       " ('Cold Spring Pictures', 4),\n",
       " ('TV Tokyo', 4),\n",
       " ('HandMade Films', 4),\n",
       " ('Nick Wechsler Productions', 4),\n",
       " ('Chockstone Pictures', 4),\n",
       " ('Walt Disney', 4),\n",
       " ('Indian Paintbrush', 4),\n",
       " ('uFilm', 4),\n",
       " ('Weed Road Pictures', 4),\n",
       " ('Hasbro Studios', 4),\n",
       " ('Big Talk Productions', 4),\n",
       " ('Solana Films', 4),\n",
       " ('Konrad Pictures', 4),\n",
       " ('Metropolitan Filmexport', 4),\n",
       " ('Central Partnership', 4),\n",
       " ('Pacific Western', 4),\n",
       " ('Gary Sanchez Productions', 4),\n",
       " ('TLA Releasing', 4),\n",
       " ('De Line Pictures', 4),\n",
       " ('Film i Väst', 4),\n",
       " ('Craven-Maddalena Films', 3),\n",
       " ('Prescience', 3),\n",
       " ('Current Entertainment', 3),\n",
       " ('TPS Star', 3),\n",
       " ('Largo Entertainment', 3),\n",
       " ('JVC Entertainment Networks', 3),\n",
       " ('TF1', 3),\n",
       " ('Centre National de la Cinématographie', 3),\n",
       " ('Eurimages', 3),\n",
       " ('Goldmann Pictures', 3),\n",
       " ('Punch Productions', 3),\n",
       " ('Arnold Kopelson Productions', 3),\n",
       " ('Indigo Film', 3),\n",
       " ('Medusa Film', 3),\n",
       " ('Shanghai Film Group', 3),\n",
       " ('Rising Star', 3),\n",
       " ('Senator Film Produktion', 3),\n",
       " ('Sound for Film', 3),\n",
       " ('A Band Apart', 3),\n",
       " ('Media Programme of the European Community', 3),\n",
       " ('Rastar Pictures', 3),\n",
       " ('China Film Co.', 3),\n",
       " ('Fandango', 3),\n",
       " ('Cinedigm', 3),\n",
       " ('Whitewater Films', 3),\n",
       " ('The Canton Company', 3),\n",
       " ('IRE Productions', 3),\n",
       " ('Santa Fe Institute for Regional Education', 3),\n",
       " ('Firm Films', 3),\n",
       " ('Screen NSW', 3),\n",
       " ('Hughes Entertainment', 3),\n",
       " ('Reel FX Creative Studios', 3),\n",
       " ('Dune Films', 3),\n",
       " ('Australian Film Finance Corporation (AFFC)', 3),\n",
       " ('Merchant Ivory Productions', 3),\n",
       " ('MICA Entertainment', 3),\n",
       " ('Madhouse', 3),\n",
       " ('Österreichischer Rundfunk (ORF)', 3),\n",
       " ('Norddeutscher Rundfunk (NDR)', 3),\n",
       " ('Laurence Mark Productions', 3),\n",
       " ('Broken Lizard Industries', 3),\n",
       " ('Darko Entertainment', 3),\n",
       " ('Bandai Visual Company', 3),\n",
       " ('Kodansha', 3),\n",
       " ('Production I.G.', 3),\n",
       " ('IMF Internationale Medien und Film GmbH & Co. 3. Produktions KG', 3),\n",
       " ('Art Linson Productions', 3),\n",
       " ('Color Force', 3),\n",
       " ('Caravan Pictures', 3),\n",
       " ('Destination Films', 3),\n",
       " ('5150 Action', 3),\n",
       " ('DreamWorks Pictures', 3),\n",
       " ('Shady Acres Entertainment', 3),\n",
       " ('Montecito Picture Company, The', 3),\n",
       " ('Aardman Animations', 3),\n",
       " ('Misher Films', 3),\n",
       " ('RatPac Entertainment', 3),\n",
       " ('thinkfilm', 3),\n",
       " ('Danjaq', 3),\n",
       " ('MHF Zweite Academy Film', 3),\n",
       " ('Valhalla Motion Pictures', 3),\n",
       " ('Baldwin Entertainment Group', 3),\n",
       " ('Les Films Du Fleuve', 3),\n",
       " ('France Télévisions', 3),\n",
       " ('Thinkfilm', 3),\n",
       " ('Cecchi Gori Group Tiger Cinematografica', 3),\n",
       " ('Bedford Falls Productions', 3),\n",
       " ('Lonely Film Productions GmbH & Co. KG.', 3),\n",
       " ('Pathe', 3),\n",
       " ('Grindstone Entertainment Group', 3),\n",
       " ('Cheetah Vision', 3),\n",
       " ('Mandalay Entertainment', 3),\n",
       " ('Canal+ Droits Audiovisuels', 3),\n",
       " ('The Kennedy/Marshall Company', 3),\n",
       " ('Antidote Films (I)', 3),\n",
       " ('Televisió de Catalunya (TV3)', 3),\n",
       " ('Katalyst Films', 3),\n",
       " ('Province of British Columbia Production Services Tax Credit', 3),\n",
       " ('Manifest Film Company', 3),\n",
       " ('David Foster Productions', 3),\n",
       " ('Signature Entertainment', 3),\n",
       " ('Beacon Communications', 3),\n",
       " ('Forge', 3),\n",
       " ('Signature Pictures', 3),\n",
       " ('Nordisk Film', 3),\n",
       " ('Irish Film Board', 3),\n",
       " ('Vinyl Films', 3),\n",
       " ('Voltage Pictures', 3),\n",
       " ('Original Pictures', 3),\n",
       " ('Pariah', 3),\n",
       " ('Renaissance Pictures', 3),\n",
       " ('Don Simpson/Jerry Bruckheimer Films', 3),\n",
       " ('Snoot Entertainment', 3),\n",
       " ('Kadokawa Shoten Publishing Co.', 3),\n",
       " ('Ópalo Films', 3),\n",
       " ('Detour Filmproduction', 3),\n",
       " ('Faliro House Productions', 3),\n",
       " ('Warner Bros. Family Entertainment', 3),\n",
       " ('Sveriges Television (SVT)', 3),\n",
       " ('Svenska Filminstitutet (SFI)', 3),\n",
       " ('Red Chillies Entertainment', 3),\n",
       " ('New Deal Productions', 3),\n",
       " ('Anarchos Productions', 3),\n",
       " ('Element Pictures', 3),\n",
       " ('Sandollar Productions', 3),\n",
       " ('Hey Eddie', 3),\n",
       " ('Film House Germany', 3),\n",
       " ('Gotham Group', 3),\n",
       " ('Filmax', 3),\n",
       " ('Zweites Deutsches Fernsehen (ZDF)', 3),\n",
       " ('Wild West Picture Show Productions', 3),\n",
       " ('Arte', 3),\n",
       " ('Hemisphere Media Capital', 3),\n",
       " ('DMG Entertainment', 3),\n",
       " ('Anchor Bay Films', 3),\n",
       " ('21 Laps Entertainment', 3),\n",
       " ('Head Gear Films', 3),\n",
       " ('Hwy61', 3),\n",
       " ('Black Bear Pictures', 3),\n",
       " ('Eros International', 3),\n",
       " ('Film 4', 3),\n",
       " ('Film Four International', 3),\n",
       " ('1984 Private Defense Contractors', 3),\n",
       " ('Starz Animation', 3),\n",
       " ('Arte France', 3),\n",
       " ('Région Ile-de-France', 3),\n",
       " ('Hydraulx', 3),\n",
       " ('Big Kid Pictures', 3),\n",
       " ('The Samuel Goldwyn Company', 3),\n",
       " ('Verisimilitude', 3),\n",
       " ('Evergreen Media Group', 3),\n",
       " ('Telecinco Cinema', 3),\n",
       " ('Prana Studios', 3),\n",
       " ('Twisted Pictures', 3),\n",
       " ('Les Films du Carrosse', 3),\n",
       " ('Lagniappe Films', 3),\n",
       " ('Hammer Film Productions', 3),\n",
       " ('Junction Entertainment', 3),\n",
       " ('Neal Street Productions', 3),\n",
       " ('HanWay Films', 3),\n",
       " ('David Brown Productions', 3),\n",
       " ('Red Granite Pictures', 3),\n",
       " ('Olympus Pictures', 3),\n",
       " ('Bob Yari Productions', 3),\n",
       " ('Les Productions Artistes Associés', 3),\n",
       " ('Atlantic Entertainment Group', 3),\n",
       " ('SKA Films', 3),\n",
       " ('Umedia', 3),\n",
       " ('Broken Road Productions', 3),\n",
       " ('Number 9 Films', 3),\n",
       " ('Haut et Court', 3),\n",
       " ('Nintendo', 3),\n",
       " ('Universal International Pictures (UI)', 3),\n",
       " ('Studio Ghibli', 3),\n",
       " ('Prime Focus', 3),\n",
       " ('Studio Trite', 3),\n",
       " ('Envision Entertainment Corporation', 3),\n",
       " ('Picture Perfect Corporation', 3),\n",
       " ('Room 101', 3),\n",
       " ('Fortis Films', 3),\n",
       " ('Bad Robot', 3),\n",
       " ('Handsomecharlie Films', 3),\n",
       " ('Granada Television', 3),\n",
       " ('Ruby Films', 3),\n",
       " ('Imagine Films Entertainment', 3),\n",
       " ('Kinokompaniya CTB', 3),\n",
       " ('Monarch Pictures', 3),\n",
       " ('Depth of Field', 3),\n",
       " ('Smokehouse Pictures', 3),\n",
       " ('Provident Films', 3),\n",
       " ('Overture Films', 3),\n",
       " ('Tapestry Films', 3),\n",
       " ('Fabula', 3),\n",
       " ('Zephyr Films', 3),\n",
       " ('Filmgate Films', 3),\n",
       " ('Groundswell Productions', 3),\n",
       " ('Don Carmody Productions', 3),\n",
       " ('Kings Road Entertainment', 3),\n",
       " ('China Film Co-Production Corporation', 3),\n",
       " ('Section Eight Productions', 3),\n",
       " ('Mandarin Films Distribution Co.', 3),\n",
       " ('Gold/Miller Productions', 3),\n",
       " ('This Is That Productions', 3),\n",
       " ('Yash Raj Films', 3),\n",
       " ('Saga Film', 3),\n",
       " ('Tig Productions', 3),\n",
       " ('American Entertainment Partners L.P.', 2),\n",
       " ('Nina Saxon Film Design', 2),\n",
       " ('Blue Tulip Productions', 2),\n",
       " ('Magnolia Mae Films', 2),\n",
       " ('Aegis Film Fund', 2),\n",
       " ('Prelude Pictures', 2),\n",
       " ('The Collective', 2),\n",
       " ('Bloody Disgusting', 2),\n",
       " ('8383 Productions', 2),\n",
       " ('New Zealand Film Commission', 2),\n",
       " ('Caramel Film', 2),\n",
       " ('Hasbro', 2),\n",
       " ('Chaocorp', 2),\n",
       " ('Filmstiftung Nordrhein-Westfalen', 2),\n",
       " ('Filmfonds Wien', 2),\n",
       " ('Atmosphere Entertainment MM', 2),\n",
       " ('One Race Films', 2),\n",
       " ('NeoReel', 2),\n",
       " ('Aperture Entertainment', 2),\n",
       " ('TIK Films', 2),\n",
       " ('Drafthouse Films', 2),\n",
       " ('87Eleven', 2),\n",
       " ('British Broadcasting Corporation (BBC)', 2),\n",
       " ('Jalem Productions', 2),\n",
       " ('26 Films', 2),\n",
       " ('Ad Hominem Enterprises', 2),\n",
       " ('Mon Voisin Productions', 2),\n",
       " ('Turner Pictures (I)', 2),\n",
       " ('Cannon Films', 2),\n",
       " ('Company Films', 2),\n",
       " ('VIP 2 Medienfonds', 2),\n",
       " ('Filmfour', 2),\n",
       " ('Spectacle Entertainment Group', 2),\n",
       " ('Protagonist Pictures', 2),\n",
       " ('MFPV Film', 2),\n",
       " ('Les Films Alain Sarde', 2),\n",
       " ('Procirep', 2),\n",
       " ('Film Fund Luxembourg', 2),\n",
       " ('Epic Productions', 2),\n",
       " ('Vision International', 2),\n",
       " ('Vision PDG', 2),\n",
       " ('Film It Suda', 2),\n",
       " ('DJ Films', 2),\n",
       " ('Pinewood Studios', 2),\n",
       " ('Empire Pictures', 2),\n",
       " ('Cott Productions', 2),\n",
       " ('Media Asia Films', 2),\n",
       " ('Sil-Metropole Organisation Ltd.', 2),\n",
       " ('Huayi Brothers Media', 2),\n",
       " ('Australian Film Finance Corporation', 2),\n",
       " ('Discovery Channel Pictures', 2),\n",
       " ('ArieScope Pictures', 2),\n",
       " ('Robert Wise Productions', 2),\n",
       " ('Delux Productions', 2),\n",
       " ('Duplass Brothers Productions', 2),\n",
       " ('Moho Film', 2),\n",
       " ('Social Capital', 2),\n",
       " ('Film Afrika Worldwide', 2),\n",
       " ('Magnet Media Productions', 2),\n",
       " ('Magnet Media Group', 2),\n",
       " ('Smart Entertainment', 2),\n",
       " ('Walt Disney Television Animation', 2),\n",
       " ('Walt Disney Animation Australia', 2),\n",
       " ('Jewel Productions', 2),\n",
       " ('Pimlico Films', 2),\n",
       " ('Incorporated Television Company (ITC)', 2),\n",
       " ('Parabolic Pictures', 2),\n",
       " ('Stable Way Entertainment', 2),\n",
       " ('Solaris Film', 2),\n",
       " ('Kumar Mobiliengesellschaft mbH & Co. Projekt Nr. 1 KG', 2),\n",
       " ('Film Council', 2),\n",
       " ('Scottish Screen', 2),\n",
       " ('Alliance Films', 2),\n",
       " ('Trans Atlantic Entertainment', 2),\n",
       " ('Major Studio Partners', 2),\n",
       " ('Furthur Films', 2),\n",
       " ('Kerner Entertainment Company', 2),\n",
       " ('Triumph Films', 2),\n",
       " ('Casey Silver Productions', 2),\n",
       " ('Zanuck/Brown Productions', 2),\n",
       " ('Stuber Productions', 2),\n",
       " ('Toho', 2),\n",
       " ('China Film Group Corporation (CFGC)', 2),\n",
       " ('Penta Pictures', 2),\n",
       " ('Mostow/Lieberman Productions', 2),\n",
       " ('Free Range Films', 2),\n",
       " ('Keep Your Head', 2),\n",
       " ('Universal City Studios', 2),\n",
       " ('Prana Animation Studios', 2),\n",
       " ('Melvin Simon Productions', 2),\n",
       " ('American International Pictures (AIP)', 2),\n",
       " ('TPS Cinéma', 2),\n",
       " ('Vertigo', 2),\n",
       " ('Star Cinema Productions', 2),\n",
       " ('Red Wagon Entertainment', 2),\n",
       " ('WoWow', 2),\n",
       " ('View Askew Productions', 2),\n",
       " ('Victor & Grais Productions', 2),\n",
       " ('Universal Pictures International (UPI)', 2),\n",
       " ('Parkes/MacDonald Productions', 2),\n",
       " ('Ce Qui Me Meut Motion Pictures', 2),\n",
       " ('Hedge Fund Film Partners', 2),\n",
       " ('Crave Films', 2),\n",
       " ('Knightsbridge Entertainment', 2),\n",
       " ('Kalima Productions GmbH & Co. KG', 2),\n",
       " ('Hemdale Film Corporation', 2),\n",
       " ('No Frills Film Production', 2),\n",
       " ('The Cannon Group', 2),\n",
       " ('Pearl Street Films', 2),\n",
       " ('Alpha Core', 2),\n",
       " ('Simon Kinberg Productions', 2),\n",
       " ('The Rank Organisation', 2),\n",
       " ('Grive Productions', 2),\n",
       " ('Maguire Entertainment', 2),\n",
       " ('AVCO Embassy Pictures', 2),\n",
       " ('Guardian Trust Company', 2),\n",
       " ('Greenestreet Films', 2),\n",
       " ('Eclipse Catering', 2),\n",
       " ('K/O Paper Products', 2),\n",
       " ('Buckaroo Entertainment', 2),\n",
       " ('Topcraft', 2),\n",
       " ('Leverage Entertainment', 2),\n",
       " ('Marvel Knights', 2),\n",
       " ('Bristol Bay Productions', 2),\n",
       " ('Sahara Productions', 2),\n",
       " ('Key Creatives', 2),\n",
       " ('Studio Green', 2),\n",
       " ('Vlaams Audiovisueel fonds', 2),\n",
       " ('Radio Télévision Belge Francophone (RTBF)', 2),\n",
       " ('Page 114', 2),\n",
       " ('VOO', 2),\n",
       " ('Geffen Company, The', 2),\n",
       " ('Virtual Studios', 2),\n",
       " ('Tiger Aspect Productions', 2),\n",
       " ('Colorado Film Production', 2),\n",
       " ('Polar Entertainment', 2),\n",
       " ('Summer Knowledge LLC', 2),\n",
       " ('Paramount Animation', 2),\n",
       " ('Knickerbocker Films', 2),\n",
       " ('Max TV', 2),\n",
       " ('Krane Entertainment', 2),\n",
       " ('Tokyo Broadcasting System (TBS)', 2),\n",
       " ('Mainichi Broadcasting System (MBS)', 2),\n",
       " ('Shochiku Company', 2),\n",
       " ('Shogakukan', 2),\n",
       " ('Gravier Productions', 2),\n",
       " ('Mediapro', 2),\n",
       " ('Pandora Filmproduktion', 2),\n",
       " ('Antena 3 Films', 2),\n",
       " ('Cruel and Unusual Films', 2),\n",
       " ('Les Productions du Trésor', 2),\n",
       " ('Foresight Unlimited', 2),\n",
       " ('Baumgarten Management and Productions (BMP)', 2),\n",
       " ('Radiant Productions', 2),\n",
       " ('ETIC Films', 2),\n",
       " ('Trademark Films', 2),\n",
       " ('Los Hooligans Productions', 2),\n",
       " ('Mayhem Pictures', 2),\n",
       " ('Clifford Werber Productions', 2),\n",
       " ('Hopscotch Features', 2),\n",
       " ('Delphi V Productions', 2),\n",
       " ('Pacific Film and Television Commission', 2),\n",
       " ('Melnitsa Animation Studio', 2),\n",
       " ('icon', 2),\n",
       " ('Andell Entertainment', 2),\n",
       " ('Madhouse Entertainment', 2),\n",
       " ('Linson Entertainment', 2),\n",
       " ('Madras Talkies', 2),\n",
       " ('Ghoulardi Film Company', 2),\n",
       " ('Electric City Entertainment', 2),\n",
       " ('Aascar Films', 2),\n",
       " ('DiNovi Pictures', 2),\n",
       " ('Blossom Films', 2),\n",
       " ('Alphaville Productions', 2),\n",
       " ('DENTSU Music And Entertainment', 2),\n",
       " ('See-Saw Films', 2),\n",
       " ('Animal Kingdom', 2),\n",
       " ('Batjac Productions', 2),\n",
       " ('Gladden Entertainment', 2),\n",
       " ('Sovereign Pictures', 2),\n",
       " ('M6 Films', 2),\n",
       " ('Davis Films', 2),\n",
       " ('William Castle Productions', 2),\n",
       " ('Shadow Shows', 2),\n",
       " ('TAFT Entertainment Pictures', 2),\n",
       " ('Yong Film', 2),\n",
       " ('Ugly Duckling Films', 2),\n",
       " ('Altavista Films', 2),\n",
       " ('Krasnoff Foster Productions', 2),\n",
       " ('Shoebox Films', 2),\n",
       " ('Touchwood Pacific Partners 1', 2),\n",
       " ('Sikelia Productions', 2),\n",
       " ('Rhino Films', 2),\n",
       " ('Offspring Entertainment', 2),\n",
       " ('Eddie Murphy Productions', 2),\n",
       " ('Porchlight Films', 2),\n",
       " ('FilmWorks', 2),\n",
       " ('Marianne Productions', 2),\n",
       " ('Delphi III Productions', 2),\n",
       " ('Blind Spot Pictures Oy', 2),\n",
       " ('Medienboard Berlin-Brandenburg', 2),\n",
       " ('Mandate Pictures', 2),\n",
       " ('Vincent Pictures', 2),\n",
       " ('Bayerischer Rundfunk (BR)', 2),\n",
       " ('Construction Film', 2),\n",
       " ('Red Crown Productions', 2),\n",
       " ('Cube Vision', 2),\n",
       " ('LionsGate', 2),\n",
       " ('Imprint Entertainment', 2),\n",
       " ('Energy Entertainment', 2),\n",
       " ('Stanley Kramer Productions', 2),\n",
       " ('Walt Disney Animation Studios', 2),\n",
       " ('Warp Films', 2),\n",
       " ('C.R.R.A.V. Nord Pas de Calais', 2),\n",
       " ('Région Nord-Pas-de-Calais', 2),\n",
       " ('Mars Media Beteiligungs', 2),\n",
       " ('Type A Films', 2),\n",
       " ('Blackfriars Bridge Films', 2),\n",
       " ('NALA Films', 2),\n",
       " ('Latina Pictures', 2),\n",
       " ('Tax Credit Finance', 2),\n",
       " ('Overnight Films', 2),\n",
       " ('China Film Group', 2),\n",
       " ('U-Drive Productions', 2),\n",
       " ('August Entertainment', 2),\n",
       " ('Dylan Sellers Productions', 2),\n",
       " ('Blue-Tongue Films', 2),\n",
       " ('STX Entertainment', 2),\n",
       " ('Amazon Studios', 2),\n",
       " ('First Generation Films', 2),\n",
       " ('Rook Films', 2),\n",
       " ('Mid Atlantic Films', 2),\n",
       " ('Paramount Classics', 2),\n",
       " ('Block 2 Pictures', 2),\n",
       " ('City Light Films', 2),\n",
       " ('Vendome Pictures', 2),\n",
       " ('Fox Star Studios', 2),\n",
       " ('Charles Chaplin Productions', 2),\n",
       " ('Ferndale Films', 2),\n",
       " ('Inferno Distribution', 2),\n",
       " ('Spelling Films', 2),\n",
       " ('Atlantic Swiss Productions', 2),\n",
       " ('Zanuck Company, The', 2),\n",
       " ('Chambara Pictures', 2),\n",
       " ('Midfield Films', 2),\n",
       " ('WT2 Productions', 2),\n",
       " ('Adam Fields Productions', 2),\n",
       " ('AVM Productions', 2),\n",
       " ('Picture Machine', 2),\n",
       " (\"Centre National du Cinéma et de L'image Animée (CNC)\", 2),\n",
       " ('Mythology Entertainment (II)', 2),\n",
       " ('Occupant Entertainment', 2),\n",
       " ('Handmade Films Ltd.', 2),\n",
       " ('platinum studios', 2),\n",
       " ('Italian Tax Credit', 2),\n",
       " ('Perdido Productions', 2),\n",
       " ('Ministero per i Beni e le Attività Culturali (MiBAC)', 2),\n",
       " ('Film Victoria', 2),\n",
       " ('House & Moorhouse Films', 2),\n",
       " ('Crest Animation Productions', 2),\n",
       " ('Roth-Arnold Productions', 2),\n",
       " ('Vaca Films', 2),\n",
       " ('Morena Films', 2),\n",
       " ('Telefónica Studios', 2),\n",
       " ('SND', 2),\n",
       " ('Evolution Entertainment', 2),\n",
       " ('Block / Hanson', 2),\n",
       " ('Ram Bergman Productions', 2),\n",
       " ('Oriental Light and Magic', 2),\n",
       " ('Pikachu Project', 2),\n",
       " ('Bridgit Folman Film Gang', 2),\n",
       " ('Televisión Española TVE', 2),\n",
       " ('Quinta Communications', 2),\n",
       " ('Carthago Films S.a.r.l.', 2),\n",
       " ('Doha Film Institute, The', 2),\n",
       " ('Vestron Pictures', 2),\n",
       " ('TC Productions', 2),\n",
       " ('Sony Pictures', 2),\n",
       " ('Frank Yablans Presentations', 2),\n",
       " ('Future Films', 2),\n",
       " ('10th Hole Productions', 2),\n",
       " ('Benaroya Pictures', 2),\n",
       " ('Super Crispy Entertainment', 2),\n",
       " ('SenArt Films', 2),\n",
       " ('Sociedad General de Televisión (Sogetel)', 2),\n",
       " ('Waverly Films', 2),\n",
       " ('Portman Entertainment Group', 2),\n",
       " ('Feigco Entertainment', 2),\n",
       " ('Toho-Towa', 2),\n",
       " ('Marubeni', 2),\n",
       " ('Tele München Fernseh Produktionsgesellschaft (TMG)', 2),\n",
       " ('UGC PH', 2),\n",
       " ('IFC Films', 2),\n",
       " ('Hart-Sharp Entertainment', 2),\n",
       " ('Outlaw Productions (I)', 2),\n",
       " ('Revolution Films', 2),\n",
       " ('Castleberg Productions', 2),\n",
       " ('Maven Pictures', 2),\n",
       " ('Broadway Video', 2),\n",
       " ('Barclays Mercantile Industrial Finance', 2),\n",
       " ('Showbox', 2),\n",
       " ('One Race Productions', 2),\n",
       " ('Crossbow Productions', 2),\n",
       " ('Unique Features', 2),\n",
       " ('Antidote Films', 2),\n",
       " ('Aramid Entertainment Fund', 2),\n",
       " ('Clinica Estetico', 2),\n",
       " ('Herrick Entertainment', 2),\n",
       " ('Lionsgate Premiere', 2),\n",
       " ('Hypnotic', 2),\n",
       " ('BBC', 2),\n",
       " ('Huayi Brothers', 2),\n",
       " ('Translux', 2),\n",
       " ('International Film Investors', 2),\n",
       " ('Anton Capital Entertainment (ACE)', 2),\n",
       " ('Potboiler Productions', 2),\n",
       " ('La Fabrique 2', 2),\n",
       " ('Tornasol Films', 2),\n",
       " ('Castafiore Films', 2),\n",
       " ('Road Rebel', 2),\n",
       " ('Dear Film Produzione', 2),\n",
       " ('Astral Media', 2),\n",
       " ('Buffalo Gal Pictures', 2),\n",
       " ('Blake Edwards', 2),\n",
       " ('Silver Screen Partners', 2),\n",
       " ('Iris productions', 2),\n",
       " ('Live Entertainment', 2),\n",
       " ('Trimark Pictures', 2),\n",
       " ('Carolco International N.V.', 2),\n",
       " ('Mockingbird Pictures', 2),\n",
       " ('Motown Productions', 2),\n",
       " ('Permut Presentations', 2),\n",
       " ('Denver and Delilah Productions', 2),\n",
       " ('Pacific Standard', 2),\n",
       " ('Brooksfilms', 2),\n",
       " ('Georgetown Productions Inc.', 2),\n",
       " ('Amen Ra Films', 2),\n",
       " ('Twins Financing', 2),\n",
       " ('Lorimar Motion Pictures', 2),\n",
       " ('The Asylum', 2),\n",
       " ('Mosfilm', 2),\n",
       " ('Alfred J. Hitchcock Productions', 2),\n",
       " ('Lotte Entertainment', 2),\n",
       " ('Creative England', 2),\n",
       " ('Anka Film', 2),\n",
       " ('Filmförderung Hamburg', 2),\n",
       " ('CinemaNX', 2),\n",
       " ('Next Entertainment World', 2),\n",
       " ('ARD Degeto Film', 2),\n",
       " ('Canadian Film or Video Production Tax Credit (CPTC)', 2),\n",
       " ('Envision Entertainment', 2),\n",
       " ('Channel One Russia', 2),\n",
       " ('TABBAK', 2),\n",
       " ('Good Machine', 2),\n",
       " ('Rising Sun Films', 2),\n",
       " ('Boll Kino Beteiligungs GmbH & Co. KG', 2),\n",
       " ('Brightlight Pictures', 2),\n",
       " ('Herold Productions', 2),\n",
       " ('Stage 6 Films', 2),\n",
       " ('Belladonna Productions', 2),\n",
       " ('QC Entertainment', 2),\n",
       " ('Entertainment One', 2),\n",
       " ('Rickshaw Productions', 2),\n",
       " ('Planet Productions', 2),\n",
       " ('Backup Films', 2),\n",
       " ('Creative Scotland', 2),\n",
       " ('Furst Films', 2),\n",
       " ('Nic Arts', 2),\n",
       " ('Mimran Schur Pictures', 2),\n",
       " ('Producers Sales Organization (PSO)', 2),\n",
       " ('Lion Rock Productions', 2),\n",
       " ('Romulus Films', 2),\n",
       " ('Rankin/Bass Productions', 2),\n",
       " ('NEST Family Entertainment', 2),\n",
       " ('Rich Animation Studios', 2),\n",
       " ('Park Pictures', 2),\n",
       " ('Houston King Productions', 2),\n",
       " ('Upload Films', 2),\n",
       " ('Samuel Goldwyn Company', 2),\n",
       " ('Fox Atomic', 2),\n",
       " ('Midnight Sun Pictures', 2),\n",
       " ('City Films', 2),\n",
       " ('October Films', 2),\n",
       " ('The Department of Trade and Industry of South Africa', 2),\n",
       " ('Société Nationale Pathé Cinéma', 2),\n",
       " ('Steel Mill Pictures', 2),\n",
       " ('Gordon Company', 2),\n",
       " ('Sherwood Pictures', 2),\n",
       " ('Rainforest Films', 2),\n",
       " ('Dragonfly Entertainment', 2),\n",
       " ('EFTI', 2),\n",
       " ('MediaPro Pictures', 2),\n",
       " ('Haxan Films', 2),\n",
       " ('David Ladd Films', 2),\n",
       " ('Strike Entertainment', 2),\n",
       " ('Nu Image Entertainment GmbH', 2),\n",
       " ('G.W. Films', 2),\n",
       " ('Telefe', 2),\n",
       " ('Raaj Kamal Films International', 2),\n",
       " ('Mindshare Media', 2),\n",
       " ('Media Asia Film', 2),\n",
       " ('Media Rights Capital (MRC)', 2),\n",
       " ('120dB Films', 2),\n",
       " ('Entre Chien et Loup', 2),\n",
       " ('Altitude Film Entertainment', 2),\n",
       " ('Scope Pictures', 2),\n",
       " ('Portobello Pictures', 2),\n",
       " ('Opus Film', 2),\n",
       " ('Polski Instytut Sztuki Filmowej', 2),\n",
       " ('Next Wednesday Productions', 2),\n",
       " ('Mandalay Vision', 2),\n",
       " ('Gilbert Films', 2),\n",
       " ('Fidélité Films', 2),\n",
       " ('USA Films', 2),\n",
       " ('Bedford Falls Company, The', 2),\n",
       " ('Zenith Entertainment', 2),\n",
       " ('Initial Pictures', 2),\n",
       " ('Image Entertainment', 2),\n",
       " ('Samuel Bronston Productions', 2),\n",
       " ('Cinerenta Medienbeteiligungs KG', 2),\n",
       " ('LivePlanet', 2),\n",
       " ('Kontsept Film Company', 2),\n",
       " ('Sil-Metropole Organisation', 2),\n",
       " ('Insurge Pictures', 2),\n",
       " ('Orion Pictures Corporation', 2),\n",
       " ('Mosaic Media Group', 2),\n",
       " ('Sean Daniel Company', 2),\n",
       " ('International Traders', 2),\n",
       " ('ContentFilm', 2),\n",
       " ('El Deseo', 2),\n",
       " ('CiBy 2000', 2),\n",
       " ('La Petite Reine', 2),\n",
       " ('Ecosse Films', 2),\n",
       " ('Radar Pictures', 2),\n",
       " ('Moonlighting Films', 2),\n",
       " ('Callahan Filmworks', 2),\n",
       " ('Twentieth Century Fox', 2),\n",
       " ('Mod Producciones', 2),\n",
       " ('Sun Pictures', 2),\n",
       " ('Hard Eight Pictures', 2),\n",
       " ('Le Tax Shelter du Gouvernement Fédéral de Belgique', 2),\n",
       " ('Karz Entertainment', 2),\n",
       " ('Gulfstream Pictures', 2),\n",
       " (\"Gettin' Rad Productions\", 2),\n",
       " ('Nine Yards Productions', 2),\n",
       " ('IFC Productions', 2),\n",
       " ('RT Features', 2),\n",
       " ('Burn Later Productions', 2),\n",
       " ('Egoli Tossell Film', 2),\n",
       " ('Heyday films', 2),\n",
       " ('Amblimation', 2),\n",
       " ('Wayans Bros. Entertainment', 2),\n",
       " ('Brad Grey Pictures', 2),\n",
       " ('Golan-Globus', 2),\n",
       " ('Michael White Productions', 2),\n",
       " ('Incorporated Television Company', 2),\n",
       " ('Fox Animation Studios', 2),\n",
       " ('American Empirical Pictures', 2),\n",
       " ('EMI Films', 2),\n",
       " ('Desperate Pictures', 2),\n",
       " ('Reveal Entertainment', 2),\n",
       " ('Boram Entertainment Inc.', 2),\n",
       " ('APJAC Productions', 2),\n",
       " ('Kasdan Pictures', 2),\n",
       " ('Act III Communications', 2),\n",
       " ('ABC Pictures', 2),\n",
       " ('Josephson Entertainment', 2),\n",
       " ('Thousand Words', 2),\n",
       " ('Dentsu Inc.', 2),\n",
       " ('Star Partners II Ltd.', 2),\n",
       " ...]"
      ]
     },
     "execution_count": 110,
     "metadata": {},
     "output_type": "execute_result"
    }
   ],
   "source": [
    "Counter(total_count_prod_comp).most_common()"
   ]
  },
  {
   "cell_type": "code",
   "execution_count": 111,
   "id": "752b557c",
   "metadata": {},
   "outputs": [],
   "source": [
    "top_production_comp=[]\n",
    "\n",
    "def top_prod_companies(df):\n",
    "    \n",
    "    total_count_prod_comp=[]\n",
    "\n",
    "    for i in train.production_companies:\n",
    "        d=get_dict(i)\n",
    "        for j in d:\n",
    "            total_count_prod_comp.append(j['name'])\n",
    "            \n",
    "    for i in Counter(total_count_prod_comp).most_common():\n",
    "        if i[1]>10:    ## taking the production_companies which has frequency count > 10\n",
    "            top_production_comp.append(i[0])\n",
    "            \n",
    "    "
   ]
  },
  {
   "cell_type": "code",
   "execution_count": 112,
   "id": "4196fd01",
   "metadata": {},
   "outputs": [],
   "source": [
    "top_prod_companies(train)"
   ]
  },
  {
   "cell_type": "code",
   "execution_count": 113,
   "id": "85f1d522",
   "metadata": {},
   "outputs": [],
   "source": [
    "def top_prod_companies_one_hot_encoding(df):\n",
    "    \n",
    "    df['all_prod_comp'] = df['production_companies'].apply(lambda x: ' '.join(sorted([i['name'] for i in get_dict(x) ])) \n",
    "                                           if x!= {} else '')\n",
    "    \n",
    "    for i in top_production_comp:\n",
    "        df['prod_comp_' + i] = df['all_prod_comp'].apply(lambda x: 1 if i in x else 0)"
   ]
  },
  {
   "cell_type": "code",
   "execution_count": 114,
   "id": "a1c26cf7",
   "metadata": {},
   "outputs": [],
   "source": [
    "top_prod_companies_one_hot_encoding(train)"
   ]
  },
  {
   "cell_type": "code",
   "execution_count": 115,
   "id": "56d7d0c1",
   "metadata": {},
   "outputs": [],
   "source": [
    "top_prod_companies_one_hot_encoding(test)"
   ]
  },
  {
   "cell_type": "code",
   "execution_count": null,
   "id": "9562cb1a",
   "metadata": {},
   "outputs": [],
   "source": []
  },
  {
   "cell_type": "code",
   "execution_count": 116,
   "id": "1c08d1b3",
   "metadata": {},
   "outputs": [],
   "source": [
    "train.drop(['production_companies','all_prod_comp'], axis=1, inplace=True)\n",
    "test.drop(['production_companies','all_prod_comp'], axis=1, inplace=True)"
   ]
  },
  {
   "cell_type": "code",
   "execution_count": 117,
   "id": "ce21d5ef",
   "metadata": {},
   "outputs": [
    {
     "data": {
      "text/plain": [
       "(3000, 112)"
      ]
     },
     "execution_count": 117,
     "metadata": {},
     "output_type": "execute_result"
    }
   ],
   "source": [
    "train.shape"
   ]
  },
  {
   "cell_type": "code",
   "execution_count": 118,
   "id": "b1607bfe",
   "metadata": {},
   "outputs": [
    {
     "data": {
      "text/plain": [
       "(4398, 111)"
      ]
     },
     "execution_count": 118,
     "metadata": {},
     "output_type": "execute_result"
    }
   ],
   "source": [
    "test.shape"
   ]
  },
  {
   "cell_type": "code",
   "execution_count": null,
   "id": "85303bfb",
   "metadata": {},
   "outputs": [],
   "source": []
  },
  {
   "cell_type": "code",
   "execution_count": null,
   "id": "b76b49aa",
   "metadata": {},
   "outputs": [],
   "source": []
  },
  {
   "cell_type": "markdown",
   "id": "f06f49c2",
   "metadata": {},
   "source": [
    "## 13. production_countries"
   ]
  },
  {
   "cell_type": "code",
   "execution_count": null,
   "id": "2972f5ee",
   "metadata": {},
   "outputs": [],
   "source": []
  },
  {
   "cell_type": "code",
   "execution_count": 119,
   "id": "fcf6d6bd",
   "metadata": {},
   "outputs": [],
   "source": [
    "## number of production_countries & its effect on revenue"
   ]
  },
  {
   "cell_type": "code",
   "execution_count": 120,
   "id": "9eb7ef13",
   "metadata": {},
   "outputs": [],
   "source": [
    "def number_of_production_country(df):\n",
    "    \n",
    "    no_prod_countries=[]\n",
    "\n",
    "    for i in df.production_countries:\n",
    "        d=get_dict(i)\n",
    "\n",
    "        no_prod_countries.append(len(d))\n",
    "        \n",
    "    df['no_prod_countries']=no_prod_countries"
   ]
  },
  {
   "cell_type": "code",
   "execution_count": 121,
   "id": "a8247ef8",
   "metadata": {},
   "outputs": [],
   "source": [
    "number_of_production_country(train)"
   ]
  },
  {
   "cell_type": "code",
   "execution_count": 122,
   "id": "f00c35a3",
   "metadata": {},
   "outputs": [],
   "source": [
    "number_of_production_country(test)"
   ]
  },
  {
   "cell_type": "code",
   "execution_count": 123,
   "id": "ed389c36",
   "metadata": {},
   "outputs": [
    {
     "data": {
      "text/plain": [
       "<AxesSubplot:xlabel='no_prod_countries', ylabel='count'>"
      ]
     },
     "execution_count": 123,
     "metadata": {},
     "output_type": "execute_result"
    },
    {
     "data": {
      "image/png": "[encoded data removed]",
      "text/plain": [
       "<Figure size 432x288 with 1 Axes>"
      ]
     },
     "metadata": {
      "needs_background": "light"
     },
     "output_type": "display_data"
    }
   ],
   "source": [
    "sns.countplot(train.no_prod_countries)"
   ]
  },
  {
   "cell_type": "code",
   "execution_count": null,
   "id": "13820c88",
   "metadata": {},
   "outputs": [],
   "source": []
  },
  {
   "cell_type": "code",
   "execution_count": 124,
   "id": "25a2eb4d",
   "metadata": {},
   "outputs": [],
   "source": [
    "## top production country"
   ]
  },
  {
   "cell_type": "code",
   "execution_count": 125,
   "id": "592ff8bb",
   "metadata": {},
   "outputs": [],
   "source": [
    "total_count_prod_country=[]\n",
    "\n",
    "for i in train.production_countries:\n",
    "    d=get_dict(i)\n",
    "    for j in d:\n",
    "        total_count_prod_country.append(j['iso_3166_1'])"
   ]
  },
  {
   "cell_type": "code",
   "execution_count": 126,
   "id": "794b3744",
   "metadata": {},
   "outputs": [
    {
     "data": {
      "text/plain": [
       "[('US', 2282),\n",
       " ('GB', 380),\n",
       " ('FR', 222),\n",
       " ('DE', 167),\n",
       " ('CA', 120),\n",
       " ('IN', 81),\n",
       " ('IT', 64),\n",
       " ('JP', 61),\n",
       " ('AU', 61),\n",
       " ('RU', 58),\n",
       " ('ES', 54),\n",
       " ('CN', 42),\n",
       " ('HK', 42),\n",
       " ('IE', 23),\n",
       " ('BE', 23),\n",
       " ('KR', 22),\n",
       " ('MX', 19),\n",
       " ('SE', 18),\n",
       " ('NZ', 17),\n",
       " ('NL', 15)]"
      ]
     },
     "execution_count": 126,
     "metadata": {},
     "output_type": "execute_result"
    }
   ],
   "source": [
    "Counter(total_count_prod_country).most_common(20)"
   ]
  },
  {
   "cell_type": "code",
   "execution_count": null,
   "id": "0e0856fc",
   "metadata": {},
   "outputs": [],
   "source": []
  },
  {
   "cell_type": "code",
   "execution_count": 127,
   "id": "e682ab60",
   "metadata": {},
   "outputs": [],
   "source": [
    "top_production_country=[]\n",
    "\n",
    "def top_prod_country(df):\n",
    "    \n",
    "    total_count_prod_country=[]\n",
    "\n",
    "    for i in df.production_countries:\n",
    "        d=get_dict(i)\n",
    "        for j in d:\n",
    "            total_count_prod_country.append(j['iso_3166_1'])\n",
    "            \n",
    "    for i in Counter(total_count_prod_country).most_common():\n",
    "        if i[1]>10:             ## taking the production_countries which has frequency count > 10\n",
    "            top_production_country.append(i[0])"
   ]
  },
  {
   "cell_type": "code",
   "execution_count": 128,
   "id": "3d531ed6",
   "metadata": {},
   "outputs": [],
   "source": [
    "top_prod_country(train)"
   ]
  },
  {
   "cell_type": "code",
   "execution_count": null,
   "id": "070cecc8",
   "metadata": {},
   "outputs": [],
   "source": []
  },
  {
   "cell_type": "code",
   "execution_count": 129,
   "id": "efb2e561",
   "metadata": {},
   "outputs": [],
   "source": [
    "def top_prod_country_one_hot_encoding(df):\n",
    "    df['all_prod_country'] = df['production_countries'].apply(lambda x: ' '.join(sorted([i['iso_3166_1'] \n",
    "                                    for i in get_dict(x) ])) if x!= {} else '')\n",
    "    \n",
    "    for i in top_production_country:\n",
    "        df['prod_country_' + i] = df['all_prod_country'].apply(lambda x: 1 if i in x else 0)"
   ]
  },
  {
   "cell_type": "code",
   "execution_count": 130,
   "id": "2cdcec86",
   "metadata": {},
   "outputs": [],
   "source": [
    "top_prod_country_one_hot_encoding(train)"
   ]
  },
  {
   "cell_type": "code",
   "execution_count": 131,
   "id": "625c7b64",
   "metadata": {},
   "outputs": [],
   "source": [
    "top_prod_country_one_hot_encoding(test)"
   ]
  },
  {
   "cell_type": "code",
   "execution_count": 132,
   "id": "ece89ee3",
   "metadata": {},
   "outputs": [],
   "source": [
    "train.drop(['production_countries','all_prod_country'], axis=1, inplace=True)\n",
    "test.drop(['production_countries','all_prod_country'], axis=1, inplace=True)"
   ]
  },
  {
   "cell_type": "code",
   "execution_count": 133,
   "id": "d075e10f",
   "metadata": {},
   "outputs": [
    {
     "data": {
      "text/plain": [
       "(3000, 135)"
      ]
     },
     "execution_count": 133,
     "metadata": {},
     "output_type": "execute_result"
    }
   ],
   "source": [
    "train.shape"
   ]
  },
  {
   "cell_type": "code",
   "execution_count": 134,
   "id": "10c121b3",
   "metadata": {},
   "outputs": [
    {
     "data": {
      "text/plain": [
       "(4398, 134)"
      ]
     },
     "execution_count": 134,
     "metadata": {},
     "output_type": "execute_result"
    }
   ],
   "source": [
    "test.shape"
   ]
  },
  {
   "cell_type": "code",
   "execution_count": null,
   "id": "f91adc6e",
   "metadata": {},
   "outputs": [],
   "source": []
  },
  {
   "cell_type": "markdown",
   "id": "afcea9bf",
   "metadata": {},
   "source": [
    "## 14. release_date"
   ]
  },
  {
   "cell_type": "code",
   "execution_count": 135,
   "id": "28fd4660",
   "metadata": {},
   "outputs": [],
   "source": [
    "## function for converting the date from yy to  yyyy format \n",
    "\n",
    "def date(x):\n",
    "    x=str(x)\n",
    "    year=x.split('/')[2]\n",
    "    if int(year)<19:\n",
    "        return x[:-2]+'20'+year\n",
    "    else:\n",
    "        return x[:-2]+'19'+year"
   ]
  },
  {
   "cell_type": "code",
   "execution_count": null,
   "id": "b9883e69",
   "metadata": {},
   "outputs": [],
   "source": []
  },
  {
   "cell_type": "code",
   "execution_count": 136,
   "id": "f6285c02",
   "metadata": {},
   "outputs": [],
   "source": [
    "## filling the missing value\n",
    "\n",
    "train['release_date'] =train['release_date'].fillna('1/1/90').apply(lambda x: date(x))\n",
    "test['release_date']  =test['release_date'].fillna('1/1/90').apply(lambda x: date(x))"
   ]
  },
  {
   "cell_type": "code",
   "execution_count": 137,
   "id": "ff3836a4",
   "metadata": {},
   "outputs": [],
   "source": [
    "## converted release date in yyyy format\n",
    "\n",
    "train['release_date'] = train['release_date'].apply(lambda x: datetime.strptime(x,'%m/%d/%Y'))\n",
    "test['release_date']  = test['release_date'].apply(lambda x: datetime.strptime(x,'%m/%d/%Y'))"
   ]
  },
  {
   "cell_type": "code",
   "execution_count": null,
   "id": "7c6ab577",
   "metadata": {},
   "outputs": [],
   "source": []
  },
  {
   "cell_type": "code",
   "execution_count": 138,
   "id": "a0a6c6c5",
   "metadata": {},
   "outputs": [],
   "source": [
    "\n",
    "train['release_weekday']   = train['release_date'].apply(lambda x:x.weekday())\n",
    "train['release_month'] = train['release_date'].apply(lambda x:x.month)\n",
    "train['release_year']  = train['release_date'].apply(lambda x:x.year)\n",
    "\n",
    "test['release_weekday']   = test['release_date'].apply(lambda x:x.weekday())\n",
    "test['release_month'] = test['release_date'].apply(lambda x:x.month)\n",
    "test['release_year']  = test['release_date'].apply(lambda x:x.year)"
   ]
  },
  {
   "cell_type": "code",
   "execution_count": null,
   "id": "80dccfad",
   "metadata": {},
   "outputs": [],
   "source": []
  },
  {
   "cell_type": "code",
   "execution_count": 139,
   "id": "74775daf",
   "metadata": {},
   "outputs": [],
   "source": [
    "## weekday"
   ]
  },
  {
   "cell_type": "code",
   "execution_count": 140,
   "id": "ada86ad4",
   "metadata": {},
   "outputs": [
    {
     "data": {
      "image/png": "[encoded data removed]",
      "text/plain": [
       "<Figure size 1080x504 with 1 Axes>"
      ]
     },
     "metadata": {
      "needs_background": "light"
     },
     "output_type": "display_data"
    }
   ],
   "source": [
    "plt.figure(figsize = (15,7))\n",
    "sns.countplot(train.release_weekday)\n",
    "loc, labels = plt.xticks()\n",
    "loc, labels = loc, [\"Mon\",\"Tue\",\"Wed\",\"Thu\",\"Fri\",\"Sat\",\"Sun\"]\n",
    "plt.xticks(loc, labels,fontsize=20)\n",
    "plt.show()"
   ]
  },
  {
   "cell_type": "code",
   "execution_count": 141,
   "id": "36c2681a",
   "metadata": {},
   "outputs": [],
   "source": [
    "## from above figure we can see that the on the friday more number of movie is released"
   ]
  },
  {
   "cell_type": "code",
   "execution_count": null,
   "id": "b8cd5771",
   "metadata": {},
   "outputs": [],
   "source": []
  },
  {
   "cell_type": "code",
   "execution_count": 142,
   "id": "7d37b8e0",
   "metadata": {},
   "outputs": [],
   "source": [
    "## release month"
   ]
  },
  {
   "cell_type": "code",
   "execution_count": 143,
   "id": "ee772ca2",
   "metadata": {},
   "outputs": [
    {
     "data": {
      "text/plain": [
       "<AxesSubplot:xlabel='release_month', ylabel='count'>"
      ]
     },
     "execution_count": 143,
     "metadata": {},
     "output_type": "execute_result"
    },
    {
     "data": {
      "image/png": "[encoded data removed]",
      "text/plain": [
       "<Figure size 1080x504 with 1 Axes>"
      ]
     },
     "metadata": {
      "needs_background": "light"
     },
     "output_type": "display_data"
    }
   ],
   "source": [
    "plt.figure(figsize = (15,7))\n",
    "sns.countplot(train.release_month)"
   ]
  },
  {
   "cell_type": "code",
   "execution_count": null,
   "id": "7f1c1fb5",
   "metadata": {},
   "outputs": [],
   "source": []
  },
  {
   "cell_type": "code",
   "execution_count": 144,
   "id": "e8b5043c",
   "metadata": {},
   "outputs": [],
   "source": [
    "## release year"
   ]
  },
  {
   "cell_type": "code",
   "execution_count": 145,
   "id": "811ec2d2",
   "metadata": {},
   "outputs": [
    {
     "data": {
      "text/plain": [
       "<AxesSubplot:xlabel='release_year', ylabel='count'>"
      ]
     },
     "execution_count": 145,
     "metadata": {},
     "output_type": "execute_result"
    },
    {
     "data": {
      "image/png": "[encoded data removed]",
      "text/plain": [
       "<Figure size 1080x504 with 1 Axes>"
      ]
     },
     "metadata": {
      "needs_background": "light"
     },
     "output_type": "display_data"
    }
   ],
   "source": [
    "plt.figure(figsize = (15,7))\n",
    "sns.countplot(train.release_year)"
   ]
  },
  {
   "cell_type": "code",
   "execution_count": 146,
   "id": "0f086132",
   "metadata": {},
   "outputs": [
    {
     "data": {
      "text/plain": [
       "<AxesSubplot:xlabel='release_year', ylabel='revenue'>"
      ]
     },
     "execution_count": 146,
     "metadata": {},
     "output_type": "execute_result"
    },
    {
     "data": {
      "image/png": "[encoded data removed]",
      "text/plain": [
       "<Figure size 1080x504 with 1 Axes>"
      ]
     },
     "metadata": {
      "needs_background": "light"
     },
     "output_type": "display_data"
    }
   ],
   "source": [
    "plt.figure(figsize = (15,7))\n",
    "sns.lineplot(x=train.release_year, y=train.revenue)"
   ]
  },
  {
   "cell_type": "code",
   "execution_count": 147,
   "id": "cacbd608",
   "metadata": {},
   "outputs": [],
   "source": [
    "## from the above figure we can see that the revenue is inceasing as the year increases"
   ]
  },
  {
   "cell_type": "code",
   "execution_count": null,
   "id": "657b8fcf",
   "metadata": {},
   "outputs": [],
   "source": []
  },
  {
   "cell_type": "code",
   "execution_count": 148,
   "id": "a80fcd62",
   "metadata": {},
   "outputs": [],
   "source": [
    "train.drop('release_date', axis=1, inplace=True)\n",
    "test.drop('release_date', axis=1, inplace=True)"
   ]
  },
  {
   "cell_type": "code",
   "execution_count": 149,
   "id": "3822855f",
   "metadata": {},
   "outputs": [
    {
     "data": {
      "text/plain": [
       "(3000, 137)"
      ]
     },
     "execution_count": 149,
     "metadata": {},
     "output_type": "execute_result"
    }
   ],
   "source": [
    "train.shape"
   ]
  },
  {
   "cell_type": "code",
   "execution_count": 150,
   "id": "98f21d7d",
   "metadata": {},
   "outputs": [
    {
     "data": {
      "text/plain": [
       "(4398, 136)"
      ]
     },
     "execution_count": 150,
     "metadata": {},
     "output_type": "execute_result"
    }
   ],
   "source": [
    "test.shape"
   ]
  },
  {
   "cell_type": "code",
   "execution_count": null,
   "id": "50dc6c31",
   "metadata": {},
   "outputs": [],
   "source": []
  },
  {
   "cell_type": "markdown",
   "id": "3c6898b3",
   "metadata": {},
   "source": [
    "## 15. runtime"
   ]
  },
  {
   "cell_type": "code",
   "execution_count": 151,
   "id": "96704f20",
   "metadata": {},
   "outputs": [],
   "source": [
    "## check the distribution of data"
   ]
  },
  {
   "cell_type": "code",
   "execution_count": 152,
   "id": "7f7e6068",
   "metadata": {},
   "outputs": [
    {
     "data": {
      "text/plain": [
       "<AxesSubplot:xlabel='runtime', ylabel='Count'>"
      ]
     },
     "execution_count": 152,
     "metadata": {},
     "output_type": "execute_result"
    },
    {
     "data": {
      "image/png": "[encoded data removed]",
      "text/plain": [
       "<Figure size 432x288 with 1 Axes>"
      ]
     },
     "metadata": {
      "needs_background": "light"
     },
     "output_type": "display_data"
    }
   ],
   "source": [
    "sns.histplot(train.runtime, kde=True)"
   ]
  },
  {
   "cell_type": "code",
   "execution_count": 153,
   "id": "5d3ade23",
   "metadata": {},
   "outputs": [
    {
     "data": {
      "text/plain": [
       "<AxesSubplot:xlabel='runtime', ylabel='Count'>"
      ]
     },
     "execution_count": 153,
     "metadata": {},
     "output_type": "execute_result"
    },
    {
     "data": {
      "image/png": "[encoded data removed]",
      "text/plain": [
       "<Figure size 432x288 with 1 Axes>"
      ]
     },
     "metadata": {
      "needs_background": "light"
     },
     "output_type": "display_data"
    }
   ],
   "source": [
    "sns.histplot(test.runtime, kde=True)"
   ]
  },
  {
   "cell_type": "code",
   "execution_count": null,
   "id": "e11e765f",
   "metadata": {},
   "outputs": [],
   "source": []
  },
  {
   "cell_type": "code",
   "execution_count": 154,
   "id": "e3d48177",
   "metadata": {},
   "outputs": [
    {
     "data": {
      "text/plain": [
       "2"
      ]
     },
     "execution_count": 154,
     "metadata": {},
     "output_type": "execute_result"
    }
   ],
   "source": [
    "train.runtime.isnull().sum()"
   ]
  },
  {
   "cell_type": "code",
   "execution_count": 155,
   "id": "0237ae4d",
   "metadata": {},
   "outputs": [
    {
     "data": {
      "text/plain": [
       "4"
      ]
     },
     "execution_count": 155,
     "metadata": {},
     "output_type": "execute_result"
    }
   ],
   "source": [
    "test.runtime.isnull().sum()"
   ]
  },
  {
   "cell_type": "code",
   "execution_count": 156,
   "id": "b1132e78",
   "metadata": {},
   "outputs": [],
   "source": [
    "## as we can see thet the data is normally distributed we can fill the misssing value with mean()"
   ]
  },
  {
   "cell_type": "code",
   "execution_count": 157,
   "id": "e32b39cc",
   "metadata": {},
   "outputs": [],
   "source": [
    "train.runtime=train.runtime.fillna(train.runtime.mean())"
   ]
  },
  {
   "cell_type": "code",
   "execution_count": 158,
   "id": "ab5d30f5",
   "metadata": {},
   "outputs": [],
   "source": [
    "test.runtime=test.runtime.fillna(test.runtime.mean())"
   ]
  },
  {
   "cell_type": "code",
   "execution_count": null,
   "id": "438a6bbc",
   "metadata": {},
   "outputs": [],
   "source": []
  },
  {
   "cell_type": "markdown",
   "id": "3bd45046",
   "metadata": {},
   "source": [
    "## 16. spoken_languages"
   ]
  },
  {
   "cell_type": "code",
   "execution_count": 159,
   "id": "dd838535",
   "metadata": {},
   "outputs": [],
   "source": [
    "## number of spoken_languages and its effect on revenue"
   ]
  },
  {
   "cell_type": "code",
   "execution_count": 160,
   "id": "64f0e4bd",
   "metadata": {},
   "outputs": [],
   "source": [
    "def number_of_spoken_lang(df):\n",
    "    \n",
    "    no_lang_spoken=[]\n",
    "\n",
    "    for i in df.spoken_languages:\n",
    "        d=get_dict(i)\n",
    "\n",
    "        no_lang_spoken.append(len(d))\n",
    "        \n",
    "    df['no_lang_spoken']=no_lang_spoken"
   ]
  },
  {
   "cell_type": "code",
   "execution_count": 161,
   "id": "bf0e5319",
   "metadata": {},
   "outputs": [],
   "source": [
    "number_of_spoken_lang(train)"
   ]
  },
  {
   "cell_type": "code",
   "execution_count": 162,
   "id": "ab425fc7",
   "metadata": {},
   "outputs": [],
   "source": [
    "number_of_spoken_lang(test)"
   ]
  },
  {
   "cell_type": "code",
   "execution_count": 163,
   "id": "a0274e52",
   "metadata": {},
   "outputs": [
    {
     "data": {
      "text/plain": [
       "<AxesSubplot:xlabel='no_lang_spoken', ylabel='count'>"
      ]
     },
     "execution_count": 163,
     "metadata": {},
     "output_type": "execute_result"
    },
    {
     "data": {
      "image/png": "[encoded data removed]",
      "text/plain": [
       "<Figure size 432x288 with 1 Axes>"
      ]
     },
     "metadata": {
      "needs_background": "light"
     },
     "output_type": "display_data"
    }
   ],
   "source": [
    "sns.countplot(train.no_lang_spoken)"
   ]
  },
  {
   "cell_type": "code",
   "execution_count": null,
   "id": "4ce5825a",
   "metadata": {},
   "outputs": [],
   "source": []
  },
  {
   "cell_type": "code",
   "execution_count": 164,
   "id": "8897eb54",
   "metadata": {},
   "outputs": [],
   "source": [
    "## top spoken language"
   ]
  },
  {
   "cell_type": "code",
   "execution_count": 165,
   "id": "732ec119",
   "metadata": {},
   "outputs": [],
   "source": [
    "total_count_spoken_lang=[]\n",
    "\n",
    "for i in train.spoken_languages:\n",
    "    d=get_dict(i)\n",
    "    for j in d:\n",
    "        total_count_spoken_lang.append(j['iso_639_1'])"
   ]
  },
  {
   "cell_type": "code",
   "execution_count": 166,
   "id": "eebaaea0",
   "metadata": {},
   "outputs": [
    {
     "data": {
      "text/plain": [
       "[('en', 2618),\n",
       " ('fr', 288),\n",
       " ('es', 239),\n",
       " ('de', 169),\n",
       " ('ru', 152),\n",
       " ('it', 124),\n",
       " ('ja', 89),\n",
       " ('zh', 68),\n",
       " ('hi', 56),\n",
       " ('pt', 43),\n",
       " ('ar', 40),\n",
       " ('ko', 37),\n",
       " ('cn', 36),\n",
       " ('ta', 27),\n",
       " ('pl', 25),\n",
       " ('hu', 24),\n",
       " ('la', 23),\n",
       " ('sv', 22),\n",
       " ('th', 22),\n",
       " ('cs', 20)]"
      ]
     },
     "execution_count": 166,
     "metadata": {},
     "output_type": "execute_result"
    }
   ],
   "source": [
    "Counter(total_count_spoken_lang).most_common(20)"
   ]
  },
  {
   "cell_type": "code",
   "execution_count": null,
   "id": "46fe729c",
   "metadata": {},
   "outputs": [],
   "source": []
  },
  {
   "cell_type": "code",
   "execution_count": 167,
   "id": "7236cfca",
   "metadata": {},
   "outputs": [],
   "source": [
    "top_spoken_lang=[]\n",
    "\n",
    "def top_spoken_language(df):\n",
    "    \n",
    "    total_count_spoken_lang=[]\n",
    "\n",
    "    for i in df.spoken_languages:\n",
    "        d=get_dict(i)\n",
    "        for j in d:\n",
    "            total_count_spoken_lang.append(j['iso_639_1'])\n",
    "            \n",
    "    for i in Counter(total_count_spoken_lang).most_common():\n",
    "        if i[1]>10:          ## taking the spoken_languages which has frequency count > 10\n",
    "            top_spoken_lang.append(i[0])\n",
    "    "
   ]
  },
  {
   "cell_type": "code",
   "execution_count": 168,
   "id": "e75eb9cb",
   "metadata": {},
   "outputs": [],
   "source": [
    "top_spoken_language(train)"
   ]
  },
  {
   "cell_type": "code",
   "execution_count": null,
   "id": "b3a8fe9c",
   "metadata": {},
   "outputs": [],
   "source": []
  },
  {
   "cell_type": "code",
   "execution_count": 169,
   "id": "0f452323",
   "metadata": {},
   "outputs": [],
   "source": [
    "def top_spoken_language_one_hot_encoding(df):\n",
    "    \n",
    "    df['spoken_lang'] = df['spoken_languages'].apply(lambda x: ' '.join(sorted([i['iso_639_1'] for i in get_dict(x) ])) \n",
    "                                           if x!= {} else '')\n",
    "    \n",
    "    for i in top_spoken_lang:\n",
    "        df['spoken_lang_' + i] = df['spoken_lang'].apply(lambda x: 1 if i in x else 0)"
   ]
  },
  {
   "cell_type": "code",
   "execution_count": 170,
   "id": "dd5e9bd0",
   "metadata": {},
   "outputs": [],
   "source": [
    "top_spoken_language_one_hot_encoding(train)"
   ]
  },
  {
   "cell_type": "code",
   "execution_count": 171,
   "id": "e6d7c9ac",
   "metadata": {},
   "outputs": [],
   "source": [
    "top_spoken_language_one_hot_encoding(test)"
   ]
  },
  {
   "cell_type": "code",
   "execution_count": null,
   "id": "36850cb1",
   "metadata": {},
   "outputs": [],
   "source": []
  },
  {
   "cell_type": "code",
   "execution_count": 172,
   "id": "aa82cc29",
   "metadata": {},
   "outputs": [],
   "source": [
    "train.drop(['spoken_languages','spoken_lang'], axis=1, inplace=True)\n",
    "test.drop(['spoken_languages','spoken_lang'], axis=1, inplace=True)"
   ]
  },
  {
   "cell_type": "code",
   "execution_count": 173,
   "id": "087bcc03",
   "metadata": {},
   "outputs": [
    {
     "data": {
      "text/plain": [
       "(3000, 161)"
      ]
     },
     "execution_count": 173,
     "metadata": {},
     "output_type": "execute_result"
    }
   ],
   "source": [
    "train.shape"
   ]
  },
  {
   "cell_type": "code",
   "execution_count": 174,
   "id": "eb4598f6",
   "metadata": {},
   "outputs": [
    {
     "data": {
      "text/plain": [
       "(4398, 160)"
      ]
     },
     "execution_count": 174,
     "metadata": {},
     "output_type": "execute_result"
    }
   ],
   "source": [
    "test.shape"
   ]
  },
  {
   "cell_type": "code",
   "execution_count": null,
   "id": "41882746",
   "metadata": {},
   "outputs": [],
   "source": []
  },
  {
   "cell_type": "markdown",
   "id": "73332adc",
   "metadata": {},
   "source": [
    "## 17. status"
   ]
  },
  {
   "cell_type": "code",
   "execution_count": 175,
   "id": "3811caca",
   "metadata": {},
   "outputs": [
    {
     "data": {
      "text/plain": [
       "array(['Released', 'Rumored'], dtype=object)"
      ]
     },
     "execution_count": 175,
     "metadata": {},
     "output_type": "execute_result"
    }
   ],
   "source": [
    "train.status.unique()"
   ]
  },
  {
   "cell_type": "code",
   "execution_count": 176,
   "id": "d12d3fdd",
   "metadata": {},
   "outputs": [],
   "source": [
    "## effect of status on revenue"
   ]
  },
  {
   "cell_type": "code",
   "execution_count": null,
   "id": "1a9c1606",
   "metadata": {},
   "outputs": [],
   "source": []
  },
  {
   "cell_type": "code",
   "execution_count": 177,
   "id": "34bba900",
   "metadata": {},
   "outputs": [],
   "source": [
    "train['is_released']=1\n",
    "test['is_released']=1"
   ]
  },
  {
   "cell_type": "code",
   "execution_count": 178,
   "id": "fe47c308",
   "metadata": {},
   "outputs": [],
   "source": [
    "## placing the 0 where status isn not Released\n",
    "\n",
    "train.loc[ train['status']!= 'Released','is_released' ]=0\n",
    "test.loc[ test['status']!= 'Released','is_released' ]=0"
   ]
  },
  {
   "cell_type": "code",
   "execution_count": null,
   "id": "c86ade06",
   "metadata": {},
   "outputs": [],
   "source": []
  },
  {
   "cell_type": "code",
   "execution_count": 179,
   "id": "f9a437a8",
   "metadata": {},
   "outputs": [
    {
     "data": {
      "text/plain": [
       "<AxesSubplot:xlabel='is_released', ylabel='revenue'>"
      ]
     },
     "execution_count": 179,
     "metadata": {},
     "output_type": "execute_result"
    },
    {
     "data": {
      "image/png": "[encoded data removed]",
      "text/plain": [
       "<Figure size 432x288 with 1 Axes>"
      ]
     },
     "metadata": {
      "needs_background": "light"
     },
     "output_type": "display_data"
    }
   ],
   "source": [
    "sns.stripplot(x=train.is_released,y=train.revenue)"
   ]
  },
  {
   "cell_type": "code",
   "execution_count": 180,
   "id": "be85e758",
   "metadata": {},
   "outputs": [],
   "source": [
    "## from the above fig. we can see that the movie which is not released has low revenue"
   ]
  },
  {
   "cell_type": "code",
   "execution_count": null,
   "id": "fc65ccec",
   "metadata": {},
   "outputs": [],
   "source": []
  },
  {
   "cell_type": "code",
   "execution_count": 181,
   "id": "637e48cd",
   "metadata": {},
   "outputs": [],
   "source": [
    "train.drop('status', axis=1, inplace=True)\n",
    "test.drop('status', axis=1, inplace=True)"
   ]
  },
  {
   "cell_type": "code",
   "execution_count": null,
   "id": "b8b75f5a",
   "metadata": {},
   "outputs": [],
   "source": []
  },
  {
   "cell_type": "markdown",
   "id": "9741cf9d",
   "metadata": {},
   "source": [
    "## 18. tagline"
   ]
  },
  {
   "cell_type": "code",
   "execution_count": 182,
   "id": "202f6c3c",
   "metadata": {},
   "outputs": [],
   "source": [
    "## checking the effect of tagline on the revenue"
   ]
  },
  {
   "cell_type": "code",
   "execution_count": 183,
   "id": "08c6e619",
   "metadata": {},
   "outputs": [
    {
     "data": {
      "text/plain": [
       "0       The Laws of Space and Time are About to be Vio...\n",
       "1       It can take a lifetime to find true love; she'...\n",
       "2         The road to greatness can take you to the edge.\n",
       "3                                                     NaN\n",
       "4                                                     NaN\n",
       "                              ...                        \n",
       "2995    It was supposed to be a routine prisoner trans...\n",
       "2996                                                  NaN\n",
       "2997                 What's forgotten is not always gone.\n",
       "2998    For the most cautious man on Earth, life is ab...\n",
       "2999            They stole his life. He's taking it back.\n",
       "Name: tagline, Length: 3000, dtype: object"
      ]
     },
     "execution_count": 183,
     "metadata": {},
     "output_type": "execute_result"
    }
   ],
   "source": [
    "train.tagline"
   ]
  },
  {
   "cell_type": "code",
   "execution_count": 184,
   "id": "d4dafafc",
   "metadata": {},
   "outputs": [
    {
     "data": {
      "text/plain": [
       "597"
      ]
     },
     "execution_count": 184,
     "metadata": {},
     "output_type": "execute_result"
    }
   ],
   "source": [
    "train.tagline.isnull().sum()"
   ]
  },
  {
   "cell_type": "code",
   "execution_count": 185,
   "id": "b54942e0",
   "metadata": {},
   "outputs": [],
   "source": [
    "def has_tagline(df):\n",
    "    \n",
    "    has_tagline=[]\n",
    "    \n",
    "    for i in df.tagline:\n",
    "        if str(i)=='nan':\n",
    "            has_tagline.append(0)\n",
    "        else:\n",
    "            has_tagline.append(1)\n",
    "    \n",
    "    df['has_tagline']=has_tagline"
   ]
  },
  {
   "cell_type": "code",
   "execution_count": 186,
   "id": "0a07d6a2",
   "metadata": {},
   "outputs": [],
   "source": [
    "has_tagline(train)"
   ]
  },
  {
   "cell_type": "code",
   "execution_count": 187,
   "id": "417562f4",
   "metadata": {},
   "outputs": [],
   "source": [
    "has_tagline(test)"
   ]
  },
  {
   "cell_type": "code",
   "execution_count": 188,
   "id": "9c0141d0",
   "metadata": {},
   "outputs": [
    {
     "data": {
      "text/plain": [
       "<AxesSubplot:xlabel='has_tagline', ylabel='revenue'>"
      ]
     },
     "execution_count": 188,
     "metadata": {},
     "output_type": "execute_result"
    },
    {
     "data": {
      "image/png": "[encoded data removed]",
      "text/plain": [
       "<Figure size 432x288 with 1 Axes>"
      ]
     },
     "metadata": {
      "needs_background": "light"
     },
     "output_type": "display_data"
    }
   ],
   "source": [
    "sns.stripplot(x=train.has_tagline,y=train.revenue)"
   ]
  },
  {
   "cell_type": "code",
   "execution_count": 189,
   "id": "4693b230",
   "metadata": {},
   "outputs": [],
   "source": [
    "## from the above fig. we can see that the movie which has tagline has more revenue that those whcih has no tagline "
   ]
  },
  {
   "cell_type": "code",
   "execution_count": 190,
   "id": "15c04f9b",
   "metadata": {},
   "outputs": [],
   "source": [
    "train.drop('tagline', axis=1, inplace=True)\n",
    "test.drop('tagline', axis=1, inplace=True)"
   ]
  },
  {
   "cell_type": "code",
   "execution_count": null,
   "id": "e798f24a",
   "metadata": {},
   "outputs": [],
   "source": []
  },
  {
   "cell_type": "markdown",
   "id": "8a6f4806",
   "metadata": {},
   "source": [
    "## 19. title"
   ]
  },
  {
   "cell_type": "code",
   "execution_count": 191,
   "id": "8bc33a90",
   "metadata": {},
   "outputs": [
    {
     "data": {
      "text/plain": [
       "0                         Hot Tub Time Machine 2\n",
       "1       The Princess Diaries 2: Royal Engagement\n",
       "2                                       Whiplash\n",
       "3                                        Kahaani\n",
       "4                                     Marine Boy\n",
       "                          ...                   \n",
       "2995                                     Chasers\n",
       "2996                            We Are the Best!\n",
       "2997                     The Long Kiss Goodnight\n",
       "2998                            Along Came Polly\n",
       "2999                                   Abduction\n",
       "Name: title, Length: 3000, dtype: object"
      ]
     },
     "execution_count": 191,
     "metadata": {},
     "output_type": "execute_result"
    }
   ],
   "source": [
    "train.title"
   ]
  },
  {
   "cell_type": "code",
   "execution_count": 192,
   "id": "fdd11e62",
   "metadata": {},
   "outputs": [
    {
     "data": {
      "text/plain": [
       "0"
      ]
     },
     "execution_count": 192,
     "metadata": {},
     "output_type": "execute_result"
    }
   ],
   "source": [
    "train.title.isnull().sum()"
   ]
  },
  {
   "cell_type": "code",
   "execution_count": 193,
   "id": "b42f7411",
   "metadata": {},
   "outputs": [],
   "source": [
    "## effect of word count on revenue"
   ]
  },
  {
   "cell_type": "code",
   "execution_count": 194,
   "id": "b888a7c4",
   "metadata": {},
   "outputs": [],
   "source": [
    "train['title_word_count'] = train.title.str.split().str.len()\n",
    "test['title_word_count'] = test.title.str.split().str.len()"
   ]
  },
  {
   "cell_type": "code",
   "execution_count": 195,
   "id": "6a662102",
   "metadata": {},
   "outputs": [
    {
     "data": {
      "text/plain": [
       "<AxesSubplot:xlabel='title_word_count', ylabel='revenue'>"
      ]
     },
     "execution_count": 195,
     "metadata": {},
     "output_type": "execute_result"
    },
    {
     "data": {
      "image/png": "[encoded data removed]",
      "text/plain": [
       "<Figure size 432x288 with 1 Axes>"
      ]
     },
     "metadata": {
      "needs_background": "light"
     },
     "output_type": "display_data"
    }
   ],
   "source": [
    "sns.lineplot(x=train.title_word_count,y=train.revenue)"
   ]
  },
  {
   "cell_type": "code",
   "execution_count": 196,
   "id": "93ebdc34",
   "metadata": {},
   "outputs": [],
   "source": [
    "## from the above fig. we can see that the movie which has more word count has more revenue"
   ]
  },
  {
   "cell_type": "code",
   "execution_count": 197,
   "id": "52501e94",
   "metadata": {},
   "outputs": [],
   "source": [
    "train.drop('title', axis=1, inplace=True)\n",
    "test.drop('title', axis=1, inplace=True)"
   ]
  },
  {
   "cell_type": "markdown",
   "id": "b17254cd",
   "metadata": {},
   "source": [
    "## 20. Keywords"
   ]
  },
  {
   "cell_type": "code",
   "execution_count": 198,
   "id": "439b4517",
   "metadata": {},
   "outputs": [
    {
     "data": {
      "text/plain": [
       "0       [{'id': 4379, 'name': 'time travel'}, {'id': 9...\n",
       "1       [{'id': 2505, 'name': 'coronation'}, {'id': 42...\n",
       "2       [{'id': 1416, 'name': 'jazz'}, {'id': 1523, 'n...\n",
       "3       [{'id': 10092, 'name': 'mystery'}, {'id': 1054...\n",
       "4                                                     NaN\n",
       "                              ...                        \n",
       "2995    [{'id': 378, 'name': 'prison'}, {'id': 572, 'n...\n",
       "2996    [{'id': 1192, 'name': 'sweden'}, {'id': 4470, ...\n",
       "2997    [{'id': 441, 'name': 'assassination'}, {'id': ...\n",
       "2998    [{'id': 966, 'name': 'beach'}, {'id': 2676, 'n...\n",
       "2999    [{'id': 591, 'name': 'cia'}, {'id': 822, 'name...\n",
       "Name: Keywords, Length: 3000, dtype: object"
      ]
     },
     "execution_count": 198,
     "metadata": {},
     "output_type": "execute_result"
    }
   ],
   "source": [
    "train.Keywords"
   ]
  },
  {
   "cell_type": "code",
   "execution_count": 199,
   "id": "069a86da",
   "metadata": {},
   "outputs": [
    {
     "data": {
      "text/plain": [
       "276"
      ]
     },
     "execution_count": 199,
     "metadata": {},
     "output_type": "execute_result"
    }
   ],
   "source": [
    "train.Keywords.isnull().sum()"
   ]
  },
  {
   "cell_type": "code",
   "execution_count": 200,
   "id": "fd7cf96d",
   "metadata": {},
   "outputs": [
    {
     "data": {
      "text/plain": [
       "393"
      ]
     },
     "execution_count": 200,
     "metadata": {},
     "output_type": "execute_result"
    }
   ],
   "source": [
    "test.Keywords.isnull().sum()"
   ]
  },
  {
   "cell_type": "code",
   "execution_count": 201,
   "id": "36160de0",
   "metadata": {},
   "outputs": [],
   "source": [
    "## effect on the revenue which has keyword & which hasn't"
   ]
  },
  {
   "cell_type": "code",
   "execution_count": 202,
   "id": "f09e883f",
   "metadata": {},
   "outputs": [],
   "source": [
    "def has_keyword(df):\n",
    "    \n",
    "    has_keyword=[]\n",
    "    \n",
    "    for i in df.Keywords:\n",
    "        if str(i)=='nan':\n",
    "            has_keyword.append(0)\n",
    "        else:\n",
    "            has_keyword.append(1)\n",
    "        \n",
    "    df['has_keyword']=has_keyword"
   ]
  },
  {
   "cell_type": "code",
   "execution_count": 203,
   "id": "c3d7aef3",
   "metadata": {},
   "outputs": [],
   "source": [
    "has_keyword(train)"
   ]
  },
  {
   "cell_type": "code",
   "execution_count": 204,
   "id": "87d29ea2",
   "metadata": {},
   "outputs": [],
   "source": [
    "has_keyword(test)"
   ]
  },
  {
   "cell_type": "code",
   "execution_count": 205,
   "id": "8c9f5eed",
   "metadata": {},
   "outputs": [
    {
     "data": {
      "text/plain": [
       "<AxesSubplot:xlabel='has_keyword', ylabel='revenue'>"
      ]
     },
     "execution_count": 205,
     "metadata": {},
     "output_type": "execute_result"
    },
    {
     "data": {
      "image/png": "[encoded data removed]",
      "text/plain": [
       "<Figure size 432x288 with 1 Axes>"
      ]
     },
     "metadata": {
      "needs_background": "light"
     },
     "output_type": "display_data"
    }
   ],
   "source": [
    "sns.stripplot(x=train.has_keyword,y=train.revenue)"
   ]
  },
  {
   "cell_type": "code",
   "execution_count": 206,
   "id": "0c20b798",
   "metadata": {},
   "outputs": [],
   "source": [
    "## movie which has keyword has more revenue"
   ]
  },
  {
   "cell_type": "code",
   "execution_count": null,
   "id": "a720a2a4",
   "metadata": {},
   "outputs": [],
   "source": []
  },
  {
   "cell_type": "code",
   "execution_count": 207,
   "id": "27200af3",
   "metadata": {},
   "outputs": [],
   "source": [
    "## top keywords"
   ]
  },
  {
   "cell_type": "code",
   "execution_count": 208,
   "id": "6f546378",
   "metadata": {},
   "outputs": [],
   "source": [
    "total_count_keyword=[]\n",
    "\n",
    "for i in train.Keywords:\n",
    "    d=get_dict(i)\n",
    "#     print(d)\n",
    "    for j in d:\n",
    "#         print(j['name'])\n",
    "        total_count_keyword.append(j['name'])"
   ]
  },
  {
   "cell_type": "code",
   "execution_count": 209,
   "id": "8da167b1",
   "metadata": {},
   "outputs": [
    {
     "data": {
      "text/plain": [
       "[('woman director', 175),\n",
       " ('independent film', 155),\n",
       " ('duringcreditsstinger', 134),\n",
       " ('murder', 123),\n",
       " ('based on novel', 111),\n",
       " ('violence', 87),\n",
       " ('sport', 82),\n",
       " ('biography', 77),\n",
       " ('aftercreditsstinger', 75),\n",
       " ('dystopia', 73),\n",
       " ('revenge', 73),\n",
       " ('friendship', 72),\n",
       " ('sex', 71),\n",
       " ('suspense', 67),\n",
       " ('sequel', 66),\n",
       " ('love', 64),\n",
       " ('police', 64),\n",
       " ('teenager', 61),\n",
       " ('nudity', 57),\n",
       " ('female nudity', 53)]"
      ]
     },
     "execution_count": 209,
     "metadata": {},
     "output_type": "execute_result"
    }
   ],
   "source": [
    "Counter(total_count_keyword).most_common(20)"
   ]
  },
  {
   "cell_type": "code",
   "execution_count": null,
   "id": "2a3939f2",
   "metadata": {},
   "outputs": [],
   "source": []
  },
  {
   "cell_type": "code",
   "execution_count": 210,
   "id": "559fded3",
   "metadata": {},
   "outputs": [],
   "source": [
    "top_keyword=[]\n",
    "\n",
    "def top_keywords(df):\n",
    "    \n",
    "    total_count_keyword=[]\n",
    "\n",
    "    for i in df.Keywords:\n",
    "        d=get_dict(i)\n",
    "        for j in d:\n",
    "            total_count_keyword.append(j['name'])\n",
    "            \n",
    "    \n",
    "    for i in Counter(total_count_keyword).most_common():\n",
    "        if i[1]>10:     ## taking the Keywords which has frequency count > 10\n",
    "            top_keyword.append(i[0])\n"
   ]
  },
  {
   "cell_type": "code",
   "execution_count": 211,
   "id": "b115fde2",
   "metadata": {},
   "outputs": [],
   "source": [
    "top_keywords(train)"
   ]
  },
  {
   "cell_type": "code",
   "execution_count": null,
   "id": "51459fc3",
   "metadata": {},
   "outputs": [],
   "source": []
  },
  {
   "cell_type": "code",
   "execution_count": 212,
   "id": "0cdf7ad6",
   "metadata": {},
   "outputs": [],
   "source": [
    "def top_keywords_one_hot_encoding(df):\n",
    "    \n",
    "    df['all_keyword'] = df['Keywords'].apply(lambda x: ' '.join(sorted([i['name'] for i in get_dict(x) ])) \n",
    "                                           if x!= {} else '')\n",
    "    \n",
    "    for i in top_keyword:\n",
    "        df['keyword_' + i] = df['all_keyword'].apply(lambda x: 1 if i in x else 0)\n",
    "    "
   ]
  },
  {
   "cell_type": "code",
   "execution_count": 213,
   "id": "7665e062",
   "metadata": {},
   "outputs": [],
   "source": [
    "top_keywords_one_hot_encoding(train)"
   ]
  },
  {
   "cell_type": "code",
   "execution_count": 214,
   "id": "af05467d",
   "metadata": {},
   "outputs": [],
   "source": [
    "top_keywords_one_hot_encoding(test)"
   ]
  },
  {
   "cell_type": "code",
   "execution_count": null,
   "id": "6a422b01",
   "metadata": {},
   "outputs": [],
   "source": []
  },
  {
   "cell_type": "code",
   "execution_count": 215,
   "id": "0b907e25",
   "metadata": {},
   "outputs": [],
   "source": [
    "train.drop(['Keywords','all_keyword'], axis=1, inplace=True)\n",
    "test.drop(['Keywords','all_keyword'], axis=1, inplace=True)"
   ]
  },
  {
   "cell_type": "code",
   "execution_count": null,
   "id": "f08c9c4e",
   "metadata": {},
   "outputs": [],
   "source": []
  },
  {
   "cell_type": "code",
   "execution_count": 216,
   "id": "5d5da7eb",
   "metadata": {},
   "outputs": [
    {
     "data": {
      "text/plain": [
       "(3000, 469)"
      ]
     },
     "execution_count": 216,
     "metadata": {},
     "output_type": "execute_result"
    }
   ],
   "source": [
    "train.shape"
   ]
  },
  {
   "cell_type": "code",
   "execution_count": 217,
   "id": "64a14be2",
   "metadata": {},
   "outputs": [
    {
     "data": {
      "text/plain": [
       "(4398, 468)"
      ]
     },
     "execution_count": 217,
     "metadata": {},
     "output_type": "execute_result"
    }
   ],
   "source": [
    "test.shape"
   ]
  },
  {
   "cell_type": "code",
   "execution_count": null,
   "id": "4d4ce323",
   "metadata": {},
   "outputs": [],
   "source": []
  },
  {
   "cell_type": "markdown",
   "id": "69231066",
   "metadata": {},
   "source": [
    "## 21. cast"
   ]
  },
  {
   "cell_type": "code",
   "execution_count": 218,
   "id": "e3b76918",
   "metadata": {},
   "outputs": [
    {
     "data": {
      "text/plain": [
       "0       [{'cast_id': 4, 'character': 'Lou', 'credit_id...\n",
       "1       [{'cast_id': 1, 'character': 'Mia Thermopolis'...\n",
       "2       [{'cast_id': 5, 'character': 'Andrew Neimann',...\n",
       "3       [{'cast_id': 1, 'character': 'Vidya Bagchi', '...\n",
       "4       [{'cast_id': 3, 'character': 'Chun-soo', 'cred...\n",
       "                              ...                        \n",
       "2995    [{'cast_id': 2, 'character': 'Rock Reilly', 'c...\n",
       "2996    [{'cast_id': 5, 'character': 'Bobo', 'credit_i...\n",
       "2997    [{'cast_id': 10, 'character': 'Samantha Caine ...\n",
       "2998    [{'cast_id': 8, 'character': 'Reuben Feffer', ...\n",
       "2999    [{'cast_id': 2, 'character': 'Nathan Harper', ...\n",
       "Name: cast, Length: 3000, dtype: object"
      ]
     },
     "execution_count": 218,
     "metadata": {},
     "output_type": "execute_result"
    }
   ],
   "source": [
    "train.cast"
   ]
  },
  {
   "cell_type": "code",
   "execution_count": 219,
   "id": "ada65b1d",
   "metadata": {},
   "outputs": [],
   "source": [
    "## number of cast "
   ]
  },
  {
   "cell_type": "code",
   "execution_count": 220,
   "id": "c9fb82bd",
   "metadata": {},
   "outputs": [],
   "source": [
    "def number_of_cast(df):\n",
    "    \n",
    "    no_cast=[]\n",
    "\n",
    "    for i in df.cast:\n",
    "        d=get_dict(i)\n",
    "        no_cast.append(len(d))\n",
    "    \n",
    "    df['no_cast']=no_cast"
   ]
  },
  {
   "cell_type": "code",
   "execution_count": 221,
   "id": "674c9af8",
   "metadata": {},
   "outputs": [],
   "source": [
    "number_of_cast(train)"
   ]
  },
  {
   "cell_type": "code",
   "execution_count": 222,
   "id": "fd9eb1be",
   "metadata": {},
   "outputs": [],
   "source": [
    "number_of_cast(test)"
   ]
  },
  {
   "cell_type": "code",
   "execution_count": 223,
   "id": "b95b4c03",
   "metadata": {},
   "outputs": [],
   "source": [
    "# sns.scatterplot(x=train.no_cast,y=train.revenue)"
   ]
  },
  {
   "cell_type": "code",
   "execution_count": null,
   "id": "28902602",
   "metadata": {},
   "outputs": [],
   "source": []
  },
  {
   "cell_type": "code",
   "execution_count": 224,
   "id": "d3532217",
   "metadata": {},
   "outputs": [],
   "source": [
    "## top cast"
   ]
  },
  {
   "cell_type": "code",
   "execution_count": 225,
   "id": "f85cebcc",
   "metadata": {},
   "outputs": [],
   "source": [
    "total_count_cast=[]\n",
    "\n",
    "for i in train.cast:\n",
    "    d=get_dict(i)\n",
    "#     print(d)\n",
    "    for j in d:\n",
    "#         print(j['name'])\n",
    "        total_count_cast.append(j['name'])"
   ]
  },
  {
   "cell_type": "code",
   "execution_count": 226,
   "id": "41c3f479",
   "metadata": {},
   "outputs": [
    {
     "data": {
      "text/plain": [
       "[('Samuel L. Jackson', 30),\n",
       " ('Robert De Niro', 30),\n",
       " ('Morgan Freeman', 27),\n",
       " ('J.K. Simmons', 25),\n",
       " ('Bruce Willis', 25),\n",
       " ('Liam Neeson', 25),\n",
       " ('Susan Sarandon', 25),\n",
       " ('Bruce McGill', 24),\n",
       " ('John Turturro', 24),\n",
       " ('Forest Whitaker', 23),\n",
       " ('Willem Dafoe', 23),\n",
       " ('Bill Murray', 22),\n",
       " ('Owen Wilson', 22),\n",
       " ('Nicolas Cage', 22),\n",
       " ('Sylvester Stallone', 21),\n",
       " ('Jason Statham', 21),\n",
       " ('Keith David', 21),\n",
       " ('John Goodman', 21),\n",
       " ('Mel Gibson', 21),\n",
       " ('Sigourney Weaver', 21)]"
      ]
     },
     "execution_count": 226,
     "metadata": {},
     "output_type": "execute_result"
    }
   ],
   "source": [
    "Counter(total_count_cast).most_common(20)"
   ]
  },
  {
   "cell_type": "code",
   "execution_count": null,
   "id": "ad911a41",
   "metadata": {},
   "outputs": [],
   "source": []
  },
  {
   "cell_type": "code",
   "execution_count": 227,
   "id": "41e5e4d7",
   "metadata": {},
   "outputs": [],
   "source": [
    "top_cast=[]\n",
    "\n",
    "def top_cast_(df):\n",
    "    \n",
    "    total_count_cast=[]\n",
    "\n",
    "    for i in df.cast:\n",
    "        d=get_dict(i)\n",
    "        for j in d:\n",
    "            total_count_cast.append(j['name'])\n",
    "            \n",
    "    for i in Counter(total_count_cast).most_common():\n",
    "        if i[1]>10:            ## taking the cast which has frequency count > 10\n",
    "            top_cast.append(i[0])\n",
    "    "
   ]
  },
  {
   "cell_type": "code",
   "execution_count": 228,
   "id": "479efa45",
   "metadata": {},
   "outputs": [],
   "source": [
    "top_cast_(train)"
   ]
  },
  {
   "cell_type": "code",
   "execution_count": 229,
   "id": "6a1788f9",
   "metadata": {},
   "outputs": [],
   "source": [
    "def top_cast_one_hot_encoding(df):\n",
    "    \n",
    "    df['all_cast'] = df['cast'].apply(lambda x: ' '.join(sorted([i['name'] for i in get_dict(x) ])) \n",
    "                                           if x!= {} else '')\n",
    "    \n",
    "    for i in top_cast:\n",
    "        df['cast_' + i] = df['all_cast'].apply(lambda x: 1 if i in x else 0)"
   ]
  },
  {
   "cell_type": "code",
   "execution_count": 230,
   "id": "f2f70c7f",
   "metadata": {},
   "outputs": [],
   "source": [
    "top_cast_one_hot_encoding(train)"
   ]
  },
  {
   "cell_type": "code",
   "execution_count": 231,
   "id": "e9510bf9",
   "metadata": {},
   "outputs": [],
   "source": [
    "top_cast_one_hot_encoding(test)"
   ]
  },
  {
   "cell_type": "code",
   "execution_count": null,
   "id": "cf866704",
   "metadata": {},
   "outputs": [],
   "source": []
  },
  {
   "cell_type": "code",
   "execution_count": null,
   "id": "befaf064",
   "metadata": {},
   "outputs": [],
   "source": []
  },
  {
   "cell_type": "code",
   "execution_count": 232,
   "id": "f98b047f",
   "metadata": {},
   "outputs": [],
   "source": [
    "train.drop(['cast','all_cast'], axis=1, inplace=True)\n",
    "test.drop(['cast','all_cast'], axis=1, inplace=True)"
   ]
  },
  {
   "cell_type": "code",
   "execution_count": 233,
   "id": "10a20188",
   "metadata": {},
   "outputs": [
    {
     "data": {
      "text/plain": [
       "(3000, 763)"
      ]
     },
     "execution_count": 233,
     "metadata": {},
     "output_type": "execute_result"
    }
   ],
   "source": [
    "train.shape"
   ]
  },
  {
   "cell_type": "code",
   "execution_count": 234,
   "id": "aa77b5e9",
   "metadata": {},
   "outputs": [
    {
     "data": {
      "text/plain": [
       "(4398, 762)"
      ]
     },
     "execution_count": 234,
     "metadata": {},
     "output_type": "execute_result"
    }
   ],
   "source": [
    "test.shape"
   ]
  },
  {
   "cell_type": "code",
   "execution_count": null,
   "id": "06a0fc7c",
   "metadata": {},
   "outputs": [],
   "source": []
  },
  {
   "cell_type": "markdown",
   "id": "1c581ed4",
   "metadata": {},
   "source": [
    "## 22. crew"
   ]
  },
  {
   "cell_type": "code",
   "execution_count": 235,
   "id": "eeda1916",
   "metadata": {},
   "outputs": [
    {
     "data": {
      "text/plain": [
       "0       [{'credit_id': '59ac067c92514107af02c8c8', 'de...\n",
       "1       [{'credit_id': '52fe43fe9251416c7502563d', 'de...\n",
       "2       [{'credit_id': '54d5356ec3a3683ba0000039', 'de...\n",
       "3       [{'credit_id': '52fe48779251416c9108d6eb', 'de...\n",
       "4       [{'credit_id': '52fe464b9251416c75073b43', 'de...\n",
       "                              ...                        \n",
       "2995    [{'credit_id': '52fe4494c3a368484e02ac7d', 'de...\n",
       "2996    [{'credit_id': '5716b72ac3a3686678012c84', 'de...\n",
       "2997    [{'credit_id': '52fe443a9251416c7502d579', 'de...\n",
       "2998    [{'credit_id': '556f817b9251410866000a63', 'de...\n",
       "2999    [{'credit_id': '5391990d0e0a260fb5001629', 'de...\n",
       "Name: crew, Length: 3000, dtype: object"
      ]
     },
     "execution_count": 235,
     "metadata": {},
     "output_type": "execute_result"
    }
   ],
   "source": [
    "train.crew"
   ]
  },
  {
   "cell_type": "code",
   "execution_count": null,
   "id": "e9f673ff",
   "metadata": {},
   "outputs": [],
   "source": []
  },
  {
   "cell_type": "code",
   "execution_count": 236,
   "id": "36a7c098",
   "metadata": {},
   "outputs": [],
   "source": [
    "## number of crew"
   ]
  },
  {
   "cell_type": "code",
   "execution_count": 237,
   "id": "fa6ec1e4",
   "metadata": {},
   "outputs": [],
   "source": [
    "def number_of_crew(df):\n",
    "    \n",
    "    no_of_crew=[]\n",
    "\n",
    "    for i in df.crew:\n",
    "        d=get_dict(i)\n",
    "\n",
    "        no_of_crew.append(len(d))\n",
    "    \n",
    "    df['no_of_crew']=no_of_crew"
   ]
  },
  {
   "cell_type": "code",
   "execution_count": 238,
   "id": "7df9272a",
   "metadata": {},
   "outputs": [],
   "source": [
    "number_of_crew(train)"
   ]
  },
  {
   "cell_type": "code",
   "execution_count": 239,
   "id": "c6ff3e0b",
   "metadata": {},
   "outputs": [],
   "source": [
    "number_of_crew(test)"
   ]
  },
  {
   "cell_type": "code",
   "execution_count": null,
   "id": "9c3326d3",
   "metadata": {},
   "outputs": [],
   "source": []
  },
  {
   "cell_type": "code",
   "execution_count": 240,
   "id": "70dcb017",
   "metadata": {},
   "outputs": [],
   "source": [
    "## top crew"
   ]
  },
  {
   "cell_type": "code",
   "execution_count": 241,
   "id": "198f5054",
   "metadata": {},
   "outputs": [],
   "source": [
    "total_count_crew=[]\n",
    "\n",
    "for i in train.crew:\n",
    "    d=get_dict(i)\n",
    "#     print(d)\n",
    "    for j in d:\n",
    "#         print(j['name'])\n",
    "        total_count_crew.append(j['name'])"
   ]
  },
  {
   "cell_type": "code",
   "execution_count": 242,
   "id": "28a0a8e4",
   "metadata": {},
   "outputs": [
    {
     "data": {
      "text/plain": [
       "[('Avy Kaufman', 50),\n",
       " ('Robert Rodriguez', 44),\n",
       " ('Deborah Aquila', 40),\n",
       " ('James Newton Howard', 39),\n",
       " ('Mary Vernieu', 38),\n",
       " ('Steven Spielberg', 37),\n",
       " ('Luc Besson', 37),\n",
       " ('Jerry Goldsmith', 37),\n",
       " ('Francine Maisler', 35),\n",
       " ('Tricia Wood', 35),\n",
       " ('James Horner', 33),\n",
       " ('Kerry Barden', 32),\n",
       " ('Bob Weinstein', 30),\n",
       " ('Harvey Weinstein', 30),\n",
       " ('Janet Hirshenson', 30),\n",
       " ('Jane Jenkins', 29),\n",
       " ('John Debney', 28),\n",
       " ('Hans Zimmer', 28),\n",
       " ('John Papsidera', 28),\n",
       " ('Francis Ford Coppola', 28)]"
      ]
     },
     "execution_count": 242,
     "metadata": {},
     "output_type": "execute_result"
    }
   ],
   "source": [
    "Counter(total_count_crew).most_common(20)"
   ]
  },
  {
   "cell_type": "code",
   "execution_count": null,
   "id": "9e6d95e1",
   "metadata": {},
   "outputs": [],
   "source": []
  },
  {
   "cell_type": "code",
   "execution_count": 243,
   "id": "09ffaefa",
   "metadata": {},
   "outputs": [],
   "source": [
    "top_crew=[]\n",
    "\n",
    "def top_crew_(df):\n",
    "    \n",
    "    total_count_crew=[]\n",
    "\n",
    "    for i in df.crew:\n",
    "        d=get_dict(i)\n",
    "        for j in d:\n",
    "            total_count_crew.append(j['name'])\n",
    "            \n",
    "    for i in Counter(total_count_crew).most_common():\n",
    "        if i[1]>20:               ## taking the crew which has frequency count > 20\n",
    "            top_crew.append(i[0])"
   ]
  },
  {
   "cell_type": "code",
   "execution_count": 244,
   "id": "eb3bdf17",
   "metadata": {},
   "outputs": [],
   "source": [
    "top_crew_(train)"
   ]
  },
  {
   "cell_type": "code",
   "execution_count": 245,
   "id": "882c3ae8",
   "metadata": {},
   "outputs": [],
   "source": [
    "def top_crew_one_hot_encoding(df):\n",
    "    \n",
    "    df['all_crew'] = df['crew'].apply(lambda x: ' '.join(sorted([i['name'] for i in get_dict(x) ])) \n",
    "                                           if x!= {} else '')\n",
    "    \n",
    "    for i in top_crew:\n",
    "        df['crew_' + i] = df['all_crew'].apply(lambda x: 1 if i in x else 0)"
   ]
  },
  {
   "cell_type": "code",
   "execution_count": 246,
   "id": "3b674ffe",
   "metadata": {},
   "outputs": [],
   "source": [
    "top_crew_one_hot_encoding(train)"
   ]
  },
  {
   "cell_type": "code",
   "execution_count": 247,
   "id": "fef5363c",
   "metadata": {},
   "outputs": [],
   "source": [
    "top_crew_one_hot_encoding(test)"
   ]
  },
  {
   "cell_type": "code",
   "execution_count": null,
   "id": "9d878daf",
   "metadata": {},
   "outputs": [],
   "source": []
  },
  {
   "cell_type": "code",
   "execution_count": 248,
   "id": "0dd132ed",
   "metadata": {},
   "outputs": [],
   "source": [
    "train.drop(['crew','all_crew'], axis=1, inplace=True)\n",
    "test.drop(['crew','all_crew'], axis=1, inplace=True)"
   ]
  },
  {
   "cell_type": "code",
   "execution_count": 249,
   "id": "522936b5",
   "metadata": {},
   "outputs": [
    {
     "data": {
      "text/plain": [
       "(3000, 826)"
      ]
     },
     "execution_count": 249,
     "metadata": {},
     "output_type": "execute_result"
    }
   ],
   "source": [
    "train.shape"
   ]
  },
  {
   "cell_type": "code",
   "execution_count": 250,
   "id": "3f5c1b3f",
   "metadata": {},
   "outputs": [
    {
     "data": {
      "text/plain": [
       "(4398, 825)"
      ]
     },
     "execution_count": 250,
     "metadata": {},
     "output_type": "execute_result"
    }
   ],
   "source": [
    "test.shape"
   ]
  },
  {
   "cell_type": "code",
   "execution_count": null,
   "id": "6b284cfa",
   "metadata": {},
   "outputs": [],
   "source": []
  },
  {
   "cell_type": "markdown",
   "id": "c8969683",
   "metadata": {},
   "source": [
    "## 23. popularity2"
   ]
  },
  {
   "cell_type": "code",
   "execution_count": 251,
   "id": "fd12d967",
   "metadata": {},
   "outputs": [],
   "source": [
    "## checking the distribution of data"
   ]
  },
  {
   "cell_type": "code",
   "execution_count": 252,
   "id": "be02d467",
   "metadata": {},
   "outputs": [],
   "source": [
    "## train"
   ]
  },
  {
   "cell_type": "code",
   "execution_count": 253,
   "id": "08f3003e",
   "metadata": {},
   "outputs": [
    {
     "data": {
      "text/plain": [
       "<AxesSubplot:xlabel='popularity2', ylabel='Count'>"
      ]
     },
     "execution_count": 253,
     "metadata": {},
     "output_type": "execute_result"
    },
    {
     "data": {
      "image/png": "[encoded data removed]",
      "text/plain": [
       "<Figure size 432x288 with 1 Axes>"
      ]
     },
     "metadata": {
      "needs_background": "light"
     },
     "output_type": "display_data"
    }
   ],
   "source": [
    "sns.histplot(train.popularity2, kde=True)"
   ]
  },
  {
   "cell_type": "code",
   "execution_count": 254,
   "id": "fc30d60e",
   "metadata": {},
   "outputs": [],
   "source": [
    "## from the above fig. we can see the data is +ve skew. so tranforming the +ve dist. to noramal dist. using log transformation"
   ]
  },
  {
   "cell_type": "code",
   "execution_count": 255,
   "id": "ef4757cc",
   "metadata": {},
   "outputs": [
    {
     "data": {
      "text/plain": [
       "<AxesSubplot:xlabel='popularity2', ylabel='Count'>"
      ]
     },
     "execution_count": 255,
     "metadata": {},
     "output_type": "execute_result"
    },
    {
     "data": {
      "image/png": "[encoded data removed]",
      "text/plain": [
       "<Figure size 432x288 with 1 Axes>"
      ]
     },
     "metadata": {
      "needs_background": "light"
     },
     "output_type": "display_data"
    }
   ],
   "source": [
    "sns.histplot(np.log1p(train.popularity2), kde=True)"
   ]
  },
  {
   "cell_type": "code",
   "execution_count": 256,
   "id": "c5e0f24a",
   "metadata": {},
   "outputs": [],
   "source": [
    "## test"
   ]
  },
  {
   "cell_type": "code",
   "execution_count": 257,
   "id": "af6d8f74",
   "metadata": {},
   "outputs": [
    {
     "data": {
      "text/plain": [
       "<AxesSubplot:xlabel='popularity2', ylabel='Count'>"
      ]
     },
     "execution_count": 257,
     "metadata": {},
     "output_type": "execute_result"
    },
    {
     "data": {
      "image/png": "[encoded data removed]",
      "text/plain": [
       "<Figure size 432x288 with 1 Axes>"
      ]
     },
     "metadata": {
      "needs_background": "light"
     },
     "output_type": "display_data"
    }
   ],
   "source": [
    "sns.histplot(test.popularity2, kde=True)"
   ]
  },
  {
   "cell_type": "code",
   "execution_count": 258,
   "id": "f4d2797d",
   "metadata": {},
   "outputs": [
    {
     "data": {
      "text/plain": [
       "<AxesSubplot:xlabel='popularity2', ylabel='Count'>"
      ]
     },
     "execution_count": 258,
     "metadata": {},
     "output_type": "execute_result"
    },
    {
     "data": {
      "image/png": "[encoded data removed]",
      "text/plain": [
       "<Figure size 432x288 with 1 Axes>"
      ]
     },
     "metadata": {
      "needs_background": "light"
     },
     "output_type": "display_data"
    }
   ],
   "source": [
    "sns.histplot(np.log1p(test.popularity2), kde=True)"
   ]
  },
  {
   "cell_type": "code",
   "execution_count": 259,
   "id": "b88540d9",
   "metadata": {},
   "outputs": [],
   "source": [
    "## since the initial distribution is +ve skew for both train and test so we can fill the null value with \n",
    "## the mode or median value"
   ]
  },
  {
   "cell_type": "code",
   "execution_count": 260,
   "id": "496a7686",
   "metadata": {},
   "outputs": [
    {
     "data": {
      "text/plain": [
       "118"
      ]
     },
     "execution_count": 260,
     "metadata": {},
     "output_type": "execute_result"
    }
   ],
   "source": [
    "train.popularity2.isnull().sum()"
   ]
  },
  {
   "cell_type": "code",
   "execution_count": 261,
   "id": "0d731819",
   "metadata": {},
   "outputs": [
    {
     "data": {
      "text/plain": [
       "179"
      ]
     },
     "execution_count": 261,
     "metadata": {},
     "output_type": "execute_result"
    }
   ],
   "source": [
    "test.popularity2.isnull().sum()"
   ]
  },
  {
   "cell_type": "code",
   "execution_count": 262,
   "id": "f797206d",
   "metadata": {},
   "outputs": [],
   "source": [
    "train.popularity2=train.popularity2.fillna(train.popularity2.median())\n",
    "test.popularity2=test.popularity2.fillna(test.popularity2.median())"
   ]
  },
  {
   "cell_type": "code",
   "execution_count": null,
   "id": "cded7fe9",
   "metadata": {},
   "outputs": [],
   "source": []
  },
  {
   "cell_type": "markdown",
   "id": "98cbee37",
   "metadata": {},
   "source": [
    "## 24. rating"
   ]
  },
  {
   "cell_type": "code",
   "execution_count": 263,
   "id": "8a7e2ed1",
   "metadata": {},
   "outputs": [
    {
     "data": {
      "text/plain": [
       "<AxesSubplot:xlabel='rating', ylabel='Count'>"
      ]
     },
     "execution_count": 263,
     "metadata": {},
     "output_type": "execute_result"
    },
    {
     "data": {
      "image/png": "[encoded data removed]",
      "text/plain": [
       "<Figure size 432x288 with 1 Axes>"
      ]
     },
     "metadata": {
      "needs_background": "light"
     },
     "output_type": "display_data"
    }
   ],
   "source": [
    "sns.histplot(train.rating, kde=True)"
   ]
  },
  {
   "cell_type": "code",
   "execution_count": 264,
   "id": "3289bbec",
   "metadata": {},
   "outputs": [
    {
     "data": {
      "text/plain": [
       "<AxesSubplot:xlabel='rating', ylabel='Count'>"
      ]
     },
     "execution_count": 264,
     "metadata": {},
     "output_type": "execute_result"
    },
    {
     "data": {
      "image/png": "[encoded data removed]",
      "text/plain": [
       "<Figure size 432x288 with 1 Axes>"
      ]
     },
     "metadata": {
      "needs_background": "light"
     },
     "output_type": "display_data"
    }
   ],
   "source": [
    "sns.histplot(test.rating, kde=True)"
   ]
  },
  {
   "cell_type": "code",
   "execution_count": 265,
   "id": "0953d97c",
   "metadata": {},
   "outputs": [
    {
     "data": {
      "text/plain": [
       "118"
      ]
     },
     "execution_count": 265,
     "metadata": {},
     "output_type": "execute_result"
    }
   ],
   "source": [
    "train.rating.isnull().sum()"
   ]
  },
  {
   "cell_type": "code",
   "execution_count": 266,
   "id": "23d1a565",
   "metadata": {},
   "outputs": [
    {
     "data": {
      "text/plain": [
       "179"
      ]
     },
     "execution_count": 266,
     "metadata": {},
     "output_type": "execute_result"
    }
   ],
   "source": [
    "test.rating.isnull().sum()"
   ]
  },
  {
   "cell_type": "code",
   "execution_count": 267,
   "id": "5f8eecf7",
   "metadata": {},
   "outputs": [],
   "source": [
    "## in this case after looking the distribution we can fill the null value with the mean since its normal dist."
   ]
  },
  {
   "cell_type": "code",
   "execution_count": 268,
   "id": "5851953a",
   "metadata": {},
   "outputs": [],
   "source": [
    "train.rating=train.rating.fillna(train.rating.mean())\n",
    "test.rating=test.rating.fillna(test.rating.mean())"
   ]
  },
  {
   "cell_type": "code",
   "execution_count": null,
   "id": "1dc27f7d",
   "metadata": {},
   "outputs": [],
   "source": []
  },
  {
   "cell_type": "markdown",
   "id": "552b9cb2",
   "metadata": {},
   "source": [
    "## 25. totalVotes"
   ]
  },
  {
   "cell_type": "code",
   "execution_count": 269,
   "id": "960495a1",
   "metadata": {},
   "outputs": [],
   "source": [
    "## checking the dist. of data"
   ]
  },
  {
   "cell_type": "code",
   "execution_count": 270,
   "id": "021e39b8",
   "metadata": {},
   "outputs": [],
   "source": [
    "## train"
   ]
  },
  {
   "cell_type": "code",
   "execution_count": 271,
   "id": "200a7d23",
   "metadata": {},
   "outputs": [
    {
     "data": {
      "text/plain": [
       "<AxesSubplot:xlabel='totalVotes', ylabel='Count'>"
      ]
     },
     "execution_count": 271,
     "metadata": {},
     "output_type": "execute_result"
    },
    {
     "data": {
      "image/png": "[encoded data removed]",
      "text/plain": [
       "<Figure size 432x288 with 1 Axes>"
      ]
     },
     "metadata": {
      "needs_background": "light"
     },
     "output_type": "display_data"
    }
   ],
   "source": [
    "sns.histplot(train.totalVotes, kde=True)"
   ]
  },
  {
   "cell_type": "code",
   "execution_count": 272,
   "id": "30d0174a",
   "metadata": {},
   "outputs": [],
   "source": [
    "## +ve skew data"
   ]
  },
  {
   "cell_type": "code",
   "execution_count": 273,
   "id": "404aa74f",
   "metadata": {},
   "outputs": [],
   "source": [
    "## applying the log tranfromation"
   ]
  },
  {
   "cell_type": "code",
   "execution_count": 274,
   "id": "cfde878a",
   "metadata": {},
   "outputs": [
    {
     "data": {
      "text/plain": [
       "<AxesSubplot:xlabel='totalVotes', ylabel='Count'>"
      ]
     },
     "execution_count": 274,
     "metadata": {},
     "output_type": "execute_result"
    },
    {
     "data": {
      "image/png": "[encoded data removed]",
      "text/plain": [
       "<Figure size 432x288 with 1 Axes>"
      ]
     },
     "metadata": {
      "needs_background": "light"
     },
     "output_type": "display_data"
    }
   ],
   "source": [
    "sns.histplot(np.log1p(train.totalVotes), kde=True)"
   ]
  },
  {
   "cell_type": "code",
   "execution_count": null,
   "id": "1fb56f46",
   "metadata": {},
   "outputs": [],
   "source": []
  },
  {
   "cell_type": "code",
   "execution_count": 275,
   "id": "59c9bbce",
   "metadata": {},
   "outputs": [],
   "source": [
    "## test"
   ]
  },
  {
   "cell_type": "code",
   "execution_count": 276,
   "id": "9f747629",
   "metadata": {},
   "outputs": [
    {
     "data": {
      "text/plain": [
       "<AxesSubplot:xlabel='totalVotes', ylabel='Count'>"
      ]
     },
     "execution_count": 276,
     "metadata": {},
     "output_type": "execute_result"
    },
    {
     "data": {
      "image/png": "[encoded data removed]",
      "text/plain": [
       "<Figure size 432x288 with 1 Axes>"
      ]
     },
     "metadata": {
      "needs_background": "light"
     },
     "output_type": "display_data"
    }
   ],
   "source": [
    "sns.histplot(test.totalVotes, kde=True)"
   ]
  },
  {
   "cell_type": "code",
   "execution_count": 277,
   "id": "24acd262",
   "metadata": {},
   "outputs": [],
   "source": [
    "## +ve skew data"
   ]
  },
  {
   "cell_type": "code",
   "execution_count": 278,
   "id": "8f012538",
   "metadata": {},
   "outputs": [],
   "source": [
    "## applying the log transformation"
   ]
  },
  {
   "cell_type": "code",
   "execution_count": 279,
   "id": "2d227f24",
   "metadata": {},
   "outputs": [
    {
     "data": {
      "text/plain": [
       "<AxesSubplot:xlabel='totalVotes', ylabel='Count'>"
      ]
     },
     "execution_count": 279,
     "metadata": {},
     "output_type": "execute_result"
    },
    {
     "data": {
      "image/png": "[encoded data removed]",
      "text/plain": [
       "<Figure size 432x288 with 1 Axes>"
      ]
     },
     "metadata": {
      "needs_background": "light"
     },
     "output_type": "display_data"
    }
   ],
   "source": [
    "sns.histplot(np.log1p(test.totalVotes), kde=True)"
   ]
  },
  {
   "cell_type": "code",
   "execution_count": null,
   "id": "8cb6d1da",
   "metadata": {},
   "outputs": [],
   "source": []
  },
  {
   "cell_type": "code",
   "execution_count": 280,
   "id": "1348b363",
   "metadata": {},
   "outputs": [],
   "source": [
    "## null value checking"
   ]
  },
  {
   "cell_type": "code",
   "execution_count": 281,
   "id": "827b1ec2",
   "metadata": {},
   "outputs": [
    {
     "data": {
      "text/plain": [
       "118"
      ]
     },
     "execution_count": 281,
     "metadata": {},
     "output_type": "execute_result"
    }
   ],
   "source": [
    "train.totalVotes.isnull().sum()"
   ]
  },
  {
   "cell_type": "code",
   "execution_count": 282,
   "id": "7117dd4d",
   "metadata": {},
   "outputs": [
    {
     "data": {
      "text/plain": [
       "179"
      ]
     },
     "execution_count": 282,
     "metadata": {},
     "output_type": "execute_result"
    }
   ],
   "source": [
    "test.totalVotes.isnull().sum()"
   ]
  },
  {
   "cell_type": "code",
   "execution_count": 283,
   "id": "aba71af4",
   "metadata": {},
   "outputs": [],
   "source": [
    "## since the initial dist. for totalvotes is +ve skew so we can fill the null value with mode or median"
   ]
  },
  {
   "cell_type": "code",
   "execution_count": 284,
   "id": "87ecbeb1",
   "metadata": {},
   "outputs": [],
   "source": [
    "train.totalVotes=train.totalVotes.fillna(train.totalVotes.median())\n",
    "test.totalVotes=test.totalVotes.fillna(test.totalVotes.median())"
   ]
  },
  {
   "cell_type": "code",
   "execution_count": null,
   "id": "3ee9a440",
   "metadata": {},
   "outputs": [],
   "source": []
  },
  {
   "cell_type": "code",
   "execution_count": null,
   "id": "531816de",
   "metadata": {},
   "outputs": [],
   "source": []
  },
  {
   "cell_type": "markdown",
   "id": "b8891c51",
   "metadata": {},
   "source": [
    "## log1p transformation for the +ve skew data"
   ]
  },
  {
   "cell_type": "code",
   "execution_count": 285,
   "id": "b31dacab",
   "metadata": {},
   "outputs": [],
   "source": [
    "## train"
   ]
  },
  {
   "cell_type": "code",
   "execution_count": 286,
   "id": "0570c31b",
   "metadata": {},
   "outputs": [],
   "source": [
    "train['popularity'] = np.log1p(train['popularity'])   #log(1+x)  #expm1 - inverse\n",
    "train['popularity2'] = np.log1p(train['popularity2'])\n",
    "train['budget'] = np.log1p(train['budget'])\n",
    "train['runtime'] = np.log1p(train['runtime'])\n",
    "train['totalVotes'] = np.log1p(train['totalVotes'])\n",
    "train['revenue'] = np.log1p(train['revenue'])"
   ]
  },
  {
   "cell_type": "code",
   "execution_count": 287,
   "id": "738c9e31",
   "metadata": {},
   "outputs": [],
   "source": [
    "## train"
   ]
  },
  {
   "cell_type": "code",
   "execution_count": 288,
   "id": "0c5ea410",
   "metadata": {},
   "outputs": [],
   "source": [
    "test['popularity'] = np.log1p(test['popularity'])   #log(1+x)  #expm1 - inverse\n",
    "test['popularity2'] = np.log1p(test['popularity2'])\n",
    "test['budget'] = np.log1p(test['budget'])\n",
    "test['runtime'] = np.log1p(test['runtime'])\n",
    "test['totalVotes'] = np.log1p(test['totalVotes'])"
   ]
  },
  {
   "cell_type": "code",
   "execution_count": null,
   "id": "a223c841",
   "metadata": {},
   "outputs": [],
   "source": []
  },
  {
   "cell_type": "markdown",
   "id": "c55fe61d",
   "metadata": {},
   "source": [
    "## final shape"
   ]
  },
  {
   "cell_type": "code",
   "execution_count": 289,
   "id": "76fc11e2",
   "metadata": {},
   "outputs": [
    {
     "data": {
      "text/plain": [
       "(3000, 826)"
      ]
     },
     "execution_count": 289,
     "metadata": {},
     "output_type": "execute_result"
    }
   ],
   "source": [
    "train.shape"
   ]
  },
  {
   "cell_type": "code",
   "execution_count": 290,
   "id": "4acf6119",
   "metadata": {},
   "outputs": [
    {
     "data": {
      "text/plain": [
       "(4398, 825)"
      ]
     },
     "execution_count": 290,
     "metadata": {},
     "output_type": "execute_result"
    }
   ],
   "source": [
    "test.shape"
   ]
  },
  {
   "cell_type": "code",
   "execution_count": null,
   "id": "61491de1",
   "metadata": {},
   "outputs": [],
   "source": []
  },
  {
   "cell_type": "code",
   "execution_count": 291,
   "id": "1022ce23",
   "metadata": {},
   "outputs": [],
   "source": [
    "## checking the final null value in train and test dats sets "
   ]
  },
  {
   "cell_type": "code",
   "execution_count": 292,
   "id": "1a94de19",
   "metadata": {},
   "outputs": [
    {
     "data": {
      "text/plain": [
       "8"
      ]
     },
     "execution_count": 292,
     "metadata": {},
     "output_type": "execute_result"
    }
   ],
   "source": [
    "train.isnull().sum().sum()"
   ]
  },
  {
   "cell_type": "code",
   "execution_count": 293,
   "id": "3b9c5693",
   "metadata": {},
   "outputs": [
    {
     "data": {
      "text/plain": [
       "17"
      ]
     },
     "execution_count": 293,
     "metadata": {},
     "output_type": "execute_result"
    }
   ],
   "source": [
    "test.isnull().sum().sum()"
   ]
  },
  {
   "cell_type": "code",
   "execution_count": 294,
   "id": "678716ff",
   "metadata": {},
   "outputs": [],
   "source": [
    "## filling left null values with 0"
   ]
  },
  {
   "cell_type": "code",
   "execution_count": 295,
   "id": "3d2cc263",
   "metadata": {},
   "outputs": [],
   "source": [
    "train.fillna(0, inplace=True)\n",
    "test.fillna(0, inplace=True)"
   ]
  },
  {
   "cell_type": "code",
   "execution_count": 296,
   "id": "b57e9224",
   "metadata": {},
   "outputs": [
    {
     "data": {
      "text/html": [
       "<div>\n",
       "<style scoped>\n",
       "    .dataframe tbody tr th:only-of-type {\n",
       "        vertical-align: middle;\n",
       "    }\n",
       "\n",
       "    .dataframe tbody tr th {\n",
       "        vertical-align: top;\n",
       "    }\n",
       "\n",
       "    .dataframe thead th {\n",
       "        text-align: right;\n",
       "    }\n",
       "</style>\n",
       "<table border=\"1\" class=\"dataframe\">\n",
       "  <thead>\n",
       "    <tr style=\"text-align: right;\">\n",
       "      <th></th>\n",
       "      <th>budget</th>\n",
       "      <th>popularity</th>\n",
       "      <th>runtime</th>\n",
       "      <th>revenue</th>\n",
       "      <th>popularity2</th>\n",
       "      <th>rating</th>\n",
       "      <th>totalVotes</th>\n",
       "      <th>has_collection</th>\n",
       "      <th>no_of_genre</th>\n",
       "      <th>genre_Drama</th>\n",
       "      <th>genre_Comedy</th>\n",
       "      <th>genre_Thriller</th>\n",
       "      <th>genre_Action</th>\n",
       "      <th>genre_Romance</th>\n",
       "      <th>genre_Crime</th>\n",
       "      <th>genre_Adventure</th>\n",
       "      <th>genre_Horror</th>\n",
       "      <th>genre_Science Fiction</th>\n",
       "      <th>genre_Family</th>\n",
       "      <th>genre_Fantasy</th>\n",
       "      <th>genre_Mystery</th>\n",
       "      <th>genre_Animation</th>\n",
       "      <th>genre_History</th>\n",
       "      <th>genre_Music</th>\n",
       "      <th>genre_War</th>\n",
       "      <th>genre_Documentary</th>\n",
       "      <th>genre_Western</th>\n",
       "      <th>genre_Foreign</th>\n",
       "      <th>homepage_exit</th>\n",
       "      <th>orignal_lang_english</th>\n",
       "      <th>original_title_letter_count</th>\n",
       "      <th>original_title_word_count</th>\n",
       "      <th>overview_word_count</th>\n",
       "      <th>no_of_prod_comp</th>\n",
       "      <th>prod_comp_Warner Bros.</th>\n",
       "      <th>prod_comp_Universal Pictures</th>\n",
       "      <th>prod_comp_Paramount Pictures</th>\n",
       "      <th>prod_comp_Twentieth Century Fox Film Corporation</th>\n",
       "      <th>prod_comp_Columbia Pictures</th>\n",
       "      <th>prod_comp_Metro-Goldwyn-Mayer (MGM)</th>\n",
       "      <th>prod_comp_New Line Cinema</th>\n",
       "      <th>prod_comp_Touchstone Pictures</th>\n",
       "      <th>prod_comp_Walt Disney Pictures</th>\n",
       "      <th>prod_comp_Columbia Pictures Corporation</th>\n",
       "      <th>prod_comp_TriStar Pictures</th>\n",
       "      <th>prod_comp_Relativity Media</th>\n",
       "      <th>prod_comp_Canal+</th>\n",
       "      <th>prod_comp_United Artists</th>\n",
       "      <th>prod_comp_Miramax Films</th>\n",
       "      <th>prod_comp_Village Roadshow Pictures</th>\n",
       "      <th>prod_comp_Regency Enterprises</th>\n",
       "      <th>prod_comp_BBC Films</th>\n",
       "      <th>prod_comp_Dune Entertainment</th>\n",
       "      <th>prod_comp_Working Title Films</th>\n",
       "      <th>prod_comp_Fox Searchlight Pictures</th>\n",
       "      <th>prod_comp_StudioCanal</th>\n",
       "      <th>prod_comp_Lionsgate</th>\n",
       "      <th>prod_comp_DreamWorks SKG</th>\n",
       "      <th>prod_comp_Fox 2000 Pictures</th>\n",
       "      <th>prod_comp_Summit Entertainment</th>\n",
       "      <th>prod_comp_Hollywood Pictures</th>\n",
       "      <th>prod_comp_Orion Pictures</th>\n",
       "      <th>prod_comp_Amblin Entertainment</th>\n",
       "      <th>prod_comp_Dimension Films</th>\n",
       "      <th>prod_comp_Castle Rock Entertainment</th>\n",
       "      <th>prod_comp_Epsilon Motion Pictures</th>\n",
       "      <th>prod_comp_Morgan Creek Productions</th>\n",
       "      <th>prod_comp_Original Film</th>\n",
       "      <th>prod_comp_Focus Features</th>\n",
       "      <th>prod_comp_Legendary Pictures</th>\n",
       "      <th>prod_comp_Participant Media</th>\n",
       "      <th>prod_comp_Blumhouse Productions</th>\n",
       "      <th>prod_comp_New Regency Pictures</th>\n",
       "      <th>prod_comp_Film4</th>\n",
       "      <th>prod_comp_Spyglass Entertainment</th>\n",
       "      <th>prod_comp_Imagine Entertainment</th>\n",
       "      <th>prod_comp_Screen Gems</th>\n",
       "      <th>prod_comp_Millennium Films</th>\n",
       "      <th>prod_comp_TSG Entertainment</th>\n",
       "      <th>prod_comp_Lakeshore Entertainment</th>\n",
       "      <th>prod_comp_France 2 Cinéma</th>\n",
       "      <th>prod_comp_Silver Pictures</th>\n",
       "      <th>prod_comp_The Weinstein Company</th>\n",
       "      <th>prod_comp_PolyGram Filmed Entertainment</th>\n",
       "      <th>prod_comp_Eon Productions</th>\n",
       "      <th>prod_comp_Scott Rudin Productions</th>\n",
       "      <th>prod_comp_Dune Entertainment III</th>\n",
       "      <th>prod_comp_Happy Madison Productions</th>\n",
       "      <th>prod_comp_Studio Babelsberg</th>\n",
       "      <th>prod_comp_Lions Gate Films</th>\n",
       "      <th>prod_comp_EuropaCorp</th>\n",
       "      <th>prod_comp_Gaumont</th>\n",
       "      <th>prod_comp_Carolco Pictures</th>\n",
       "      <th>prod_comp_American Zoetrope</th>\n",
       "      <th>prod_comp_UK Film Council</th>\n",
       "      <th>prod_comp_TF1 Films Production</th>\n",
       "      <th>prod_comp_Ciné+</th>\n",
       "      <th>prod_comp_Revolution Studios</th>\n",
       "      <th>prod_comp_Davis Entertainment</th>\n",
       "      <th>prod_comp_Canal+ España</th>\n",
       "      <th>prod_comp_Ingenious Film Partners</th>\n",
       "      <th>prod_comp_Scott Free Productions</th>\n",
       "      <th>prod_comp_Wild Bunch</th>\n",
       "      <th>no_prod_countries</th>\n",
       "      <th>prod_country_US</th>\n",
       "      <th>prod_country_GB</th>\n",
       "      <th>prod_country_FR</th>\n",
       "      <th>prod_country_DE</th>\n",
       "      <th>prod_country_CA</th>\n",
       "      <th>prod_country_IN</th>\n",
       "      <th>prod_country_IT</th>\n",
       "      <th>prod_country_JP</th>\n",
       "      <th>prod_country_AU</th>\n",
       "      <th>prod_country_RU</th>\n",
       "      <th>prod_country_ES</th>\n",
       "      <th>prod_country_CN</th>\n",
       "      <th>prod_country_HK</th>\n",
       "      <th>prod_country_IE</th>\n",
       "      <th>prod_country_BE</th>\n",
       "      <th>prod_country_KR</th>\n",
       "      <th>prod_country_MX</th>\n",
       "      <th>prod_country_SE</th>\n",
       "      <th>prod_country_NZ</th>\n",
       "      <th>prod_country_NL</th>\n",
       "      <th>prod_country_CZ</th>\n",
       "      <th>prod_country_DK</th>\n",
       "      <th>prod_country_BR</th>\n",
       "      <th>release_weekday</th>\n",
       "      <th>release_month</th>\n",
       "      <th>release_year</th>\n",
       "      <th>no_lang_spoken</th>\n",
       "      <th>spoken_lang_en</th>\n",
       "      <th>spoken_lang_fr</th>\n",
       "      <th>spoken_lang_es</th>\n",
       "      <th>spoken_lang_de</th>\n",
       "      <th>spoken_lang_ru</th>\n",
       "      <th>spoken_lang_it</th>\n",
       "      <th>spoken_lang_ja</th>\n",
       "      <th>spoken_lang_zh</th>\n",
       "      <th>spoken_lang_hi</th>\n",
       "      <th>spoken_lang_pt</th>\n",
       "      <th>spoken_lang_ar</th>\n",
       "      <th>spoken_lang_ko</th>\n",
       "      <th>spoken_lang_cn</th>\n",
       "      <th>spoken_lang_ta</th>\n",
       "      <th>spoken_lang_pl</th>\n",
       "      <th>spoken_lang_hu</th>\n",
       "      <th>spoken_lang_la</th>\n",
       "      <th>spoken_lang_sv</th>\n",
       "      <th>spoken_lang_th</th>\n",
       "      <th>spoken_lang_cs</th>\n",
       "      <th>spoken_lang_he</th>\n",
       "      <th>spoken_lang_el</th>\n",
       "      <th>spoken_lang_tr</th>\n",
       "      <th>spoken_lang_da</th>\n",
       "      <th>is_released</th>\n",
       "      <th>has_tagline</th>\n",
       "      <th>title_word_count</th>\n",
       "      <th>has_keyword</th>\n",
       "      <th>keyword_woman director</th>\n",
       "      <th>keyword_independent film</th>\n",
       "      <th>keyword_duringcreditsstinger</th>\n",
       "      <th>keyword_murder</th>\n",
       "      <th>keyword_based on novel</th>\n",
       "      <th>keyword_violence</th>\n",
       "      <th>keyword_sport</th>\n",
       "      <th>keyword_biography</th>\n",
       "      <th>keyword_aftercreditsstinger</th>\n",
       "      <th>keyword_dystopia</th>\n",
       "      <th>keyword_revenge</th>\n",
       "      <th>keyword_friendship</th>\n",
       "      <th>keyword_sex</th>\n",
       "      <th>keyword_suspense</th>\n",
       "      <th>keyword_sequel</th>\n",
       "      <th>keyword_love</th>\n",
       "      <th>keyword_police</th>\n",
       "      <th>keyword_teenager</th>\n",
       "      <th>keyword_nudity</th>\n",
       "      <th>keyword_female nudity</th>\n",
       "      <th>keyword_drug</th>\n",
       "      <th>keyword_prison</th>\n",
       "      <th>keyword_musical</th>\n",
       "      <th>keyword_high school</th>\n",
       "      <th>keyword_los angeles</th>\n",
       "      <th>keyword_new york</th>\n",
       "      <th>keyword_family</th>\n",
       "      <th>keyword_father son relationship</th>\n",
       "      <th>keyword_kidnapping</th>\n",
       "      <th>keyword_investigation</th>\n",
       "      <th>keyword_wedding</th>\n",
       "      <th>keyword_3d</th>\n",
       "      <th>keyword_detective</th>\n",
       "      <th>keyword_london england</th>\n",
       "      <th>keyword_paris</th>\n",
       "      <th>keyword_based on comic</th>\n",
       "      <th>keyword_robbery</th>\n",
       "      <th>keyword_based on true story</th>\n",
       "      <th>keyword_dying and death</th>\n",
       "      <th>keyword_escape</th>\n",
       "      <th>keyword_alien</th>\n",
       "      <th>keyword_brother brother relationship</th>\n",
       "      <th>keyword_prostitute</th>\n",
       "      <th>keyword_suicide</th>\n",
       "      <th>keyword_rape</th>\n",
       "      <th>keyword_corruption</th>\n",
       "      <th>keyword_death</th>\n",
       "      <th>keyword_superhero</th>\n",
       "      <th>keyword_new york city</th>\n",
       "      <th>keyword_martial arts</th>\n",
       "      <th>keyword_jealousy</th>\n",
       "      <th>keyword_remake</th>\n",
       "      <th>keyword_brother sister relationship</th>\n",
       "      <th>keyword_soldier</th>\n",
       "      <th>keyword_world war ii</th>\n",
       "      <th>keyword_hospital</th>\n",
       "      <th>keyword_magic</th>\n",
       "      <th>keyword_future</th>\n",
       "      <th>keyword_serial killer</th>\n",
       "      <th>keyword_best friend</th>\n",
       "      <th>keyword_daughter</th>\n",
       "      <th>keyword_vampire</th>\n",
       "      <th>keyword_wife husband relationship</th>\n",
       "      <th>keyword_gay</th>\n",
       "      <th>keyword_party</th>\n",
       "      <th>keyword_blood</th>\n",
       "      <th>keyword_divorce</th>\n",
       "      <th>keyword_friends</th>\n",
       "      <th>keyword_male nudity</th>\n",
       "      <th>keyword_war</th>\n",
       "      <th>keyword_explosion</th>\n",
       "      <th>keyword_adultery</th>\n",
       "      <th>keyword_hitman</th>\n",
       "      <th>keyword_lawyer</th>\n",
       "      <th>keyword_dog</th>\n",
       "      <th>keyword_small town</th>\n",
       "      <th>keyword_journalist</th>\n",
       "      <th>keyword_post-apocalyptic</th>\n",
       "      <th>keyword_monster</th>\n",
       "      <th>keyword_time travel</th>\n",
       "      <th>keyword_hostage</th>\n",
       "      <th>keyword_money</th>\n",
       "      <th>keyword_rescue</th>\n",
       "      <th>keyword_romantic comedy</th>\n",
       "      <th>keyword_cia</th>\n",
       "      <th>keyword_love triangle</th>\n",
       "      <th>keyword_hotel</th>\n",
       "      <th>keyword_secret</th>\n",
       "      <th>keyword_assassin</th>\n",
       "      <th>keyword_fight</th>\n",
       "      <th>keyword_love of one's life</th>\n",
       "      <th>keyword_airplane</th>\n",
       "      <th>keyword_infidelity</th>\n",
       "      <th>keyword_gang</th>\n",
       "      <th>keyword_helicopter</th>\n",
       "      <th>keyword_fbi</th>\n",
       "      <th>keyword_relationship</th>\n",
       "      <th>keyword_terrorist</th>\n",
       "      <th>keyword_psychopath</th>\n",
       "      <th>keyword_survival</th>\n",
       "      <th>keyword_teacher</th>\n",
       "      <th>keyword_scientist</th>\n",
       "      <th>keyword_zombie</th>\n",
       "      <th>keyword_ghost</th>\n",
       "      <th>keyword_marriage</th>\n",
       "      <th>keyword_dream</th>\n",
       "      <th>keyword_college</th>\n",
       "      <th>keyword_romance</th>\n",
       "      <th>keyword_chase</th>\n",
       "      <th>keyword_alcohol</th>\n",
       "      <th>keyword_spy</th>\n",
       "      <th>keyword_dark comedy</th>\n",
       "      <th>keyword_coming of age</th>\n",
       "      <th>keyword_competition</th>\n",
       "      <th>keyword_shootout</th>\n",
       "      <th>keyword_blackmail</th>\n",
       "      <th>keyword_flashback</th>\n",
       "      <th>keyword_slasher</th>\n",
       "      <th>keyword_found footage</th>\n",
       "      <th>keyword_drug dealer</th>\n",
       "      <th>keyword_motorcycle</th>\n",
       "      <th>keyword_gangster</th>\n",
       "      <th>keyword_new love</th>\n",
       "      <th>keyword_doctor</th>\n",
       "      <th>keyword_pregnancy</th>\n",
       "      <th>keyword_extramarital affair</th>\n",
       "      <th>keyword_desert</th>\n",
       "      <th>keyword_based on play or musical</th>\n",
       "      <th>keyword_crime</th>\n",
       "      <th>keyword_sister sister relationship</th>\n",
       "      <th>keyword_faith</th>\n",
       "      <th>keyword_torture</th>\n",
       "      <th>keyword_road trip</th>\n",
       "      <th>keyword_gore</th>\n",
       "      <th>keyword_texas</th>\n",
       "      <th>keyword_criminal</th>\n",
       "      <th>keyword_california</th>\n",
       "      <th>keyword_england</th>\n",
       "      <th>keyword_assassination</th>\n",
       "      <th>keyword_government</th>\n",
       "      <th>keyword_conspiracy</th>\n",
       "      <th>keyword_fbi agent</th>\n",
       "      <th>keyword_military</th>\n",
       "      <th>keyword_kiss</th>\n",
       "      <th>keyword_obsession</th>\n",
       "      <th>keyword_reporter</th>\n",
       "      <th>keyword_island</th>\n",
       "      <th>keyword_training</th>\n",
       "      <th>keyword_neo-noir</th>\n",
       "      <th>keyword_amnesia</th>\n",
       "      <th>keyword_undercover</th>\n",
       "      <th>keyword_baby</th>\n",
       "      <th>keyword_animation</th>\n",
       "      <th>keyword_marvel comic</th>\n",
       "      <th>keyword_holiday</th>\n",
       "      <th>keyword_gun</th>\n",
       "      <th>keyword_based on young adult novel</th>\n",
       "      <th>keyword_music</th>\n",
       "      <th>keyword_parent child relationship</th>\n",
       "      <th>keyword_male female relationship</th>\n",
       "      <th>keyword_army</th>\n",
       "      <th>keyword_mountain</th>\n",
       "      <th>keyword_japan</th>\n",
       "      <th>keyword_ship</th>\n",
       "      <th>keyword_usa president</th>\n",
       "      <th>keyword_comedy</th>\n",
       "      <th>keyword_politics</th>\n",
       "      <th>keyword_robot</th>\n",
       "      <th>keyword_baseball</th>\n",
       "      <th>keyword_alcoholic</th>\n",
       "      <th>keyword_christmas</th>\n",
       "      <th>keyword_forest</th>\n",
       "      <th>keyword_writer</th>\n",
       "      <th>keyword_priest</th>\n",
       "      <th>keyword_police officer</th>\n",
       "      <th>keyword_marijuana</th>\n",
       "      <th>keyword_car crash</th>\n",
       "      <th>keyword_car chase</th>\n",
       "      <th>keyword_jungle</th>\n",
       "      <th>keyword_train</th>\n",
       "      <th>keyword_fire</th>\n",
       "      <th>keyword_australia</th>\n",
       "      <th>keyword_restaurant</th>\n",
       "      <th>keyword_secret identity</th>\n",
       "      <th>keyword_hero</th>\n",
       "      <th>keyword_thief</th>\n",
       "      <th>keyword_funeral</th>\n",
       "      <th>keyword_saving the world</th>\n",
       "      <th>keyword_space</th>\n",
       "      <th>keyword_satire</th>\n",
       "      <th>keyword_washington d.c.</th>\n",
       "      <th>keyword_witch</th>\n",
       "      <th>keyword_super powers</th>\n",
       "      <th>keyword_becoming an adult</th>\n",
       "      <th>keyword_mother daughter relationship</th>\n",
       "      <th>keyword_killer</th>\n",
       "      <th>keyword_snow</th>\n",
       "      <th>keyword_mutant</th>\n",
       "      <th>keyword_neighbor</th>\n",
       "      <th>keyword_sheriff</th>\n",
       "      <th>keyword_artificial intelligence</th>\n",
       "      <th>keyword_demon</th>\n",
       "      <th>keyword_mobster</th>\n",
       "      <th>keyword_dancing</th>\n",
       "      <th>keyword_world war i</th>\n",
       "      <th>keyword_spoof</th>\n",
       "      <th>keyword_wilderness</th>\n",
       "      <th>keyword_student</th>\n",
       "      <th>keyword_loss of father</th>\n",
       "      <th>keyword_homosexuality</th>\n",
       "      <th>keyword_airport</th>\n",
       "      <th>keyword_family relationships</th>\n",
       "      <th>keyword_deception</th>\n",
       "      <th>keyword_battle</th>\n",
       "      <th>keyword_india</th>\n",
       "      <th>keyword_boxer</th>\n",
       "      <th>keyword_lovers</th>\n",
       "      <th>keyword_cop</th>\n",
       "      <th>keyword_based on tv series</th>\n",
       "      <th>keyword_lesbian</th>\n",
       "      <th>keyword_dc comics</th>\n",
       "      <th>keyword_hallucination</th>\n",
       "      <th>keyword_nazis</th>\n",
       "      <th>keyword_sea</th>\n",
       "      <th>keyword_orphan</th>\n",
       "      <th>keyword_winter</th>\n",
       "      <th>keyword_terrorism</th>\n",
       "      <th>keyword_pilot</th>\n",
       "      <th>keyword_weapon</th>\n",
       "      <th>keyword_san francisco</th>\n",
       "      <th>keyword_surrealism</th>\n",
       "      <th>keyword_on the run</th>\n",
       "      <th>keyword_paranoia</th>\n",
       "      <th>keyword_suicide attempt</th>\n",
       "      <th>keyword_chicago</th>\n",
       "      <th>keyword_school</th>\n",
       "      <th>keyword_motel</th>\n",
       "      <th>keyword_loneliness</th>\n",
       "      <th>keyword_summer</th>\n",
       "      <th>keyword_seduction</th>\n",
       "      <th>keyword_black people</th>\n",
       "      <th>keyword_psychiatrist</th>\n",
       "      <th>keyword_kung fu</th>\n",
       "      <th>keyword_prisoner</th>\n",
       "      <th>keyword_castle</th>\n",
       "      <th>keyword_beach</th>\n",
       "      <th>keyword_rural setting</th>\n",
       "      <th>keyword_teenage girl</th>\n",
       "      <th>keyword_street gang</th>\n",
       "      <th>keyword_bar</th>\n",
       "      <th>keyword_organized crime</th>\n",
       "      <th>keyword_youth</th>\n",
       "      <th>keyword_france</th>\n",
       "      <th>keyword_afterlife</th>\n",
       "      <th>keyword_computer</th>\n",
       "      <th>keyword_historical figure</th>\n",
       "      <th>keyword_android</th>\n",
       "      <th>keyword_russia</th>\n",
       "      <th>keyword_career</th>\n",
       "      <th>keyword_dinosaur</th>\n",
       "      <th>keyword_drug addiction</th>\n",
       "      <th>keyword_incest</th>\n",
       "      <th>keyword_bomb</th>\n",
       "      <th>keyword_based on video game</th>\n",
       "      <th>keyword_racism</th>\n",
       "      <th>keyword_mafia</th>\n",
       "      <th>keyword_puppet</th>\n",
       "      <th>keyword_vacation</th>\n",
       "      <th>keyword_midlife crisis</th>\n",
       "      <th>keyword_lie</th>\n",
       "      <th>keyword_waitress</th>\n",
       "      <th>keyword_river</th>\n",
       "      <th>keyword_apartment</th>\n",
       "      <th>keyword_lgbt</th>\n",
       "      <th>keyword_painting</th>\n",
       "      <th>keyword_evil</th>\n",
       "      <th>keyword_mask</th>\n",
       "      <th>keyword_china</th>\n",
       "      <th>keyword_car race</th>\n",
       "      <th>keyword_outer space</th>\n",
       "      <th>keyword_astronaut</th>\n",
       "      <th>keyword_horse</th>\n",
       "      <th>keyword_treasure</th>\n",
       "      <th>keyword_based on true events</th>\n",
       "      <th>keyword_death of a friend</th>\n",
       "      <th>keyword_florida</th>\n",
       "      <th>keyword_talking animal</th>\n",
       "      <th>keyword_travel</th>\n",
       "      <th>keyword_eroticism</th>\n",
       "      <th>keyword_age difference</th>\n",
       "      <th>keyword_female protagonist</th>\n",
       "      <th>keyword_child abuse</th>\n",
       "      <th>keyword_marriage proposal</th>\n",
       "      <th>keyword_drama</th>\n",
       "      <th>keyword_hoodlum</th>\n",
       "      <th>keyword_betrayal</th>\n",
       "      <th>keyword_rivalry</th>\n",
       "      <th>keyword_sniper</th>\n",
       "      <th>keyword_1970s</th>\n",
       "      <th>keyword_father daughter relationship</th>\n",
       "      <th>keyword_forbidden love</th>\n",
       "      <th>keyword_film noir</th>\n",
       "      <th>keyword_showdown</th>\n",
       "      <th>keyword_marriage crisis</th>\n",
       "      <th>keyword_author</th>\n",
       "      <th>keyword_wheelchair</th>\n",
       "      <th>keyword_cancer</th>\n",
       "      <th>keyword_fear</th>\n",
       "      <th>no_cast</th>\n",
       "      <th>cast_Samuel L. Jackson</th>\n",
       "      <th>cast_Robert De Niro</th>\n",
       "      <th>cast_Morgan Freeman</th>\n",
       "      <th>cast_J.K. Simmons</th>\n",
       "      <th>cast_Bruce Willis</th>\n",
       "      <th>cast_Liam Neeson</th>\n",
       "      <th>cast_Susan Sarandon</th>\n",
       "      <th>cast_Bruce McGill</th>\n",
       "      <th>cast_John Turturro</th>\n",
       "      <th>cast_Forest Whitaker</th>\n",
       "      <th>cast_Willem Dafoe</th>\n",
       "      <th>cast_Bill Murray</th>\n",
       "      <th>cast_Owen Wilson</th>\n",
       "      <th>cast_Nicolas Cage</th>\n",
       "      <th>cast_Sylvester Stallone</th>\n",
       "      <th>cast_Jason Statham</th>\n",
       "      <th>cast_Keith David</th>\n",
       "      <th>cast_John Goodman</th>\n",
       "      <th>cast_Mel Gibson</th>\n",
       "      <th>cast_Sigourney Weaver</th>\n",
       "      <th>cast_Frank Welker</th>\n",
       "      <th>cast_Michael Caine</th>\n",
       "      <th>cast_George Clooney</th>\n",
       "      <th>cast_Denzel Washington</th>\n",
       "      <th>cast_Robert Duvall</th>\n",
       "      <th>cast_Ed Harris</th>\n",
       "      <th>cast_Dennis Quaid</th>\n",
       "      <th>cast_Richard Jenkins</th>\n",
       "      <th>cast_Matt Damon</th>\n",
       "      <th>cast_Christopher Plummer</th>\n",
       "      <th>cast_Gene Hackman</th>\n",
       "      <th>cast_Christopher Walken</th>\n",
       "      <th>cast_William H. Macy</th>\n",
       "      <th>cast_James Franco</th>\n",
       "      <th>cast_Jim Broadbent</th>\n",
       "      <th>cast_John C. Reilly</th>\n",
       "      <th>cast_Kevin Bacon</th>\n",
       "      <th>cast_Christian Bale</th>\n",
       "      <th>cast_Alec Baldwin</th>\n",
       "      <th>cast_Allison Janney</th>\n",
       "      <th>cast_Brian Cox</th>\n",
       "      <th>cast_John Leguizamo</th>\n",
       "      <th>cast_Julianne Moore</th>\n",
       "      <th>cast_Robert Downey Jr.</th>\n",
       "      <th>cast_Michael Shannon</th>\n",
       "      <th>cast_Steve Buscemi</th>\n",
       "      <th>cast_Tom Hanks</th>\n",
       "      <th>cast_Mark Wahlberg</th>\n",
       "      <th>cast_John Cusack</th>\n",
       "      <th>cast_Carla Gugino</th>\n",
       "      <th>cast_Harrison Ford</th>\n",
       "      <th>cast_Cate Blanchett</th>\n",
       "      <th>cast_Ray Liotta</th>\n",
       "      <th>cast_Stanley Tucci</th>\n",
       "      <th>cast_Colleen Camp</th>\n",
       "      <th>cast_Kevin Dunn</th>\n",
       "      <th>cast_Julia Roberts</th>\n",
       "      <th>cast_Philip Seymour Hoffman</th>\n",
       "      <th>cast_Catherine Keener</th>\n",
       "      <th>cast_Cheech Marin</th>\n",
       "      <th>cast_Ethan Hawke</th>\n",
       "      <th>cast_Bradley Cooper</th>\n",
       "      <th>cast_Vince Vaughn</th>\n",
       "      <th>cast_Danny DeVito</th>\n",
       "      <th>cast_James Woods</th>\n",
       "      <th>cast_Colin Farrell</th>\n",
       "      <th>cast_Peter Stormare</th>\n",
       "      <th>cast_Ben Affleck</th>\n",
       "      <th>cast_Dennis Hopper</th>\n",
       "      <th>cast_Arnold Schwarzenegger</th>\n",
       "      <th>cast_Keanu Reeves</th>\n",
       "      <th>cast_Johnny Depp</th>\n",
       "      <th>cast_Brendan Gleeson</th>\n",
       "      <th>cast_John Hurt</th>\n",
       "      <th>cast_Meryl Streep</th>\n",
       "      <th>cast_Philip Ettington</th>\n",
       "      <th>cast_Jason Bateman</th>\n",
       "      <th>cast_Robin Williams</th>\n",
       "      <th>cast_Ewan McGregor</th>\n",
       "      <th>cast_David Koechner</th>\n",
       "      <th>cast_Sean Connery</th>\n",
       "      <th>cast_James Earl Jones</th>\n",
       "      <th>cast_Chris Cooper</th>\n",
       "      <th>cast_Harvey Keitel</th>\n",
       "      <th>cast_Dwayne Johnson</th>\n",
       "      <th>cast_Tom Cruise</th>\n",
       "      <th>cast_Gary Oldman</th>\n",
       "      <th>cast_Donald Sutherland</th>\n",
       "      <th>cast_Kurt Russell</th>\n",
       "      <th>cast_Woody Harrelson</th>\n",
       "      <th>cast_Patrick Stewart</th>\n",
       "      <th>cast_Whoopi Goldberg</th>\n",
       "      <th>cast_Dan Hedaya</th>\n",
       "      <th>cast_Sean Penn</th>\n",
       "      <th>cast_Russell Crowe</th>\n",
       "      <th>cast_Tom Wilkinson</th>\n",
       "      <th>cast_Kathy Bates</th>\n",
       "      <th>cast_Dan Aykroyd</th>\n",
       "      <th>cast_Charlie Sheen</th>\n",
       "      <th>cast_Hugh Jackman</th>\n",
       "      <th>cast_Justin Long</th>\n",
       "      <th>cast_Oliver Platt</th>\n",
       "      <th>cast_James Remar</th>\n",
       "      <th>cast_Jonah Hill</th>\n",
       "      <th>cast_Elizabeth Banks</th>\n",
       "      <th>cast_Steve Zahn</th>\n",
       "      <th>cast_Ben Stiller</th>\n",
       "      <th>cast_Eddie Murphy</th>\n",
       "      <th>cast_Brad Pitt</th>\n",
       "      <th>cast_Kirsten Dunst</th>\n",
       "      <th>cast_John Michael Higgins</th>\n",
       "      <th>cast_Kevin Spacey</th>\n",
       "      <th>cast_Toni Collette</th>\n",
       "      <th>cast_Philip Baker Hall</th>\n",
       "      <th>cast_Cliff Curtis</th>\n",
       "      <th>cast_Daniel Craig</th>\n",
       "      <th>cast_James Gandolfini</th>\n",
       "      <th>cast_John Hawkes</th>\n",
       "      <th>cast_Richard Gere</th>\n",
       "      <th>cast_Viola Davis</th>\n",
       "      <th>cast_Ian McKellen</th>\n",
       "      <th>cast_Marisa Tomei</th>\n",
       "      <th>cast_Scarlett Johansson</th>\n",
       "      <th>cast_Bruce Greenwood</th>\n",
       "      <th>cast_Adam Sandler</th>\n",
       "      <th>cast_Kiefer Sutherland</th>\n",
       "      <th>cast_Robert Redford</th>\n",
       "      <th>cast_Jim Carrey</th>\n",
       "      <th>cast_Nick Nolte</th>\n",
       "      <th>cast_Jeff Daniels</th>\n",
       "      <th>cast_Laurence Fishburne</th>\n",
       "      <th>cast_Jeff Bridges</th>\n",
       "      <th>cast_Nicole Kidman</th>\n",
       "      <th>cast_Aaron Eckhart</th>\n",
       "      <th>cast_Rachel Weisz</th>\n",
       "      <th>cast_Olivia Wilde</th>\n",
       "      <th>cast_Ron Perlman</th>\n",
       "      <th>cast_Ben Kingsley</th>\n",
       "      <th>cast_Dean Norris</th>\n",
       "      <th>cast_Antonio Banderas</th>\n",
       "      <th>cast_Danny Huston</th>\n",
       "      <th>cast_Terence Stamp</th>\n",
       "      <th>cast_Pierce Brosnan</th>\n",
       "      <th>cast_Charlize Theron</th>\n",
       "      <th>cast_Adam Scott</th>\n",
       "      <th>cast_Jane Lynch</th>\n",
       "      <th>cast_Cameron Diaz</th>\n",
       "      <th>cast_William Hurt</th>\n",
       "      <th>cast_Amanda Peet</th>\n",
       "      <th>cast_Elijah Wood</th>\n",
       "      <th>cast_Dustin Hoffman</th>\n",
       "      <th>cast_Harry Dean Stanton</th>\n",
       "      <th>cast_Stephen Root</th>\n",
       "      <th>cast_Judi Dench</th>\n",
       "      <th>cast_Jeffrey Wright</th>\n",
       "      <th>cast_Bette Midler</th>\n",
       "      <th>cast_Sean Bean</th>\n",
       "      <th>cast_Hugo Weaving</th>\n",
       "      <th>cast_Christopher Lee</th>\n",
       "      <th>cast_Bill Paxton</th>\n",
       "      <th>cast_Jeremy Piven</th>\n",
       "      <th>cast_Chlo√´ Grace Moretz</th>\n",
       "      <th>cast_Greg Kinnear</th>\n",
       "      <th>cast_Halle Berry</th>\n",
       "      <th>cast_Mickey Rourke</th>\n",
       "      <th>cast_Jamie Bell</th>\n",
       "      <th>cast_Octavia Spencer</th>\n",
       "      <th>cast_Milla Jovovich</th>\n",
       "      <th>cast_Angela Bassett</th>\n",
       "      <th>cast_Seth Green</th>\n",
       "      <th>cast_Jon Voight</th>\n",
       "      <th>cast_John Ratzenberger</th>\n",
       "      <th>cast_Geoffrey Rush</th>\n",
       "      <th>cast_Alfred Molina</th>\n",
       "      <th>cast_Kathryn Hahn</th>\n",
       "      <th>cast_Zoe Saldana</th>\n",
       "      <th>cast_Beth Grant</th>\n",
       "      <th>cast_Danny Trejo</th>\n",
       "      <th>cast_Mark Ruffalo</th>\n",
       "      <th>cast_Kevin Costner</th>\n",
       "      <th>cast_Luis Guzm√°n</th>\n",
       "      <th>cast_John Malkovich</th>\n",
       "      <th>cast_Paul Giamatti</th>\n",
       "      <th>cast_Timothy Olyphant</th>\n",
       "      <th>cast_Mike Starr</th>\n",
       "      <th>cast_Diane Lane</th>\n",
       "      <th>cast_Wesley Snipes</th>\n",
       "      <th>cast_Dennis Haysbert</th>\n",
       "      <th>cast_Mark Strong</th>\n",
       "      <th>cast_Anthony Hopkins</th>\n",
       "      <th>cast_John Travolta</th>\n",
       "      <th>cast_Frank Grillo</th>\n",
       "      <th>cast_Rance Howard</th>\n",
       "      <th>cast_Charlton Heston</th>\n",
       "      <th>cast_Diane Keaton</th>\n",
       "      <th>cast_Jay Leno</th>\n",
       "      <th>cast_Michael Madsen</th>\n",
       "      <th>cast_Channing Tatum</th>\n",
       "      <th>cast_Eva Mendes</th>\n",
       "      <th>cast_Stacy Keach</th>\n",
       "      <th>cast_James Caan</th>\n",
       "      <th>cast_John Lithgow</th>\n",
       "      <th>cast_Helen Mirren</th>\n",
       "      <th>cast_Laura Linney</th>\n",
       "      <th>cast_Joe Pantoliano</th>\n",
       "      <th>cast_Naomi Watts</th>\n",
       "      <th>cast_Jennifer Connelly</th>\n",
       "      <th>cast_Matthew Broderick</th>\n",
       "      <th>cast_Tim Robbins</th>\n",
       "      <th>cast_Giovanni Ribisi</th>\n",
       "      <th>cast_Jamie Foxx</th>\n",
       "      <th>cast_Winona Ryder</th>\n",
       "      <th>cast_Tilda Swinton</th>\n",
       "      <th>cast_Jennifer Lopez</th>\n",
       "      <th>cast_Vincent D'Onofrio</th>\n",
       "      <th>cast_Brian Dennehy</th>\n",
       "      <th>cast_Benicio del Toro</th>\n",
       "      <th>cast_Jim Belushi</th>\n",
       "      <th>cast_Terry Crews</th>\n",
       "      <th>cast_Michael Douglas</th>\n",
       "      <th>cast_John Cleese</th>\n",
       "      <th>cast_Frank Langella</th>\n",
       "      <th>cast_Robert Patrick</th>\n",
       "      <th>cast_Sandra Bullock</th>\n",
       "      <th>cast_Gwyneth Paltrow</th>\n",
       "      <th>cast_Ashley Judd</th>\n",
       "      <th>cast_Rosario Dawson</th>\n",
       "      <th>cast_Meg Ryan</th>\n",
       "      <th>cast_Eddie Marsan</th>\n",
       "      <th>cast_Denis O'Hare</th>\n",
       "      <th>cast_Jim Cummings</th>\n",
       "      <th>cast_Al Pacino</th>\n",
       "      <th>cast_Joaquin Phoenix</th>\n",
       "      <th>cast_Glenn Morshower</th>\n",
       "      <th>cast_Ken Jeong</th>\n",
       "      <th>cast_Val Kilmer</th>\n",
       "      <th>cast_Brad Dourif</th>\n",
       "      <th>cast_Anthony Mackie</th>\n",
       "      <th>cast_Kathy Baker</th>\n",
       "      <th>cast_Clint Eastwood</th>\n",
       "      <th>cast_Richard E. Grant</th>\n",
       "      <th>cast_Ryan Gosling</th>\n",
       "      <th>cast_Tim Curry</th>\n",
       "      <th>cast_Eugene Levy</th>\n",
       "      <th>cast_Rachael Harris</th>\n",
       "      <th>cast_James Cromwell</th>\n",
       "      <th>cast_Cillian Murphy</th>\n",
       "      <th>cast_Bill Nighy</th>\n",
       "      <th>cast_Steve Martin</th>\n",
       "      <th>cast_Vin Diesel</th>\n",
       "      <th>cast_Jackie Chan</th>\n",
       "      <th>cast_Amy Adams</th>\n",
       "      <th>cast_Judy Greer</th>\n",
       "      <th>cast_Ice Cube</th>\n",
       "      <th>cast_Frances Conroy</th>\n",
       "      <th>cast_Jessica Chastain</th>\n",
       "      <th>cast_Bill Pullman</th>\n",
       "      <th>cast_Viggo Mortensen</th>\n",
       "      <th>cast_John C. McGinley</th>\n",
       "      <th>cast_Joseph Gordon-Levitt</th>\n",
       "      <th>cast_Michael Pe√±a</th>\n",
       "      <th>cast_Famke Janssen</th>\n",
       "      <th>cast_Idris Elba</th>\n",
       "      <th>cast_David Jensen</th>\n",
       "      <th>cast_Michelle Rodriguez</th>\n",
       "      <th>cast_Desmond Llewelyn</th>\n",
       "      <th>cast_Edward Norton</th>\n",
       "      <th>cast_Kurt Fuller</th>\n",
       "      <th>cast_Ciar√°n Hinds</th>\n",
       "      <th>cast_Thomas Haden Church</th>\n",
       "      <th>cast_Melissa McCarthy</th>\n",
       "      <th>cast_William Fichtner</th>\n",
       "      <th>cast_Joe Chrest</th>\n",
       "      <th>cast_Michael Papajohn</th>\n",
       "      <th>cast_Josh Brolin</th>\n",
       "      <th>cast_Barry Pepper</th>\n",
       "      <th>cast_Robbie Coltrane</th>\n",
       "      <th>cast_Djimon Hounsou</th>\n",
       "      <th>cast_Toby Jones</th>\n",
       "      <th>cast_Tony Shalhoub</th>\n",
       "      <th>cast_Gabriel Byrne</th>\n",
       "      <th>cast_Cary Elwes</th>\n",
       "      <th>cast_Matthew McConaughey</th>\n",
       "      <th>cast_Bill Hader</th>\n",
       "      <th>cast_Wallace Shawn</th>\n",
       "      <th>cast_Guy Pearce</th>\n",
       "      <th>cast_Melissa Leo</th>\n",
       "      <th>cast_Drew Barrymore</th>\n",
       "      <th>cast_Ren√©e Zellweger</th>\n",
       "      <th>cast_Jack Black</th>\n",
       "      <th>cast_Natalie Portman</th>\n",
       "      <th>cast_Paul Rudd</th>\n",
       "      <th>cast_Michael Keaton</th>\n",
       "      <th>cast_Stellan Skarsg√•rd</th>\n",
       "      <th>no_of_crew</th>\n",
       "      <th>crew_Avy Kaufman</th>\n",
       "      <th>crew_Robert Rodriguez</th>\n",
       "      <th>crew_Deborah Aquila</th>\n",
       "      <th>crew_James Newton Howard</th>\n",
       "      <th>crew_Mary Vernieu</th>\n",
       "      <th>crew_Steven Spielberg</th>\n",
       "      <th>crew_Luc Besson</th>\n",
       "      <th>crew_Jerry Goldsmith</th>\n",
       "      <th>crew_Francine Maisler</th>\n",
       "      <th>crew_Tricia Wood</th>\n",
       "      <th>crew_James Horner</th>\n",
       "      <th>crew_Kerry Barden</th>\n",
       "      <th>crew_Bob Weinstein</th>\n",
       "      <th>crew_Harvey Weinstein</th>\n",
       "      <th>crew_Janet Hirshenson</th>\n",
       "      <th>crew_Jane Jenkins</th>\n",
       "      <th>crew_John Debney</th>\n",
       "      <th>crew_Hans Zimmer</th>\n",
       "      <th>crew_John Papsidera</th>\n",
       "      <th>crew_Francis Ford Coppola</th>\n",
       "      <th>crew_Billy Hopkins</th>\n",
       "      <th>crew_Danny Elfman</th>\n",
       "      <th>crew_Mindy Marin</th>\n",
       "      <th>crew_Hans Bjerno</th>\n",
       "      <th>crew_Sarah Finn</th>\n",
       "      <th>crew_Neal H. Moritz</th>\n",
       "      <th>crew_Tim Bevan</th>\n",
       "      <th>crew_Alan Silvestri</th>\n",
       "      <th>crew_Mark Isham</th>\n",
       "      <th>crew_Marco Beltrami</th>\n",
       "      <th>crew_Scott Rudin</th>\n",
       "      <th>crew_Arnon Milchan</th>\n",
       "      <th>crew_Graeme Revell</th>\n",
       "      <th>crew_Dan O'Connell</th>\n",
       "      <th>crew_Eric Fellner</th>\n",
       "      <th>crew_Bruce Berman</th>\n",
       "      <th>crew_Suzanne Smith</th>\n",
       "      <th>crew_Steven Soderbergh</th>\n",
       "      <th>crew_Amanda Mackey</th>\n",
       "      <th>crew_Clint Eastwood</th>\n",
       "      <th>crew_Thomas Newman</th>\n",
       "      <th>crew_Frank Marshall</th>\n",
       "      <th>crew_Peter Jackson</th>\n",
       "      <th>crew_Michael Mann</th>\n",
       "      <th>crew_George Lucas</th>\n",
       "      <th>crew_John Powell</th>\n",
       "      <th>crew_Denise Chamian</th>\n",
       "      <th>crew_Carter Burwell</th>\n",
       "      <th>crew_Randi Hiller</th>\n",
       "      <th>crew_Ron Howard</th>\n",
       "      <th>crew_Brian Grazer</th>\n",
       "      <th>crew_Cathy Sandrich</th>\n",
       "      <th>crew_Ivan Reitman</th>\n",
       "      <th>crew_Joel Silver</th>\n",
       "      <th>crew_Christophe Beck</th>\n",
       "      <th>crew_Sylvester Stallone</th>\n",
       "      <th>crew_John Williams</th>\n",
       "      <th>crew_Wes Craven</th>\n",
       "      <th>crew_Roger Birnbaum</th>\n",
       "      <th>crew_Howard Shore</th>\n",
       "      <th>crew_J.J. Makaro</th>\n",
       "      <th>crew_Paul W.S. Anderson</th>\n",
       "      <th>crew_John T. Cucci</th>\n",
       "    </tr>\n",
       "  </thead>\n",
       "  <tbody>\n",
       "    <tr>\n",
       "      <th>0</th>\n",
       "      <td>16.454568</td>\n",
       "      <td>2.024905</td>\n",
       "      <td>4.543295</td>\n",
       "      <td>16.3263</td>\n",
       "      <td>2.433613</td>\n",
       "      <td>5.0</td>\n",
       "      <td>6.180017</td>\n",
       "      <td>1</td>\n",
       "      <td>1</td>\n",
       "      <td>0</td>\n",
       "      <td>1</td>\n",
       "      <td>0</td>\n",
       "      <td>0</td>\n",
       "      <td>0</td>\n",
       "      <td>0</td>\n",
       "      <td>0</td>\n",
       "      <td>0</td>\n",
       "      <td>0</td>\n",
       "      <td>0</td>\n",
       "      <td>0</td>\n",
       "      <td>0</td>\n",
       "      <td>0</td>\n",
       "      <td>0</td>\n",
       "      <td>0</td>\n",
       "      <td>0</td>\n",
       "      <td>0</td>\n",
       "      <td>0</td>\n",
       "      <td>0</td>\n",
       "      <td>0</td>\n",
       "      <td>1</td>\n",
       "      <td>22</td>\n",
       "      <td>5</td>\n",
       "      <td>29.0</td>\n",
       "      <td>3</td>\n",
       "      <td>0</td>\n",
       "      <td>0</td>\n",
       "      <td>1</td>\n",
       "      <td>0</td>\n",
       "      <td>0</td>\n",
       "      <td>1</td>\n",
       "      <td>0</td>\n",
       "      <td>0</td>\n",
       "      <td>0</td>\n",
       "      <td>0</td>\n",
       "      <td>0</td>\n",
       "      <td>0</td>\n",
       "      <td>0</td>\n",
       "      <td>1</td>\n",
       "      <td>0</td>\n",
       "      <td>0</td>\n",
       "      <td>0</td>\n",
       "      <td>0</td>\n",
       "      <td>0</td>\n",
       "      <td>0</td>\n",
       "      <td>0</td>\n",
       "      <td>0</td>\n",
       "      <td>0</td>\n",
       "      <td>0</td>\n",
       "      <td>0</td>\n",
       "      <td>0</td>\n",
       "      <td>0</td>\n",
       "      <td>0</td>\n",
       "      <td>0</td>\n",
       "      <td>0</td>\n",
       "      <td>0</td>\n",
       "      <td>0</td>\n",
       "      <td>0</td>\n",
       "      <td>0</td>\n",
       "      <td>0</td>\n",
       "      <td>0</td>\n",
       "      <td>0</td>\n",
       "      <td>0</td>\n",
       "      <td>0</td>\n",
       "      <td>0</td>\n",
       "      <td>0</td>\n",
       "      <td>0</td>\n",
       "      <td>0</td>\n",
       "      <td>0</td>\n",
       "      <td>0</td>\n",
       "      <td>0</td>\n",
       "      <td>0</td>\n",
       "      <td>0</td>\n",
       "      <td>0</td>\n",
       "      <td>0</td>\n",
       "      <td>0</td>\n",
       "      <td>0</td>\n",
       "      <td>0</td>\n",
       "      <td>0</td>\n",
       "      <td>0</td>\n",
       "      <td>0</td>\n",
       "      <td>0</td>\n",
       "      <td>0</td>\n",
       "      <td>0</td>\n",
       "      <td>0</td>\n",
       "      <td>0</td>\n",
       "      <td>0</td>\n",
       "      <td>0</td>\n",
       "      <td>0</td>\n",
       "      <td>0</td>\n",
       "      <td>0</td>\n",
       "      <td>0</td>\n",
       "      <td>0</td>\n",
       "      <td>0</td>\n",
       "      <td>1</td>\n",
       "      <td>1</td>\n",
       "      <td>0</td>\n",
       "      <td>0</td>\n",
       "      <td>0</td>\n",
       "      <td>0</td>\n",
       "      <td>0</td>\n",
       "      <td>0</td>\n",
       "      <td>0</td>\n",
       "      <td>0</td>\n",
       "      <td>0</td>\n",
       "      <td>0</td>\n",
       "      <td>0</td>\n",
       "      <td>0</td>\n",
       "      <td>0</td>\n",
       "      <td>0</td>\n",
       "      <td>0</td>\n",
       "      <td>0</td>\n",
       "      <td>0</td>\n",
       "      <td>0</td>\n",
       "      <td>0</td>\n",
       "      <td>0</td>\n",
       "      <td>0</td>\n",
       "      <td>0</td>\n",
       "      <td>4</td>\n",
       "      <td>2</td>\n",
       "      <td>2015</td>\n",
       "      <td>1</td>\n",
       "      <td>1</td>\n",
       "      <td>0</td>\n",
       "      <td>0</td>\n",
       "      <td>0</td>\n",
       "      <td>0</td>\n",
       "      <td>0</td>\n",
       "      <td>0</td>\n",
       "      <td>0</td>\n",
       "      <td>0</td>\n",
       "      <td>0</td>\n",
       "      <td>0</td>\n",
       "      <td>0</td>\n",
       "      <td>0</td>\n",
       "      <td>0</td>\n",
       "      <td>0</td>\n",
       "      <td>0</td>\n",
       "      <td>0</td>\n",
       "      <td>0</td>\n",
       "      <td>0</td>\n",
       "      <td>0</td>\n",
       "      <td>0</td>\n",
       "      <td>0</td>\n",
       "      <td>0</td>\n",
       "      <td>0</td>\n",
       "      <td>1</td>\n",
       "      <td>1</td>\n",
       "      <td>5</td>\n",
       "      <td>1</td>\n",
       "      <td>0</td>\n",
       "      <td>0</td>\n",
       "      <td>1</td>\n",
       "      <td>0</td>\n",
       "      <td>0</td>\n",
       "      <td>0</td>\n",
       "      <td>0</td>\n",
       "      <td>0</td>\n",
       "      <td>0</td>\n",
       "      <td>0</td>\n",
       "      <td>0</td>\n",
       "      <td>0</td>\n",
       "      <td>0</td>\n",
       "      <td>0</td>\n",
       "      <td>1</td>\n",
       "      <td>0</td>\n",
       "      <td>0</td>\n",
       "      <td>0</td>\n",
       "      <td>0</td>\n",
       "      <td>0</td>\n",
       "      <td>0</td>\n",
       "      <td>0</td>\n",
       "      <td>0</td>\n",
       "      <td>0</td>\n",
       "      <td>0</td>\n",
       "      <td>0</td>\n",
       "      <td>0</td>\n",
       "      <td>0</td>\n",
       "      <td>0</td>\n",
       "      <td>0</td>\n",
       "      <td>0</td>\n",
       "      <td>0</td>\n",
       "      <td>0</td>\n",
       "      <td>0</td>\n",
       "      <td>0</td>\n",
       "      <td>0</td>\n",
       "      <td>0</td>\n",
       "      <td>0</td>\n",
       "      <td>0</td>\n",
       "      <td>0</td>\n",
       "      <td>0</td>\n",
       "      <td>0</td>\n",
       "      <td>0</td>\n",
       "      <td>0</td>\n",
       "      <td>0</td>\n",
       "      <td>0</td>\n",
       "      <td>0</td>\n",
       "      <td>0</td>\n",
       "      <td>0</td>\n",
       "      <td>0</td>\n",
       "      <td>0</td>\n",
       "      <td>0</td>\n",
       "      <td>0</td>\n",
       "      <td>0</td>\n",
       "      <td>0</td>\n",
       "      <td>0</td>\n",
       "      <td>0</td>\n",
       "      <td>0</td>\n",
       "      <td>0</td>\n",
       "      <td>0</td>\n",
       "      <td>0</td>\n",
       "      <td>0</td>\n",
       "      <td>0</td>\n",
       "      <td>0</td>\n",
       "      <td>0</td>\n",
       "      <td>0</td>\n",
       "      <td>0</td>\n",
       "      <td>0</td>\n",
       "      <td>0</td>\n",
       "      <td>0</td>\n",
       "      <td>0</td>\n",
       "      <td>0</td>\n",
       "      <td>0</td>\n",
       "      <td>0</td>\n",
       "      <td>0</td>\n",
       "      <td>0</td>\n",
       "      <td>0</td>\n",
       "      <td>0</td>\n",
       "      <td>0</td>\n",
       "      <td>1</td>\n",
       "      <td>0</td>\n",
       "      <td>0</td>\n",
       "      <td>0</td>\n",
       "      <td>0</td>\n",
       "      <td>0</td>\n",
       "      <td>0</td>\n",
       "      <td>0</td>\n",
       "      <td>0</td>\n",
       "      <td>0</td>\n",
       "      <td>0</td>\n",
       "      <td>0</td>\n",
       "      <td>0</td>\n",
       "      <td>0</td>\n",
       "      <td>0</td>\n",
       "      <td>0</td>\n",
       "      <td>0</td>\n",
       "      <td>0</td>\n",
       "      <td>0</td>\n",
       "      <td>0</td>\n",
       "      <td>0</td>\n",
       "      <td>0</td>\n",
       "      <td>0</td>\n",
       "      <td>0</td>\n",
       "      <td>0</td>\n",
       "      <td>0</td>\n",
       "      <td>0</td>\n",
       "      <td>0</td>\n",
       "      <td>0</td>\n",
       "      <td>0</td>\n",
       "      <td>0</td>\n",
       "      <td>0</td>\n",
       "      <td>0</td>\n",
       "      <td>0</td>\n",
       "      <td>0</td>\n",
       "      <td>0</td>\n",
       "      <td>0</td>\n",
       "      <td>0</td>\n",
       "      <td>0</td>\n",
       "      <td>0</td>\n",
       "      <td>0</td>\n",
       "      <td>0</td>\n",
       "      <td>0</td>\n",
       "      <td>0</td>\n",
       "      <td>0</td>\n",
       "      <td>0</td>\n",
       "      <td>0</td>\n",
       "      <td>0</td>\n",
       "      <td>0</td>\n",
       "      <td>0</td>\n",
       "      <td>0</td>\n",
       "      <td>0</td>\n",
       "      <td>0</td>\n",
       "      <td>0</td>\n",
       "      <td>0</td>\n",
       "      <td>0</td>\n",
       "      <td>0</td>\n",
       "      <td>0</td>\n",
       "      <td>0</td>\n",
       "      <td>0</td>\n",
       "      <td>0</td>\n",
       "      <td>0</td>\n",
       "      <td>0</td>\n",
       "      <td>0</td>\n",
       "      <td>0</td>\n",
       "      <td>0</td>\n",
       "      <td>0</td>\n",
       "      <td>0</td>\n",
       "      <td>0</td>\n",
       "      <td>0</td>\n",
       "      <td>0</td>\n",
       "      <td>0</td>\n",
       "      <td>0</td>\n",
       "      <td>0</td>\n",
       "      <td>0</td>\n",
       "      <td>0</td>\n",
       "      <td>0</td>\n",
       "      <td>0</td>\n",
       "      <td>0</td>\n",
       "      <td>0</td>\n",
       "      <td>0</td>\n",
       "      <td>0</td>\n",
       "      <td>0</td>\n",
       "      <td>0</td>\n",
       "      <td>0</td>\n",
       "      <td>0</td>\n",
       "      <td>0</td>\n",
       "      <td>0</td>\n",
       "      <td>0</td>\n",
       "      <td>0</td>\n",
       "      <td>0</td>\n",
       "      <td>0</td>\n",
       "      <td>0</td>\n",
       "      <td>0</td>\n",
       "      <td>0</td>\n",
       "      <td>0</td>\n",
       "      <td>0</td>\n",
       "      <td>0</td>\n",
       "      <td>0</td>\n",
       "      <td>0</td>\n",
       "      <td>0</td>\n",
       "      <td>0</td>\n",
       "      <td>0</td>\n",
       "      <td>0</td>\n",
       "      <td>0</td>\n",
       "      <td>0</td>\n",
       "      <td>0</td>\n",
       "      <td>0</td>\n",
       "      <td>0</td>\n",
       "      <td>0</td>\n",
       "      <td>0</td>\n",
       "      <td>0</td>\n",
       "      <td>0</td>\n",
       "      <td>0</td>\n",
       "      <td>0</td>\n",
       "      <td>0</td>\n",
       "      <td>0</td>\n",
       "      <td>0</td>\n",
       "      <td>0</td>\n",
       "      <td>0</td>\n",
       "      <td>0</td>\n",
       "      <td>0</td>\n",
       "      <td>0</td>\n",
       "      <td>0</td>\n",
       "      <td>0</td>\n",
       "      <td>0</td>\n",
       "      <td>0</td>\n",
       "      <td>0</td>\n",
       "      <td>0</td>\n",
       "      <td>0</td>\n",
       "      <td>0</td>\n",
       "      <td>0</td>\n",
       "      <td>0</td>\n",
       "      <td>0</td>\n",
       "      <td>0</td>\n",
       "      <td>0</td>\n",
       "      <td>0</td>\n",
       "      <td>0</td>\n",
       "      <td>0</td>\n",
       "      <td>0</td>\n",
       "      <td>0</td>\n",
       "      <td>0</td>\n",
       "      <td>0</td>\n",
       "      <td>0</td>\n",
       "      <td>0</td>\n",
       "      <td>0</td>\n",
       "      <td>0</td>\n",
       "      <td>0</td>\n",
       "      <td>0</td>\n",
       "      <td>0</td>\n",
       "      <td>0</td>\n",
       "      <td>0</td>\n",
       "      <td>0</td>\n",
       "      <td>0</td>\n",
       "      <td>0</td>\n",
       "      <td>0</td>\n",
       "      <td>0</td>\n",
       "      <td>0</td>\n",
       "      <td>0</td>\n",
       "      <td>0</td>\n",
       "      <td>0</td>\n",
       "      <td>0</td>\n",
       "      <td>0</td>\n",
       "      <td>0</td>\n",
       "      <td>0</td>\n",
       "      <td>0</td>\n",
       "      <td>0</td>\n",
       "      <td>0</td>\n",
       "      <td>0</td>\n",
       "      <td>0</td>\n",
       "      <td>0</td>\n",
       "      <td>0</td>\n",
       "      <td>0</td>\n",
       "      <td>0</td>\n",
       "      <td>0</td>\n",
       "      <td>0</td>\n",
       "      <td>0</td>\n",
       "      <td>0</td>\n",
       "      <td>0</td>\n",
       "      <td>0</td>\n",
       "      <td>0</td>\n",
       "      <td>0</td>\n",
       "      <td>0</td>\n",
       "      <td>0</td>\n",
       "      <td>0</td>\n",
       "      <td>0</td>\n",
       "      <td>0</td>\n",
       "      <td>0</td>\n",
       "      <td>0</td>\n",
       "      <td>0</td>\n",
       "      <td>0</td>\n",
       "      <td>0</td>\n",
       "      <td>0</td>\n",
       "      <td>0</td>\n",
       "      <td>0</td>\n",
       "      <td>0</td>\n",
       "      <td>0</td>\n",
       "      <td>0</td>\n",
       "      <td>0</td>\n",
       "      <td>0</td>\n",
       "      <td>0</td>\n",
       "      <td>0</td>\n",
       "      <td>0</td>\n",
       "      <td>0</td>\n",
       "      <td>0</td>\n",
       "      <td>0</td>\n",
       "      <td>0</td>\n",
       "      <td>0</td>\n",
       "      <td>1</td>\n",
       "      <td>0</td>\n",
       "      <td>0</td>\n",
       "      <td>0</td>\n",
       "      <td>0</td>\n",
       "      <td>0</td>\n",
       "      <td>0</td>\n",
       "      <td>0</td>\n",
       "      <td>0</td>\n",
       "      <td>0</td>\n",
       "      <td>0</td>\n",
       "      <td>0</td>\n",
       "      <td>0</td>\n",
       "      <td>0</td>\n",
       "      <td>0</td>\n",
       "      <td>0</td>\n",
       "      <td>0</td>\n",
       "      <td>0</td>\n",
       "      <td>0</td>\n",
       "      <td>0</td>\n",
       "      <td>0</td>\n",
       "      <td>24</td>\n",
       "      <td>0</td>\n",
       "      <td>0</td>\n",
       "      <td>0</td>\n",
       "      <td>0</td>\n",
       "      <td>0</td>\n",
       "      <td>0</td>\n",
       "      <td>0</td>\n",
       "      <td>0</td>\n",
       "      <td>0</td>\n",
       "      <td>0</td>\n",
       "      <td>0</td>\n",
       "      <td>0</td>\n",
       "      <td>0</td>\n",
       "      <td>0</td>\n",
       "      <td>0</td>\n",
       "      <td>0</td>\n",
       "      <td>0</td>\n",
       "      <td>0</td>\n",
       "      <td>0</td>\n",
       "      <td>0</td>\n",
       "      <td>0</td>\n",
       "      <td>0</td>\n",
       "      <td>0</td>\n",
       "      <td>0</td>\n",
       "      <td>0</td>\n",
       "      <td>0</td>\n",
       "      <td>0</td>\n",
       "      <td>0</td>\n",
       "      <td>0</td>\n",
       "      <td>0</td>\n",
       "      <td>0</td>\n",
       "      <td>0</td>\n",
       "      <td>0</td>\n",
       "      <td>0</td>\n",
       "      <td>0</td>\n",
       "      <td>0</td>\n",
       "      <td>0</td>\n",
       "      <td>0</td>\n",
       "      <td>0</td>\n",
       "      <td>0</td>\n",
       "      <td>0</td>\n",
       "      <td>0</td>\n",
       "      <td>0</td>\n",
       "      <td>0</td>\n",
       "      <td>0</td>\n",
       "      <td>0</td>\n",
       "      <td>0</td>\n",
       "      <td>0</td>\n",
       "      <td>1</td>\n",
       "      <td>0</td>\n",
       "      <td>0</td>\n",
       "      <td>0</td>\n",
       "      <td>0</td>\n",
       "      <td>0</td>\n",
       "      <td>0</td>\n",
       "      <td>0</td>\n",
       "      <td>0</td>\n",
       "      <td>0</td>\n",
       "      <td>0</td>\n",
       "      <td>0</td>\n",
       "      <td>0</td>\n",
       "      <td>0</td>\n",
       "      <td>0</td>\n",
       "      <td>0</td>\n",
       "      <td>0</td>\n",
       "      <td>0</td>\n",
       "      <td>0</td>\n",
       "      <td>0</td>\n",
       "      <td>0</td>\n",
       "      <td>0</td>\n",
       "      <td>0</td>\n",
       "      <td>0</td>\n",
       "      <td>0</td>\n",
       "      <td>0</td>\n",
       "      <td>0</td>\n",
       "      <td>0</td>\n",
       "      <td>0</td>\n",
       "      <td>0</td>\n",
       "      <td>0</td>\n",
       "      <td>0</td>\n",
       "      <td>0</td>\n",
       "      <td>0</td>\n",
       "      <td>0</td>\n",
       "      <td>0</td>\n",
       "      <td>0</td>\n",
       "      <td>0</td>\n",
       "      <td>0</td>\n",
       "      <td>0</td>\n",
       "      <td>0</td>\n",
       "      <td>0</td>\n",
       "      <td>0</td>\n",
       "      <td>0</td>\n",
       "      <td>0</td>\n",
       "      <td>0</td>\n",
       "      <td>0</td>\n",
       "      <td>0</td>\n",
       "      <td>0</td>\n",
       "      <td>0</td>\n",
       "      <td>0</td>\n",
       "      <td>0</td>\n",
       "      <td>0</td>\n",
       "      <td>0</td>\n",
       "      <td>0</td>\n",
       "      <td>0</td>\n",
       "      <td>0</td>\n",
       "      <td>0</td>\n",
       "      <td>0</td>\n",
       "      <td>0</td>\n",
       "      <td>0</td>\n",
       "      <td>0</td>\n",
       "      <td>0</td>\n",
       "      <td>0</td>\n",
       "      <td>0</td>\n",
       "      <td>0</td>\n",
       "      <td>0</td>\n",
       "      <td>0</td>\n",
       "      <td>0</td>\n",
       "      <td>0</td>\n",
       "      <td>0</td>\n",
       "      <td>0</td>\n",
       "      <td>0</td>\n",
       "      <td>0</td>\n",
       "      <td>0</td>\n",
       "      <td>0</td>\n",
       "      <td>0</td>\n",
       "      <td>0</td>\n",
       "      <td>0</td>\n",
       "      <td>0</td>\n",
       "      <td>0</td>\n",
       "      <td>0</td>\n",
       "      <td>0</td>\n",
       "      <td>0</td>\n",
       "      <td>0</td>\n",
       "      <td>0</td>\n",
       "      <td>0</td>\n",
       "      <td>0</td>\n",
       "      <td>0</td>\n",
       "      <td>0</td>\n",
       "      <td>0</td>\n",
       "      <td>0</td>\n",
       "      <td>0</td>\n",
       "      <td>0</td>\n",
       "      <td>0</td>\n",
       "      <td>0</td>\n",
       "      <td>1</td>\n",
       "      <td>0</td>\n",
       "      <td>0</td>\n",
       "      <td>0</td>\n",
       "      <td>0</td>\n",
       "      <td>0</td>\n",
       "      <td>0</td>\n",
       "      <td>0</td>\n",
       "      <td>0</td>\n",
       "      <td>0</td>\n",
       "      <td>0</td>\n",
       "      <td>0</td>\n",
       "      <td>0</td>\n",
       "      <td>0</td>\n",
       "      <td>0</td>\n",
       "      <td>0</td>\n",
       "      <td>0</td>\n",
       "      <td>0</td>\n",
       "      <td>0</td>\n",
       "      <td>0</td>\n",
       "      <td>0</td>\n",
       "      <td>0</td>\n",
       "      <td>0</td>\n",
       "      <td>0</td>\n",
       "      <td>0</td>\n",
       "      <td>0</td>\n",
       "      <td>0</td>\n",
       "      <td>0</td>\n",
       "      <td>0</td>\n",
       "      <td>0</td>\n",
       "      <td>0</td>\n",
       "      <td>0</td>\n",
       "      <td>0</td>\n",
       "      <td>0</td>\n",
       "      <td>0</td>\n",
       "      <td>0</td>\n",
       "      <td>0</td>\n",
       "      <td>0</td>\n",
       "      <td>0</td>\n",
       "      <td>0</td>\n",
       "      <td>0</td>\n",
       "      <td>0</td>\n",
       "      <td>0</td>\n",
       "      <td>0</td>\n",
       "      <td>0</td>\n",
       "      <td>0</td>\n",
       "      <td>0</td>\n",
       "      <td>0</td>\n",
       "      <td>0</td>\n",
       "      <td>0</td>\n",
       "      <td>0</td>\n",
       "      <td>0</td>\n",
       "      <td>0</td>\n",
       "      <td>0</td>\n",
       "      <td>0</td>\n",
       "      <td>0</td>\n",
       "      <td>0</td>\n",
       "      <td>0</td>\n",
       "      <td>0</td>\n",
       "      <td>0</td>\n",
       "      <td>0</td>\n",
       "      <td>0</td>\n",
       "      <td>0</td>\n",
       "      <td>0</td>\n",
       "      <td>0</td>\n",
       "      <td>0</td>\n",
       "      <td>0</td>\n",
       "      <td>0</td>\n",
       "      <td>0</td>\n",
       "      <td>0</td>\n",
       "      <td>0</td>\n",
       "      <td>0</td>\n",
       "      <td>0</td>\n",
       "      <td>0</td>\n",
       "      <td>0</td>\n",
       "      <td>0</td>\n",
       "      <td>0</td>\n",
       "      <td>0</td>\n",
       "      <td>0</td>\n",
       "      <td>0</td>\n",
       "      <td>0</td>\n",
       "      <td>0</td>\n",
       "      <td>0</td>\n",
       "      <td>0</td>\n",
       "      <td>0</td>\n",
       "      <td>0</td>\n",
       "      <td>0</td>\n",
       "      <td>0</td>\n",
       "      <td>0</td>\n",
       "      <td>0</td>\n",
       "      <td>0</td>\n",
       "      <td>0</td>\n",
       "      <td>0</td>\n",
       "      <td>0</td>\n",
       "      <td>0</td>\n",
       "      <td>0</td>\n",
       "      <td>0</td>\n",
       "      <td>0</td>\n",
       "      <td>0</td>\n",
       "      <td>0</td>\n",
       "      <td>0</td>\n",
       "      <td>0</td>\n",
       "      <td>0</td>\n",
       "      <td>0</td>\n",
       "      <td>0</td>\n",
       "      <td>0</td>\n",
       "      <td>0</td>\n",
       "      <td>0</td>\n",
       "      <td>0</td>\n",
       "      <td>0</td>\n",
       "      <td>0</td>\n",
       "      <td>0</td>\n",
       "      <td>0</td>\n",
       "      <td>0</td>\n",
       "      <td>0</td>\n",
       "      <td>0</td>\n",
       "      <td>0</td>\n",
       "      <td>0</td>\n",
       "      <td>0</td>\n",
       "      <td>0</td>\n",
       "      <td>0</td>\n",
       "      <td>0</td>\n",
       "      <td>0</td>\n",
       "      <td>0</td>\n",
       "      <td>0</td>\n",
       "      <td>0</td>\n",
       "      <td>0</td>\n",
       "      <td>0</td>\n",
       "      <td>0</td>\n",
       "      <td>0</td>\n",
       "      <td>0</td>\n",
       "      <td>0</td>\n",
       "      <td>0</td>\n",
       "      <td>0</td>\n",
       "      <td>0</td>\n",
       "      <td>0</td>\n",
       "      <td>0</td>\n",
       "      <td>0</td>\n",
       "      <td>0</td>\n",
       "      <td>0</td>\n",
       "      <td>0</td>\n",
       "      <td>0</td>\n",
       "      <td>0</td>\n",
       "      <td>0</td>\n",
       "      <td>0</td>\n",
       "      <td>0</td>\n",
       "      <td>0</td>\n",
       "      <td>0</td>\n",
       "      <td>0</td>\n",
       "      <td>0</td>\n",
       "      <td>72</td>\n",
       "      <td>0</td>\n",
       "      <td>0</td>\n",
       "      <td>0</td>\n",
       "      <td>0</td>\n",
       "      <td>0</td>\n",
       "      <td>0</td>\n",
       "      <td>0</td>\n",
       "      <td>0</td>\n",
       "      <td>0</td>\n",
       "      <td>0</td>\n",
       "      <td>0</td>\n",
       "      <td>0</td>\n",
       "      <td>0</td>\n",
       "      <td>0</td>\n",
       "      <td>0</td>\n",
       "      <td>0</td>\n",
       "      <td>0</td>\n",
       "      <td>0</td>\n",
       "      <td>0</td>\n",
       "      <td>0</td>\n",
       "      <td>0</td>\n",
       "      <td>0</td>\n",
       "      <td>0</td>\n",
       "      <td>0</td>\n",
       "      <td>0</td>\n",
       "      <td>0</td>\n",
       "      <td>0</td>\n",
       "      <td>0</td>\n",
       "      <td>0</td>\n",
       "      <td>0</td>\n",
       "      <td>0</td>\n",
       "      <td>0</td>\n",
       "      <td>0</td>\n",
       "      <td>0</td>\n",
       "      <td>0</td>\n",
       "      <td>0</td>\n",
       "      <td>0</td>\n",
       "      <td>0</td>\n",
       "      <td>0</td>\n",
       "      <td>0</td>\n",
       "      <td>0</td>\n",
       "      <td>0</td>\n",
       "      <td>0</td>\n",
       "      <td>0</td>\n",
       "      <td>0</td>\n",
       "      <td>0</td>\n",
       "      <td>0</td>\n",
       "      <td>0</td>\n",
       "      <td>0</td>\n",
       "      <td>0</td>\n",
       "      <td>0</td>\n",
       "      <td>0</td>\n",
       "      <td>0</td>\n",
       "      <td>0</td>\n",
       "      <td>1</td>\n",
       "      <td>0</td>\n",
       "      <td>0</td>\n",
       "      <td>0</td>\n",
       "      <td>0</td>\n",
       "      <td>0</td>\n",
       "      <td>0</td>\n",
       "      <td>0</td>\n",
       "      <td>0</td>\n",
       "    </tr>\n",
       "  </tbody>\n",
       "</table>\n",
       "</div>"
      ],
      "text/plain": [
       "      budget  popularity   runtime  revenue  popularity2  rating  totalVotes  \\\n",
       "0  16.454568    2.024905  4.543295  16.3263     2.433613     5.0    6.180017   \n",
       "\n",
       "   has_collection  no_of_genre  genre_Drama  genre_Comedy  genre_Thriller  \\\n",
       "0               1            1            0             1               0   \n",
       "\n",
       "   genre_Action  genre_Romance  genre_Crime  genre_Adventure  genre_Horror  \\\n",
       "0             0              0            0                0             0   \n",
       "\n",
       "   genre_Science Fiction  genre_Family  genre_Fantasy  genre_Mystery  \\\n",
       "0                      0             0              0              0   \n",
       "\n",
       "   genre_Animation  genre_History  genre_Music  genre_War  genre_Documentary  \\\n",
       "0                0              0            0          0                  0   \n",
       "\n",
       "   genre_Western  genre_Foreign  homepage_exit  orignal_lang_english  \\\n",
       "0              0              0              0                     1   \n",
       "\n",
       "   original_title_letter_count  original_title_word_count  \\\n",
       "0                           22                          5   \n",
       "\n",
       "   overview_word_count  no_of_prod_comp  prod_comp_Warner Bros.  \\\n",
       "0                 29.0                3                       0   \n",
       "\n",
       "   prod_comp_Universal Pictures  prod_comp_Paramount Pictures  \\\n",
       "0                             0                             1   \n",
       "\n",
       "   prod_comp_Twentieth Century Fox Film Corporation  \\\n",
       "0                                                 0   \n",
       "\n",
       "   prod_comp_Columbia Pictures  prod_comp_Metro-Goldwyn-Mayer (MGM)  \\\n",
       "0                            0                                    1   \n",
       "\n",
       "   prod_comp_New Line Cinema  prod_comp_Touchstone Pictures  \\\n",
       "0                          0                              0   \n",
       "\n",
       "   prod_comp_Walt Disney Pictures  prod_comp_Columbia Pictures Corporation  \\\n",
       "0                               0                                        0   \n",
       "\n",
       "   prod_comp_TriStar Pictures  prod_comp_Relativity Media  prod_comp_Canal+  \\\n",
       "0                           0                           0                 0   \n",
       "\n",
       "   prod_comp_United Artists  prod_comp_Miramax Films  \\\n",
       "0                         1                        0   \n",
       "\n",
       "   prod_comp_Village Roadshow Pictures  prod_comp_Regency Enterprises  \\\n",
       "0                                    0                              0   \n",
       "\n",
       "   prod_comp_BBC Films  prod_comp_Dune Entertainment  \\\n",
       "0                    0                             0   \n",
       "\n",
       "   prod_comp_Working Title Films  prod_comp_Fox Searchlight Pictures  \\\n",
       "0                              0                                   0   \n",
       "\n",
       "   prod_comp_StudioCanal  prod_comp_Lionsgate  prod_comp_DreamWorks SKG  \\\n",
       "0                      0                    0                         0   \n",
       "\n",
       "   prod_comp_Fox 2000 Pictures  prod_comp_Summit Entertainment  \\\n",
       "0                            0                               0   \n",
       "\n",
       "   prod_comp_Hollywood Pictures  prod_comp_Orion Pictures  \\\n",
       "0                             0                         0   \n",
       "\n",
       "   prod_comp_Amblin Entertainment  prod_comp_Dimension Films  \\\n",
       "0                               0                          0   \n",
       "\n",
       "   prod_comp_Castle Rock Entertainment  prod_comp_Epsilon Motion Pictures  \\\n",
       "0                                    0                                  0   \n",
       "\n",
       "   prod_comp_Morgan Creek Productions  prod_comp_Original Film  \\\n",
       "0                                   0                        0   \n",
       "\n",
       "   prod_comp_Focus Features  prod_comp_Legendary Pictures  \\\n",
       "0                         0                             0   \n",
       "\n",
       "   prod_comp_Participant Media  prod_comp_Blumhouse Productions  \\\n",
       "0                            0                                0   \n",
       "\n",
       "   prod_comp_New Regency Pictures  prod_comp_Film4  \\\n",
       "0                               0                0   \n",
       "\n",
       "   prod_comp_Spyglass Entertainment  prod_comp_Imagine Entertainment  \\\n",
       "0                                 0                                0   \n",
       "\n",
       "   prod_comp_Screen Gems  prod_comp_Millennium Films  \\\n",
       "0                      0                           0   \n",
       "\n",
       "   prod_comp_TSG Entertainment  prod_comp_Lakeshore Entertainment  \\\n",
       "0                            0                                  0   \n",
       "\n",
       "   prod_comp_France 2 Cinéma  prod_comp_Silver Pictures  \\\n",
       "0                          0                          0   \n",
       "\n",
       "   prod_comp_The Weinstein Company  prod_comp_PolyGram Filmed Entertainment  \\\n",
       "0                                0                                        0   \n",
       "\n",
       "   prod_comp_Eon Productions  prod_comp_Scott Rudin Productions  \\\n",
       "0                          0                                  0   \n",
       "\n",
       "   prod_comp_Dune Entertainment III  prod_comp_Happy Madison Productions  \\\n",
       "0                                 0                                    0   \n",
       "\n",
       "   prod_comp_Studio Babelsberg  prod_comp_Lions Gate Films  \\\n",
       "0                            0                           0   \n",
       "\n",
       "   prod_comp_EuropaCorp  prod_comp_Gaumont  prod_comp_Carolco Pictures  \\\n",
       "0                     0                  0                           0   \n",
       "\n",
       "   prod_comp_American Zoetrope  prod_comp_UK Film Council  \\\n",
       "0                            0                          0   \n",
       "\n",
       "   prod_comp_TF1 Films Production  prod_comp_Ciné+  \\\n",
       "0                               0                0   \n",
       "\n",
       "   prod_comp_Revolution Studios  prod_comp_Davis Entertainment  \\\n",
       "0                             0                              0   \n",
       "\n",
       "   prod_comp_Canal+ España  prod_comp_Ingenious Film Partners  \\\n",
       "0                        0                                  0   \n",
       "\n",
       "   prod_comp_Scott Free Productions  prod_comp_Wild Bunch  no_prod_countries  \\\n",
       "0                                 0                     0                  1   \n",
       "\n",
       "   prod_country_US  prod_country_GB  prod_country_FR  prod_country_DE  \\\n",
       "0                1                0                0                0   \n",
       "\n",
       "   prod_country_CA  prod_country_IN  prod_country_IT  prod_country_JP  \\\n",
       "0                0                0                0                0   \n",
       "\n",
       "   prod_country_AU  prod_country_RU  prod_country_ES  prod_country_CN  \\\n",
       "0                0                0                0                0   \n",
       "\n",
       "   prod_country_HK  prod_country_IE  prod_country_BE  prod_country_KR  \\\n",
       "0                0                0                0                0   \n",
       "\n",
       "   prod_country_MX  prod_country_SE  prod_country_NZ  prod_country_NL  \\\n",
       "0                0                0                0                0   \n",
       "\n",
       "   prod_country_CZ  prod_country_DK  prod_country_BR  release_weekday  \\\n",
       "0                0                0                0                4   \n",
       "\n",
       "   release_month  release_year  no_lang_spoken  spoken_lang_en  \\\n",
       "0              2          2015               1               1   \n",
       "\n",
       "   spoken_lang_fr  spoken_lang_es  spoken_lang_de  spoken_lang_ru  \\\n",
       "0               0               0               0               0   \n",
       "\n",
       "   spoken_lang_it  spoken_lang_ja  spoken_lang_zh  spoken_lang_hi  \\\n",
       "0               0               0               0               0   \n",
       "\n",
       "   spoken_lang_pt  spoken_lang_ar  spoken_lang_ko  spoken_lang_cn  \\\n",
       "0               0               0               0               0   \n",
       "\n",
       "   spoken_lang_ta  spoken_lang_pl  spoken_lang_hu  spoken_lang_la  \\\n",
       "0               0               0               0               0   \n",
       "\n",
       "   spoken_lang_sv  spoken_lang_th  spoken_lang_cs  spoken_lang_he  \\\n",
       "0               0               0               0               0   \n",
       "\n",
       "   spoken_lang_el  spoken_lang_tr  spoken_lang_da  is_released  has_tagline  \\\n",
       "0               0               0               0            1            1   \n",
       "\n",
       "   title_word_count  has_keyword  keyword_woman director  \\\n",
       "0                 5            1                       0   \n",
       "\n",
       "   keyword_independent film  keyword_duringcreditsstinger  keyword_murder  \\\n",
       "0                         0                             1               0   \n",
       "\n",
       "   keyword_based on novel  keyword_violence  keyword_sport  keyword_biography  \\\n",
       "0                       0                 0              0                  0   \n",
       "\n",
       "   keyword_aftercreditsstinger  keyword_dystopia  keyword_revenge  \\\n",
       "0                            0                 0                0   \n",
       "\n",
       "   keyword_friendship  keyword_sex  keyword_suspense  keyword_sequel  \\\n",
       "0                   0            0                 0               1   \n",
       "\n",
       "   keyword_love  keyword_police  keyword_teenager  keyword_nudity  \\\n",
       "0             0               0                 0               0   \n",
       "\n",
       "   keyword_female nudity  keyword_drug  keyword_prison  keyword_musical  \\\n",
       "0                      0             0               0                0   \n",
       "\n",
       "   keyword_high school  keyword_los angeles  keyword_new york  keyword_family  \\\n",
       "0                    0                    0                 0               0   \n",
       "\n",
       "   keyword_father son relationship  keyword_kidnapping  keyword_investigation  \\\n",
       "0                                0                   0                      0   \n",
       "\n",
       "   keyword_wedding  keyword_3d  keyword_detective  keyword_london england  \\\n",
       "0                0           0                  0                       0   \n",
       "\n",
       "   keyword_paris  keyword_based on comic  keyword_robbery  \\\n",
       "0              0                       0                0   \n",
       "\n",
       "   keyword_based on true story  keyword_dying and death  keyword_escape  \\\n",
       "0                            0                        0               0   \n",
       "\n",
       "   keyword_alien  keyword_brother brother relationship  keyword_prostitute  \\\n",
       "0              0                                     0                   0   \n",
       "\n",
       "   keyword_suicide  keyword_rape  keyword_corruption  keyword_death  \\\n",
       "0                0             0                   0              0   \n",
       "\n",
       "   keyword_superhero  keyword_new york city  keyword_martial arts  \\\n",
       "0                  0                      0                     0   \n",
       "\n",
       "   keyword_jealousy  keyword_remake  keyword_brother sister relationship  \\\n",
       "0                 0               0                                    0   \n",
       "\n",
       "   keyword_soldier  keyword_world war ii  keyword_hospital  keyword_magic  \\\n",
       "0                0                     0                 0              0   \n",
       "\n",
       "   keyword_future  keyword_serial killer  keyword_best friend  \\\n",
       "0               0                      0                    0   \n",
       "\n",
       "   keyword_daughter  keyword_vampire  keyword_wife husband relationship  \\\n",
       "0                 0                0                                  0   \n",
       "\n",
       "   keyword_gay  keyword_party  keyword_blood  keyword_divorce  \\\n",
       "0            0              0              0                0   \n",
       "\n",
       "   keyword_friends  keyword_male nudity  keyword_war  keyword_explosion  \\\n",
       "0                0                    0            0                  0   \n",
       "\n",
       "   keyword_adultery  keyword_hitman  keyword_lawyer  keyword_dog  \\\n",
       "0                 0               0               0            0   \n",
       "\n",
       "   keyword_small town  keyword_journalist  keyword_post-apocalyptic  \\\n",
       "0                   0                   0                         0   \n",
       "\n",
       "   keyword_monster  keyword_time travel  keyword_hostage  keyword_money  \\\n",
       "0                0                    1                0              0   \n",
       "\n",
       "   keyword_rescue  keyword_romantic comedy  keyword_cia  \\\n",
       "0               0                        0            0   \n",
       "\n",
       "   keyword_love triangle  keyword_hotel  keyword_secret  keyword_assassin  \\\n",
       "0                      0              0               0                 0   \n",
       "\n",
       "   keyword_fight  keyword_love of one's life  keyword_airplane  \\\n",
       "0              0                           0                 0   \n",
       "\n",
       "   keyword_infidelity  keyword_gang  keyword_helicopter  keyword_fbi  \\\n",
       "0                   0             0                   0            0   \n",
       "\n",
       "   keyword_relationship  keyword_terrorist  keyword_psychopath  \\\n",
       "0                     0                  0                   0   \n",
       "\n",
       "   keyword_survival  keyword_teacher  keyword_scientist  keyword_zombie  \\\n",
       "0                 0                0                  0               0   \n",
       "\n",
       "   keyword_ghost  keyword_marriage  keyword_dream  keyword_college  \\\n",
       "0              0                 0              0                0   \n",
       "\n",
       "   keyword_romance  keyword_chase  keyword_alcohol  keyword_spy  \\\n",
       "0                0              0                0            0   \n",
       "\n",
       "   keyword_dark comedy  keyword_coming of age  keyword_competition  \\\n",
       "0                    0                      0                    0   \n",
       "\n",
       "   keyword_shootout  keyword_blackmail  keyword_flashback  keyword_slasher  \\\n",
       "0                 0                  0                  0                0   \n",
       "\n",
       "   keyword_found footage  keyword_drug dealer  keyword_motorcycle  \\\n",
       "0                      0                    0                   0   \n",
       "\n",
       "   keyword_gangster  keyword_new love  keyword_doctor  keyword_pregnancy  \\\n",
       "0                 0                 0               0                  0   \n",
       "\n",
       "   keyword_extramarital affair  keyword_desert  \\\n",
       "0                            0               0   \n",
       "\n",
       "   keyword_based on play or musical  keyword_crime  \\\n",
       "0                                 0              0   \n",
       "\n",
       "   keyword_sister sister relationship  keyword_faith  keyword_torture  \\\n",
       "0                                   0              0                0   \n",
       "\n",
       "   keyword_road trip  keyword_gore  keyword_texas  keyword_criminal  \\\n",
       "0                  0             0              0                 0   \n",
       "\n",
       "   keyword_california  keyword_england  keyword_assassination  \\\n",
       "0                   0                0                      0   \n",
       "\n",
       "   keyword_government  keyword_conspiracy  keyword_fbi agent  \\\n",
       "0                   0                   0                  0   \n",
       "\n",
       "   keyword_military  keyword_kiss  keyword_obsession  keyword_reporter  \\\n",
       "0                 0             0                  0                 0   \n",
       "\n",
       "   keyword_island  keyword_training  keyword_neo-noir  keyword_amnesia  \\\n",
       "0               0                 0                 0                0   \n",
       "\n",
       "   keyword_undercover  keyword_baby  keyword_animation  keyword_marvel comic  \\\n",
       "0                   0             0                  0                     0   \n",
       "\n",
       "   keyword_holiday  keyword_gun  keyword_based on young adult novel  \\\n",
       "0                0            0                                   0   \n",
       "\n",
       "   keyword_music  keyword_parent child relationship  \\\n",
       "0              0                                  0   \n",
       "\n",
       "   keyword_male female relationship  keyword_army  keyword_mountain  \\\n",
       "0                                 0             0                 0   \n",
       "\n",
       "   keyword_japan  keyword_ship  keyword_usa president  keyword_comedy  \\\n",
       "0              0             0                      0               0   \n",
       "\n",
       "   keyword_politics  keyword_robot  keyword_baseball  keyword_alcoholic  \\\n",
       "0                 0              0                 0                  0   \n",
       "\n",
       "   keyword_christmas  keyword_forest  keyword_writer  keyword_priest  \\\n",
       "0                  0               0               0               0   \n",
       "\n",
       "   keyword_police officer  keyword_marijuana  keyword_car crash  \\\n",
       "0                       0                  0                  0   \n",
       "\n",
       "   keyword_car chase  keyword_jungle  keyword_train  keyword_fire  \\\n",
       "0                  0               0              0             0   \n",
       "\n",
       "   keyword_australia  keyword_restaurant  keyword_secret identity  \\\n",
       "0                  0                   0                        0   \n",
       "\n",
       "   keyword_hero  keyword_thief  keyword_funeral  keyword_saving the world  \\\n",
       "0             0              0                0                         0   \n",
       "\n",
       "   keyword_space  keyword_satire  keyword_washington d.c.  keyword_witch  \\\n",
       "0              0               0                        0              0   \n",
       "\n",
       "   keyword_super powers  keyword_becoming an adult  \\\n",
       "0                     0                          0   \n",
       "\n",
       "   keyword_mother daughter relationship  keyword_killer  keyword_snow  \\\n",
       "0                                     0               0             0   \n",
       "\n",
       "   keyword_mutant  keyword_neighbor  keyword_sheriff  \\\n",
       "0               0                 0                0   \n",
       "\n",
       "   keyword_artificial intelligence  keyword_demon  keyword_mobster  \\\n",
       "0                                0              0                0   \n",
       "\n",
       "   keyword_dancing  keyword_world war i  keyword_spoof  keyword_wilderness  \\\n",
       "0                0                    0              0                   0   \n",
       "\n",
       "   keyword_student  keyword_loss of father  keyword_homosexuality  \\\n",
       "0                0                       0                      0   \n",
       "\n",
       "   keyword_airport  keyword_family relationships  keyword_deception  \\\n",
       "0                0                             0                  0   \n",
       "\n",
       "   keyword_battle  keyword_india  keyword_boxer  keyword_lovers  keyword_cop  \\\n",
       "0               0              0              0               0            0   \n",
       "\n",
       "   keyword_based on tv series  keyword_lesbian  keyword_dc comics  \\\n",
       "0                           0                0                  0   \n",
       "\n",
       "   keyword_hallucination  keyword_nazis  keyword_sea  keyword_orphan  \\\n",
       "0                      0              0            0               0   \n",
       "\n",
       "   keyword_winter  keyword_terrorism  keyword_pilot  keyword_weapon  \\\n",
       "0               0                  0              0               0   \n",
       "\n",
       "   keyword_san francisco  keyword_surrealism  keyword_on the run  \\\n",
       "0                      0                   0                   0   \n",
       "\n",
       "   keyword_paranoia  keyword_suicide attempt  keyword_chicago  keyword_school  \\\n",
       "0                 0                        0                0               0   \n",
       "\n",
       "   keyword_motel  keyword_loneliness  keyword_summer  keyword_seduction  \\\n",
       "0              0                   0               0                  0   \n",
       "\n",
       "   keyword_black people  keyword_psychiatrist  keyword_kung fu  \\\n",
       "0                     0                     0                0   \n",
       "\n",
       "   keyword_prisoner  keyword_castle  keyword_beach  keyword_rural setting  \\\n",
       "0                 0               0              0                      0   \n",
       "\n",
       "   keyword_teenage girl  keyword_street gang  keyword_bar  \\\n",
       "0                     0                    0            0   \n",
       "\n",
       "   keyword_organized crime  keyword_youth  keyword_france  keyword_afterlife  \\\n",
       "0                        0              0               0                  0   \n",
       "\n",
       "   keyword_computer  keyword_historical figure  keyword_android  \\\n",
       "0                 0                          0                0   \n",
       "\n",
       "   keyword_russia  keyword_career  keyword_dinosaur  keyword_drug addiction  \\\n",
       "0               0               0                 0                       0   \n",
       "\n",
       "   keyword_incest  keyword_bomb  keyword_based on video game  keyword_racism  \\\n",
       "0               0             0                            0               0   \n",
       "\n",
       "   keyword_mafia  keyword_puppet  keyword_vacation  keyword_midlife crisis  \\\n",
       "0              0               0                 0                       0   \n",
       "\n",
       "   keyword_lie  keyword_waitress  keyword_river  keyword_apartment  \\\n",
       "0            0                 0              0                  0   \n",
       "\n",
       "   keyword_lgbt  keyword_painting  keyword_evil  keyword_mask  keyword_china  \\\n",
       "0             0                 0             0             0              0   \n",
       "\n",
       "   keyword_car race  keyword_outer space  keyword_astronaut  keyword_horse  \\\n",
       "0                 0                    0                  0              0   \n",
       "\n",
       "   keyword_treasure  keyword_based on true events  keyword_death of a friend  \\\n",
       "0                 0                             0                          0   \n",
       "\n",
       "   keyword_florida  keyword_talking animal  keyword_travel  keyword_eroticism  \\\n",
       "0                0                       0               1                  0   \n",
       "\n",
       "   keyword_age difference  keyword_female protagonist  keyword_child abuse  \\\n",
       "0                       0                           0                    0   \n",
       "\n",
       "   keyword_marriage proposal  keyword_drama  keyword_hoodlum  \\\n",
       "0                          0              0                0   \n",
       "\n",
       "   keyword_betrayal  keyword_rivalry  keyword_sniper  keyword_1970s  \\\n",
       "0                 0                0               0              0   \n",
       "\n",
       "   keyword_father daughter relationship  keyword_forbidden love  \\\n",
       "0                                     0                       0   \n",
       "\n",
       "   keyword_film noir  keyword_showdown  keyword_marriage crisis  \\\n",
       "0                  0                 0                        0   \n",
       "\n",
       "   keyword_author  keyword_wheelchair  keyword_cancer  keyword_fear  no_cast  \\\n",
       "0               0                   0               0             0       24   \n",
       "\n",
       "   cast_Samuel L. Jackson  cast_Robert De Niro  cast_Morgan Freeman  \\\n",
       "0                       0                    0                    0   \n",
       "\n",
       "   cast_J.K. Simmons  cast_Bruce Willis  cast_Liam Neeson  \\\n",
       "0                  0                  0                 0   \n",
       "\n",
       "   cast_Susan Sarandon  cast_Bruce McGill  cast_John Turturro  \\\n",
       "0                    0                  0                   0   \n",
       "\n",
       "   cast_Forest Whitaker  cast_Willem Dafoe  cast_Bill Murray  \\\n",
       "0                     0                  0                 0   \n",
       "\n",
       "   cast_Owen Wilson  cast_Nicolas Cage  cast_Sylvester Stallone  \\\n",
       "0                 0                  0                        0   \n",
       "\n",
       "   cast_Jason Statham  cast_Keith David  cast_John Goodman  cast_Mel Gibson  \\\n",
       "0                   0                 0                  0                0   \n",
       "\n",
       "   cast_Sigourney Weaver  cast_Frank Welker  cast_Michael Caine  \\\n",
       "0                      0                  0                   0   \n",
       "\n",
       "   cast_George Clooney  cast_Denzel Washington  cast_Robert Duvall  \\\n",
       "0                    0                       0                   0   \n",
       "\n",
       "   cast_Ed Harris  cast_Dennis Quaid  cast_Richard Jenkins  cast_Matt Damon  \\\n",
       "0               0                  0                     0                0   \n",
       "\n",
       "   cast_Christopher Plummer  cast_Gene Hackman  cast_Christopher Walken  \\\n",
       "0                         0                  0                        0   \n",
       "\n",
       "   cast_William H. Macy  cast_James Franco  cast_Jim Broadbent  \\\n",
       "0                     0                  0                   0   \n",
       "\n",
       "   cast_John C. Reilly  cast_Kevin Bacon  cast_Christian Bale  \\\n",
       "0                    0                 0                    0   \n",
       "\n",
       "   cast_Alec Baldwin  cast_Allison Janney  cast_Brian Cox  \\\n",
       "0                  0                    0               0   \n",
       "\n",
       "   cast_John Leguizamo  cast_Julianne Moore  cast_Robert Downey Jr.  \\\n",
       "0                    0                    0                       0   \n",
       "\n",
       "   cast_Michael Shannon  cast_Steve Buscemi  cast_Tom Hanks  \\\n",
       "0                     0                   0               0   \n",
       "\n",
       "   cast_Mark Wahlberg  cast_John Cusack  cast_Carla Gugino  \\\n",
       "0                   0                 1                  0   \n",
       "\n",
       "   cast_Harrison Ford  cast_Cate Blanchett  cast_Ray Liotta  \\\n",
       "0                   0                    0                0   \n",
       "\n",
       "   cast_Stanley Tucci  cast_Colleen Camp  cast_Kevin Dunn  cast_Julia Roberts  \\\n",
       "0                   0                  0                0                   0   \n",
       "\n",
       "   cast_Philip Seymour Hoffman  cast_Catherine Keener  cast_Cheech Marin  \\\n",
       "0                            0                      0                  0   \n",
       "\n",
       "   cast_Ethan Hawke  cast_Bradley Cooper  cast_Vince Vaughn  \\\n",
       "0                 0                    0                  0   \n",
       "\n",
       "   cast_Danny DeVito  cast_James Woods  cast_Colin Farrell  \\\n",
       "0                  0                 0                   0   \n",
       "\n",
       "   cast_Peter Stormare  cast_Ben Affleck  cast_Dennis Hopper  \\\n",
       "0                    0                 0                   0   \n",
       "\n",
       "   cast_Arnold Schwarzenegger  cast_Keanu Reeves  cast_Johnny Depp  \\\n",
       "0                           0                  0                 0   \n",
       "\n",
       "   cast_Brendan Gleeson  cast_John Hurt  cast_Meryl Streep  \\\n",
       "0                     0               0                  0   \n",
       "\n",
       "   cast_Philip Ettington  cast_Jason Bateman  cast_Robin Williams  \\\n",
       "0                      0                   0                    0   \n",
       "\n",
       "   cast_Ewan McGregor  cast_David Koechner  cast_Sean Connery  \\\n",
       "0                   0                    0                  0   \n",
       "\n",
       "   cast_James Earl Jones  cast_Chris Cooper  cast_Harvey Keitel  \\\n",
       "0                      0                  0                   0   \n",
       "\n",
       "   cast_Dwayne Johnson  cast_Tom Cruise  cast_Gary Oldman  \\\n",
       "0                    0                0                 0   \n",
       "\n",
       "   cast_Donald Sutherland  cast_Kurt Russell  cast_Woody Harrelson  \\\n",
       "0                       0                  0                     0   \n",
       "\n",
       "   cast_Patrick Stewart  cast_Whoopi Goldberg  cast_Dan Hedaya  \\\n",
       "0                     0                     0                0   \n",
       "\n",
       "   cast_Sean Penn  cast_Russell Crowe  cast_Tom Wilkinson  cast_Kathy Bates  \\\n",
       "0               0                   0                   0                 0   \n",
       "\n",
       "   cast_Dan Aykroyd  cast_Charlie Sheen  cast_Hugh Jackman  cast_Justin Long  \\\n",
       "0                 0                   0                  0                 0   \n",
       "\n",
       "   cast_Oliver Platt  cast_James Remar  cast_Jonah Hill  cast_Elizabeth Banks  \\\n",
       "0                  0                 0                0                     0   \n",
       "\n",
       "   cast_Steve Zahn  cast_Ben Stiller  cast_Eddie Murphy  cast_Brad Pitt  \\\n",
       "0                0                 0                  0               0   \n",
       "\n",
       "   cast_Kirsten Dunst  cast_John Michael Higgins  cast_Kevin Spacey  \\\n",
       "0                   0                          0                  0   \n",
       "\n",
       "   cast_Toni Collette  cast_Philip Baker Hall  cast_Cliff Curtis  \\\n",
       "0                   0                       0                  0   \n",
       "\n",
       "   cast_Daniel Craig  cast_James Gandolfini  cast_John Hawkes  \\\n",
       "0                  0                      0                 0   \n",
       "\n",
       "   cast_Richard Gere  cast_Viola Davis  cast_Ian McKellen  cast_Marisa Tomei  \\\n",
       "0                  0                 0                  0                  0   \n",
       "\n",
       "   cast_Scarlett Johansson  cast_Bruce Greenwood  cast_Adam Sandler  \\\n",
       "0                        0                     0                  0   \n",
       "\n",
       "   cast_Kiefer Sutherland  cast_Robert Redford  cast_Jim Carrey  \\\n",
       "0                       0                    0                0   \n",
       "\n",
       "   cast_Nick Nolte  cast_Jeff Daniels  cast_Laurence Fishburne  \\\n",
       "0                0                  0                        0   \n",
       "\n",
       "   cast_Jeff Bridges  cast_Nicole Kidman  cast_Aaron Eckhart  \\\n",
       "0                  0                   0                   0   \n",
       "\n",
       "   cast_Rachel Weisz  cast_Olivia Wilde  cast_Ron Perlman  cast_Ben Kingsley  \\\n",
       "0                  0                  0                 0                  0   \n",
       "\n",
       "   cast_Dean Norris  cast_Antonio Banderas  cast_Danny Huston  \\\n",
       "0                 0                      0                  0   \n",
       "\n",
       "   cast_Terence Stamp  cast_Pierce Brosnan  cast_Charlize Theron  \\\n",
       "0                   0                    0                     0   \n",
       "\n",
       "   cast_Adam Scott  cast_Jane Lynch  cast_Cameron Diaz  cast_William Hurt  \\\n",
       "0                1                0                  0                  0   \n",
       "\n",
       "   cast_Amanda Peet  cast_Elijah Wood  cast_Dustin Hoffman  \\\n",
       "0                 0                 0                    0   \n",
       "\n",
       "   cast_Harry Dean Stanton  cast_Stephen Root  cast_Judi Dench  \\\n",
       "0                        0                  0                0   \n",
       "\n",
       "   cast_Jeffrey Wright  cast_Bette Midler  cast_Sean Bean  cast_Hugo Weaving  \\\n",
       "0                    0                  0               0                  0   \n",
       "\n",
       "   cast_Christopher Lee  cast_Bill Paxton  cast_Jeremy Piven  \\\n",
       "0                     0                 0                  0   \n",
       "\n",
       "   cast_Chlo√´ Grace Moretz  cast_Greg Kinnear  cast_Halle Berry  \\\n",
       "0                         0                  0                 0   \n",
       "\n",
       "   cast_Mickey Rourke  cast_Jamie Bell  cast_Octavia Spencer  \\\n",
       "0                   0                0                     0   \n",
       "\n",
       "   cast_Milla Jovovich  cast_Angela Bassett  cast_Seth Green  cast_Jon Voight  \\\n",
       "0                    0                    0                0                0   \n",
       "\n",
       "   cast_John Ratzenberger  cast_Geoffrey Rush  cast_Alfred Molina  \\\n",
       "0                       0                   0                   0   \n",
       "\n",
       "   cast_Kathryn Hahn  cast_Zoe Saldana  cast_Beth Grant  cast_Danny Trejo  \\\n",
       "0                  0                 0                0                 0   \n",
       "\n",
       "   cast_Mark Ruffalo  cast_Kevin Costner  cast_Luis Guzm√°n  \\\n",
       "0                  0                   0                  0   \n",
       "\n",
       "   cast_John Malkovich  cast_Paul Giamatti  cast_Timothy Olyphant  \\\n",
       "0                    0                   0                      0   \n",
       "\n",
       "   cast_Mike Starr  cast_Diane Lane  cast_Wesley Snipes  cast_Dennis Haysbert  \\\n",
       "0                0                0                   0                     0   \n",
       "\n",
       "   cast_Mark Strong  cast_Anthony Hopkins  cast_John Travolta  \\\n",
       "0                 0                     0                   0   \n",
       "\n",
       "   cast_Frank Grillo  cast_Rance Howard  cast_Charlton Heston  \\\n",
       "0                  0                  0                     0   \n",
       "\n",
       "   cast_Diane Keaton  cast_Jay Leno  cast_Michael Madsen  cast_Channing Tatum  \\\n",
       "0                  0              0                    0                    0   \n",
       "\n",
       "   cast_Eva Mendes  cast_Stacy Keach  cast_James Caan  cast_John Lithgow  \\\n",
       "0                0                 0                0                  0   \n",
       "\n",
       "   cast_Helen Mirren  cast_Laura Linney  cast_Joe Pantoliano  \\\n",
       "0                  0                  0                    0   \n",
       "\n",
       "   cast_Naomi Watts  cast_Jennifer Connelly  cast_Matthew Broderick  \\\n",
       "0                 0                       0                       0   \n",
       "\n",
       "   cast_Tim Robbins  cast_Giovanni Ribisi  cast_Jamie Foxx  cast_Winona Ryder  \\\n",
       "0                 0                     0                0                  0   \n",
       "\n",
       "   cast_Tilda Swinton  cast_Jennifer Lopez  cast_Vincent D'Onofrio  \\\n",
       "0                   0                    0                       0   \n",
       "\n",
       "   cast_Brian Dennehy  cast_Benicio del Toro  cast_Jim Belushi  \\\n",
       "0                   0                      0                 0   \n",
       "\n",
       "   cast_Terry Crews  cast_Michael Douglas  cast_John Cleese  \\\n",
       "0                 0                     0                 0   \n",
       "\n",
       "   cast_Frank Langella  cast_Robert Patrick  cast_Sandra Bullock  \\\n",
       "0                    0                    0                    0   \n",
       "\n",
       "   cast_Gwyneth Paltrow  cast_Ashley Judd  cast_Rosario Dawson  cast_Meg Ryan  \\\n",
       "0                     0                 0                    0              0   \n",
       "\n",
       "   cast_Eddie Marsan  cast_Denis O'Hare  cast_Jim Cummings  cast_Al Pacino  \\\n",
       "0                  0                  0                  0               0   \n",
       "\n",
       "   cast_Joaquin Phoenix  cast_Glenn Morshower  cast_Ken Jeong  \\\n",
       "0                     0                     0               0   \n",
       "\n",
       "   cast_Val Kilmer  cast_Brad Dourif  cast_Anthony Mackie  cast_Kathy Baker  \\\n",
       "0                0                 0                    0                 0   \n",
       "\n",
       "   cast_Clint Eastwood  cast_Richard E. Grant  cast_Ryan Gosling  \\\n",
       "0                    0                      0                  0   \n",
       "\n",
       "   cast_Tim Curry  cast_Eugene Levy  cast_Rachael Harris  cast_James Cromwell  \\\n",
       "0               0                 0                    0                    0   \n",
       "\n",
       "   cast_Cillian Murphy  cast_Bill Nighy  cast_Steve Martin  cast_Vin Diesel  \\\n",
       "0                    0                0                  0                0   \n",
       "\n",
       "   cast_Jackie Chan  cast_Amy Adams  cast_Judy Greer  cast_Ice Cube  \\\n",
       "0                 0               0                0              0   \n",
       "\n",
       "   cast_Frances Conroy  cast_Jessica Chastain  cast_Bill Pullman  \\\n",
       "0                    0                      0                  0   \n",
       "\n",
       "   cast_Viggo Mortensen  cast_John C. McGinley  cast_Joseph Gordon-Levitt  \\\n",
       "0                     0                      0                          0   \n",
       "\n",
       "   cast_Michael Pe√±a  cast_Famke Janssen  cast_Idris Elba  cast_David Jensen  \\\n",
       "0                   0                   0                0                  0   \n",
       "\n",
       "   cast_Michelle Rodriguez  cast_Desmond Llewelyn  cast_Edward Norton  \\\n",
       "0                        0                      0                   0   \n",
       "\n",
       "   cast_Kurt Fuller  cast_Ciar√°n Hinds  cast_Thomas Haden Church  \\\n",
       "0                 0                   0                         0   \n",
       "\n",
       "   cast_Melissa McCarthy  cast_William Fichtner  cast_Joe Chrest  \\\n",
       "0                      0                      0                0   \n",
       "\n",
       "   cast_Michael Papajohn  cast_Josh Brolin  cast_Barry Pepper  \\\n",
       "0                      0                 0                  0   \n",
       "\n",
       "   cast_Robbie Coltrane  cast_Djimon Hounsou  cast_Toby Jones  \\\n",
       "0                     0                    0                0   \n",
       "\n",
       "   cast_Tony Shalhoub  cast_Gabriel Byrne  cast_Cary Elwes  \\\n",
       "0                   0                   0                0   \n",
       "\n",
       "   cast_Matthew McConaughey  cast_Bill Hader  cast_Wallace Shawn  \\\n",
       "0                         0                0                   0   \n",
       "\n",
       "   cast_Guy Pearce  cast_Melissa Leo  cast_Drew Barrymore  \\\n",
       "0                0                 0                    0   \n",
       "\n",
       "   cast_Ren√©e Zellweger  cast_Jack Black  cast_Natalie Portman  \\\n",
       "0                      0                0                     0   \n",
       "\n",
       "   cast_Paul Rudd  cast_Michael Keaton  cast_Stellan Skarsg√•rd  no_of_crew  \\\n",
       "0               0                    0                        0          72   \n",
       "\n",
       "   crew_Avy Kaufman  crew_Robert Rodriguez  crew_Deborah Aquila  \\\n",
       "0                 0                      0                    0   \n",
       "\n",
       "   crew_James Newton Howard  crew_Mary Vernieu  crew_Steven Spielberg  \\\n",
       "0                         0                  0                      0   \n",
       "\n",
       "   crew_Luc Besson  crew_Jerry Goldsmith  crew_Francine Maisler  \\\n",
       "0                0                     0                      0   \n",
       "\n",
       "   crew_Tricia Wood  crew_James Horner  crew_Kerry Barden  crew_Bob Weinstein  \\\n",
       "0                 0                  0                  0                   0   \n",
       "\n",
       "   crew_Harvey Weinstein  crew_Janet Hirshenson  crew_Jane Jenkins  \\\n",
       "0                      0                      0                  0   \n",
       "\n",
       "   crew_John Debney  crew_Hans Zimmer  crew_John Papsidera  \\\n",
       "0                 0                 0                    0   \n",
       "\n",
       "   crew_Francis Ford Coppola  crew_Billy Hopkins  crew_Danny Elfman  \\\n",
       "0                          0                   0                  0   \n",
       "\n",
       "   crew_Mindy Marin  crew_Hans Bjerno  crew_Sarah Finn  crew_Neal H. Moritz  \\\n",
       "0                 0                 0                0                    0   \n",
       "\n",
       "   crew_Tim Bevan  crew_Alan Silvestri  crew_Mark Isham  crew_Marco Beltrami  \\\n",
       "0               0                    0                0                    0   \n",
       "\n",
       "   crew_Scott Rudin  crew_Arnon Milchan  crew_Graeme Revell  \\\n",
       "0                 0                   0                   0   \n",
       "\n",
       "   crew_Dan O'Connell  crew_Eric Fellner  crew_Bruce Berman  \\\n",
       "0                   0                  0                  0   \n",
       "\n",
       "   crew_Suzanne Smith  crew_Steven Soderbergh  crew_Amanda Mackey  \\\n",
       "0                   0                       0                   0   \n",
       "\n",
       "   crew_Clint Eastwood  crew_Thomas Newman  crew_Frank Marshall  \\\n",
       "0                    0                   0                    0   \n",
       "\n",
       "   crew_Peter Jackson  crew_Michael Mann  crew_George Lucas  crew_John Powell  \\\n",
       "0                   0                  0                  0                 0   \n",
       "\n",
       "   crew_Denise Chamian  crew_Carter Burwell  crew_Randi Hiller  \\\n",
       "0                    0                    0                  0   \n",
       "\n",
       "   crew_Ron Howard  crew_Brian Grazer  crew_Cathy Sandrich  crew_Ivan Reitman  \\\n",
       "0                0                  0                    0                  0   \n",
       "\n",
       "   crew_Joel Silver  crew_Christophe Beck  crew_Sylvester Stallone  \\\n",
       "0                 0                     1                        0   \n",
       "\n",
       "   crew_John Williams  crew_Wes Craven  crew_Roger Birnbaum  \\\n",
       "0                   0                0                    0   \n",
       "\n",
       "   crew_Howard Shore  crew_J.J. Makaro  crew_Paul W.S. Anderson  \\\n",
       "0                  0                 0                        0   \n",
       "\n",
       "   crew_John T. Cucci  \n",
       "0                   0  "
      ]
     },
     "execution_count": 296,
     "metadata": {},
     "output_type": "execute_result"
    }
   ],
   "source": [
    "train.head(1)"
   ]
  },
  {
   "cell_type": "markdown",
   "id": "b975297c",
   "metadata": {},
   "source": [
    "## Model Building"
   ]
  },
  {
   "cell_type": "code",
   "execution_count": 297,
   "id": "611807b6",
   "metadata": {},
   "outputs": [],
   "source": [
    "X=train.drop('revenue', axis=1)"
   ]
  },
  {
   "cell_type": "code",
   "execution_count": 298,
   "id": "27ba69a9",
   "metadata": {},
   "outputs": [],
   "source": [
    "y=train.revenue"
   ]
  },
  {
   "cell_type": "code",
   "execution_count": null,
   "id": "d71df1c7",
   "metadata": {},
   "outputs": [],
   "source": []
  },
  {
   "cell_type": "code",
   "execution_count": 299,
   "id": "381777c6",
   "metadata": {},
   "outputs": [],
   "source": [
    "from sklearn.model_selection import train_test_split\n",
    "X_train, X_test, y_train, y_test = train_test_split(X, y, test_size=0.2, random_state=42)"
   ]
  },
  {
   "cell_type": "code",
   "execution_count": null,
   "id": "2a081e2c",
   "metadata": {},
   "outputs": [],
   "source": []
  },
  {
   "cell_type": "code",
   "execution_count": 300,
   "id": "72da2bef",
   "metadata": {},
   "outputs": [],
   "source": [
    "## function to get the Root Mean Squared Logarithmic Error (RMSLE)\n",
    "\n",
    "def get_score(y_true,y_pred):\n",
    "    return np.sqrt(mean_squared_log_error( np.expm1(y_true), y_pred ))"
   ]
  },
  {
   "cell_type": "code",
   "execution_count": null,
   "id": "aa87b4b9",
   "metadata": {},
   "outputs": [],
   "source": []
  },
  {
   "cell_type": "markdown",
   "id": "6b21dceb",
   "metadata": {},
   "source": [
    "## Linear Regression"
   ]
  },
  {
   "cell_type": "code",
   "execution_count": 301,
   "id": "d6dc5389",
   "metadata": {},
   "outputs": [
    {
     "data": {
      "text/plain": [
       "2.4654007684800736"
      ]
     },
     "execution_count": 301,
     "metadata": {},
     "output_type": "execute_result"
    }
   ],
   "source": [
    "from sklearn.linear_model import LinearRegression\n",
    "\n",
    "lr=LinearRegression()\n",
    "\n",
    "lr.fit(X_train,y_train)\n",
    "\n",
    "predict=lr.predict(X_test)\n",
    "predict=np.expm1(predict)\n",
    "\n",
    "get_score(y_test,predict)"
   ]
  },
  {
   "cell_type": "code",
   "execution_count": 302,
   "id": "7ffd45e1",
   "metadata": {},
   "outputs": [],
   "source": [
    "lr.fit(X,y)\n",
    "\n",
    "predict=lr.predict(test)\n",
    "predict=np.expm1(predict)\n"
   ]
  },
  {
   "cell_type": "code",
   "execution_count": 303,
   "id": "a09bdc84",
   "metadata": {},
   "outputs": [
    {
     "data": {
      "text/html": [
       "<div>\n",
       "<style scoped>\n",
       "    .dataframe tbody tr th:only-of-type {\n",
       "        vertical-align: middle;\n",
       "    }\n",
       "\n",
       "    .dataframe tbody tr th {\n",
       "        vertical-align: top;\n",
       "    }\n",
       "\n",
       "    .dataframe thead th {\n",
       "        text-align: right;\n",
       "    }\n",
       "</style>\n",
       "<table border=\"1\" class=\"dataframe\">\n",
       "  <thead>\n",
       "    <tr style=\"text-align: right;\">\n",
       "      <th></th>\n",
       "      <th>id</th>\n",
       "      <th>revenue</th>\n",
       "    </tr>\n",
       "  </thead>\n",
       "  <tbody>\n",
       "    <tr>\n",
       "      <th>0</th>\n",
       "      <td>3001</td>\n",
       "      <td>1.059767e+07</td>\n",
       "    </tr>\n",
       "    <tr>\n",
       "      <th>1</th>\n",
       "      <td>3002</td>\n",
       "      <td>2.059704e+06</td>\n",
       "    </tr>\n",
       "    <tr>\n",
       "      <th>2</th>\n",
       "      <td>3003</td>\n",
       "      <td>5.429172e+06</td>\n",
       "    </tr>\n",
       "    <tr>\n",
       "      <th>3</th>\n",
       "      <td>3004</td>\n",
       "      <td>5.254264e+06</td>\n",
       "    </tr>\n",
       "    <tr>\n",
       "      <th>4</th>\n",
       "      <td>3005</td>\n",
       "      <td>3.311882e+06</td>\n",
       "    </tr>\n",
       "    <tr>\n",
       "      <th>...</th>\n",
       "      <td>...</td>\n",
       "      <td>...</td>\n",
       "    </tr>\n",
       "    <tr>\n",
       "      <th>4393</th>\n",
       "      <td>7394</td>\n",
       "      <td>1.427335e+06</td>\n",
       "    </tr>\n",
       "    <tr>\n",
       "      <th>4394</th>\n",
       "      <td>7395</td>\n",
       "      <td>1.792471e+07</td>\n",
       "    </tr>\n",
       "    <tr>\n",
       "      <th>4395</th>\n",
       "      <td>7396</td>\n",
       "      <td>7.937961e+07</td>\n",
       "    </tr>\n",
       "    <tr>\n",
       "      <th>4396</th>\n",
       "      <td>7397</td>\n",
       "      <td>6.000536e+06</td>\n",
       "    </tr>\n",
       "    <tr>\n",
       "      <th>4397</th>\n",
       "      <td>7398</td>\n",
       "      <td>1.815089e+06</td>\n",
       "    </tr>\n",
       "  </tbody>\n",
       "</table>\n",
       "<p>4398 rows × 2 columns</p>\n",
       "</div>"
      ],
      "text/plain": [
       "        id       revenue\n",
       "0     3001  1.059767e+07\n",
       "1     3002  2.059704e+06\n",
       "2     3003  5.429172e+06\n",
       "3     3004  5.254264e+06\n",
       "4     3005  3.311882e+06\n",
       "...    ...           ...\n",
       "4393  7394  1.427335e+06\n",
       "4394  7395  1.792471e+07\n",
       "4395  7396  7.937961e+07\n",
       "4396  7397  6.000536e+06\n",
       "4397  7398  1.815089e+06\n",
       "\n",
       "[4398 rows x 2 columns]"
      ]
     },
     "execution_count": 303,
     "metadata": {},
     "output_type": "execute_result"
    }
   ],
   "source": [
    "df=pd.read_csv('D:\\\\Data_sets\\\\sample_submission.csv')\n",
    "df['revenue']=predict\n",
    "\n",
    "df.to_csv('linear_reg.csv', index=False)\n",
    "df"
   ]
  },
  {
   "cell_type": "code",
   "execution_count": 304,
   "id": "56e2e25e",
   "metadata": {},
   "outputs": [
    {
     "ename": "NameError",
     "evalue": "name 'dd' is not defined",
     "output_type": "error",
     "traceback": [
      "\u001b[1;31m---------------------------------------------------------------------------\u001b[0m",
      "\u001b[1;31mNameError\u001b[0m                                 Traceback (most recent call last)",
      "\u001b[1;32m<ipython-input-304-06f342d4bc0b>\u001b[0m in \u001b[0;36m<module>\u001b[1;34m\u001b[0m\n\u001b[1;32m----> 1\u001b[1;33m \u001b[0mdd\u001b[0m\u001b[1;33m\u001b[0m\u001b[1;33m\u001b[0m\u001b[0m\n\u001b[0m",
      "\u001b[1;31mNameError\u001b[0m: name 'dd' is not defined"
     ]
    }
   ],
   "source": [
    "dd"
   ]
  },
  {
   "cell_type": "markdown",
   "id": "f60a5ec0",
   "metadata": {},
   "source": [
    "## Decision Tree"
   ]
  },
  {
   "cell_type": "code",
   "execution_count": null,
   "id": "86f8d968",
   "metadata": {},
   "outputs": [],
   "source": [
    "## without hyperparameter tuning"
   ]
  },
  {
   "cell_type": "code",
   "execution_count": null,
   "id": "d65e8607",
   "metadata": {},
   "outputs": [],
   "source": [
    "from sklearn.tree import DecisionTreeRegressor\n",
    "\n",
    "dc=DecisionTreeRegressor(random_state=42)\n",
    "\n",
    "dc.fit(X_train,y_train)\n",
    "\n",
    "predict=dc.predict(X_test)\n",
    "\n",
    "predict=np.expm1(predict)\n",
    "\n",
    "get_score(y_test,predict)"
   ]
  },
  {
   "cell_type": "code",
   "execution_count": null,
   "id": "c0fafd45",
   "metadata": {},
   "outputs": [],
   "source": [
    "dc.fit(X,y)\n",
    "\n",
    "predict=dc.predict(test)\n",
    "predict=np.expm1(predict)"
   ]
  },
  {
   "cell_type": "code",
   "execution_count": null,
   "id": "460e1969",
   "metadata": {},
   "outputs": [],
   "source": [
    "df=pd.read_csv('D:\\\\Data_sets\\\\sample_submission.csv')\n",
    "df['revenue']=predict\n",
    "\n",
    "df.to_csv('decision_tree.csv', index=False)\n",
    "df"
   ]
  },
  {
   "cell_type": "code",
   "execution_count": null,
   "id": "274281f6",
   "metadata": {},
   "outputs": [],
   "source": []
  },
  {
   "cell_type": "code",
   "execution_count": null,
   "id": "397b6a41",
   "metadata": {},
   "outputs": [],
   "source": [
    "## applying hyperparameter tuning "
   ]
  },
  {
   "cell_type": "code",
   "execution_count": null,
   "id": "ebd50c3c",
   "metadata": {},
   "outputs": [],
   "source": [
    "dc= DecisionTreeRegressor()\n",
    "\n",
    "param_dist = {'max_depth':[2,5,6,8,9],\n",
    "    'min_samples_split':[2,5,7,8,9],\n",
    "    'min_samples_leaf':[2,5,7,8,9],\n",
    "    'random_state':[42]\n",
    "}\n",
    "\n",
    "dc_rdcv = RandomizedSearchCV(dc,param_dist, cv = 10, scoring='neg_mean_squared_error', n_jobs=-1)\n",
    "\n",
    "dc_rdcv.fit(X_train, y_train)\n",
    "\n",
    "dc_rdcv.best_params_"
   ]
  },
  {
   "cell_type": "code",
   "execution_count": null,
   "id": "8d222593",
   "metadata": {},
   "outputs": [],
   "source": [
    "predict=dc_rdcv.predict(X_test)\n",
    "\n",
    "predict=np.expm1(predict)\n",
    "\n",
    "get_score(y_test,predict)"
   ]
  },
  {
   "cell_type": "code",
   "execution_count": null,
   "id": "d5f6c71a",
   "metadata": {},
   "outputs": [],
   "source": [
    "dc_rdcv.fit(X,y)\n",
    "\n",
    "predict=dc_rdcv.predict(test)\n",
    "predict=np.expm1(predict)"
   ]
  },
  {
   "cell_type": "code",
   "execution_count": null,
   "id": "0bd5077d",
   "metadata": {},
   "outputs": [],
   "source": [
    "df=pd.read_csv('D:\\\\Data_sets\\\\sample_submission.csv')\n",
    "df['revenue']=predict\n",
    "\n",
    "df.to_csv('decision_tree_tuning.csv', index=False)\n",
    "df"
   ]
  },
  {
   "cell_type": "code",
   "execution_count": null,
   "id": "16cc8298",
   "metadata": {},
   "outputs": [],
   "source": []
  },
  {
   "cell_type": "markdown",
   "id": "037a44f4",
   "metadata": {},
   "source": [
    "## Random forest "
   ]
  },
  {
   "cell_type": "code",
   "execution_count": null,
   "id": "010af258",
   "metadata": {},
   "outputs": [],
   "source": [
    "## without hyperparameter tuning "
   ]
  },
  {
   "cell_type": "code",
   "execution_count": null,
   "id": "deae4a98",
   "metadata": {},
   "outputs": [],
   "source": [
    "from sklearn.ensemble import RandomForestRegressor\n",
    "\n",
    "rdf=RandomForestRegressor(random_state=42)\n",
    "\n",
    "rdf.fit(X_train,y_train)\n",
    "\n",
    "predict=rdf.predict(X_test)\n",
    "predict=np.expm1(predict)\n",
    "\n",
    "get_score(y_test,predict)"
   ]
  },
  {
   "cell_type": "code",
   "execution_count": null,
   "id": "bab61a9b",
   "metadata": {},
   "outputs": [],
   "source": [
    "rdf.fit(X,y)\n",
    "\n",
    "predict=rdf.predict(test)\n",
    "predict=np.expm1(predict)"
   ]
  },
  {
   "cell_type": "code",
   "execution_count": null,
   "id": "d41471a9",
   "metadata": {},
   "outputs": [],
   "source": [
    "df=pd.read_csv('D:\\\\Data_sets\\\\sample_submission.csv')\n",
    "df['revenue']=predict\n",
    "\n",
    "df.to_csv('rdf.csv', index=False)\n",
    "df"
   ]
  },
  {
   "cell_type": "code",
   "execution_count": null,
   "id": "1c9eb868",
   "metadata": {},
   "outputs": [],
   "source": [
    "## applying hyperparameter tuning "
   ]
  },
  {
   "cell_type": "code",
   "execution_count": null,
   "id": "169af5d7",
   "metadata": {},
   "outputs": [],
   "source": [
    "rdf= RandomForestRegressor()\n",
    "\n",
    "param_dist = {'n_estimators':[100,105,200,250,300,400,500,800,1000],\n",
    "    'max_depth':[2,5,7,8,9],\n",
    "    'min_samples_split':[2,5,7,8,9],\n",
    "    'min_samples_leaf':[2,5,7,8,9],\n",
    "    'random_state':[42],\n",
    "    'max_samples':[0.7,0.8,1.0],\n",
    "}\n",
    "\n",
    "rdf_rdcv = RandomizedSearchCV(rdf,param_dist, cv = 10, scoring='neg_mean_squared_error', n_jobs=-1)\n",
    "\n",
    "rdf_rdcv.fit(X_train, y_train)\n",
    "\n",
    "rdf_rdcv.best_params_"
   ]
  },
  {
   "cell_type": "code",
   "execution_count": null,
   "id": "2d94b352",
   "metadata": {},
   "outputs": [],
   "source": [
    "predict=rdf_rdcv.predict(X_test)\n",
    "\n",
    "predict=np.expm1(predict)\n",
    "\n",
    "get_score(y_test,predict)"
   ]
  },
  {
   "cell_type": "code",
   "execution_count": null,
   "id": "3b6158ea",
   "metadata": {},
   "outputs": [],
   "source": [
    "rdf_rdcv.fit(X,y)\n",
    "\n",
    "predict=rdf_rdcv.predict(test)\n",
    "predict=np.expm1(predict)"
   ]
  },
  {
   "cell_type": "code",
   "execution_count": null,
   "id": "bb95ceb3",
   "metadata": {},
   "outputs": [],
   "source": [
    "df=pd.read_csv('D:\\\\Data_sets\\\\sample_submission.csv')\n",
    "df['revenue']=predict\n",
    "\n",
    "df.to_csv('rdf_tuning.csv', index=False)\n",
    "df"
   ]
  },
  {
   "cell_type": "code",
   "execution_count": null,
   "id": "84a78000",
   "metadata": {},
   "outputs": [],
   "source": []
  },
  {
   "cell_type": "code",
   "execution_count": null,
   "id": "9c720d34",
   "metadata": {},
   "outputs": [],
   "source": []
  },
  {
   "cell_type": "markdown",
   "id": "fca46401",
   "metadata": {},
   "source": [
    "## XGboost"
   ]
  },
  {
   "cell_type": "code",
   "execution_count": null,
   "id": "ee88b64f",
   "metadata": {},
   "outputs": [],
   "source": [
    "## without hyperparameter tuning "
   ]
  },
  {
   "cell_type": "code",
   "execution_count": null,
   "id": "ed20b272",
   "metadata": {},
   "outputs": [],
   "source": [
    "from xgboost import XGBRegressor\n",
    "\n",
    "xgb=XGBRegressor(random_state=42)\n",
    "\n",
    "xgb.fit(X_train,y_train)\n",
    "\n",
    "predict=xgb.predict(X_test)\n",
    "predict=np.expm1(predict)\n",
    "\n",
    "get_score(y_test,predict)"
   ]
  },
  {
   "cell_type": "code",
   "execution_count": null,
   "id": "96646fab",
   "metadata": {},
   "outputs": [],
   "source": [
    "xgb.fit(X,y)\n",
    "\n",
    "predict=xgb.predict(test)\n",
    "predict=np.expm1(predict)"
   ]
  },
  {
   "cell_type": "code",
   "execution_count": null,
   "id": "0ae93fcf",
   "metadata": {},
   "outputs": [],
   "source": [
    "df=pd.read_csv('D:\\\\Data_sets\\\\sample_submission.csv')\n",
    "df['revenue']=predict\n",
    "\n",
    "df.to_csv('xgb.csv', index=False)\n",
    "df"
   ]
  },
  {
   "cell_type": "code",
   "execution_count": null,
   "id": "bd0aa598",
   "metadata": {},
   "outputs": [],
   "source": [
    "## applying hyperparameter tuning "
   ]
  },
  {
   "cell_type": "code",
   "execution_count": null,
   "id": "3485e3d2",
   "metadata": {},
   "outputs": [],
   "source": [
    "xgb = XGBRegressor()\n",
    "\n",
    "param_dist = {\n",
    "    'eta': [0.01,0.1,0.2],\n",
    "    'gamma': [0,1,1.45], \n",
    "    'max_depth': [5,6,7],\n",
    "    'min_child_weight': [1,3],\n",
    "    'subsample': [0.6,0.7,0.8],\n",
    "    'colsample_bytree': [0.6,0.7,0.8], \n",
    "    'colsample_bylevel': [0.5,0.6,0.8], \n",
    "    'seed': [22]\n",
    "}\n",
    "\n",
    "xgb_rdcv = RandomizedSearchCV(xgb,param_dist, cv = 5, scoring='neg_mean_squared_error', n_jobs=-1)\n",
    "\n",
    "xgb_rdcv.fit(X_train, y_train)\n",
    "\n",
    "xgb_rdcv.best_params_"
   ]
  },
  {
   "cell_type": "code",
   "execution_count": null,
   "id": "9b6eb122",
   "metadata": {},
   "outputs": [],
   "source": [
    "predict=xgb_rdcv.predict(X_test)\n",
    "\n",
    "predict=np.expm1(predict)\n",
    "\n",
    "get_score(y_test,predict)"
   ]
  },
  {
   "cell_type": "code",
   "execution_count": null,
   "id": "d73a6316",
   "metadata": {},
   "outputs": [],
   "source": [
    "xgb_rdcv.fit(X,y)\n",
    "\n",
    "predict=xgb_rdcv.predict(test)\n",
    "predict=np.expm1(predict)"
   ]
  },
  {
   "cell_type": "code",
   "execution_count": null,
   "id": "eb080989",
   "metadata": {},
   "outputs": [],
   "source": [
    "df=pd.read_csv('D:\\\\Data_sets\\\\sample_submission.csv')\n",
    "df['revenue']=predict\n",
    "\n",
    "df.to_csv('xgb_tuning.csv', index=False)\n",
    "df"
   ]
  },
  {
   "cell_type": "code",
   "execution_count": null,
   "id": "924f1baa",
   "metadata": {},
   "outputs": [],
   "source": []
  },
  {
   "cell_type": "code",
   "execution_count": null,
   "id": "79a96de0",
   "metadata": {},
   "outputs": [],
   "source": []
  },
  {
   "cell_type": "code",
   "execution_count": null,
   "id": "d4ab066e",
   "metadata": {},
   "outputs": [],
   "source": [
    "'subsample': 0.7,\n",
    " 'seed': 42,\n",
    " 'objective': 'reg:linear',\n",
    " 'max_depth': 5,\n",
    " 'gamma': 1,\n",
    " 'eta': 0.1,\n",
    " 'colsample_bytree': 1.0,\n",
    " 'colsample_bylevel': 0.5}"
   ]
  },
  {
   "cell_type": "code",
   "execution_count": null,
   "id": "0213438c",
   "metadata": {},
   "outputs": [],
   "source": [
    "xgb=XGBRegressor(eta=0.1,\n",
    "                max_depth=5, \n",
    "                n_estimators=10000,\n",
    "                gamma=1, \n",
    "                subsample=0.7, \n",
    "                colsample_bytree=1.0, \n",
    "                colsample_bylevel=0.5,\n",
    "                random_state =42)\n",
    "\n",
    "xgb.fit(X_train,y_train)\n",
    "\n",
    "predict=xgb.predict(X_test)\n",
    "predict=np.expm1(predict)\n",
    "\n",
    "get_score(y_test,predict)"
   ]
  },
  {
   "cell_type": "code",
   "execution_count": null,
   "id": "e69d09ea",
   "metadata": {},
   "outputs": [],
   "source": [
    "xgb.fit(X,y)\n",
    "\n",
    "predict=xgb.predict(test)\n",
    "predict=np.expm1(predict)"
   ]
  },
  {
   "cell_type": "code",
   "execution_count": null,
   "id": "bb24c1f2",
   "metadata": {},
   "outputs": [],
   "source": [
    "df=pd.read_csv('D:\\\\Data_sets\\\\sample_submission.csv')\n",
    "df['revenue']=predict\n",
    "\n",
    "df.to_csv('xgb_tuning.csv', index=False)\n",
    "df"
   ]
  },
  {
   "cell_type": "code",
   "execution_count": null,
   "id": "05d6979b",
   "metadata": {},
   "outputs": [],
   "source": []
  },
  {
   "cell_type": "code",
   "execution_count": null,
   "id": "de916232",
   "metadata": {},
   "outputs": [],
   "source": []
  },
  {
   "cell_type": "markdown",
   "id": "c7d8f6d7",
   "metadata": {},
   "source": [
    "## Light GBM "
   ]
  },
  {
   "cell_type": "code",
   "execution_count": null,
   "id": "46460fef",
   "metadata": {},
   "outputs": [],
   "source": [
    "## without hyperparameter tuning"
   ]
  },
  {
   "cell_type": "code",
   "execution_count": null,
   "id": "52c9e142",
   "metadata": {},
   "outputs": [],
   "source": [
    "from lightgbm import LGBMRegressor"
   ]
  },
  {
   "cell_type": "code",
   "execution_count": null,
   "id": "76f72a26",
   "metadata": {},
   "outputs": [],
   "source": [
    "lgbm=LGBMRegressor(random_state=42)\n",
    "\n",
    "lgbm.fit(X_train,y_train)\n",
    "\n",
    "predict=lgbm.predict(X_test)\n",
    "predict=np.expm1(predict)\n",
    "\n",
    "get_score(y_test,predict)"
   ]
  },
  {
   "cell_type": "code",
   "execution_count": null,
   "id": "5c6a62d8",
   "metadata": {},
   "outputs": [],
   "source": [
    "lgbm.fit(X,y)\n",
    "\n",
    "predict=lgbm.predict(test)\n",
    "predict=np.expm1(predict)"
   ]
  },
  {
   "cell_type": "code",
   "execution_count": null,
   "id": "bbfa5cff",
   "metadata": {},
   "outputs": [],
   "source": [
    "df=pd.read_csv('D:\\\\Data_sets\\\\sample_submission.csv')\n",
    "df['revenue']=predict\n",
    "\n",
    "df.to_csv('lgbm.csv', index=False)\n",
    "df"
   ]
  },
  {
   "cell_type": "code",
   "execution_count": null,
   "id": "28f7a2ff",
   "metadata": {},
   "outputs": [],
   "source": []
  },
  {
   "cell_type": "code",
   "execution_count": null,
   "id": "4b5aed80",
   "metadata": {},
   "outputs": [],
   "source": [
    "## applying hyperparameter tuning"
   ]
  },
  {
   "cell_type": "code",
   "execution_count": null,
   "id": "1a93fae4",
   "metadata": {},
   "outputs": [],
   "source": []
  },
  {
   "cell_type": "code",
   "execution_count": null,
   "id": "2f614167",
   "metadata": {},
   "outputs": [],
   "source": [
    "lgbm = LGBMRegressor()\n",
    "\n",
    "param_dist = {\n",
    "    'num_leaves':[25,30,32,35],\n",
    "    'learning_rate': [0.01,0.1,0.2,0.3],\n",
    "    'n_estimators': [100,200,300,400,500],\n",
    "    'max_depth': [5,6,7,8,9,10],\n",
    "    'subsample': [0.6,0.7,0.8,1.0],\n",
    "    'colsample_bytree': [0.6,0.7,0.8,1.0], \n",
    "    'random_state': [42]\n",
    "}\n",
    "\n",
    "lgbm_rdcv = RandomizedSearchCV(lgbm,param_dist, cv = 5, scoring='neg_mean_squared_error', n_jobs=-1)\n",
    "\n",
    "lgbm_rdcv.fit(X_train, y_train)\n",
    "\n",
    "lgbm_rdcv.best_params_"
   ]
  },
  {
   "cell_type": "code",
   "execution_count": null,
   "id": "bc8ba3d0",
   "metadata": {},
   "outputs": [],
   "source": [
    "predict=lgbm_rdcv.predict(X_test)\n",
    "\n",
    "predict=np.expm1(predict)\n",
    "\n",
    "get_score(y_test,predict)"
   ]
  },
  {
   "cell_type": "code",
   "execution_count": null,
   "id": "eb6ae16c",
   "metadata": {},
   "outputs": [],
   "source": [
    "lgbm_rdcv.fit(X,y)\n",
    "\n",
    "predict=lgbm_rdcv.predict(test)\n",
    "predict=np.expm1(predict)"
   ]
  },
  {
   "cell_type": "code",
   "execution_count": null,
   "id": "b0814299",
   "metadata": {},
   "outputs": [],
   "source": [
    "df=pd.read_csv('D:\\\\Data_sets\\\\sample_submission.csv')\n",
    "df['revenue']=predict\n",
    "\n",
    "df.to_csv('lgbm_tuning.csv', index=False)\n",
    "df"
   ]
  },
  {
   "cell_type": "code",
   "execution_count": null,
   "id": "aef5fde2",
   "metadata": {},
   "outputs": [],
   "source": []
  },
  {
   "cell_type": "code",
   "execution_count": null,
   "id": "1cf1ae58",
   "metadata": {},
   "outputs": [],
   "source": []
  }
 ],
 "metadata": {
  "kernelspec": {
   "display_name": "Python 3",
   "language": "python",
   "name": "python3"
  },
  "language_info": {
   "codemirror_mode": {
    "name": "ipython",
    "version": 3
   },
   "file_extension": ".py",
   "mimetype": "text/x-python",
   "name": "python",
   "nbconvert_exporter": "python",
   "pygments_lexer": "ipython3",
   "version": "3.8.8"
  }
 },
 "nbformat": 4,
 "nbformat_minor": 5
}
