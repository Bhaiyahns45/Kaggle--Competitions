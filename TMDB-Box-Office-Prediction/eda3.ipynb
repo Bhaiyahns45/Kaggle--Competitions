{
 "cells": [
  {
   "cell_type": "code",
   "execution_count": 1,
   "id": "26353207",
   "metadata": {},
   "outputs": [],
   "source": [
    "import matplotlib.pyplot as plt\n",
    "import seaborn as sns\n",
    "import numpy as np\n",
    "import pandas as pd\n",
    "from sklearn.metrics import mean_squared_log_error, mean_squared_error\n",
    "\n",
    "pd.set_option('display.max_columns', None)\n",
    "from sklearn.model_selection import KFold\n",
    "\n",
    "from collections import Counter\n",
    "\n",
    "from datetime import datetime"
   ]
  },
  {
   "cell_type": "code",
   "execution_count": 2,
   "id": "9c9f1ec4",
   "metadata": {},
   "outputs": [
    {
     "data": {
      "text/html": [
       "<div>\n",
       "<style scoped>\n",
       "    .dataframe tbody tr th:only-of-type {\n",
       "        vertical-align: middle;\n",
       "    }\n",
       "\n",
       "    .dataframe tbody tr th {\n",
       "        vertical-align: top;\n",
       "    }\n",
       "\n",
       "    .dataframe thead th {\n",
       "        text-align: right;\n",
       "    }\n",
       "</style>\n",
       "<table border=\"1\" class=\"dataframe\">\n",
       "  <thead>\n",
       "    <tr style=\"text-align: right;\">\n",
       "      <th></th>\n",
       "      <th>id</th>\n",
       "      <th>belongs_to_collection</th>\n",
       "      <th>budget</th>\n",
       "      <th>genres</th>\n",
       "      <th>homepage</th>\n",
       "      <th>imdb_id</th>\n",
       "      <th>original_language</th>\n",
       "      <th>original_title</th>\n",
       "      <th>overview</th>\n",
       "      <th>popularity</th>\n",
       "      <th>poster_path</th>\n",
       "      <th>production_companies</th>\n",
       "      <th>production_countries</th>\n",
       "      <th>release_date</th>\n",
       "      <th>runtime</th>\n",
       "      <th>spoken_languages</th>\n",
       "      <th>status</th>\n",
       "      <th>tagline</th>\n",
       "      <th>title</th>\n",
       "      <th>Keywords</th>\n",
       "      <th>cast</th>\n",
       "      <th>crew</th>\n",
       "      <th>revenue</th>\n",
       "    </tr>\n",
       "  </thead>\n",
       "  <tbody>\n",
       "    <tr>\n",
       "      <th>0</th>\n",
       "      <td>1</td>\n",
       "      <td>[{'id': 313576, 'name': 'Hot Tub Time Machine ...</td>\n",
       "      <td>14000000</td>\n",
       "      <td>[{'id': 35, 'name': 'Comedy'}]</td>\n",
       "      <td>NaN</td>\n",
       "      <td>tt2637294</td>\n",
       "      <td>en</td>\n",
       "      <td>Hot Tub Time Machine 2</td>\n",
       "      <td>When Lou, who has become the \"father of the In...</td>\n",
       "      <td>6.575393</td>\n",
       "      <td>/tQtWuwvMf0hCc2QR2tkolwl7c3c.jpg</td>\n",
       "      <td>[{'name': 'Paramount Pictures', 'id': 4}, {'na...</td>\n",
       "      <td>[{'iso_3166_1': 'US', 'name': 'United States o...</td>\n",
       "      <td>2/20/15</td>\n",
       "      <td>93.0</td>\n",
       "      <td>[{'iso_639_1': 'en', 'name': 'English'}]</td>\n",
       "      <td>Released</td>\n",
       "      <td>The Laws of Space and Time are About to be Vio...</td>\n",
       "      <td>Hot Tub Time Machine 2</td>\n",
       "      <td>[{'id': 4379, 'name': 'time travel'}, {'id': 9...</td>\n",
       "      <td>[{'cast_id': 4, 'character': 'Lou', 'credit_id...</td>\n",
       "      <td>[{'credit_id': '59ac067c92514107af02c8c8', 'de...</td>\n",
       "      <td>12314651</td>\n",
       "    </tr>\n",
       "    <tr>\n",
       "      <th>1</th>\n",
       "      <td>2</td>\n",
       "      <td>[{'id': 107674, 'name': 'The Princess Diaries ...</td>\n",
       "      <td>40000000</td>\n",
       "      <td>[{'id': 35, 'name': 'Comedy'}, {'id': 18, 'nam...</td>\n",
       "      <td>NaN</td>\n",
       "      <td>tt0368933</td>\n",
       "      <td>en</td>\n",
       "      <td>The Princess Diaries 2: Royal Engagement</td>\n",
       "      <td>Mia Thermopolis is now a college graduate and ...</td>\n",
       "      <td>8.248895</td>\n",
       "      <td>/w9Z7A0GHEhIp7etpj0vyKOeU1Wx.jpg</td>\n",
       "      <td>[{'name': 'Walt Disney Pictures', 'id': 2}]</td>\n",
       "      <td>[{'iso_3166_1': 'US', 'name': 'United States o...</td>\n",
       "      <td>8/6/04</td>\n",
       "      <td>113.0</td>\n",
       "      <td>[{'iso_639_1': 'en', 'name': 'English'}]</td>\n",
       "      <td>Released</td>\n",
       "      <td>It can take a lifetime to find true love; she'...</td>\n",
       "      <td>The Princess Diaries 2: Royal Engagement</td>\n",
       "      <td>[{'id': 2505, 'name': 'coronation'}, {'id': 42...</td>\n",
       "      <td>[{'cast_id': 1, 'character': 'Mia Thermopolis'...</td>\n",
       "      <td>[{'credit_id': '52fe43fe9251416c7502563d', 'de...</td>\n",
       "      <td>95149435</td>\n",
       "    </tr>\n",
       "  </tbody>\n",
       "</table>\n",
       "</div>"
      ],
      "text/plain": [
       "   id                              belongs_to_collection    budget  \\\n",
       "0   1  [{'id': 313576, 'name': 'Hot Tub Time Machine ...  14000000   \n",
       "1   2  [{'id': 107674, 'name': 'The Princess Diaries ...  40000000   \n",
       "\n",
       "                                              genres homepage    imdb_id  \\\n",
       "0                     [{'id': 35, 'name': 'Comedy'}]      NaN  tt2637294   \n",
       "1  [{'id': 35, 'name': 'Comedy'}, {'id': 18, 'nam...      NaN  tt0368933   \n",
       "\n",
       "  original_language                            original_title  \\\n",
       "0                en                    Hot Tub Time Machine 2   \n",
       "1                en  The Princess Diaries 2: Royal Engagement   \n",
       "\n",
       "                                            overview  popularity  \\\n",
       "0  When Lou, who has become the \"father of the In...    6.575393   \n",
       "1  Mia Thermopolis is now a college graduate and ...    8.248895   \n",
       "\n",
       "                        poster_path  \\\n",
       "0  /tQtWuwvMf0hCc2QR2tkolwl7c3c.jpg   \n",
       "1  /w9Z7A0GHEhIp7etpj0vyKOeU1Wx.jpg   \n",
       "\n",
       "                                production_companies  \\\n",
       "0  [{'name': 'Paramount Pictures', 'id': 4}, {'na...   \n",
       "1        [{'name': 'Walt Disney Pictures', 'id': 2}]   \n",
       "\n",
       "                                production_countries release_date  runtime  \\\n",
       "0  [{'iso_3166_1': 'US', 'name': 'United States o...      2/20/15     93.0   \n",
       "1  [{'iso_3166_1': 'US', 'name': 'United States o...       8/6/04    113.0   \n",
       "\n",
       "                           spoken_languages    status  \\\n",
       "0  [{'iso_639_1': 'en', 'name': 'English'}]  Released   \n",
       "1  [{'iso_639_1': 'en', 'name': 'English'}]  Released   \n",
       "\n",
       "                                             tagline  \\\n",
       "0  The Laws of Space and Time are About to be Vio...   \n",
       "1  It can take a lifetime to find true love; she'...   \n",
       "\n",
       "                                      title  \\\n",
       "0                    Hot Tub Time Machine 2   \n",
       "1  The Princess Diaries 2: Royal Engagement   \n",
       "\n",
       "                                            Keywords  \\\n",
       "0  [{'id': 4379, 'name': 'time travel'}, {'id': 9...   \n",
       "1  [{'id': 2505, 'name': 'coronation'}, {'id': 42...   \n",
       "\n",
       "                                                cast  \\\n",
       "0  [{'cast_id': 4, 'character': 'Lou', 'credit_id...   \n",
       "1  [{'cast_id': 1, 'character': 'Mia Thermopolis'...   \n",
       "\n",
       "                                                crew   revenue  \n",
       "0  [{'credit_id': '59ac067c92514107af02c8c8', 'de...  12314651  \n",
       "1  [{'credit_id': '52fe43fe9251416c7502563d', 'de...  95149435  "
      ]
     },
     "execution_count": 2,
     "metadata": {},
     "output_type": "execute_result"
    }
   ],
   "source": [
    "train=pd.read_csv('D:\\\\Data_sets\\\\movie\\\\train.csv')\n",
    "train.head(2)"
   ]
  },
  {
   "cell_type": "code",
   "execution_count": 3,
   "id": "ae832a6e",
   "metadata": {},
   "outputs": [],
   "source": [
    "train_additionalfeature=pd.read_csv('D:\\\\Data_sets\\\\movie\\\\TrainAdditionalFeatures.csv')"
   ]
  },
  {
   "cell_type": "code",
   "execution_count": 4,
   "id": "7f8d0af7",
   "metadata": {},
   "outputs": [],
   "source": [
    "train=pd.merge(train,train_additionalfeature, how='left', on=['imdb_id'])"
   ]
  },
  {
   "cell_type": "code",
   "execution_count": 5,
   "id": "bdd38c48",
   "metadata": {},
   "outputs": [
    {
     "data": {
      "text/plain": [
       "id                          0\n",
       "belongs_to_collection    2396\n",
       "budget                      0\n",
       "genres                      7\n",
       "homepage                 2054\n",
       "imdb_id                     0\n",
       "original_language           0\n",
       "original_title              0\n",
       "overview                    8\n",
       "popularity                  0\n",
       "poster_path                 1\n",
       "production_companies      156\n",
       "production_countries       55\n",
       "release_date                0\n",
       "runtime                     2\n",
       "spoken_languages           20\n",
       "status                      0\n",
       "tagline                   597\n",
       "title                       0\n",
       "Keywords                  276\n",
       "cast                       13\n",
       "crew                       16\n",
       "revenue                     0\n",
       "popularity2               118\n",
       "rating                    118\n",
       "totalVotes                118\n",
       "dtype: int64"
      ]
     },
     "execution_count": 5,
     "metadata": {},
     "output_type": "execute_result"
    }
   ],
   "source": [
    "train.isnull().sum()"
   ]
  },
  {
   "cell_type": "code",
   "execution_count": 6,
   "id": "0ed77046",
   "metadata": {},
   "outputs": [
    {
     "data": {
      "text/html": [
       "<div>\n",
       "<style scoped>\n",
       "    .dataframe tbody tr th:only-of-type {\n",
       "        vertical-align: middle;\n",
       "    }\n",
       "\n",
       "    .dataframe tbody tr th {\n",
       "        vertical-align: top;\n",
       "    }\n",
       "\n",
       "    .dataframe thead th {\n",
       "        text-align: right;\n",
       "    }\n",
       "</style>\n",
       "<table border=\"1\" class=\"dataframe\">\n",
       "  <thead>\n",
       "    <tr style=\"text-align: right;\">\n",
       "      <th></th>\n",
       "      <th>id</th>\n",
       "      <th>belongs_to_collection</th>\n",
       "      <th>budget</th>\n",
       "      <th>genres</th>\n",
       "      <th>homepage</th>\n",
       "      <th>imdb_id</th>\n",
       "      <th>original_language</th>\n",
       "      <th>original_title</th>\n",
       "      <th>overview</th>\n",
       "      <th>popularity</th>\n",
       "      <th>poster_path</th>\n",
       "      <th>production_companies</th>\n",
       "      <th>production_countries</th>\n",
       "      <th>release_date</th>\n",
       "      <th>runtime</th>\n",
       "      <th>spoken_languages</th>\n",
       "      <th>status</th>\n",
       "      <th>tagline</th>\n",
       "      <th>title</th>\n",
       "      <th>Keywords</th>\n",
       "      <th>cast</th>\n",
       "      <th>crew</th>\n",
       "    </tr>\n",
       "  </thead>\n",
       "  <tbody>\n",
       "    <tr>\n",
       "      <th>0</th>\n",
       "      <td>3001</td>\n",
       "      <td>[{'id': 34055, 'name': 'Pokémon Collection', '...</td>\n",
       "      <td>0</td>\n",
       "      <td>[{'id': 12, 'name': 'Adventure'}, {'id': 16, '...</td>\n",
       "      <td>http://www.pokemon.com/us/movies/movie-pokemon...</td>\n",
       "      <td>tt1226251</td>\n",
       "      <td>ja</td>\n",
       "      <td>ディアルガVSパルキアVSダークライ</td>\n",
       "      <td>Ash and friends (this time accompanied by newc...</td>\n",
       "      <td>3.851534</td>\n",
       "      <td>/tnftmLMemPLduW6MRyZE0ZUD19z.jpg</td>\n",
       "      <td>NaN</td>\n",
       "      <td>[{'iso_3166_1': 'JP', 'name': 'Japan'}, {'iso_...</td>\n",
       "      <td>7/14/07</td>\n",
       "      <td>90.0</td>\n",
       "      <td>[{'iso_639_1': 'en', 'name': 'English'}, {'iso...</td>\n",
       "      <td>Released</td>\n",
       "      <td>Somewhere Between Time &amp; Space... A Legend Is ...</td>\n",
       "      <td>Pokémon: The Rise of Darkrai</td>\n",
       "      <td>[{'id': 11451, 'name': 'pok√©mon'}, {'id': 115...</td>\n",
       "      <td>[{'cast_id': 3, 'character': 'Tonio', 'credit_...</td>\n",
       "      <td>[{'credit_id': '52fe44e7c3a368484e03d683', 'de...</td>\n",
       "    </tr>\n",
       "    <tr>\n",
       "      <th>1</th>\n",
       "      <td>3002</td>\n",
       "      <td>NaN</td>\n",
       "      <td>88000</td>\n",
       "      <td>[{'id': 27, 'name': 'Horror'}, {'id': 878, 'na...</td>\n",
       "      <td>NaN</td>\n",
       "      <td>tt0051380</td>\n",
       "      <td>en</td>\n",
       "      <td>Attack of the 50 Foot Woman</td>\n",
       "      <td>When an abused wife grows to giant size becaus...</td>\n",
       "      <td>3.559789</td>\n",
       "      <td>/9MgBNBqlH1sG4yG2u4XkwI5CoJa.jpg</td>\n",
       "      <td>[{'name': 'Woolner Brothers Pictures Inc.', 'i...</td>\n",
       "      <td>[{'iso_3166_1': 'US', 'name': 'United States o...</td>\n",
       "      <td>5/19/58</td>\n",
       "      <td>65.0</td>\n",
       "      <td>[{'iso_639_1': 'en', 'name': 'English'}]</td>\n",
       "      <td>Released</td>\n",
       "      <td>A titanic beauty spreads a macabre wave of hor...</td>\n",
       "      <td>Attack of the 50 Foot Woman</td>\n",
       "      <td>[{'id': 9748, 'name': 'revenge'}, {'id': 9951,...</td>\n",
       "      <td>[{'cast_id': 2, 'character': 'Nancy Fowler Arc...</td>\n",
       "      <td>[{'credit_id': '55807805c3a3685b1300060b', 'de...</td>\n",
       "    </tr>\n",
       "  </tbody>\n",
       "</table>\n",
       "</div>"
      ],
      "text/plain": [
       "     id                              belongs_to_collection  budget  \\\n",
       "0  3001  [{'id': 34055, 'name': 'Pokémon Collection', '...       0   \n",
       "1  3002                                                NaN   88000   \n",
       "\n",
       "                                              genres  \\\n",
       "0  [{'id': 12, 'name': 'Adventure'}, {'id': 16, '...   \n",
       "1  [{'id': 27, 'name': 'Horror'}, {'id': 878, 'na...   \n",
       "\n",
       "                                            homepage    imdb_id  \\\n",
       "0  http://www.pokemon.com/us/movies/movie-pokemon...  tt1226251   \n",
       "1                                                NaN  tt0051380   \n",
       "\n",
       "  original_language               original_title  \\\n",
       "0                ja           ディアルガVSパルキアVSダークライ   \n",
       "1                en  Attack of the 50 Foot Woman   \n",
       "\n",
       "                                            overview  popularity  \\\n",
       "0  Ash and friends (this time accompanied by newc...    3.851534   \n",
       "1  When an abused wife grows to giant size becaus...    3.559789   \n",
       "\n",
       "                        poster_path  \\\n",
       "0  /tnftmLMemPLduW6MRyZE0ZUD19z.jpg   \n",
       "1  /9MgBNBqlH1sG4yG2u4XkwI5CoJa.jpg   \n",
       "\n",
       "                                production_companies  \\\n",
       "0                                                NaN   \n",
       "1  [{'name': 'Woolner Brothers Pictures Inc.', 'i...   \n",
       "\n",
       "                                production_countries release_date  runtime  \\\n",
       "0  [{'iso_3166_1': 'JP', 'name': 'Japan'}, {'iso_...      7/14/07     90.0   \n",
       "1  [{'iso_3166_1': 'US', 'name': 'United States o...      5/19/58     65.0   \n",
       "\n",
       "                                    spoken_languages    status  \\\n",
       "0  [{'iso_639_1': 'en', 'name': 'English'}, {'iso...  Released   \n",
       "1           [{'iso_639_1': 'en', 'name': 'English'}]  Released   \n",
       "\n",
       "                                             tagline  \\\n",
       "0  Somewhere Between Time & Space... A Legend Is ...   \n",
       "1  A titanic beauty spreads a macabre wave of hor...   \n",
       "\n",
       "                          title  \\\n",
       "0  Pokémon: The Rise of Darkrai   \n",
       "1   Attack of the 50 Foot Woman   \n",
       "\n",
       "                                            Keywords  \\\n",
       "0  [{'id': 11451, 'name': 'pok√©mon'}, {'id': 115...   \n",
       "1  [{'id': 9748, 'name': 'revenge'}, {'id': 9951,...   \n",
       "\n",
       "                                                cast  \\\n",
       "0  [{'cast_id': 3, 'character': 'Tonio', 'credit_...   \n",
       "1  [{'cast_id': 2, 'character': 'Nancy Fowler Arc...   \n",
       "\n",
       "                                                crew  \n",
       "0  [{'credit_id': '52fe44e7c3a368484e03d683', 'de...  \n",
       "1  [{'credit_id': '55807805c3a3685b1300060b', 'de...  "
      ]
     },
     "execution_count": 6,
     "metadata": {},
     "output_type": "execute_result"
    }
   ],
   "source": [
    "test=pd.read_csv('D:\\\\Data_sets\\\\movie\\\\test.csv')\n",
    "test.head(2)"
   ]
  },
  {
   "cell_type": "code",
   "execution_count": 7,
   "id": "56bc0273",
   "metadata": {},
   "outputs": [],
   "source": [
    "test_additionalfeature=pd.read_csv('D:\\\\Data_sets\\\\movie\\\\TestAdditionalFeatures.csv')"
   ]
  },
  {
   "cell_type": "code",
   "execution_count": 8,
   "id": "71b2d6e1",
   "metadata": {},
   "outputs": [],
   "source": [
    "test=pd.merge(test,test_additionalfeature, how='left', on=['imdb_id'])"
   ]
  },
  {
   "cell_type": "code",
   "execution_count": null,
   "id": "d126662c",
   "metadata": {},
   "outputs": [],
   "source": []
  },
  {
   "cell_type": "code",
   "execution_count": 9,
   "id": "75eba111",
   "metadata": {},
   "outputs": [],
   "source": [
    "train.drop('id', axis=1, inplace=True)\n",
    "test.drop('id', axis=1, inplace=True)"
   ]
  },
  {
   "cell_type": "code",
   "execution_count": null,
   "id": "866b02fb",
   "metadata": {},
   "outputs": [],
   "source": []
  },
  {
   "cell_type": "code",
   "execution_count": null,
   "id": "76d76809",
   "metadata": {},
   "outputs": [],
   "source": []
  },
  {
   "cell_type": "code",
   "execution_count": 10,
   "id": "ac45e399",
   "metadata": {},
   "outputs": [],
   "source": [
    "def get_dict(s):\n",
    "    try:\n",
    "        d = eval(s)\n",
    "    except:\n",
    "        d = {}\n",
    "    return d"
   ]
  },
  {
   "cell_type": "code",
   "execution_count": 11,
   "id": "8868e9f9",
   "metadata": {},
   "outputs": [],
   "source": [
    "has_collection=[]\n",
    "\n",
    "for i in train.belongs_to_collection:\n",
    "    d=get_dict(i)\n",
    "    if d != {}:\n",
    "        has_collection.append(1)\n",
    "    else:\n",
    "        has_collection.append(0)"
   ]
  },
  {
   "cell_type": "code",
   "execution_count": 12,
   "id": "0f47e959",
   "metadata": {},
   "outputs": [],
   "source": [
    "train['has_collection']=has_collection"
   ]
  },
  {
   "cell_type": "code",
   "execution_count": 13,
   "id": "20ede419",
   "metadata": {},
   "outputs": [],
   "source": [
    "has_collection=[]\n",
    "\n",
    "for i in test.belongs_to_collection:\n",
    "    d=get_dict(i)\n",
    "    if d != {}:\n",
    "        has_collection.append(1)\n",
    "    else:\n",
    "        has_collection.append(0)"
   ]
  },
  {
   "cell_type": "code",
   "execution_count": 14,
   "id": "62e91954",
   "metadata": {},
   "outputs": [],
   "source": [
    "test['has_collection']=has_collection"
   ]
  },
  {
   "cell_type": "code",
   "execution_count": 15,
   "id": "eb1db0f9",
   "metadata": {},
   "outputs": [],
   "source": [
    "train.drop('belongs_to_collection', axis=1, inplace=True)"
   ]
  },
  {
   "cell_type": "code",
   "execution_count": 16,
   "id": "9d7a2ac4",
   "metadata": {},
   "outputs": [],
   "source": [
    "test.drop('belongs_to_collection', axis=1, inplace=True)"
   ]
  },
  {
   "cell_type": "code",
   "execution_count": 17,
   "id": "0a02eda2",
   "metadata": {},
   "outputs": [],
   "source": [
    "no_of_genre=[]\n",
    "\n",
    "for i in train.genres:\n",
    "    d=get_dict(i)\n",
    "\n",
    "    no_of_genre.append(len(d))"
   ]
  },
  {
   "cell_type": "code",
   "execution_count": 18,
   "id": "008aaff2",
   "metadata": {},
   "outputs": [],
   "source": [
    "train['no_of_genre']=no_of_genre"
   ]
  },
  {
   "cell_type": "code",
   "execution_count": 19,
   "id": "644c8339",
   "metadata": {},
   "outputs": [],
   "source": [
    "no_of_genre=[]\n",
    "\n",
    "for i in test.genres:\n",
    "    d=get_dict(i)\n",
    "\n",
    "    no_of_genre.append(len(d))"
   ]
  },
  {
   "cell_type": "code",
   "execution_count": 20,
   "id": "34c0660c",
   "metadata": {},
   "outputs": [],
   "source": [
    "test['no_of_genre']=no_of_genre"
   ]
  },
  {
   "cell_type": "code",
   "execution_count": 21,
   "id": "615f6e81",
   "metadata": {},
   "outputs": [],
   "source": [
    "train.drop(['genres'], axis=1, inplace=True)"
   ]
  },
  {
   "cell_type": "code",
   "execution_count": 22,
   "id": "70554d9b",
   "metadata": {},
   "outputs": [],
   "source": [
    "test.drop(['genres'], axis=1, inplace=True)"
   ]
  },
  {
   "cell_type": "code",
   "execution_count": 23,
   "id": "9f8d3fb1",
   "metadata": {},
   "outputs": [],
   "source": [
    "homepage_exit=[]\n",
    "for i in train.homepage:\n",
    "    if str(i)=='nan':\n",
    "        homepage_exit.append(0)\n",
    "    else:\n",
    "        homepage_exit.append(1)"
   ]
  },
  {
   "cell_type": "code",
   "execution_count": 24,
   "id": "289796c7",
   "metadata": {},
   "outputs": [],
   "source": [
    "train['homepage_exit']=homepage_exit"
   ]
  },
  {
   "cell_type": "code",
   "execution_count": 25,
   "id": "2524f517",
   "metadata": {},
   "outputs": [],
   "source": [
    "homepage_exit=[]\n",
    "for i in test.homepage:\n",
    "    if str(i)=='nan':\n",
    "        homepage_exit.append(0)\n",
    "    else:\n",
    "        homepage_exit.append(1)"
   ]
  },
  {
   "cell_type": "code",
   "execution_count": 26,
   "id": "fd1ba76d",
   "metadata": {},
   "outputs": [],
   "source": [
    "test['homepage_exit']=homepage_exit"
   ]
  },
  {
   "cell_type": "code",
   "execution_count": 27,
   "id": "ff7e1d99",
   "metadata": {},
   "outputs": [],
   "source": [
    "train.drop('homepage', axis=1, inplace=True)"
   ]
  },
  {
   "cell_type": "code",
   "execution_count": 28,
   "id": "b01b19b8",
   "metadata": {},
   "outputs": [],
   "source": [
    "test.drop('homepage', axis=1, inplace=True)"
   ]
  },
  {
   "cell_type": "code",
   "execution_count": null,
   "id": "028ce63d",
   "metadata": {},
   "outputs": [],
   "source": []
  },
  {
   "cell_type": "code",
   "execution_count": null,
   "id": "37e1a43a",
   "metadata": {},
   "outputs": [],
   "source": []
  },
  {
   "cell_type": "code",
   "execution_count": 29,
   "id": "3dc92b5d",
   "metadata": {},
   "outputs": [],
   "source": [
    "train.drop('imdb_id', axis=1, inplace=True)"
   ]
  },
  {
   "cell_type": "code",
   "execution_count": 30,
   "id": "787d6b20",
   "metadata": {},
   "outputs": [],
   "source": [
    "test.drop('imdb_id', axis=1, inplace=True)"
   ]
  },
  {
   "cell_type": "code",
   "execution_count": null,
   "id": "ec845542",
   "metadata": {},
   "outputs": [],
   "source": []
  },
  {
   "cell_type": "code",
   "execution_count": 31,
   "id": "e0dbd6ad",
   "metadata": {},
   "outputs": [],
   "source": [
    "orignal_lang_english=[]\n",
    "\n",
    "for i in train.original_language:\n",
    "    if str(i)=='en':\n",
    "        orignal_lang_english.append(1)\n",
    "    else:\n",
    "        orignal_lang_english.append(0)"
   ]
  },
  {
   "cell_type": "code",
   "execution_count": 32,
   "id": "ac834fe6",
   "metadata": {},
   "outputs": [],
   "source": [
    "train['orignal_lang_english']=orignal_lang_english"
   ]
  },
  {
   "cell_type": "code",
   "execution_count": 33,
   "id": "35900534",
   "metadata": {},
   "outputs": [],
   "source": [
    "orignal_lang_english=[]\n",
    "\n",
    "for i in test.original_language:\n",
    "    if str(i)=='en':\n",
    "        orignal_lang_english.append(1)\n",
    "    else:\n",
    "        orignal_lang_english.append(0)"
   ]
  },
  {
   "cell_type": "code",
   "execution_count": 34,
   "id": "96028d80",
   "metadata": {},
   "outputs": [],
   "source": [
    "test['orignal_lang_english']=orignal_lang_english"
   ]
  },
  {
   "cell_type": "code",
   "execution_count": 35,
   "id": "f08bb361",
   "metadata": {},
   "outputs": [],
   "source": [
    "train.drop('original_language', axis=1, inplace=True)"
   ]
  },
  {
   "cell_type": "code",
   "execution_count": 36,
   "id": "dadc9527",
   "metadata": {},
   "outputs": [],
   "source": [
    "test.drop('original_language', axis=1, inplace=True)"
   ]
  },
  {
   "cell_type": "code",
   "execution_count": null,
   "id": "91fb950f",
   "metadata": {},
   "outputs": [],
   "source": []
  },
  {
   "cell_type": "code",
   "execution_count": null,
   "id": "3e26c1fd",
   "metadata": {},
   "outputs": [],
   "source": []
  },
  {
   "cell_type": "code",
   "execution_count": 37,
   "id": "7646d855",
   "metadata": {},
   "outputs": [
    {
     "data": {
      "text/plain": [
       "22"
      ]
     },
     "execution_count": 37,
     "metadata": {},
     "output_type": "execute_result"
    }
   ],
   "source": [
    "len('Hot Tub Time Machine 2')"
   ]
  },
  {
   "cell_type": "code",
   "execution_count": null,
   "id": "d41c732f",
   "metadata": {},
   "outputs": [],
   "source": []
  },
  {
   "cell_type": "code",
   "execution_count": 38,
   "id": "b3969ee8",
   "metadata": {},
   "outputs": [],
   "source": [
    "train['original_title_letter_count'] = train.original_title.str.len()"
   ]
  },
  {
   "cell_type": "code",
   "execution_count": 39,
   "id": "606385b3",
   "metadata": {},
   "outputs": [],
   "source": [
    "train['original_title_word_count'] = train.original_title.str.split().str.len()"
   ]
  },
  {
   "cell_type": "code",
   "execution_count": 40,
   "id": "1acf4ca9",
   "metadata": {},
   "outputs": [
    {
     "data": {
      "text/html": [
       "<div>\n",
       "<style scoped>\n",
       "    .dataframe tbody tr th:only-of-type {\n",
       "        vertical-align: middle;\n",
       "    }\n",
       "\n",
       "    .dataframe tbody tr th {\n",
       "        vertical-align: top;\n",
       "    }\n",
       "\n",
       "    .dataframe thead th {\n",
       "        text-align: right;\n",
       "    }\n",
       "</style>\n",
       "<table border=\"1\" class=\"dataframe\">\n",
       "  <thead>\n",
       "    <tr style=\"text-align: right;\">\n",
       "      <th></th>\n",
       "      <th>budget</th>\n",
       "      <th>original_title</th>\n",
       "      <th>overview</th>\n",
       "      <th>popularity</th>\n",
       "      <th>poster_path</th>\n",
       "      <th>production_companies</th>\n",
       "      <th>production_countries</th>\n",
       "      <th>release_date</th>\n",
       "      <th>runtime</th>\n",
       "      <th>spoken_languages</th>\n",
       "      <th>status</th>\n",
       "      <th>tagline</th>\n",
       "      <th>title</th>\n",
       "      <th>Keywords</th>\n",
       "      <th>cast</th>\n",
       "      <th>crew</th>\n",
       "      <th>revenue</th>\n",
       "      <th>popularity2</th>\n",
       "      <th>rating</th>\n",
       "      <th>totalVotes</th>\n",
       "      <th>has_collection</th>\n",
       "      <th>no_of_genre</th>\n",
       "      <th>homepage_exit</th>\n",
       "      <th>orignal_lang_english</th>\n",
       "      <th>original_title_letter_count</th>\n",
       "      <th>original_title_word_count</th>\n",
       "    </tr>\n",
       "  </thead>\n",
       "  <tbody>\n",
       "    <tr>\n",
       "      <th>0</th>\n",
       "      <td>14000000</td>\n",
       "      <td>Hot Tub Time Machine 2</td>\n",
       "      <td>When Lou, who has become the \"father of the In...</td>\n",
       "      <td>6.575393</td>\n",
       "      <td>/tQtWuwvMf0hCc2QR2tkolwl7c3c.jpg</td>\n",
       "      <td>[{'name': 'Paramount Pictures', 'id': 4}, {'na...</td>\n",
       "      <td>[{'iso_3166_1': 'US', 'name': 'United States o...</td>\n",
       "      <td>2/20/15</td>\n",
       "      <td>93.0</td>\n",
       "      <td>[{'iso_639_1': 'en', 'name': 'English'}]</td>\n",
       "      <td>Released</td>\n",
       "      <td>The Laws of Space and Time are About to be Vio...</td>\n",
       "      <td>Hot Tub Time Machine 2</td>\n",
       "      <td>[{'id': 4379, 'name': 'time travel'}, {'id': 9...</td>\n",
       "      <td>[{'cast_id': 4, 'character': 'Lou', 'credit_id...</td>\n",
       "      <td>[{'credit_id': '59ac067c92514107af02c8c8', 'de...</td>\n",
       "      <td>12314651</td>\n",
       "      <td>10.4</td>\n",
       "      <td>5.0</td>\n",
       "      <td>482.0</td>\n",
       "      <td>1</td>\n",
       "      <td>1</td>\n",
       "      <td>0</td>\n",
       "      <td>1</td>\n",
       "      <td>22</td>\n",
       "      <td>5</td>\n",
       "    </tr>\n",
       "  </tbody>\n",
       "</table>\n",
       "</div>"
      ],
      "text/plain": [
       "     budget          original_title  \\\n",
       "0  14000000  Hot Tub Time Machine 2   \n",
       "\n",
       "                                            overview  popularity  \\\n",
       "0  When Lou, who has become the \"father of the In...    6.575393   \n",
       "\n",
       "                        poster_path  \\\n",
       "0  /tQtWuwvMf0hCc2QR2tkolwl7c3c.jpg   \n",
       "\n",
       "                                production_companies  \\\n",
       "0  [{'name': 'Paramount Pictures', 'id': 4}, {'na...   \n",
       "\n",
       "                                production_countries release_date  runtime  \\\n",
       "0  [{'iso_3166_1': 'US', 'name': 'United States o...      2/20/15     93.0   \n",
       "\n",
       "                           spoken_languages    status  \\\n",
       "0  [{'iso_639_1': 'en', 'name': 'English'}]  Released   \n",
       "\n",
       "                                             tagline                   title  \\\n",
       "0  The Laws of Space and Time are About to be Vio...  Hot Tub Time Machine 2   \n",
       "\n",
       "                                            Keywords  \\\n",
       "0  [{'id': 4379, 'name': 'time travel'}, {'id': 9...   \n",
       "\n",
       "                                                cast  \\\n",
       "0  [{'cast_id': 4, 'character': 'Lou', 'credit_id...   \n",
       "\n",
       "                                                crew   revenue  popularity2  \\\n",
       "0  [{'credit_id': '59ac067c92514107af02c8c8', 'de...  12314651         10.4   \n",
       "\n",
       "   rating  totalVotes  has_collection  no_of_genre  homepage_exit  \\\n",
       "0     5.0       482.0               1            1              0   \n",
       "\n",
       "   orignal_lang_english  original_title_letter_count  \\\n",
       "0                     1                           22   \n",
       "\n",
       "   original_title_word_count  \n",
       "0                          5  "
      ]
     },
     "execution_count": 40,
     "metadata": {},
     "output_type": "execute_result"
    }
   ],
   "source": [
    "train.head(1)"
   ]
  },
  {
   "cell_type": "code",
   "execution_count": 41,
   "id": "b9a3f429",
   "metadata": {},
   "outputs": [],
   "source": [
    "test['original_title_letter_count'] = test.original_title.str.len()\n",
    "test['original_title_word_count'] = test.original_title.str.split().str.len()"
   ]
  },
  {
   "cell_type": "code",
   "execution_count": null,
   "id": "6bb3217f",
   "metadata": {},
   "outputs": [],
   "source": []
  },
  {
   "cell_type": "code",
   "execution_count": 42,
   "id": "7efe0fd7",
   "metadata": {},
   "outputs": [],
   "source": [
    "train['overview_word_count'] = train.overview.str.split().str.len()\n",
    "test['overview_word_count'] = test.overview.str.split().str.len()\n"
   ]
  },
  {
   "cell_type": "code",
   "execution_count": 43,
   "id": "86bc9ecb",
   "metadata": {},
   "outputs": [],
   "source": [
    "no_of_prod_comp=[]\n",
    "\n",
    "for i in train.production_companies:\n",
    "    d=get_dict(i)\n",
    "\n",
    "    no_of_prod_comp.append(len(d))"
   ]
  },
  {
   "cell_type": "code",
   "execution_count": 44,
   "id": "f7534c97",
   "metadata": {},
   "outputs": [],
   "source": [
    "train['no_of_prod_comp']=no_of_prod_comp"
   ]
  },
  {
   "cell_type": "code",
   "execution_count": 45,
   "id": "3f443dd9",
   "metadata": {},
   "outputs": [],
   "source": [
    "no_of_prod_comp=[]\n",
    "\n",
    "for i in test.production_companies:\n",
    "    d=get_dict(i)\n",
    "\n",
    "    no_of_prod_comp.append(len(d))"
   ]
  },
  {
   "cell_type": "code",
   "execution_count": 46,
   "id": "12352686",
   "metadata": {},
   "outputs": [],
   "source": [
    "test['no_of_prod_comp']=no_of_prod_comp"
   ]
  },
  {
   "cell_type": "code",
   "execution_count": null,
   "id": "b46a890f",
   "metadata": {},
   "outputs": [],
   "source": []
  },
  {
   "cell_type": "code",
   "execution_count": null,
   "id": "ec9dc573",
   "metadata": {},
   "outputs": [],
   "source": []
  },
  {
   "cell_type": "code",
   "execution_count": 47,
   "id": "81949ccd",
   "metadata": {},
   "outputs": [],
   "source": [
    "production_country_usa=[]\n",
    "\n",
    "for i in train.production_countries:\n",
    "    d=get_dict(i)\n",
    "    if d!={}:\n",
    "        if 'United States of America' in (d[0]['name']):\n",
    "            production_country_usa.append(1)\n",
    "        else:\n",
    "            production_country_usa.append(0)\n",
    "    else:\n",
    "        production_country_usa.append(0)"
   ]
  },
  {
   "cell_type": "code",
   "execution_count": 48,
   "id": "e13741c5",
   "metadata": {},
   "outputs": [],
   "source": [
    "train['production_country_usa']=production_country_usa"
   ]
  },
  {
   "cell_type": "code",
   "execution_count": 49,
   "id": "7b26d046",
   "metadata": {},
   "outputs": [],
   "source": [
    "production_country_usa=[]\n",
    "\n",
    "for i in test.production_countries:\n",
    "    d=get_dict(i)\n",
    "    if d!={}:\n",
    "        if 'United States of America' in (d[0]['name']):\n",
    "            production_country_usa.append(1)\n",
    "        else:\n",
    "            production_country_usa.append(0)\n",
    "    else:\n",
    "        production_country_usa.append(0)"
   ]
  },
  {
   "cell_type": "code",
   "execution_count": 50,
   "id": "3cb61913",
   "metadata": {},
   "outputs": [],
   "source": [
    "test['production_country_usa']=production_country_usa"
   ]
  },
  {
   "cell_type": "code",
   "execution_count": 51,
   "id": "177ac0b1",
   "metadata": {},
   "outputs": [],
   "source": [
    "no_prod_countries=[]\n",
    "\n",
    "for i in train.production_countries:\n",
    "    d=get_dict(i)\n",
    "\n",
    "    no_prod_countries.append(len(d))"
   ]
  },
  {
   "cell_type": "code",
   "execution_count": 52,
   "id": "b3eab3f0",
   "metadata": {},
   "outputs": [],
   "source": [
    "train['no_prod_countries']=no_prod_countries"
   ]
  },
  {
   "cell_type": "code",
   "execution_count": 53,
   "id": "65673ca7",
   "metadata": {},
   "outputs": [],
   "source": [
    "no_prod_countries=[]\n",
    "\n",
    "for i in test.production_countries:\n",
    "    d=get_dict(i)\n",
    "\n",
    "    no_prod_countries.append(len(d))"
   ]
  },
  {
   "cell_type": "code",
   "execution_count": 54,
   "id": "b9aa4fc3",
   "metadata": {},
   "outputs": [],
   "source": [
    "test['no_prod_countries']=no_prod_countries"
   ]
  },
  {
   "cell_type": "code",
   "execution_count": 55,
   "id": "2cde84ae",
   "metadata": {},
   "outputs": [],
   "source": [
    "train.drop('production_countries', axis=1, inplace=True)"
   ]
  },
  {
   "cell_type": "code",
   "execution_count": 56,
   "id": "db6ae987",
   "metadata": {},
   "outputs": [],
   "source": [
    "test.drop('production_countries', axis=1, inplace=True)"
   ]
  },
  {
   "cell_type": "code",
   "execution_count": null,
   "id": "68c4493b",
   "metadata": {},
   "outputs": [],
   "source": []
  },
  {
   "cell_type": "code",
   "execution_count": 57,
   "id": "2beacac3",
   "metadata": {},
   "outputs": [
    {
     "name": "stderr",
     "output_type": "stream",
     "text": [
      "C:\\ProgramData\\Anaconda3\\lib\\site-packages\\seaborn\\_decorators.py:36: FutureWarning: Pass the following variables as keyword args: x, y. From version 0.12, the only valid positional argument will be `data`, and passing other arguments without an explicit keyword will result in an error or misinterpretation.\n",
      "  warnings.warn(\n"
     ]
    },
    {
     "data": {
      "text/plain": [
       "Text(0, 0.5, 'No of releases')"
      ]
     },
     "execution_count": 57,
     "metadata": {},
     "output_type": "execute_result"
    },
    {
     "data": {
      "image/png": "[encoded data removed]",
      "text/plain": [
       "<Figure size 432x288 with 1 Axes>"
      ]
     },
     "metadata": {
      "needs_background": "light"
     },
     "output_type": "display_data"
    }
   ],
   "source": [
    "def date(x):\n",
    "    x=str(x)\n",
    "    year=x.split('/')[2]\n",
    "    if int(year)<19:\n",
    "        return x[:-2]+'20'+year\n",
    "    else:\n",
    "        return x[:-2]+'19'+year\n",
    "    \n",
    "train['release_date'] =train['release_date'].fillna('1/1/90').apply(lambda x: date(x))\n",
    "test['release_date']  =test['release_date'].fillna('1/1/90').apply(lambda x: date(x))\n",
    "\n",
    "#from datetime import datetime\n",
    "train['release_date'] = train['release_date'].apply(lambda x: datetime.strptime(x,'%m/%d/%Y'))\n",
    "test['release_date']  = test['release_date'].apply(lambda x: datetime.strptime(x,'%m/%d/%Y'))\n",
    "\n",
    "train['release_day']   = train['release_date'].apply(lambda x:x.weekday())\n",
    "train['release_month'] = train['release_date'].apply(lambda x:x.month)\n",
    "train['release_year']  = train['release_date'].apply(lambda x:x.year)\n",
    "\n",
    "test['release_day']   = test['release_date'].apply(lambda x:x.weekday())\n",
    "test['release_month'] = test['release_date'].apply(lambda x:x.month)\n",
    "test['release_year']  = test['release_date'].apply(lambda x:x.year)\n",
    "\n",
    "day=train['release_day'].value_counts().sort_index()\n",
    "sns.barplot(day.index,day)\n",
    "plt.gca().set_xticklabels([\"Monday\",\"Tuesday\",\"Wednesday\",\"Thursday\",\"Friday\",\"Saturday\",\"Sunday\"],rotation='45')\n",
    "plt.ylabel('No of releases')"
   ]
  },
  {
   "cell_type": "code",
   "execution_count": 58,
   "id": "fd9de17e",
   "metadata": {},
   "outputs": [],
   "source": [
    "train.drop('release_date', axis=1, inplace=True)"
   ]
  },
  {
   "cell_type": "code",
   "execution_count": 59,
   "id": "40ecc836",
   "metadata": {},
   "outputs": [],
   "source": [
    "test.drop('release_date', axis=1, inplace=True)"
   ]
  },
  {
   "cell_type": "code",
   "execution_count": 60,
   "id": "ddafd0d0",
   "metadata": {},
   "outputs": [],
   "source": [
    "train.runtime=train.runtime.fillna(train.runtime.mean())"
   ]
  },
  {
   "cell_type": "code",
   "execution_count": 61,
   "id": "9b371933",
   "metadata": {},
   "outputs": [],
   "source": [
    "test.runtime=test.runtime.fillna(test.runtime.mean())"
   ]
  },
  {
   "cell_type": "code",
   "execution_count": 62,
   "id": "07e80731",
   "metadata": {},
   "outputs": [],
   "source": [
    "no_lang_spoken=[]\n",
    "\n",
    "for i in train.spoken_languages:\n",
    "    d=get_dict(i)\n",
    "\n",
    "    no_lang_spoken.append(len(d))"
   ]
  },
  {
   "cell_type": "code",
   "execution_count": 63,
   "id": "cb49bcdd",
   "metadata": {},
   "outputs": [],
   "source": [
    "train['no_lang_spoken']=no_lang_spoken"
   ]
  },
  {
   "cell_type": "code",
   "execution_count": 64,
   "id": "7c46e390",
   "metadata": {},
   "outputs": [],
   "source": [
    "no_lang_spoken=[]\n",
    "\n",
    "for i in test.spoken_languages:\n",
    "    d=get_dict(i)\n",
    "\n",
    "    no_lang_spoken.append(len(d))"
   ]
  },
  {
   "cell_type": "code",
   "execution_count": 65,
   "id": "74934936",
   "metadata": {},
   "outputs": [],
   "source": [
    "test['no_lang_spoken']=no_lang_spoken"
   ]
  },
  {
   "cell_type": "code",
   "execution_count": 66,
   "id": "2ac9b507",
   "metadata": {},
   "outputs": [],
   "source": [
    "spoken_lang_en=[]\n",
    "\n",
    "for i in train.spoken_languages:\n",
    "    d=get_dict(i)\n",
    "    if d!={}:\n",
    "        if 'English' in (d[0]['name']):\n",
    "            spoken_lang_en.append(1)\n",
    "        else:\n",
    "            spoken_lang_en.append(0)\n",
    "    else:\n",
    "        spoken_lang_en.append(1)"
   ]
  },
  {
   "cell_type": "code",
   "execution_count": 67,
   "id": "069498cd",
   "metadata": {},
   "outputs": [],
   "source": [
    "train['spoken_lang_en']=spoken_lang_en"
   ]
  },
  {
   "cell_type": "code",
   "execution_count": 68,
   "id": "ef6a9eb2",
   "metadata": {},
   "outputs": [],
   "source": [
    "spoken_lang_en=[]\n",
    "\n",
    "for i in test.spoken_languages:\n",
    "    d=get_dict(i)\n",
    "    if d!={}:\n",
    "#         print(d)\n",
    "#         print(d[0]['name'])\n",
    "        if 'English' in (d[0]['name']):\n",
    "            spoken_lang_en.append(1)\n",
    "        else:\n",
    "            spoken_lang_en.append(0)\n",
    "    else:\n",
    "        spoken_lang_en.append(1)"
   ]
  },
  {
   "cell_type": "code",
   "execution_count": 69,
   "id": "47cbcdd0",
   "metadata": {},
   "outputs": [],
   "source": [
    "test['spoken_lang_en']=spoken_lang_en"
   ]
  },
  {
   "cell_type": "code",
   "execution_count": 70,
   "id": "1c506602",
   "metadata": {},
   "outputs": [],
   "source": [
    "train.drop('spoken_languages', axis=1, inplace=True)"
   ]
  },
  {
   "cell_type": "code",
   "execution_count": 71,
   "id": "168ad580",
   "metadata": {},
   "outputs": [],
   "source": [
    "test.drop('spoken_languages', axis=1, inplace=True)"
   ]
  },
  {
   "cell_type": "code",
   "execution_count": null,
   "id": "ad6b352e",
   "metadata": {},
   "outputs": [],
   "source": []
  },
  {
   "cell_type": "code",
   "execution_count": 72,
   "id": "e006832b",
   "metadata": {},
   "outputs": [],
   "source": [
    "train['is_released']=1"
   ]
  },
  {
   "cell_type": "code",
   "execution_count": 73,
   "id": "75a650b9",
   "metadata": {},
   "outputs": [],
   "source": [
    "test['is_released']=1"
   ]
  },
  {
   "cell_type": "code",
   "execution_count": 74,
   "id": "8c680c21",
   "metadata": {},
   "outputs": [],
   "source": [
    "train.loc[ train['status']!= 'Released','is_released' ]=0"
   ]
  },
  {
   "cell_type": "code",
   "execution_count": 75,
   "id": "7f0da4d4",
   "metadata": {},
   "outputs": [],
   "source": [
    "test.loc[ test['status']!= 'Released','is_released' ]=0"
   ]
  },
  {
   "cell_type": "code",
   "execution_count": null,
   "id": "1615274f",
   "metadata": {},
   "outputs": [],
   "source": []
  },
  {
   "cell_type": "code",
   "execution_count": null,
   "id": "0ce53492",
   "metadata": {},
   "outputs": [],
   "source": []
  },
  {
   "cell_type": "code",
   "execution_count": 76,
   "id": "a65b4716",
   "metadata": {},
   "outputs": [],
   "source": [
    "has_tagline=[]\n",
    "for i in train.tagline:\n",
    "#     print(i)\n",
    "    if str(i)=='nan':\n",
    "        has_tagline.append(0)\n",
    "    else:\n",
    "        has_tagline.append(1)"
   ]
  },
  {
   "cell_type": "code",
   "execution_count": 77,
   "id": "c28daa3b",
   "metadata": {},
   "outputs": [],
   "source": [
    "train['has_tagline']=has_tagline"
   ]
  },
  {
   "cell_type": "code",
   "execution_count": 78,
   "id": "3f91f34d",
   "metadata": {},
   "outputs": [],
   "source": [
    "has_tagline=[]\n",
    "for i in test.tagline:\n",
    "#     print(i)\n",
    "    if str(i)=='nan':\n",
    "        has_tagline.append(0)\n",
    "    else:\n",
    "        has_tagline.append(1)"
   ]
  },
  {
   "cell_type": "code",
   "execution_count": 79,
   "id": "e8e1d4b8",
   "metadata": {},
   "outputs": [],
   "source": [
    "test['has_tagline']=has_tagline"
   ]
  },
  {
   "cell_type": "code",
   "execution_count": 80,
   "id": "8823b6ee",
   "metadata": {},
   "outputs": [],
   "source": [
    "train.drop('tagline', axis=1, inplace=True)"
   ]
  },
  {
   "cell_type": "code",
   "execution_count": 81,
   "id": "6811c36d",
   "metadata": {},
   "outputs": [],
   "source": [
    "test.drop('tagline', axis=1, inplace=True)"
   ]
  },
  {
   "cell_type": "code",
   "execution_count": null,
   "id": "af77af94",
   "metadata": {},
   "outputs": [],
   "source": []
  },
  {
   "cell_type": "code",
   "execution_count": 82,
   "id": "539b8a63",
   "metadata": {},
   "outputs": [],
   "source": [
    "train['title_word_count'] = train.title.str.split().str.len()\n",
    "test['title_word_count'] = test.title.str.split().str.len()"
   ]
  },
  {
   "cell_type": "code",
   "execution_count": 83,
   "id": "3badf3bc",
   "metadata": {},
   "outputs": [],
   "source": [
    "train.drop('title', axis=1, inplace=True)"
   ]
  },
  {
   "cell_type": "code",
   "execution_count": 84,
   "id": "f2f965fe",
   "metadata": {},
   "outputs": [],
   "source": [
    "test.drop('title', axis=1, inplace=True)"
   ]
  },
  {
   "cell_type": "code",
   "execution_count": null,
   "id": "f87debd3",
   "metadata": {},
   "outputs": [],
   "source": []
  },
  {
   "cell_type": "code",
   "execution_count": null,
   "id": "56277dc2",
   "metadata": {},
   "outputs": [],
   "source": []
  },
  {
   "cell_type": "code",
   "execution_count": 85,
   "id": "78249be8",
   "metadata": {},
   "outputs": [],
   "source": [
    "has_keyword=[]\n",
    "for i in train.Keywords:\n",
    "#     print(i)\n",
    "    if str(i)=='nan':\n",
    "        has_keyword.append(0)\n",
    "    else:\n",
    "        has_keyword.append(1)"
   ]
  },
  {
   "cell_type": "code",
   "execution_count": 86,
   "id": "8f1290cf",
   "metadata": {},
   "outputs": [
    {
     "data": {
      "text/plain": [
       "(array([0, 1]), array([ 276, 2724], dtype=int64))"
      ]
     },
     "execution_count": 86,
     "metadata": {},
     "output_type": "execute_result"
    }
   ],
   "source": [
    "np.unique(has_keyword, return_counts=True)"
   ]
  },
  {
   "cell_type": "code",
   "execution_count": 87,
   "id": "e0cc48f1",
   "metadata": {},
   "outputs": [],
   "source": [
    "train['has_keyword']=has_keyword"
   ]
  },
  {
   "cell_type": "code",
   "execution_count": 88,
   "id": "5bd5b3ae",
   "metadata": {},
   "outputs": [],
   "source": [
    "has_keyword=[]\n",
    "for i in test.Keywords:\n",
    "#     print(i)\n",
    "    if str(i)=='nan':\n",
    "        has_keyword.append(0)\n",
    "    else:\n",
    "        has_keyword.append(1)"
   ]
  },
  {
   "cell_type": "code",
   "execution_count": 89,
   "id": "6d543777",
   "metadata": {},
   "outputs": [],
   "source": [
    "test['has_keyword']=has_keyword"
   ]
  },
  {
   "cell_type": "code",
   "execution_count": 90,
   "id": "d7f44db9",
   "metadata": {},
   "outputs": [],
   "source": [
    "no_of_keyword=[]\n",
    "\n",
    "for i in train.Keywords:\n",
    "    d=get_dict(i)\n",
    "\n",
    "    no_of_keyword.append(len(d))"
   ]
  },
  {
   "cell_type": "code",
   "execution_count": 91,
   "id": "102f8094",
   "metadata": {},
   "outputs": [],
   "source": [
    "train['no_of_keyword']=no_of_keyword"
   ]
  },
  {
   "cell_type": "code",
   "execution_count": 92,
   "id": "08cfd1b6",
   "metadata": {},
   "outputs": [],
   "source": [
    "no_of_keyword=[]\n",
    "\n",
    "for i in test.Keywords:\n",
    "    d=get_dict(i)\n",
    "\n",
    "    no_of_keyword.append(len(d))"
   ]
  },
  {
   "cell_type": "code",
   "execution_count": 94,
   "id": "a2b8531a",
   "metadata": {},
   "outputs": [],
   "source": [
    "test['no_of_keyword']=no_of_keyword"
   ]
  },
  {
   "cell_type": "code",
   "execution_count": 95,
   "id": "9c1794e8",
   "metadata": {},
   "outputs": [],
   "source": [
    "train.drop('Keywords', axis=1, inplace=True)"
   ]
  },
  {
   "cell_type": "code",
   "execution_count": 96,
   "id": "0350ec18",
   "metadata": {},
   "outputs": [],
   "source": [
    "test.drop('Keywords', axis=1, inplace=True)"
   ]
  },
  {
   "cell_type": "code",
   "execution_count": null,
   "id": "0071058c",
   "metadata": {},
   "outputs": [],
   "source": []
  },
  {
   "cell_type": "code",
   "execution_count": null,
   "id": "7580b5d6",
   "metadata": {},
   "outputs": [],
   "source": []
  },
  {
   "cell_type": "code",
   "execution_count": 97,
   "id": "1329f073",
   "metadata": {},
   "outputs": [],
   "source": [
    "no_cast=[]\n",
    "\n",
    "for i in train.cast:\n",
    "    d=get_dict(i)\n",
    "\n",
    "    no_cast.append(len(d))"
   ]
  },
  {
   "cell_type": "code",
   "execution_count": 98,
   "id": "46384d57",
   "metadata": {},
   "outputs": [],
   "source": [
    "train['no_cast']=no_cast"
   ]
  },
  {
   "cell_type": "code",
   "execution_count": 99,
   "id": "254f3446",
   "metadata": {},
   "outputs": [],
   "source": [
    "no_cast=[]\n",
    "\n",
    "for i in test.cast:\n",
    "    d=get_dict(i)\n",
    "\n",
    "    no_cast.append(len(d))"
   ]
  },
  {
   "cell_type": "code",
   "execution_count": 100,
   "id": "218d763a",
   "metadata": {},
   "outputs": [],
   "source": [
    "test['no_cast']=no_cast"
   ]
  },
  {
   "cell_type": "code",
   "execution_count": null,
   "id": "d69239f2",
   "metadata": {},
   "outputs": [],
   "source": []
  },
  {
   "cell_type": "code",
   "execution_count": null,
   "id": "bce44ada",
   "metadata": {},
   "outputs": [],
   "source": []
  },
  {
   "cell_type": "code",
   "execution_count": 101,
   "id": "51cf78cb",
   "metadata": {},
   "outputs": [],
   "source": [
    "train.drop('cast', axis=1, inplace=True)"
   ]
  },
  {
   "cell_type": "code",
   "execution_count": 102,
   "id": "bfc08949",
   "metadata": {},
   "outputs": [],
   "source": [
    "test.drop('cast', axis=1, inplace=True)"
   ]
  },
  {
   "cell_type": "code",
   "execution_count": null,
   "id": "c555e6a5",
   "metadata": {},
   "outputs": [],
   "source": []
  },
  {
   "cell_type": "code",
   "execution_count": 103,
   "id": "c489c58d",
   "metadata": {},
   "outputs": [],
   "source": [
    "no_of_crew=[]\n",
    "\n",
    "for i in train.crew:\n",
    "    d=get_dict(i)\n",
    "\n",
    "    no_of_crew.append(len(d))"
   ]
  },
  {
   "cell_type": "code",
   "execution_count": 104,
   "id": "eaea62fd",
   "metadata": {},
   "outputs": [],
   "source": [
    "train['no_of_crew']=no_of_crew"
   ]
  },
  {
   "cell_type": "code",
   "execution_count": 105,
   "id": "d09e64e0",
   "metadata": {},
   "outputs": [],
   "source": [
    "no_of_crew=[]\n",
    "\n",
    "for i in test.crew:\n",
    "    d=get_dict(i)\n",
    "\n",
    "    no_of_crew.append(len(d))"
   ]
  },
  {
   "cell_type": "code",
   "execution_count": 106,
   "id": "9dd3d17d",
   "metadata": {},
   "outputs": [],
   "source": [
    "test['no_of_crew']=no_of_crew"
   ]
  },
  {
   "cell_type": "code",
   "execution_count": null,
   "id": "a83beb11",
   "metadata": {},
   "outputs": [],
   "source": []
  },
  {
   "cell_type": "code",
   "execution_count": 107,
   "id": "121d7780",
   "metadata": {},
   "outputs": [],
   "source": [
    "train['genders_0_crew'] = train['crew'].apply(lambda x: sum([1 for i in get_dict(x) if i['gender'] == 0]))\n",
    "train['genders_1_crew'] = train['crew'].apply(lambda x: sum([1 for i in get_dict(x) if i['gender'] == 1]))\n",
    "train['genders_2_crew'] = train['crew'].apply(lambda x: sum([1 for i in get_dict(x) if i['gender'] == 2]))"
   ]
  },
  {
   "cell_type": "code",
   "execution_count": 108,
   "id": "6efd7a1f",
   "metadata": {},
   "outputs": [],
   "source": [
    "test['genders_0_crew'] = test['crew'].apply(lambda x: sum([1 for i in get_dict(x) if i['gender'] == 0]))\n",
    "test['genders_1_crew'] = test['crew'].apply(lambda x: sum([1 for i in get_dict(x) if i['gender'] == 1]))\n",
    "test['genders_2_crew'] = test['crew'].apply(lambda x: sum([1 for i in get_dict(x) if i['gender'] == 2]))"
   ]
  },
  {
   "cell_type": "code",
   "execution_count": null,
   "id": "42b309c4",
   "metadata": {},
   "outputs": [],
   "source": []
  },
  {
   "cell_type": "code",
   "execution_count": 109,
   "id": "5fb0eaf3",
   "metadata": {},
   "outputs": [],
   "source": [
    "train.drop('crew', axis=1, inplace=True)\n",
    "test.drop('crew', axis=1, inplace=True)"
   ]
  },
  {
   "cell_type": "code",
   "execution_count": 110,
   "id": "b38e72c9",
   "metadata": {},
   "outputs": [],
   "source": [
    "train.drop('overview', axis=1, inplace=True)\n",
    "test.drop('overview', axis=1, inplace=True)"
   ]
  },
  {
   "cell_type": "code",
   "execution_count": 111,
   "id": "b0b7fdf1",
   "metadata": {},
   "outputs": [],
   "source": [
    "train.drop('poster_path', axis=1, inplace=True)\n",
    "test.drop('poster_path', axis=1, inplace=True)"
   ]
  },
  {
   "cell_type": "code",
   "execution_count": 112,
   "id": "2eee1a7f",
   "metadata": {},
   "outputs": [],
   "source": [
    "train.drop('production_companies', axis=1, inplace=True)\n",
    "test.drop('production_companies', axis=1, inplace=True)"
   ]
  },
  {
   "cell_type": "code",
   "execution_count": 113,
   "id": "a209495f",
   "metadata": {},
   "outputs": [],
   "source": [
    "train.drop('original_title', axis=1, inplace=True)\n",
    "test.drop('original_title', axis=1, inplace=True)"
   ]
  },
  {
   "cell_type": "code",
   "execution_count": 114,
   "id": "b71b1ce4",
   "metadata": {},
   "outputs": [],
   "source": [
    "train.drop('status', axis=1, inplace=True)\n",
    "test.drop('status', axis=1, inplace=True)"
   ]
  },
  {
   "cell_type": "code",
   "execution_count": null,
   "id": "e3bc3434",
   "metadata": {},
   "outputs": [],
   "source": []
  },
  {
   "cell_type": "code",
   "execution_count": 115,
   "id": "e0357019",
   "metadata": {},
   "outputs": [],
   "source": [
    "train.popularity2=train.popularity2.fillna(train.popularity2.median())\n",
    "test.popularity2=test.popularity2.fillna(test.popularity2.median())"
   ]
  },
  {
   "cell_type": "code",
   "execution_count": 116,
   "id": "66b38d59",
   "metadata": {},
   "outputs": [],
   "source": [
    "train.rating=train.rating.fillna(train.rating.mean())\n",
    "test.rating=test.rating.fillna(test.rating.mean())"
   ]
  },
  {
   "cell_type": "code",
   "execution_count": 117,
   "id": "81d1f187",
   "metadata": {},
   "outputs": [],
   "source": [
    "train.totalVotes=train.totalVotes.fillna(train.totalVotes.median())\n",
    "test.totalVotes=test.totalVotes.fillna(test.totalVotes.median())"
   ]
  },
  {
   "cell_type": "code",
   "execution_count": null,
   "id": "bee333bf",
   "metadata": {},
   "outputs": [],
   "source": []
  },
  {
   "cell_type": "code",
   "execution_count": 118,
   "id": "3a26c5fc",
   "metadata": {},
   "outputs": [],
   "source": [
    "train['popularity'] = np.log1p(train['popularity'])   #log(1+x)  #expm1 - inverse\n",
    "train['popularity2'] = np.log1p(train['popularity2'])\n",
    "train['budget'] = np.log1p(train['budget'])\n",
    "train['runtime'] = np.log1p(train['runtime'])\n",
    "train['totalVotes'] = np.log1p(train['totalVotes'])\n",
    "train['revenue'] = np.log1p(train['revenue'])"
   ]
  },
  {
   "cell_type": "code",
   "execution_count": 119,
   "id": "773e7a78",
   "metadata": {},
   "outputs": [],
   "source": [
    "test['popularity'] = np.log1p(test['popularity'])   #log(1+x)  #expm1 - inverse\n",
    "test['popularity2'] = np.log1p(test['popularity2'])\n",
    "test['budget'] = np.log1p(test['budget'])\n",
    "test['runtime'] = np.log1p(test['runtime'])\n",
    "test['totalVotes'] = np.log1p(test['totalVotes'])"
   ]
  },
  {
   "cell_type": "code",
   "execution_count": null,
   "id": "19d13367",
   "metadata": {},
   "outputs": [],
   "source": []
  },
  {
   "cell_type": "code",
   "execution_count": 120,
   "id": "6265b722",
   "metadata": {
    "scrolled": true
   },
   "outputs": [
    {
     "data": {
      "text/html": [
       "<div>\n",
       "<style scoped>\n",
       "    .dataframe tbody tr th:only-of-type {\n",
       "        vertical-align: middle;\n",
       "    }\n",
       "\n",
       "    .dataframe tbody tr th {\n",
       "        vertical-align: top;\n",
       "    }\n",
       "\n",
       "    .dataframe thead th {\n",
       "        text-align: right;\n",
       "    }\n",
       "</style>\n",
       "<table border=\"1\" class=\"dataframe\">\n",
       "  <thead>\n",
       "    <tr style=\"text-align: right;\">\n",
       "      <th></th>\n",
       "      <th>budget</th>\n",
       "      <th>popularity</th>\n",
       "      <th>runtime</th>\n",
       "      <th>revenue</th>\n",
       "      <th>popularity2</th>\n",
       "      <th>rating</th>\n",
       "      <th>totalVotes</th>\n",
       "      <th>has_collection</th>\n",
       "      <th>no_of_genre</th>\n",
       "      <th>homepage_exit</th>\n",
       "      <th>orignal_lang_english</th>\n",
       "      <th>original_title_letter_count</th>\n",
       "      <th>original_title_word_count</th>\n",
       "      <th>overview_word_count</th>\n",
       "      <th>no_of_prod_comp</th>\n",
       "      <th>production_country_usa</th>\n",
       "      <th>no_prod_countries</th>\n",
       "      <th>release_day</th>\n",
       "      <th>release_month</th>\n",
       "      <th>release_year</th>\n",
       "      <th>no_lang_spoken</th>\n",
       "      <th>spoken_lang_en</th>\n",
       "      <th>is_released</th>\n",
       "      <th>has_tagline</th>\n",
       "      <th>title_word_count</th>\n",
       "      <th>has_keyword</th>\n",
       "      <th>no_of_keyword</th>\n",
       "      <th>no_cast</th>\n",
       "      <th>no_of_crew</th>\n",
       "      <th>genders_0_crew</th>\n",
       "      <th>genders_1_crew</th>\n",
       "      <th>genders_2_crew</th>\n",
       "    </tr>\n",
       "  </thead>\n",
       "  <tbody>\n",
       "    <tr>\n",
       "      <th>0</th>\n",
       "      <td>16.454568</td>\n",
       "      <td>2.024905</td>\n",
       "      <td>4.543295</td>\n",
       "      <td>16.326300</td>\n",
       "      <td>2.433613</td>\n",
       "      <td>5.0</td>\n",
       "      <td>6.180017</td>\n",
       "      <td>1</td>\n",
       "      <td>1</td>\n",
       "      <td>0</td>\n",
       "      <td>1</td>\n",
       "      <td>22</td>\n",
       "      <td>5</td>\n",
       "      <td>29.0</td>\n",
       "      <td>3</td>\n",
       "      <td>1</td>\n",
       "      <td>1</td>\n",
       "      <td>4</td>\n",
       "      <td>2</td>\n",
       "      <td>2015</td>\n",
       "      <td>1</td>\n",
       "      <td>1</td>\n",
       "      <td>1</td>\n",
       "      <td>1</td>\n",
       "      <td>5</td>\n",
       "      <td>1</td>\n",
       "      <td>4</td>\n",
       "      <td>24</td>\n",
       "      <td>72</td>\n",
       "      <td>59</td>\n",
       "      <td>0</td>\n",
       "      <td>13</td>\n",
       "    </tr>\n",
       "    <tr>\n",
       "      <th>1</th>\n",
       "      <td>17.504390</td>\n",
       "      <td>2.224504</td>\n",
       "      <td>4.736198</td>\n",
       "      <td>18.370959</td>\n",
       "      <td>2.786800</td>\n",
       "      <td>6.4</td>\n",
       "      <td>7.332369</td>\n",
       "      <td>1</td>\n",
       "      <td>4</td>\n",
       "      <td>0</td>\n",
       "      <td>1</td>\n",
       "      <td>40</td>\n",
       "      <td>6</td>\n",
       "      <td>69.0</td>\n",
       "      <td>1</td>\n",
       "      <td>1</td>\n",
       "      <td>1</td>\n",
       "      <td>4</td>\n",
       "      <td>8</td>\n",
       "      <td>2004</td>\n",
       "      <td>1</td>\n",
       "      <td>1</td>\n",
       "      <td>1</td>\n",
       "      <td>1</td>\n",
       "      <td>6</td>\n",
       "      <td>1</td>\n",
       "      <td>4</td>\n",
       "      <td>20</td>\n",
       "      <td>9</td>\n",
       "      <td>1</td>\n",
       "      <td>4</td>\n",
       "      <td>4</td>\n",
       "    </tr>\n",
       "  </tbody>\n",
       "</table>\n",
       "</div>"
      ],
      "text/plain": [
       "      budget  popularity   runtime    revenue  popularity2  rating  \\\n",
       "0  16.454568    2.024905  4.543295  16.326300     2.433613     5.0   \n",
       "1  17.504390    2.224504  4.736198  18.370959     2.786800     6.4   \n",
       "\n",
       "   totalVotes  has_collection  no_of_genre  homepage_exit  \\\n",
       "0    6.180017               1            1              0   \n",
       "1    7.332369               1            4              0   \n",
       "\n",
       "   orignal_lang_english  original_title_letter_count  \\\n",
       "0                     1                           22   \n",
       "1                     1                           40   \n",
       "\n",
       "   original_title_word_count  overview_word_count  no_of_prod_comp  \\\n",
       "0                          5                 29.0                3   \n",
       "1                          6                 69.0                1   \n",
       "\n",
       "   production_country_usa  no_prod_countries  release_day  release_month  \\\n",
       "0                       1                  1            4              2   \n",
       "1                       1                  1            4              8   \n",
       "\n",
       "   release_year  no_lang_spoken  spoken_lang_en  is_released  has_tagline  \\\n",
       "0          2015               1               1            1            1   \n",
       "1          2004               1               1            1            1   \n",
       "\n",
       "   title_word_count  has_keyword  no_of_keyword  no_cast  no_of_crew  \\\n",
       "0                 5            1              4       24          72   \n",
       "1                 6            1              4       20           9   \n",
       "\n",
       "   genders_0_crew  genders_1_crew  genders_2_crew  \n",
       "0              59               0              13  \n",
       "1               1               4               4  "
      ]
     },
     "execution_count": 120,
     "metadata": {},
     "output_type": "execute_result"
    }
   ],
   "source": [
    "train.head(2)"
   ]
  },
  {
   "cell_type": "code",
   "execution_count": 121,
   "id": "69c4b1ef",
   "metadata": {},
   "outputs": [
    {
     "data": {
      "text/html": [
       "<div>\n",
       "<style scoped>\n",
       "    .dataframe tbody tr th:only-of-type {\n",
       "        vertical-align: middle;\n",
       "    }\n",
       "\n",
       "    .dataframe tbody tr th {\n",
       "        vertical-align: top;\n",
       "    }\n",
       "\n",
       "    .dataframe thead th {\n",
       "        text-align: right;\n",
       "    }\n",
       "</style>\n",
       "<table border=\"1\" class=\"dataframe\">\n",
       "  <thead>\n",
       "    <tr style=\"text-align: right;\">\n",
       "      <th></th>\n",
       "      <th>budget</th>\n",
       "      <th>popularity</th>\n",
       "      <th>runtime</th>\n",
       "      <th>popularity2</th>\n",
       "      <th>rating</th>\n",
       "      <th>totalVotes</th>\n",
       "      <th>has_collection</th>\n",
       "      <th>no_of_genre</th>\n",
       "      <th>homepage_exit</th>\n",
       "      <th>orignal_lang_english</th>\n",
       "      <th>original_title_letter_count</th>\n",
       "      <th>original_title_word_count</th>\n",
       "      <th>overview_word_count</th>\n",
       "      <th>no_of_prod_comp</th>\n",
       "      <th>production_country_usa</th>\n",
       "      <th>no_prod_countries</th>\n",
       "      <th>release_day</th>\n",
       "      <th>release_month</th>\n",
       "      <th>release_year</th>\n",
       "      <th>no_lang_spoken</th>\n",
       "      <th>spoken_lang_en</th>\n",
       "      <th>is_released</th>\n",
       "      <th>has_tagline</th>\n",
       "      <th>title_word_count</th>\n",
       "      <th>has_keyword</th>\n",
       "      <th>no_of_keyword</th>\n",
       "      <th>no_cast</th>\n",
       "      <th>no_of_crew</th>\n",
       "      <th>genders_0_crew</th>\n",
       "      <th>genders_1_crew</th>\n",
       "      <th>genders_2_crew</th>\n",
       "    </tr>\n",
       "  </thead>\n",
       "  <tbody>\n",
       "    <tr>\n",
       "      <th>0</th>\n",
       "      <td>0.000000</td>\n",
       "      <td>1.579295</td>\n",
       "      <td>4.510860</td>\n",
       "      <td>2.010627</td>\n",
       "      <td>6.6</td>\n",
       "      <td>4.521789</td>\n",
       "      <td>1</td>\n",
       "      <td>4</td>\n",
       "      <td>1</td>\n",
       "      <td>0</td>\n",
       "      <td>18</td>\n",
       "      <td>1</td>\n",
       "      <td>57.0</td>\n",
       "      <td>0</td>\n",
       "      <td>0</td>\n",
       "      <td>2</td>\n",
       "      <td>5</td>\n",
       "      <td>7</td>\n",
       "      <td>2007</td>\n",
       "      <td>2</td>\n",
       "      <td>1</td>\n",
       "      <td>1</td>\n",
       "      <td>1</td>\n",
       "      <td>5.0</td>\n",
       "      <td>1</td>\n",
       "      <td>2</td>\n",
       "      <td>7</td>\n",
       "      <td>2</td>\n",
       "      <td>1</td>\n",
       "      <td>0</td>\n",
       "      <td>1</td>\n",
       "    </tr>\n",
       "    <tr>\n",
       "      <th>1</th>\n",
       "      <td>11.385103</td>\n",
       "      <td>1.517276</td>\n",
       "      <td>4.189655</td>\n",
       "      <td>1.536652</td>\n",
       "      <td>4.5</td>\n",
       "      <td>3.951244</td>\n",
       "      <td>0</td>\n",
       "      <td>2</td>\n",
       "      <td>0</td>\n",
       "      <td>1</td>\n",
       "      <td>27</td>\n",
       "      <td>6</td>\n",
       "      <td>29.0</td>\n",
       "      <td>1</td>\n",
       "      <td>1</td>\n",
       "      <td>1</td>\n",
       "      <td>0</td>\n",
       "      <td>5</td>\n",
       "      <td>1958</td>\n",
       "      <td>1</td>\n",
       "      <td>1</td>\n",
       "      <td>1</td>\n",
       "      <td>1</td>\n",
       "      <td>6.0</td>\n",
       "      <td>1</td>\n",
       "      <td>8</td>\n",
       "      <td>10</td>\n",
       "      <td>8</td>\n",
       "      <td>2</td>\n",
       "      <td>0</td>\n",
       "      <td>6</td>\n",
       "    </tr>\n",
       "  </tbody>\n",
       "</table>\n",
       "</div>"
      ],
      "text/plain": [
       "      budget  popularity   runtime  popularity2  rating  totalVotes  \\\n",
       "0   0.000000    1.579295  4.510860     2.010627     6.6    4.521789   \n",
       "1  11.385103    1.517276  4.189655     1.536652     4.5    3.951244   \n",
       "\n",
       "   has_collection  no_of_genre  homepage_exit  orignal_lang_english  \\\n",
       "0               1            4              1                     0   \n",
       "1               0            2              0                     1   \n",
       "\n",
       "   original_title_letter_count  original_title_word_count  \\\n",
       "0                           18                          1   \n",
       "1                           27                          6   \n",
       "\n",
       "   overview_word_count  no_of_prod_comp  production_country_usa  \\\n",
       "0                 57.0                0                       0   \n",
       "1                 29.0                1                       1   \n",
       "\n",
       "   no_prod_countries  release_day  release_month  release_year  \\\n",
       "0                  2            5              7          2007   \n",
       "1                  1            0              5          1958   \n",
       "\n",
       "   no_lang_spoken  spoken_lang_en  is_released  has_tagline  title_word_count  \\\n",
       "0               2               1            1            1               5.0   \n",
       "1               1               1            1            1               6.0   \n",
       "\n",
       "   has_keyword  no_of_keyword  no_cast  no_of_crew  genders_0_crew  \\\n",
       "0            1              2        7           2               1   \n",
       "1            1              8       10           8               2   \n",
       "\n",
       "   genders_1_crew  genders_2_crew  \n",
       "0               0               1  \n",
       "1               0               6  "
      ]
     },
     "execution_count": 121,
     "metadata": {},
     "output_type": "execute_result"
    }
   ],
   "source": [
    "test.head(2)"
   ]
  },
  {
   "cell_type": "code",
   "execution_count": 122,
   "id": "8ebd2093",
   "metadata": {},
   "outputs": [
    {
     "data": {
      "text/plain": [
       "(3000, 32)"
      ]
     },
     "execution_count": 122,
     "metadata": {},
     "output_type": "execute_result"
    }
   ],
   "source": [
    "train.shape"
   ]
  },
  {
   "cell_type": "code",
   "execution_count": 123,
   "id": "febcb221",
   "metadata": {},
   "outputs": [
    {
     "data": {
      "text/plain": [
       "(4398, 31)"
      ]
     },
     "execution_count": 123,
     "metadata": {},
     "output_type": "execute_result"
    }
   ],
   "source": [
    "test.shape"
   ]
  },
  {
   "cell_type": "code",
   "execution_count": 124,
   "id": "316b53b4",
   "metadata": {},
   "outputs": [],
   "source": [
    "train.fillna(0, inplace=True)"
   ]
  },
  {
   "cell_type": "code",
   "execution_count": 125,
   "id": "bed5d1e8",
   "metadata": {},
   "outputs": [
    {
     "data": {
      "text/plain": [
       "0"
      ]
     },
     "execution_count": 125,
     "metadata": {},
     "output_type": "execute_result"
    }
   ],
   "source": [
    "train.isnull().sum().sum()"
   ]
  },
  {
   "cell_type": "code",
   "execution_count": 126,
   "id": "31a2b0db",
   "metadata": {},
   "outputs": [],
   "source": [
    "test.fillna(0, inplace=True)"
   ]
  },
  {
   "cell_type": "code",
   "execution_count": 127,
   "id": "eb71ac7d",
   "metadata": {},
   "outputs": [
    {
     "data": {
      "text/plain": [
       "0"
      ]
     },
     "execution_count": 127,
     "metadata": {},
     "output_type": "execute_result"
    }
   ],
   "source": [
    "test.isnull().sum().sum()"
   ]
  },
  {
   "cell_type": "code",
   "execution_count": null,
   "id": "9bb67cf5",
   "metadata": {},
   "outputs": [],
   "source": []
  },
  {
   "cell_type": "code",
   "execution_count": null,
   "id": "602b928f",
   "metadata": {},
   "outputs": [],
   "source": []
  },
  {
   "cell_type": "code",
   "execution_count": 128,
   "id": "f879ab10",
   "metadata": {},
   "outputs": [],
   "source": [
    "X=train.drop('revenue', axis=1)"
   ]
  },
  {
   "cell_type": "code",
   "execution_count": 129,
   "id": "55742f37",
   "metadata": {},
   "outputs": [],
   "source": [
    "y=train.revenue"
   ]
  },
  {
   "cell_type": "code",
   "execution_count": null,
   "id": "c5266793",
   "metadata": {},
   "outputs": [],
   "source": []
  },
  {
   "cell_type": "code",
   "execution_count": 158,
   "id": "374d7068",
   "metadata": {},
   "outputs": [],
   "source": [
    "from sklearn.model_selection import train_test_split\n",
    "X_train, X_test, y_train, y_test = train_test_split(X, y, test_size=0.2, random_state=42)"
   ]
  },
  {
   "cell_type": "code",
   "execution_count": 159,
   "id": "2412a345",
   "metadata": {},
   "outputs": [
    {
     "data": {
      "text/html": [
       "<div>\n",
       "<style scoped>\n",
       "    .dataframe tbody tr th:only-of-type {\n",
       "        vertical-align: middle;\n",
       "    }\n",
       "\n",
       "    .dataframe tbody tr th {\n",
       "        vertical-align: top;\n",
       "    }\n",
       "\n",
       "    .dataframe thead th {\n",
       "        text-align: right;\n",
       "    }\n",
       "</style>\n",
       "<table border=\"1\" class=\"dataframe\">\n",
       "  <thead>\n",
       "    <tr style=\"text-align: right;\">\n",
       "      <th></th>\n",
       "      <th>budget</th>\n",
       "      <th>popularity</th>\n",
       "      <th>runtime</th>\n",
       "      <th>popularity2</th>\n",
       "      <th>rating</th>\n",
       "      <th>totalVotes</th>\n",
       "      <th>has_collection</th>\n",
       "      <th>no_of_genre</th>\n",
       "      <th>homepage_exit</th>\n",
       "      <th>orignal_lang_english</th>\n",
       "      <th>original_title_letter_count</th>\n",
       "      <th>original_title_word_count</th>\n",
       "      <th>overview_word_count</th>\n",
       "      <th>no_of_prod_comp</th>\n",
       "      <th>production_country_usa</th>\n",
       "      <th>no_prod_countries</th>\n",
       "      <th>release_day</th>\n",
       "      <th>release_month</th>\n",
       "      <th>release_year</th>\n",
       "      <th>no_lang_spoken</th>\n",
       "      <th>spoken_lang_en</th>\n",
       "      <th>is_released</th>\n",
       "      <th>has_tagline</th>\n",
       "      <th>title_word_count</th>\n",
       "      <th>has_keyword</th>\n",
       "      <th>no_of_keyword</th>\n",
       "      <th>no_cast</th>\n",
       "      <th>no_of_crew</th>\n",
       "      <th>genders_0_crew</th>\n",
       "      <th>genders_1_crew</th>\n",
       "      <th>genders_2_crew</th>\n",
       "    </tr>\n",
       "  </thead>\n",
       "  <tbody>\n",
       "    <tr>\n",
       "      <th>642</th>\n",
       "      <td>17.479072</td>\n",
       "      <td>2.178165</td>\n",
       "      <td>4.762174</td>\n",
       "      <td>2.495764</td>\n",
       "      <td>6.6</td>\n",
       "      <td>7.417580</td>\n",
       "      <td>0</td>\n",
       "      <td>2</td>\n",
       "      <td>0</td>\n",
       "      <td>1</td>\n",
       "      <td>17</td>\n",
       "      <td>3</td>\n",
       "      <td>50.0</td>\n",
       "      <td>2</td>\n",
       "      <td>1</td>\n",
       "      <td>1</td>\n",
       "      <td>1</td>\n",
       "      <td>6</td>\n",
       "      <td>1988</td>\n",
       "      <td>1</td>\n",
       "      <td>1</td>\n",
       "      <td>1</td>\n",
       "      <td>1</td>\n",
       "      <td>3</td>\n",
       "      <td>1</td>\n",
       "      <td>8</td>\n",
       "      <td>14</td>\n",
       "      <td>12</td>\n",
       "      <td>2</td>\n",
       "      <td>1</td>\n",
       "      <td>9</td>\n",
       "    </tr>\n",
       "    <tr>\n",
       "      <th>700</th>\n",
       "      <td>17.034386</td>\n",
       "      <td>2.129324</td>\n",
       "      <td>4.553877</td>\n",
       "      <td>2.097650</td>\n",
       "      <td>6.7</td>\n",
       "      <td>6.448889</td>\n",
       "      <td>0</td>\n",
       "      <td>3</td>\n",
       "      <td>0</td>\n",
       "      <td>1</td>\n",
       "      <td>22</td>\n",
       "      <td>4</td>\n",
       "      <td>71.0</td>\n",
       "      <td>2</td>\n",
       "      <td>1</td>\n",
       "      <td>1</td>\n",
       "      <td>4</td>\n",
       "      <td>12</td>\n",
       "      <td>1986</td>\n",
       "      <td>1</td>\n",
       "      <td>1</td>\n",
       "      <td>1</td>\n",
       "      <td>1</td>\n",
       "      <td>4</td>\n",
       "      <td>1</td>\n",
       "      <td>27</td>\n",
       "      <td>17</td>\n",
       "      <td>15</td>\n",
       "      <td>4</td>\n",
       "      <td>2</td>\n",
       "      <td>9</td>\n",
       "    </tr>\n",
       "    <tr>\n",
       "      <th>226</th>\n",
       "      <td>17.727534</td>\n",
       "      <td>2.159734</td>\n",
       "      <td>4.663439</td>\n",
       "      <td>2.608009</td>\n",
       "      <td>5.3</td>\n",
       "      <td>6.813445</td>\n",
       "      <td>0</td>\n",
       "      <td>4</td>\n",
       "      <td>1</td>\n",
       "      <td>1</td>\n",
       "      <td>11</td>\n",
       "      <td>2</td>\n",
       "      <td>75.0</td>\n",
       "      <td>5</td>\n",
       "      <td>1</td>\n",
       "      <td>1</td>\n",
       "      <td>3</td>\n",
       "      <td>2</td>\n",
       "      <td>2011</td>\n",
       "      <td>1</td>\n",
       "      <td>1</td>\n",
       "      <td>1</td>\n",
       "      <td>1</td>\n",
       "      <td>2</td>\n",
       "      <td>1</td>\n",
       "      <td>10</td>\n",
       "      <td>51</td>\n",
       "      <td>70</td>\n",
       "      <td>48</td>\n",
       "      <td>2</td>\n",
       "      <td>20</td>\n",
       "    </tr>\n",
       "    <tr>\n",
       "      <th>1697</th>\n",
       "      <td>0.000000</td>\n",
       "      <td>1.925754</td>\n",
       "      <td>4.890349</td>\n",
       "      <td>2.016369</td>\n",
       "      <td>6.3</td>\n",
       "      <td>4.219508</td>\n",
       "      <td>0</td>\n",
       "      <td>3</td>\n",
       "      <td>0</td>\n",
       "      <td>1</td>\n",
       "      <td>15</td>\n",
       "      <td>2</td>\n",
       "      <td>75.0</td>\n",
       "      <td>3</td>\n",
       "      <td>0</td>\n",
       "      <td>2</td>\n",
       "      <td>4</td>\n",
       "      <td>1</td>\n",
       "      <td>1992</td>\n",
       "      <td>1</td>\n",
       "      <td>1</td>\n",
       "      <td>1</td>\n",
       "      <td>1</td>\n",
       "      <td>2</td>\n",
       "      <td>1</td>\n",
       "      <td>4</td>\n",
       "      <td>12</td>\n",
       "      <td>6</td>\n",
       "      <td>0</td>\n",
       "      <td>1</td>\n",
       "      <td>5</td>\n",
       "    </tr>\n",
       "    <tr>\n",
       "      <th>1010</th>\n",
       "      <td>17.370859</td>\n",
       "      <td>2.907483</td>\n",
       "      <td>4.836282</td>\n",
       "      <td>2.822212</td>\n",
       "      <td>5.8</td>\n",
       "      <td>7.412764</td>\n",
       "      <td>0</td>\n",
       "      <td>1</td>\n",
       "      <td>0</td>\n",
       "      <td>1</td>\n",
       "      <td>10</td>\n",
       "      <td>1</td>\n",
       "      <td>23.0</td>\n",
       "      <td>4</td>\n",
       "      <td>1</td>\n",
       "      <td>1</td>\n",
       "      <td>4</td>\n",
       "      <td>7</td>\n",
       "      <td>2015</td>\n",
       "      <td>1</td>\n",
       "      <td>1</td>\n",
       "      <td>1</td>\n",
       "      <td>1</td>\n",
       "      <td>1</td>\n",
       "      <td>1</td>\n",
       "      <td>2</td>\n",
       "      <td>34</td>\n",
       "      <td>22</td>\n",
       "      <td>4</td>\n",
       "      <td>6</td>\n",
       "      <td>12</td>\n",
       "    </tr>\n",
       "    <tr>\n",
       "      <th>...</th>\n",
       "      <td>...</td>\n",
       "      <td>...</td>\n",
       "      <td>...</td>\n",
       "      <td>...</td>\n",
       "      <td>...</td>\n",
       "      <td>...</td>\n",
       "      <td>...</td>\n",
       "      <td>...</td>\n",
       "      <td>...</td>\n",
       "      <td>...</td>\n",
       "      <td>...</td>\n",
       "      <td>...</td>\n",
       "      <td>...</td>\n",
       "      <td>...</td>\n",
       "      <td>...</td>\n",
       "      <td>...</td>\n",
       "      <td>...</td>\n",
       "      <td>...</td>\n",
       "      <td>...</td>\n",
       "      <td>...</td>\n",
       "      <td>...</td>\n",
       "      <td>...</td>\n",
       "      <td>...</td>\n",
       "      <td>...</td>\n",
       "      <td>...</td>\n",
       "      <td>...</td>\n",
       "      <td>...</td>\n",
       "      <td>...</td>\n",
       "      <td>...</td>\n",
       "      <td>...</td>\n",
       "      <td>...</td>\n",
       "    </tr>\n",
       "    <tr>\n",
       "      <th>1638</th>\n",
       "      <td>0.000000</td>\n",
       "      <td>2.226911</td>\n",
       "      <td>4.867534</td>\n",
       "      <td>2.004987</td>\n",
       "      <td>6.0</td>\n",
       "      <td>4.605170</td>\n",
       "      <td>1</td>\n",
       "      <td>5</td>\n",
       "      <td>1</td>\n",
       "      <td>0</td>\n",
       "      <td>19</td>\n",
       "      <td>4</td>\n",
       "      <td>51.0</td>\n",
       "      <td>1</td>\n",
       "      <td>0</td>\n",
       "      <td>1</td>\n",
       "      <td>3</td>\n",
       "      <td>1</td>\n",
       "      <td>2008</td>\n",
       "      <td>1</td>\n",
       "      <td>0</td>\n",
       "      <td>1</td>\n",
       "      <td>1</td>\n",
       "      <td>4</td>\n",
       "      <td>1</td>\n",
       "      <td>1</td>\n",
       "      <td>5</td>\n",
       "      <td>3</td>\n",
       "      <td>2</td>\n",
       "      <td>0</td>\n",
       "      <td>1</td>\n",
       "    </tr>\n",
       "    <tr>\n",
       "      <th>1095</th>\n",
       "      <td>17.875954</td>\n",
       "      <td>2.752771</td>\n",
       "      <td>4.875197</td>\n",
       "      <td>2.906081</td>\n",
       "      <td>6.8</td>\n",
       "      <td>7.515889</td>\n",
       "      <td>1</td>\n",
       "      <td>3</td>\n",
       "      <td>1</td>\n",
       "      <td>1</td>\n",
       "      <td>9</td>\n",
       "      <td>1</td>\n",
       "      <td>27.0</td>\n",
       "      <td>2</td>\n",
       "      <td>0</td>\n",
       "      <td>2</td>\n",
       "      <td>3</td>\n",
       "      <td>11</td>\n",
       "      <td>1995</td>\n",
       "      <td>3</td>\n",
       "      <td>1</td>\n",
       "      <td>1</td>\n",
       "      <td>1</td>\n",
       "      <td>1</td>\n",
       "      <td>1</td>\n",
       "      <td>15</td>\n",
       "      <td>20</td>\n",
       "      <td>46</td>\n",
       "      <td>23</td>\n",
       "      <td>5</td>\n",
       "      <td>18</td>\n",
       "    </tr>\n",
       "    <tr>\n",
       "      <th>1130</th>\n",
       "      <td>0.000000</td>\n",
       "      <td>2.161450</td>\n",
       "      <td>4.574711</td>\n",
       "      <td>2.306378</td>\n",
       "      <td>6.9</td>\n",
       "      <td>5.686975</td>\n",
       "      <td>1</td>\n",
       "      <td>3</td>\n",
       "      <td>0</td>\n",
       "      <td>1</td>\n",
       "      <td>21</td>\n",
       "      <td>4</td>\n",
       "      <td>27.0</td>\n",
       "      <td>1</td>\n",
       "      <td>1</td>\n",
       "      <td>1</td>\n",
       "      <td>3</td>\n",
       "      <td>5</td>\n",
       "      <td>1977</td>\n",
       "      <td>1</td>\n",
       "      <td>1</td>\n",
       "      <td>1</td>\n",
       "      <td>1</td>\n",
       "      <td>4</td>\n",
       "      <td>1</td>\n",
       "      <td>4</td>\n",
       "      <td>14</td>\n",
       "      <td>12</td>\n",
       "      <td>3</td>\n",
       "      <td>0</td>\n",
       "      <td>9</td>\n",
       "    </tr>\n",
       "    <tr>\n",
       "      <th>1294</th>\n",
       "      <td>16.993564</td>\n",
       "      <td>1.655000</td>\n",
       "      <td>4.905275</td>\n",
       "      <td>1.720084</td>\n",
       "      <td>5.8</td>\n",
       "      <td>4.624973</td>\n",
       "      <td>0</td>\n",
       "      <td>4</td>\n",
       "      <td>0</td>\n",
       "      <td>1</td>\n",
       "      <td>7</td>\n",
       "      <td>2</td>\n",
       "      <td>59.0</td>\n",
       "      <td>2</td>\n",
       "      <td>1</td>\n",
       "      <td>1</td>\n",
       "      <td>1</td>\n",
       "      <td>10</td>\n",
       "      <td>1978</td>\n",
       "      <td>1</td>\n",
       "      <td>1</td>\n",
       "      <td>1</td>\n",
       "      <td>1</td>\n",
       "      <td>2</td>\n",
       "      <td>1</td>\n",
       "      <td>5</td>\n",
       "      <td>10</td>\n",
       "      <td>10</td>\n",
       "      <td>3</td>\n",
       "      <td>1</td>\n",
       "      <td>6</td>\n",
       "    </tr>\n",
       "    <tr>\n",
       "      <th>860</th>\n",
       "      <td>16.993564</td>\n",
       "      <td>1.648186</td>\n",
       "      <td>4.499810</td>\n",
       "      <td>1.907615</td>\n",
       "      <td>5.9</td>\n",
       "      <td>4.343805</td>\n",
       "      <td>0</td>\n",
       "      <td>1</td>\n",
       "      <td>0</td>\n",
       "      <td>1</td>\n",
       "      <td>8</td>\n",
       "      <td>2</td>\n",
       "      <td>51.0</td>\n",
       "      <td>4</td>\n",
       "      <td>1</td>\n",
       "      <td>1</td>\n",
       "      <td>2</td>\n",
       "      <td>11</td>\n",
       "      <td>2001</td>\n",
       "      <td>1</td>\n",
       "      <td>1</td>\n",
       "      <td>1</td>\n",
       "      <td>1</td>\n",
       "      <td>2</td>\n",
       "      <td>1</td>\n",
       "      <td>15</td>\n",
       "      <td>11</td>\n",
       "      <td>5</td>\n",
       "      <td>0</td>\n",
       "      <td>1</td>\n",
       "      <td>4</td>\n",
       "    </tr>\n",
       "  </tbody>\n",
       "</table>\n",
       "<p>2400 rows × 31 columns</p>\n",
       "</div>"
      ],
      "text/plain": [
       "         budget  popularity   runtime  popularity2  rating  totalVotes  \\\n",
       "642   17.479072    2.178165  4.762174     2.495764     6.6    7.417580   \n",
       "700   17.034386    2.129324  4.553877     2.097650     6.7    6.448889   \n",
       "226   17.727534    2.159734  4.663439     2.608009     5.3    6.813445   \n",
       "1697   0.000000    1.925754  4.890349     2.016369     6.3    4.219508   \n",
       "1010  17.370859    2.907483  4.836282     2.822212     5.8    7.412764   \n",
       "...         ...         ...       ...          ...     ...         ...   \n",
       "1638   0.000000    2.226911  4.867534     2.004987     6.0    4.605170   \n",
       "1095  17.875954    2.752771  4.875197     2.906081     6.8    7.515889   \n",
       "1130   0.000000    2.161450  4.574711     2.306378     6.9    5.686975   \n",
       "1294  16.993564    1.655000  4.905275     1.720084     5.8    4.624973   \n",
       "860   16.993564    1.648186  4.499810     1.907615     5.9    4.343805   \n",
       "\n",
       "      has_collection  no_of_genre  homepage_exit  orignal_lang_english  \\\n",
       "642                0            2              0                     1   \n",
       "700                0            3              0                     1   \n",
       "226                0            4              1                     1   \n",
       "1697               0            3              0                     1   \n",
       "1010               0            1              0                     1   \n",
       "...              ...          ...            ...                   ...   \n",
       "1638               1            5              1                     0   \n",
       "1095               1            3              1                     1   \n",
       "1130               1            3              0                     1   \n",
       "1294               0            4              0                     1   \n",
       "860                0            1              0                     1   \n",
       "\n",
       "      original_title_letter_count  original_title_word_count  \\\n",
       "642                            17                          3   \n",
       "700                            22                          4   \n",
       "226                            11                          2   \n",
       "1697                           15                          2   \n",
       "1010                           10                          1   \n",
       "...                           ...                        ...   \n",
       "1638                           19                          4   \n",
       "1095                            9                          1   \n",
       "1130                           21                          4   \n",
       "1294                            7                          2   \n",
       "860                             8                          2   \n",
       "\n",
       "      overview_word_count  no_of_prod_comp  production_country_usa  \\\n",
       "642                  50.0                2                       1   \n",
       "700                  71.0                2                       1   \n",
       "226                  75.0                5                       1   \n",
       "1697                 75.0                3                       0   \n",
       "1010                 23.0                4                       1   \n",
       "...                   ...              ...                     ...   \n",
       "1638                 51.0                1                       0   \n",
       "1095                 27.0                2                       0   \n",
       "1130                 27.0                1                       1   \n",
       "1294                 59.0                2                       1   \n",
       "860                  51.0                4                       1   \n",
       "\n",
       "      no_prod_countries  release_day  release_month  release_year  \\\n",
       "642                   1            1              6          1988   \n",
       "700                   1            4             12          1986   \n",
       "226                   1            3              2          2011   \n",
       "1697                  2            4              1          1992   \n",
       "1010                  1            4              7          2015   \n",
       "...                 ...          ...            ...           ...   \n",
       "1638                  1            3              1          2008   \n",
       "1095                  2            3             11          1995   \n",
       "1130                  1            3              5          1977   \n",
       "1294                  1            1             10          1978   \n",
       "860                   1            2             11          2001   \n",
       "\n",
       "      no_lang_spoken  spoken_lang_en  is_released  has_tagline  \\\n",
       "642                1               1            1            1   \n",
       "700                1               1            1            1   \n",
       "226                1               1            1            1   \n",
       "1697               1               1            1            1   \n",
       "1010               1               1            1            1   \n",
       "...              ...             ...          ...          ...   \n",
       "1638               1               0            1            1   \n",
       "1095               3               1            1            1   \n",
       "1130               1               1            1            1   \n",
       "1294               1               1            1            1   \n",
       "860                1               1            1            1   \n",
       "\n",
       "      title_word_count  has_keyword  no_of_keyword  no_cast  no_of_crew  \\\n",
       "642                  3            1              8       14          12   \n",
       "700                  4            1             27       17          15   \n",
       "226                  2            1             10       51          70   \n",
       "1697                 2            1              4       12           6   \n",
       "1010                 1            1              2       34          22   \n",
       "...                ...          ...            ...      ...         ...   \n",
       "1638                 4            1              1        5           3   \n",
       "1095                 1            1             15       20          46   \n",
       "1130                 4            1              4       14          12   \n",
       "1294                 2            1              5       10          10   \n",
       "860                  2            1             15       11           5   \n",
       "\n",
       "      genders_0_crew  genders_1_crew  genders_2_crew  \n",
       "642                2               1               9  \n",
       "700                4               2               9  \n",
       "226               48               2              20  \n",
       "1697               0               1               5  \n",
       "1010               4               6              12  \n",
       "...              ...             ...             ...  \n",
       "1638               2               0               1  \n",
       "1095              23               5              18  \n",
       "1130               3               0               9  \n",
       "1294               3               1               6  \n",
       "860                0               1               4  \n",
       "\n",
       "[2400 rows x 31 columns]"
      ]
     },
     "execution_count": 159,
     "metadata": {},
     "output_type": "execute_result"
    }
   ],
   "source": [
    "X_train"
   ]
  },
  {
   "cell_type": "code",
   "execution_count": 156,
   "id": "a15dc3a5",
   "metadata": {},
   "outputs": [],
   "source": [
    "def get_score(y_true,y_pred):\n",
    "    return np.sqrt(mean_squared_log_error( np.expm1(y_true), y_pred ))"
   ]
  },
  {
   "cell_type": "code",
   "execution_count": null,
   "id": "67475bdc",
   "metadata": {},
   "outputs": [],
   "source": []
  },
  {
   "cell_type": "code",
   "execution_count": 157,
   "id": "5742ee50",
   "metadata": {},
   "outputs": [
    {
     "data": {
      "text/plain": [
       "2.160685271532774"
      ]
     },
     "execution_count": 157,
     "metadata": {},
     "output_type": "execute_result"
    }
   ],
   "source": [
    "from sklearn.linear_model import LinearRegression\n",
    "\n",
    "lr=LinearRegression()\n",
    "\n",
    "lr.fit(X_train,y_train)\n",
    "\n",
    "predict=lr.predict(X_test)\n",
    "predict=np.expm1(predict)\n",
    "\n",
    "\n",
    "# np.sqrt(mean_squared_log_error( y_test, predict ))\n",
    "get_score(y_test,predict)"
   ]
  },
  {
   "cell_type": "code",
   "execution_count": 188,
   "id": "f45152bd",
   "metadata": {},
   "outputs": [
    {
     "data": {
      "text/plain": [
       "2.274751616195896"
      ]
     },
     "execution_count": 188,
     "metadata": {},
     "output_type": "execute_result"
    }
   ],
   "source": [
    "kf = KFold(n_splits=5)\n",
    "kf\n",
    "score=[]\n",
    "\n",
    "for train_index, test_index in kf.split(X,y):\n",
    "#     print(train_index)\n",
    "    X_train, X_test, y_train, y_test = X.loc[train_index], X.loc[test_index], y.loc[train_index], y.loc[test_index]\n",
    "\n",
    "    lr.fit(X_train,y_train)\n",
    "\n",
    "    predict=lr.predict(X_test)\n",
    "    predict=np.expm1(predict)\n",
    "\n",
    "\n",
    "    # np.sqrt(mean_squared_log_error( y_test, predict ))\n",
    "    score.append(get_score(y_test,predict))\n",
    "\n",
    "np.mean(score)"
   ]
  },
  {
   "cell_type": "code",
   "execution_count": null,
   "id": "56c41849",
   "metadata": {},
   "outputs": [],
   "source": []
  },
  {
   "cell_type": "code",
   "execution_count": null,
   "id": "9d1be148",
   "metadata": {},
   "outputs": [],
   "source": []
  },
  {
   "cell_type": "code",
   "execution_count": null,
   "id": "9bc65b82",
   "metadata": {},
   "outputs": [],
   "source": []
  },
  {
   "cell_type": "code",
   "execution_count": 243,
   "id": "2bbcab09",
   "metadata": {},
   "outputs": [
    {
     "data": {
      "text/plain": [
       "1.9402144207328236"
      ]
     },
     "execution_count": 243,
     "metadata": {},
     "output_type": "execute_result"
    }
   ],
   "source": [
    "from sklearn.ensemble import RandomForestRegressor\n",
    "\n",
    "\n",
    "rdf=RandomForestRegressor(n_estimators=300,max_depth=15, min_samples_split= 6,random_state=42)\n",
    "\n",
    "rdf.fit(X_train,y_train)\n",
    "\n",
    "predict=rdf.predict(X_test)\n",
    "predict=np.expm1(predict)\n",
    "\n",
    "\n",
    "# np.sqrt(mean_squared_log_error( y_test, predict ))\n",
    "np.sqrt(mean_squared_log_error( np.expm1(y_test), predict ))"
   ]
  },
  {
   "cell_type": "code",
   "execution_count": 242,
   "id": "672c6533",
   "metadata": {},
   "outputs": [],
   "source": [
    "\n",
    "# df=pd.read_csv('D:\\\\Data_sets\\\\sample_submission.csv')\n",
    "# df['revenue']=predict\n",
    "\n",
    "# df.to_csv('my_submission.csv', index=False)\n",
    "# df"
   ]
  },
  {
   "cell_type": "code",
   "execution_count": 204,
   "id": "887e671f",
   "metadata": {},
   "outputs": [],
   "source": [
    "rdf=RandomForestRegressor()\n",
    "\n",
    "n_estimators = [50,100,150,200,150,300,350,400,450,500,1000,2000,3000,5000,10000]\n",
    "max_depth = [2,5,6,7,8,9,10]\n",
    "min_samples_split=[2,3,4,5,6,7]\n",
    "\n",
    "parameter = {'n_estimators': n_estimators,\n",
    "          'max_depth': max_depth,\n",
    "          'min_samples_split':min_samples_split,\n",
    "         }"
   ]
  },
  {
   "cell_type": "code",
   "execution_count": 205,
   "id": "b3742cb7",
   "metadata": {},
   "outputs": [],
   "source": [
    "rfr_random = RandomizedSearchCV(estimator=rdf, param_distributions=parameter,cv = 5, random_state=42, n_jobs=-1)"
   ]
  },
  {
   "cell_type": "code",
   "execution_count": 206,
   "id": "1a0e0e24",
   "metadata": {},
   "outputs": [
    {
     "data": {
      "text/plain": [
       "RandomizedSearchCV(cv=5, estimator=RandomForestRegressor(), n_jobs=-1,\n",
       "                   param_distributions={'max_depth': [2, 5, 6, 7, 8, 9, 10],\n",
       "                                        'min_samples_split': [2, 3, 4, 5, 6, 7],\n",
       "                                        'n_estimators': [50, 100, 150, 200, 150,\n",
       "                                                         300, 350, 400, 450,\n",
       "                                                         500, 1000, 2000, 3000,\n",
       "                                                         5000, 10000]},\n",
       "                   random_state=42)"
      ]
     },
     "execution_count": 206,
     "metadata": {},
     "output_type": "execute_result"
    }
   ],
   "source": [
    "rfr_random.fit(X_train, y_train)"
   ]
  },
  {
   "cell_type": "code",
   "execution_count": 207,
   "id": "f2f690ee",
   "metadata": {},
   "outputs": [
    {
     "data": {
      "text/plain": [
       "{'n_estimators': 300, 'min_samples_split': 6, 'max_depth': 10}"
      ]
     },
     "execution_count": 207,
     "metadata": {},
     "output_type": "execute_result"
    }
   ],
   "source": [
    "rfr_random.best_params_"
   ]
  },
  {
   "cell_type": "code",
   "execution_count": 208,
   "id": "bc8547ff",
   "metadata": {},
   "outputs": [
    {
     "data": {
      "text/plain": [
       "1.941209176009816"
      ]
     },
     "execution_count": 208,
     "metadata": {},
     "output_type": "execute_result"
    }
   ],
   "source": [
    "predict=rfr_random.predict(X_test)\n",
    "predict=np.expm1(predict)\n",
    "\n",
    "np.sqrt(mean_squared_log_error( np.expm1(y_test), predict ))"
   ]
  },
  {
   "cell_type": "code",
   "execution_count": 210,
   "id": "7b6fdae1",
   "metadata": {},
   "outputs": [
    {
     "data": {
      "text/plain": [
       "array([0.21946548, 0.09311004, 0.04202108, 0.02936995, 0.03036712,\n",
       "       0.30280551, 0.0067425 , 0.0078031 , 0.00145233, 0.00363295,\n",
       "       0.01551792, 0.00421533, 0.01754489, 0.00922555, 0.00333775,\n",
       "       0.00611088, 0.01101031, 0.01358537, 0.08470235, 0.01030859,\n",
       "       0.00210452, 0.00033208, 0.0015708 , 0.00690607, 0.00160484,\n",
       "       0.01060406, 0.0207247 , 0.01040539, 0.01039439, 0.01074228,\n",
       "       0.01228188])"
      ]
     },
     "execution_count": 210,
     "metadata": {},
     "output_type": "execute_result"
    }
   ],
   "source": [
    "rfr_random.best_estimator_.feature_importances_"
   ]
  },
  {
   "cell_type": "code",
   "execution_count": 211,
   "id": "b27f6576",
   "metadata": {},
   "outputs": [],
   "source": [
    "feature_imp = [col for col in zip(X_train.columns, rfr_random.best_estimator_.feature_importances_)]\n",
    "feature_imp.sort(key=lambda x:x[1], reverse=True)"
   ]
  },
  {
   "cell_type": "code",
   "execution_count": 212,
   "id": "d9475910",
   "metadata": {},
   "outputs": [
    {
     "data": {
      "text/plain": [
       "[('totalVotes', 0.30280551127878275),\n",
       " ('budget', 0.21946547724357304),\n",
       " ('popularity', 0.09311003970492186),\n",
       " ('release_year', 0.08470234760933917),\n",
       " ('runtime', 0.04202107502713558),\n",
       " ('rating', 0.0303671232822539),\n",
       " ('popularity2', 0.029369948537659344),\n",
       " ('no_cast', 0.020724698918353872),\n",
       " ('overview_word_count', 0.017544889055445483),\n",
       " ('original_title_letter_count', 0.015517918253797223),\n",
       " ('release_month', 0.013585371009606826),\n",
       " ('genders_2_crew', 0.01228188286398184),\n",
       " ('release_day', 0.011010311527533694),\n",
       " ('genders_1_crew', 0.010742284944337783),\n",
       " ('no_of_keyword', 0.010604056508625469),\n",
       " ('no_of_crew', 0.010405385672415314),\n",
       " ('genders_0_crew', 0.010394391806354332),\n",
       " ('no_lang_spoken', 0.01030859074359241),\n",
       " ('no_of_prod_comp', 0.009225548318087296),\n",
       " ('no_of_genre', 0.007803098987644506),\n",
       " ('title_word_count', 0.006906073227669743),\n",
       " ('has_collection', 0.006742498645001525),\n",
       " ('no_prod_countries', 0.006110875894500389),\n",
       " ('original_title_word_count', 0.0042153333674507885),\n",
       " ('orignal_lang_english', 0.003632949066428923),\n",
       " ('production_country_usa', 0.0033377471736155597),\n",
       " ('spoken_lang_en', 0.0021045191344116793),\n",
       " ('has_keyword', 0.0016048415514139957),\n",
       " ('has_tagline', 0.0015708047149932528),\n",
       " ('homepage_exit', 0.0014523275629703238),\n",
       " ('is_released', 0.0003320783681018612)]"
      ]
     },
     "execution_count": 212,
     "metadata": {},
     "output_type": "execute_result"
    }
   ],
   "source": [
    "feature_imp"
   ]
  },
  {
   "cell_type": "code",
   "execution_count": null,
   "id": "6b1c65ab",
   "metadata": {},
   "outputs": [],
   "source": []
  },
  {
   "cell_type": "code",
   "execution_count": null,
   "id": "4a298696",
   "metadata": {},
   "outputs": [],
   "source": []
  },
  {
   "cell_type": "code",
   "execution_count": null,
   "id": "33745c39",
   "metadata": {},
   "outputs": [],
   "source": []
  },
  {
   "cell_type": "code",
   "execution_count": null,
   "id": "23ebd52b",
   "metadata": {},
   "outputs": [],
   "source": []
  },
  {
   "cell_type": "code",
   "execution_count": 227,
   "id": "c92779ac",
   "metadata": {},
   "outputs": [],
   "source": [
    "from xgboost import XGBRegressor\n",
    "\n",
    "\n",
    "xgb=XGBRegressor(max_depth=5, \n",
    "                            learning_rate=0.01, \n",
    "                            n_estimators=10000, \n",
    "                            gamma=1.45, \n",
    "                            subsample=0.8, \n",
    "                            colsample_bytree=0.7, \n",
    "                            colsample_bylevel=0.5)\n",
    "\n",
    "xgb.fit(X,y)\n",
    "\n",
    "predict=xgb.predict(test)\n",
    "predict1=np.expm1(predict)\n",
    "\n",
    "\n",
    "# np.sqrt(mean_squared_log_error( y_test, predict ))\n",
    "# np.sqrt(mean_squared_log_error( np.expm1(y_test), predict ))"
   ]
  },
  {
   "cell_type": "code",
   "execution_count": 228,
   "id": "b637685e",
   "metadata": {},
   "outputs": [
    {
     "data": {
      "text/plain": [
       "array([ 2340223.  ,  1160087.  , 12176885.  , ..., 37795640.  ,\n",
       "       21614684.  ,   172916.64], dtype=float32)"
      ]
     },
     "execution_count": 228,
     "metadata": {},
     "output_type": "execute_result"
    }
   ],
   "source": [
    "predict1"
   ]
  },
  {
   "cell_type": "code",
   "execution_count": 234,
   "id": "bf3d1931",
   "metadata": {},
   "outputs": [
    {
     "data": {
      "text/html": [
       "<div>\n",
       "<style scoped>\n",
       "    .dataframe tbody tr th:only-of-type {\n",
       "        vertical-align: middle;\n",
       "    }\n",
       "\n",
       "    .dataframe tbody tr th {\n",
       "        vertical-align: top;\n",
       "    }\n",
       "\n",
       "    .dataframe thead th {\n",
       "        text-align: right;\n",
       "    }\n",
       "</style>\n",
       "<table border=\"1\" class=\"dataframe\">\n",
       "  <thead>\n",
       "    <tr style=\"text-align: right;\">\n",
       "      <th></th>\n",
       "      <th>id</th>\n",
       "      <th>revenue</th>\n",
       "    </tr>\n",
       "  </thead>\n",
       "  <tbody>\n",
       "    <tr>\n",
       "      <th>0</th>\n",
       "      <td>3001</td>\n",
       "      <td>1.723106e+06</td>\n",
       "    </tr>\n",
       "    <tr>\n",
       "      <th>1</th>\n",
       "      <td>3002</td>\n",
       "      <td>2.006736e+06</td>\n",
       "    </tr>\n",
       "    <tr>\n",
       "      <th>2</th>\n",
       "      <td>3003</td>\n",
       "      <td>1.332534e+07</td>\n",
       "    </tr>\n",
       "    <tr>\n",
       "      <th>3</th>\n",
       "      <td>3004</td>\n",
       "      <td>2.514124e+07</td>\n",
       "    </tr>\n",
       "    <tr>\n",
       "      <th>4</th>\n",
       "      <td>3005</td>\n",
       "      <td>3.690121e+05</td>\n",
       "    </tr>\n",
       "    <tr>\n",
       "      <th>...</th>\n",
       "      <td>...</td>\n",
       "      <td>...</td>\n",
       "    </tr>\n",
       "    <tr>\n",
       "      <th>4393</th>\n",
       "      <td>7394</td>\n",
       "      <td>4.136380e+07</td>\n",
       "    </tr>\n",
       "    <tr>\n",
       "      <th>4394</th>\n",
       "      <td>7395</td>\n",
       "      <td>5.373619e+07</td>\n",
       "    </tr>\n",
       "    <tr>\n",
       "      <th>4395</th>\n",
       "      <td>7396</td>\n",
       "      <td>3.212740e+07</td>\n",
       "    </tr>\n",
       "    <tr>\n",
       "      <th>4396</th>\n",
       "      <td>7397</td>\n",
       "      <td>2.127526e+07</td>\n",
       "    </tr>\n",
       "    <tr>\n",
       "      <th>4397</th>\n",
       "      <td>7398</td>\n",
       "      <td>1.345514e+05</td>\n",
       "    </tr>\n",
       "  </tbody>\n",
       "</table>\n",
       "<p>4398 rows × 2 columns</p>\n",
       "</div>"
      ],
      "text/plain": [
       "        id       revenue\n",
       "0     3001  1.723106e+06\n",
       "1     3002  2.006736e+06\n",
       "2     3003  1.332534e+07\n",
       "3     3004  2.514124e+07\n",
       "4     3005  3.690121e+05\n",
       "...    ...           ...\n",
       "4393  7394  4.136380e+07\n",
       "4394  7395  5.373619e+07\n",
       "4395  7396  3.212740e+07\n",
       "4396  7397  2.127526e+07\n",
       "4397  7398  1.345514e+05\n",
       "\n",
       "[4398 rows x 2 columns]"
      ]
     },
     "execution_count": 234,
     "metadata": {},
     "output_type": "execute_result"
    }
   ],
   "source": [
    "df=pd.read_csv('D:\\\\Data_sets\\\\sample_submission.csv')\n",
    "\n",
    "ans=(predict1+predict2)/2\n",
    "\n",
    "df['revenue']=ans\n",
    "\n",
    "df.to_csv('my_submission.csv', index=False)\n",
    "df"
   ]
  },
  {
   "cell_type": "code",
   "execution_count": null,
   "id": "56fc1142",
   "metadata": {},
   "outputs": [],
   "source": [
    "from xgboost import XGBRegressor\n",
    "\n",
    "\n",
    "xgb=XGBRegressor(max_depth=15, \n",
    "                            learning_rate=0.01, \n",
    "                            n_estimators=10000, \n",
    "                 ob\n",
    "                            gamma=1.45, \n",
    "                            subsample=0.8, \n",
    "                            colsample_bytree=0.7\n",
    "                )\n",
    "\n",
    "xgb.fit(X_train,y_train)\n",
    "\n",
    "predict=xgb.predict(X_test)\n",
    "predict=np.expm1(predict)\n",
    "\n",
    "\n",
    "# np.sqrt(mean_squared_log_error( y_test, predict ))\n",
    "np.sqrt(mean_squared_log_error( np.expm1(y_test), predict ))"
   ]
  },
  {
   "cell_type": "code",
   "execution_count": null,
   "id": "a6fc3031",
   "metadata": {},
   "outputs": [],
   "source": []
  },
  {
   "cell_type": "code",
   "execution_count": null,
   "id": "b50c28df",
   "metadata": {},
   "outputs": [],
   "source": [
    "def average_model(rdf,xgb,lgb):\n",
    "    \n",
    "    avg=\n",
    "    \n",
    "    "
   ]
  },
  {
   "cell_type": "code",
   "execution_count": null,
   "id": "f2566113",
   "metadata": {},
   "outputs": [],
   "source": []
  },
  {
   "cell_type": "code",
   "execution_count": null,
   "id": "b58b7186",
   "metadata": {},
   "outputs": [],
   "source": []
  },
  {
   "cell_type": "code",
   "execution_count": null,
   "id": "55686a69",
   "metadata": {},
   "outputs": [],
   "source": []
  },
  {
   "cell_type": "code",
   "execution_count": 191,
   "id": "ec5c0d08",
   "metadata": {},
   "outputs": [],
   "source": [
    "from sklearn.model_selection import RandomizedSearchCV"
   ]
  },
  {
   "cell_type": "code",
   "execution_count": 192,
   "id": "cd157ec0",
   "metadata": {},
   "outputs": [],
   "source": [
    "xgb_cv=XGBRegressor()\n",
    "\n",
    "parameter={\n",
    "        \n",
    "    'n_estimators' : \n",
    "\n",
    "    'max_depth' : int\n",
    "        Maximum tree depth for base learners.\n",
    "    'learning_rate' : float\n",
    "        Boosting learning rate (xgb's \"eta\")\n",
    "    verbosity : int\n",
    "        The degree of verbosity. Valid values are 0 (silent) - 3 (debug).\n",
    "    objective : string or callable\n",
    "        Specify the learning task and the corresponding learning objective or\n",
    "        a custom objective function to be used (see note below).\n",
    "    booster: string\n",
    "        Specify which booster to use: gbtree, gblinear or dart.\n",
    "    tree_method: string\n",
    "        Specify which tree method to use.  Default to auto.  If this parameter\n",
    "        is set to default, XGBoost will choose the most conservative option\n",
    "        available.  It's recommended to study this option from parameters\n",
    "        document.\n",
    "    n_jobs : int\n",
    "        Number of parallel threads used to run xgboost.  When used with other Scikit-Learn\n",
    "        algorithms like grid search, you may choose which algorithm to parallelize and\n",
    "        balance the threads.  Creating thread contention will significantly slow dowm both\n",
    "        algorithms.\n",
    "    gamma : float\n",
    "        Minimum loss reduction required to make a further partition on a leaf\n",
    "        node of the tree.\n",
    "    min_child_weight : float\n",
    "        Minimum sum of instance weight(hessian) needed in a child.\n",
    "    max_delta_step : int\n",
    "        Maximum delta step we allow each tree's weight estimation to be.\n",
    "    subsample : float\n",
    "        Subsample ratio of the training instance.\n",
    "    colsample_bytree : float\n",
    "        Subsample ratio of columns when constructing each tree.\n",
    "    colsample_bylevel : float\n",
    "        Subsample ratio of columns for each level.\n",
    "    colsample_bynode : float\n",
    "        Subsample ratio of columns for each split.\n",
    "    reg_alpha : float (xgb's alpha)\n",
    "        L1 regularization term on weights\n",
    "    reg_lambda : float (xgb's lambda)\n",
    "        L2 regularization term on weights\n",
    "    scale_pos_weight : float\n",
    "        Balancing of positive and negative weights.\n",
    "    base_score:\n",
    "        The initial prediction score of all instances, global bias.\n",
    "    random_state : int\n",
    "        Random number seed.\n",
    "    \n",
    "    \n",
    "    \n",
    "    \n",
    "    \n",
    "}\n"
   ]
  },
  {
   "cell_type": "code",
   "execution_count": null,
   "id": "99ec19af",
   "metadata": {},
   "outputs": [],
   "source": []
  },
  {
   "cell_type": "code",
   "execution_count": null,
   "id": "129d5989",
   "metadata": {},
   "outputs": [],
   "source": []
  },
  {
   "cell_type": "code",
   "execution_count": null,
   "id": "d3e12c8e",
   "metadata": {},
   "outputs": [],
   "source": []
  },
  {
   "cell_type": "code",
   "execution_count": 151,
   "id": "f6f95a1a",
   "metadata": {},
   "outputs": [
    {
     "data": {
      "text/plain": [
       "0.5239135601469094"
      ]
     },
     "execution_count": 151,
     "metadata": {},
     "output_type": "execute_result"
    }
   ],
   "source": [
    "scores1 = cross_val_score(xgb,X_train, y_train, cv=5)\n",
    "np.average(scores1)"
   ]
  },
  {
   "cell_type": "code",
   "execution_count": 140,
   "id": "1f74361b",
   "metadata": {},
   "outputs": [],
   "source": [
    "\n",
    "# df=pd.read_csv('D:\\\\Data_sets\\\\sample_submission.csv')\n",
    "# df['revenue']=predict\n",
    "\n",
    "# df.to_csv('my_submission.csv', index=False)\n",
    "# df"
   ]
  },
  {
   "cell_type": "code",
   "execution_count": 141,
   "id": "38fda477",
   "metadata": {},
   "outputs": [
    {
     "data": {
      "text/plain": [
       "KFold(n_splits=5, random_state=None, shuffle=False)"
      ]
     },
     "execution_count": 141,
     "metadata": {},
     "output_type": "execute_result"
    }
   ],
   "source": []
  },
  {
   "cell_type": "code",
   "execution_count": null,
   "id": "e99e3d8f",
   "metadata": {},
   "outputs": [],
   "source": []
  },
  {
   "cell_type": "code",
   "execution_count": 142,
   "id": "880f8d0a",
   "metadata": {},
   "outputs": [],
   "source": [
    "from sklearn.model_selection import cross_val_score"
   ]
  },
  {
   "cell_type": "code",
   "execution_count": null,
   "id": "be9dc332",
   "metadata": {},
   "outputs": [],
   "source": [
    "scores1 = cross_val_score(RandomForestClassifier(n_estimators=5),digits.data, digits.target, cv=10)\n",
    "np.average(scores1)"
   ]
  },
  {
   "cell_type": "code",
   "execution_count": null,
   "id": "ea184731",
   "metadata": {},
   "outputs": [],
   "source": []
  },
  {
   "cell_type": "code",
   "execution_count": 223,
   "id": "9229cc16",
   "metadata": {},
   "outputs": [
    {
     "name": "stdout",
     "output_type": "stream",
     "text": [
      "[LightGBM] [Warning] Unknown parameter: use_best_model\n",
      "[LightGBM] [Warning] boosting is set=gbdt, boosting_type=gbdt will be ignored. Current value: boosting=gbdt\n",
      "[LightGBM] [Warning] feature_fraction is set=0.9, colsample_bytree=0.9 will be ignored. Current value: feature_fraction=0.9\n",
      "[LightGBM] [Warning] min_data_in_leaf is set=10, min_child_samples=100 will be ignored. Current value: min_data_in_leaf=10\n",
      "[LightGBM] [Warning] lambda_l1 is set=0.2, reg_alpha=0.0 will be ignored. Current value: lambda_l1=0.2\n",
      "[LightGBM] [Warning] bagging_fraction is set=0.9, subsample=0.8 will be ignored. Current value: bagging_fraction=0.9\n",
      "[LightGBM] [Warning] bagging_freq is set=1, subsample_freq=0 will be ignored. Current value: bagging_freq=1\n"
     ]
    }
   ],
   "source": [
    "from lightgbm import LGBMRegressor\n",
    "\n",
    "\n",
    "lgb=LGBMRegressor(n_estimators=10000, \n",
    "                             objective='regression', \n",
    "                             metric='rmse',\n",
    "                             max_depth = 5,\n",
    "                             num_leaves=30, \n",
    "                             min_child_samples=100,\n",
    "                             learning_rate=0.01,\n",
    "                             boosting = 'gbdt',\n",
    "                             min_data_in_leaf= 10,\n",
    "                             feature_fraction = 0.9,\n",
    "                             bagging_freq = 1,\n",
    "                             bagging_fraction = 0.9,\n",
    "                             importance_type='gain',\n",
    "                             lambda_l1 = 0.2,\n",
    "                             subsample=.8, \n",
    "                             colsample_bytree=.9,\n",
    "                             use_best_model=True)\n",
    "\n",
    "\n",
    "\n",
    "lgb.fit(X,y)\n",
    "\n",
    "predict=lgb.predict(test)\n",
    "predict2=np.expm1(predict)\n",
    "\n",
    "\n",
    "# np.sqrt(mean_squared_log_error( y_test, predict ))\n",
    "# np.sqrt(mean_squared_log_error( np.expm1(y_test), predict ))"
   ]
  },
  {
   "cell_type": "code",
   "execution_count": 224,
   "id": "8ec96692",
   "metadata": {},
   "outputs": [
    {
     "data": {
      "text/plain": [
       "array([ 1105988.1906804 ,  2853384.1220031 , 14473795.27835011, ...,\n",
       "       26459162.35351795, 20935827.61206097,    96186.16938947])"
      ]
     },
     "execution_count": 224,
     "metadata": {},
     "output_type": "execute_result"
    }
   ],
   "source": [
    "predict2"
   ]
  },
  {
   "cell_type": "code",
   "execution_count": 233,
   "id": "5a0022be",
   "metadata": {},
   "outputs": [
    {
     "data": {
      "text/plain": [
       "array([ 1723105.5953402 ,  2006735.56100155, 13325340.13917506, ...,\n",
       "       32127401.17675897, 21275255.80603049,   134551.40500724])"
      ]
     },
     "execution_count": 233,
     "metadata": {},
     "output_type": "execute_result"
    }
   ],
   "source": [
    "(predict1+predict2)/2"
   ]
  },
  {
   "cell_type": "code",
   "execution_count": 230,
   "id": "5d8579c5",
   "metadata": {},
   "outputs": [
    {
     "data": {
      "text/plain": [
       "array([ 2340223.  ,  1160087.  , 12176885.  , ..., 37795640.  ,\n",
       "       21614684.  ,   172916.64], dtype=float32)"
      ]
     },
     "execution_count": 230,
     "metadata": {},
     "output_type": "execute_result"
    }
   ],
   "source": [
    "predict1"
   ]
  },
  {
   "cell_type": "code",
   "execution_count": 231,
   "id": "be7415e5",
   "metadata": {},
   "outputs": [
    {
     "ename": "TypeError",
     "evalue": "only integer scalar arrays can be converted to a scalar index",
     "output_type": "error",
     "traceback": [
      "\u001b[1;31m---------------------------------------------------------------------------\u001b[0m",
      "\u001b[1;31mTypeError\u001b[0m                                 Traceback (most recent call last)",
      "\u001b[1;32m<ipython-input-231-d6ec9d812fea>\u001b[0m in \u001b[0;36m<module>\u001b[1;34m\u001b[0m\n\u001b[1;32m----> 1\u001b[1;33m \u001b[0mnp\u001b[0m\u001b[1;33m.\u001b[0m\u001b[0mmean\u001b[0m\u001b[1;33m(\u001b[0m\u001b[0mpredict1\u001b[0m\u001b[1;33m,\u001b[0m\u001b[0mpredict2\u001b[0m\u001b[1;33m)\u001b[0m\u001b[1;33m\u001b[0m\u001b[1;33m\u001b[0m\u001b[0m\n\u001b[0m",
      "\u001b[1;32m<__array_function__ internals>\u001b[0m in \u001b[0;36mmean\u001b[1;34m(*args, **kwargs)\u001b[0m\n",
      "\u001b[1;32mC:\\ProgramData\\Anaconda3\\lib\\site-packages\\numpy\\core\\fromnumeric.py\u001b[0m in \u001b[0;36mmean\u001b[1;34m(a, axis, dtype, out, keepdims, where)\u001b[0m\n\u001b[0;32m   3417\u001b[0m             \u001b[1;32mreturn\u001b[0m \u001b[0mmean\u001b[0m\u001b[1;33m(\u001b[0m\u001b[0maxis\u001b[0m\u001b[1;33m=\u001b[0m\u001b[0maxis\u001b[0m\u001b[1;33m,\u001b[0m \u001b[0mdtype\u001b[0m\u001b[1;33m=\u001b[0m\u001b[0mdtype\u001b[0m\u001b[1;33m,\u001b[0m \u001b[0mout\u001b[0m\u001b[1;33m=\u001b[0m\u001b[0mout\u001b[0m\u001b[1;33m,\u001b[0m \u001b[1;33m**\u001b[0m\u001b[0mkwargs\u001b[0m\u001b[1;33m)\u001b[0m\u001b[1;33m\u001b[0m\u001b[1;33m\u001b[0m\u001b[0m\n\u001b[0;32m   3418\u001b[0m \u001b[1;33m\u001b[0m\u001b[0m\n\u001b[1;32m-> 3419\u001b[1;33m     return _methods._mean(a, axis=axis, dtype=dtype,\n\u001b[0m\u001b[0;32m   3420\u001b[0m                           out=out, **kwargs)\n\u001b[0;32m   3421\u001b[0m \u001b[1;33m\u001b[0m\u001b[0m\n",
      "\u001b[1;32mC:\\ProgramData\\Anaconda3\\lib\\site-packages\\numpy\\core\\_methods.py\u001b[0m in \u001b[0;36m_mean\u001b[1;34m(a, axis, dtype, out, keepdims, where)\u001b[0m\n\u001b[0;32m    164\u001b[0m     \u001b[0mis_float16_result\u001b[0m \u001b[1;33m=\u001b[0m \u001b[1;32mFalse\u001b[0m\u001b[1;33m\u001b[0m\u001b[1;33m\u001b[0m\u001b[0m\n\u001b[0;32m    165\u001b[0m \u001b[1;33m\u001b[0m\u001b[0m\n\u001b[1;32m--> 166\u001b[1;33m     \u001b[0mrcount\u001b[0m \u001b[1;33m=\u001b[0m \u001b[0m_count_reduce_items\u001b[0m\u001b[1;33m(\u001b[0m\u001b[0marr\u001b[0m\u001b[1;33m,\u001b[0m \u001b[0maxis\u001b[0m\u001b[1;33m,\u001b[0m \u001b[0mkeepdims\u001b[0m\u001b[1;33m=\u001b[0m\u001b[0mkeepdims\u001b[0m\u001b[1;33m,\u001b[0m \u001b[0mwhere\u001b[0m\u001b[1;33m=\u001b[0m\u001b[0mwhere\u001b[0m\u001b[1;33m)\u001b[0m\u001b[1;33m\u001b[0m\u001b[1;33m\u001b[0m\u001b[0m\n\u001b[0m\u001b[0;32m    167\u001b[0m     \u001b[1;32mif\u001b[0m \u001b[0mrcount\u001b[0m \u001b[1;33m==\u001b[0m \u001b[1;36m0\u001b[0m \u001b[1;32mif\u001b[0m \u001b[0mwhere\u001b[0m \u001b[1;32mis\u001b[0m \u001b[1;32mTrue\u001b[0m \u001b[1;32melse\u001b[0m \u001b[0mumr_any\u001b[0m\u001b[1;33m(\u001b[0m\u001b[0mrcount\u001b[0m \u001b[1;33m==\u001b[0m \u001b[1;36m0\u001b[0m\u001b[1;33m)\u001b[0m\u001b[1;33m:\u001b[0m\u001b[1;33m\u001b[0m\u001b[1;33m\u001b[0m\u001b[0m\n\u001b[0;32m    168\u001b[0m         \u001b[0mwarnings\u001b[0m\u001b[1;33m.\u001b[0m\u001b[0mwarn\u001b[0m\u001b[1;33m(\u001b[0m\u001b[1;34m\"Mean of empty slice.\"\u001b[0m\u001b[1;33m,\u001b[0m \u001b[0mRuntimeWarning\u001b[0m\u001b[1;33m,\u001b[0m \u001b[0mstacklevel\u001b[0m\u001b[1;33m=\u001b[0m\u001b[1;36m2\u001b[0m\u001b[1;33m)\u001b[0m\u001b[1;33m\u001b[0m\u001b[1;33m\u001b[0m\u001b[0m\n",
      "\u001b[1;32mC:\\ProgramData\\Anaconda3\\lib\\site-packages\\numpy\\core\\_methods.py\u001b[0m in \u001b[0;36m_count_reduce_items\u001b[1;34m(arr, axis, keepdims, where)\u001b[0m\n\u001b[0;32m     73\u001b[0m         \u001b[0mitems\u001b[0m \u001b[1;33m=\u001b[0m \u001b[0mnt\u001b[0m\u001b[1;33m.\u001b[0m\u001b[0mintp\u001b[0m\u001b[1;33m(\u001b[0m\u001b[1;36m1\u001b[0m\u001b[1;33m)\u001b[0m\u001b[1;33m\u001b[0m\u001b[1;33m\u001b[0m\u001b[0m\n\u001b[0;32m     74\u001b[0m         \u001b[1;32mfor\u001b[0m \u001b[0max\u001b[0m \u001b[1;32min\u001b[0m \u001b[0maxis\u001b[0m\u001b[1;33m:\u001b[0m\u001b[1;33m\u001b[0m\u001b[1;33m\u001b[0m\u001b[0m\n\u001b[1;32m---> 75\u001b[1;33m             \u001b[0mitems\u001b[0m \u001b[1;33m*=\u001b[0m \u001b[0marr\u001b[0m\u001b[1;33m.\u001b[0m\u001b[0mshape\u001b[0m\u001b[1;33m[\u001b[0m\u001b[0mmu\u001b[0m\u001b[1;33m.\u001b[0m\u001b[0mnormalize_axis_index\u001b[0m\u001b[1;33m(\u001b[0m\u001b[0max\u001b[0m\u001b[1;33m,\u001b[0m \u001b[0marr\u001b[0m\u001b[1;33m.\u001b[0m\u001b[0mndim\u001b[0m\u001b[1;33m)\u001b[0m\u001b[1;33m]\u001b[0m\u001b[1;33m\u001b[0m\u001b[1;33m\u001b[0m\u001b[0m\n\u001b[0m\u001b[0;32m     76\u001b[0m     \u001b[1;32melse\u001b[0m\u001b[1;33m:\u001b[0m\u001b[1;33m\u001b[0m\u001b[1;33m\u001b[0m\u001b[0m\n\u001b[0;32m     77\u001b[0m         \u001b[1;31m# TODO: Optimize case when `where` is broadcast along a non-reduction\u001b[0m\u001b[1;33m\u001b[0m\u001b[1;33m\u001b[0m\u001b[1;33m\u001b[0m\u001b[0m\n",
      "\u001b[1;31mTypeError\u001b[0m: only integer scalar arrays can be converted to a scalar index"
     ]
    }
   ],
   "source": []
  },
  {
   "cell_type": "code",
   "execution_count": null,
   "id": "2b21215f",
   "metadata": {},
   "outputs": [],
   "source": []
  }
 ],
 "metadata": {
  "kernelspec": {
   "display_name": "Python 3",
   "language": "python",
   "name": "python3"
  },
  "language_info": {
   "codemirror_mode": {
    "name": "ipython",
    "version": 3
   },
   "file_extension": ".py",
   "mimetype": "text/x-python",
   "name": "python",
   "nbconvert_exporter": "python",
   "pygments_lexer": "ipython3",
   "version": "3.8.8"
  }
 },
 "nbformat": 4,
 "nbformat_minor": 5
}
